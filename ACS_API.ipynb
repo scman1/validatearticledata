{
 "cells": [
  {
   "cell_type": "code",
   "execution_count": 1,
   "metadata": {},
   "outputs": [],
   "source": [
    "# manage file system\n",
    "from pathlib import Path\n",
    "# manage configuration files (*.ini)\n",
    "import configparser\n",
    "# manage http requests\n",
    "import requests\n",
    "\n",
    "# configuration file storing keys\n",
    "ini_file = Path().absolute() /  \"config/config.ini\"\n",
    "api_key = \"\"\n",
    "\n",
    "# Read key value from a configuration file\n",
    "if ini_file.exists():\n",
    "    seg_config = configparser.ConfigParser()\n",
    "    seg_config.read(ini_file)\n",
    "    api_key = seg_config['ApiKeys'][\"WileyMining\"]\n",
    "    "
   ]
  },
  {
   "cell_type": "code",
   "execution_count": 2,
   "metadata": {},
   "outputs": [],
   "source": [
    "     \"http://pubs.acs.org/doi/pdf/10.1021/acscatal.0c03620\"    \n",
    "r = requests.get('http://pubs.acs.org/doi/pdf/10.1021/acscatal.0c03620?httpAccept=application/pdf')\n",
    "with open('test6.pdf','wb') as f:\n",
    "    f.write(r.content)\n"
   ]
  }
 ],
 "metadata": {
  "kernelspec": {
   "display_name": "Python 3",
   "language": "python",
   "name": "python3"
  },
  "language_info": {
   "codemirror_mode": {
    "name": "ipython",
    "version": 3
   },
   "file_extension": ".py",
   "mimetype": "text/x-python",
   "name": "python",
   "nbconvert_exporter": "python",
   "pygments_lexer": "ipython3",
   "version": "3.8.8"
  }
 },
 "nbformat": 4,
 "nbformat_minor": 4
}
