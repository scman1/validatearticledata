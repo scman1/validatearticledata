{
 "cells": [
  {
   "cell_type": "code",
   "execution_count": 1,
   "metadata": {},
   "outputs": [],
   "source": [
    "# manage file system\n",
    "from pathlib import Path\n",
    "# manage configuration files (*.ini)\n",
    "import configparser\n",
    "# manage http requests\n",
    "import requests\n",
    "\n",
    "# configuration file storing keys\n",
    "ini_file = Path().absolute() /  \"config/config.ini\"\n",
    "api_key = \"\"\n",
    "\n",
    "# Read key value from a configuration file\n",
    "if ini_file.exists():\n",
    "    seg_config = configparser.ConfigParser()\n",
    "    seg_config.read(ini_file)\n",
    "    api_key = seg_config['ApiKeys'][\"WileyMining\"]\n",
    "    "
   ]
  },
  {
   "cell_type": "code",
   "execution_count": 2,
   "metadata": {},
   "outputs": [],
   "source": [
    "     \"http://pubs.acs.org/doi/pdf/10.1021/acscatal.0c03620\"    \n",
    "r = requests.get('http://pubs.acs.org/doi/pdf/10.1021/acscatal.0c03620?httpAccept=application/pdf')\n",
    "with open('test6.pdf','wb') as f:\n",
    "    f.write(r.content)\n"
   ]
  },
  {
   "cell_type": "code",
   "execution_count": 3,
   "metadata": {},
   "outputs": [
    {
     "data": {
      "text/plain": [
       "b'<!DOCTYPE html>\\n<html lang=\"en-US\">\\n<head>\\n    <title>Just a moment...</title>\\n    <meta http-equiv=\"Content-Type\" content=\"text/html; charset=UTF-8\">\\n    <meta http-equiv=\"X-UA-Compatible\" content=\"IE=Edge\">\\n    <meta name=\"robots\" content=\"noindex,nofollow\">\\n    <meta name=\"viewport\" content=\"width=device-width,initial-scale=1\">\\n    <link href=\"/cdn-cgi/styles/challenges.css\" rel=\"stylesheet\">\\n    \\n\\n</head>\\n<body class=\"no-js\">\\n    <div class=\"main-wrapper\" role=\"main\">\\n    <div class=\"main-content\">\\n        <h1 class=\"zone-name-title h1\">\\n            <img class=\"heading-favicon\" src=\"/favicon.ico\" alt=\"Icon for pubs.acs.org\"\\n                 onerror=\"this.onerror=null;this.parentNode.removeChild(this)\">\\n            pubs.acs.org\\n        </h1>\\n        <h2 class=\"h2\" id=\"challenge-running\">\\n            Checking if the site connection is secure\\n        </h2>\\n        <noscript>\\n            <div id=\"challenge-error-title\">\\n                <div class=\"h2\">\\n                    <span class=\"icon-wrapper\">\\n                        <div class=\"heading-icon warning-icon\"></div>\\n                    </span>\\n                    <span id=\"challenge-error-text\">\\n                        Enable JavaScript and cookies to continue\\n                    </span>\\n                </div>\\n            </div>\\n        </noscript>\\n        <div id=\"trk_jschal_js\" style=\"display:none;background-image:url(\\'/cdn-cgi/images/trace/managed/nojs/transparent.gif?ray=79e006cde8f088a3\\')\"></div>\\n        <div id=\"challenge-body-text\" class=\"core-msg spacer\">\\n            pubs.acs.org needs to review the security of your connection before proceeding.\\n        </div>\\n        <form id=\"challenge-form\" action=\"/doi/pdf/10.1021/acscatal.0c03620?httpAccept=application/pdf&amp;__cf_chl_f_tk=aCytas7LuPFg4F6mbRiIAWeaRGFQVXHGbTB_iIKyaGo-1677155990-0-gaNycGzNCfs\" method=\"POST\" enctype=\"application/x-www-form-urlencoded\">\\n            <input type=\"hidden\" name=\"md\" value=\"bRjXmVW2CuWb9zQrvqMFDHgWCIeDJRRKBp1sl1LOHk0-1677155990-0-AahnM-yiciNtwskD2KlWLKLwLhdqP6Fc2sYQnd1BnCvWqghg-KcuNxcxhMoB2vNBFB3EzMO5rH_lr0PzTEqjcRMzo_wIG_EVWCh3KDBi6JYKMLDeqUFJOuKoQLgmbgjlkfna_pK7FwV80OZ-Hp0HkxWCanmRS1X3pxR5GVL741soOOAe9HV2Pect7F2hp14i7mwfVr8F5mHk8cdmpNsIzn90o6coj-xEGbZw4qMsiIZoG3C89CNJCHaBnMEM-YLyyU9xfiU7bRqcOBfMTZq9mVYC8sj3-VkLXQMZrSInmWk0s0h06q3iX9wXlNredvC1cyhoCFCiRwJC02PZc_pEGn2diB69xNq31iAwGP5BCOOtMeiUVtRsoK01ht_hnfXw8gtPS7zePTV14Nec6qn22pVGmBV0gK6vA3qPZ9vprZIJ7UOMvmd9AoVKcKNAYhHl2i5CQ2iBJQkF1v_5cw8tVBLJ31-LN5zLw3x_TZ_21Nk6nVb1ugEdS6tLCsOzcY53YBUzHh3U6sFByCWHctogv8cciIWkfqhFV-Tn4D3rzUVKT8CbPfAOHMcmZQMCiOJUlhM4Q2qJ_KGqahQBVqPbfhbn7sJMudokFKTDNeKKAvvN7OycwL467fsTyMNNzLZ2-jYumch8ZiDSUOlIE-aLgKJ7UrxpEzGT_UqaJZH7NlIDunsqxzxn_Lzyl3Ja9Dr-FVdAdp4yud5LYsKnSBa8_7Pwl7HUpKrWlG8OS4qAE2ubwC91ei1blh4qLmwKncF_fvTGHBom6lBZ9INB9M8vgzaZN03PSY95m-w0PXQLljnxZdGK12v3TqTJLPxjumOiq0UiIXYGywpkU_z95rxmouQHq18gigm43SsF4fQnqZK3R0ma56HD-8M5eoXbFVJDKLU09DSCXrsd4uUz3j6xLd3FQt30OTqlRL65QapR4xwiow90x2UcemokX6zEZMnfKmT7mgMGKqW92mz4SA7XMOGT4me1YowYxw2jLVhnTBAAGHgG7zcO8aav2MOxm44Aq3kxZ9YrChI7cF_2uMIXOevbr89QhM1uHKXhexu_pV2QqcZZFKApPDXEtrMOwLAi42fzw2RfXtcufFxFI2xPpbtv5LgpJKGz-wPuOcL67ABWFWC1Hl6L8xNkLCkb49tfLiJqfEirXEbGORtmtz1WKd5UaVfq8dfG7waHx_YaJuyxUQtRUnFNCmslisb-ZjtdJaArSOeAMOxgkjs9F1qG2uqJ05-TQs5E6ykW10REV34CxX1ZlArh_QN2HZgLb36WiM_FRQjznU66jFXcYqZ_IOsW9GnY_glj5ynfQlOFsFDIiU8eu5NxBUkfIU9944lE1cKTjCsqkq0zNAd0SgwCASYAqqvsKpQrT5H4Sw8JyrwCyPBg56HVdFW6t6Ow79VXkAu4Y3ALUa5SPO_Ul6XYEYDze7cGRt0AB0v7A4_Zq6SVrH9DUO56O_Zq4i4y3p1tGL8Ws7qINHUDUgLvzxRNt0oy3DlTSTKAx-eXOaQ5ERMKjTTcs6N9dA1oU5XAg1tx5h_2pL7ozF0CqSI7o4eSll0L27WeCfvC1R5vKCRhS9xSFafW45j8qOiZNdC5XH_qhC06qLVSN8_CNVCZ5ByT8WZ7sU17z-4e_oITDtTCZMY9pNgrpRMB_y_bYVaZneLJcMz4I_qO_jtOpTo6N_rF2T5qnB-EyBZxAxrhqincoIjG6ZTcX8vMVXGhQ__uOHEINdHfEGJnY4FERN8YmnEHWT6gwT3s5peTXTqCw5Mm2BEKNw9bp0ginXyFHwWv75iqfSl1pmyT5MAqWDUiHdx9fcJSmVy5IhtRdCQw8IvlNqUXl6_lSiHW0B5jQPrctqlBCEl1xkye4OiybQYndxtH5WfWxtlhG95_Pav7kbXAtD-wfmSWmGX3M2uzbH51ez5XTqclfpuGHuLpZUL8M9hlangljDp5RwipVmxQGuuu2J-M_eq9pIw7FamS-f436NF5aEg7yXnrt6xvHXsmssaa8FC0kXAVl-hbHAl3P7rq104tBqzHupo3LE0xkyjq3DBRz9Q7BTy6ZNzMwXsc3nY8eeZ7IAbpGUf2IFwGAAcmgKG093uMLNJJQqC1dFtcmFmn7VZ7N72omrGAeqmPLQCwuL439ZfhUJMjCDTjMce8yjpl_ju-gFgQq5Aj3scRTE3iVmRbsuTbe7-U2dxWMgDcatWhrVVfaAV3AhTvuaQpovW-O1sjZz6yr2D9Nb4rBlBf-rWm4YJkV9z3rlpg3LwemlkHtKRdBEWHv5kTe4Z12FPB5Y06M4JQUpsCNhBD6r6YAlhylbBqbPt8vtj5P5VFyRYGb5FZq5YIsJMoS4dg2v-1BJKRchIJbu0B3sI1rOK7D92w694BTCLE7gegeFLP4DkDo6I6xtxehBXG3d8IhuUoDyQ8COH-4_ocv9Y2IjW3RTvs4zR6huACgPUIWKc56WINduVSMoMS8y-wlZYvZhFnjtN17KCqCzSFeDHh9r5xBw\">\\n        </form>\\n    </div>\\n</div>\\n<script>\\n    (function(){\\n        window._cf_chl_opt={\\n            cvId: \\'2\\',\\n            cZone: \\'pubs.acs.org\\',\\n            cType: \\'managed\\',\\n            cNounce: \\'72725\\',\\n            cRay: \\'79e006cde8f088a3\\',\\n            cHash: \\'c113ad0398e2331\\',\\n            cUPMDTk: \"\\\\/doi\\\\/pdf\\\\/10.1021\\\\/acscatal.0c03620?httpAccept=application\\\\/pdf&__cf_chl_tk=aCytas7LuPFg4F6mbRiIAWeaRGFQVXHGbTB_iIKyaGo-1677155990-0-gaNycGzNCfs\",\\n            cFPWv: \\'g\\',\\n            cTTimeMs: \\'1000\\',\\n            cMTimeMs: \\'0\\',\\n            cTplV: 4,\\n            cTplB: \\'cf\\',\\n            cRq: {\\n                ru: \\'aHR0cHM6Ly9wdWJzLmFjcy5vcmcvZG9pL3BkZi8xMC4xMDIxL2Fjc2NhdGFsLjBjMDM2MjA/aHR0cEFjY2VwdD1hcHBsaWNhdGlvbi9wZGY=\\',\\n                ra: \\'cHl0aG9uLXJlcXVlc3RzLzIuMjguMg==\\',\\n                rm: \\'R0VU\\',\\n                d: \\'cRVVxTyIi1jpJDzzcqucB/DQX0W9qKoEyGj6cOYyNEHaFfYhABJfKTtTyg00kKblUuG9Fu7DyUemYQ4z2B7IDtZQGbWVM/1rzSEZJYDnPcu3OCd2LgpsLrci8hlY2UnuwB9Ne1DJnZQXVrTQRFetf3KdoYd+Y8jp+ch7SJWJKp/kOhBvWvzkVWltPXWxgJqfV3n9j+v6UwT70mL+weETZRzxbVUahOT7Z5zo7YSpUu9vyRHx9V+Mb8i+iN6kvA1ymhkdqvqqiiqzROFiUrBotnpw/EcMHI5xVZ+r3v/5XHM97fdjLgLOaOUqLk2CHL+nxGnOIvOIstUNhZ9ZZlpAQ0YMOKRP1MMw9tZMCAu0Ki3LXj6eT5mJWDT3mKpscedtVRkmFjZtvL+Rn0JkDt08Fw5mifb85C0ewb8rvgDmenrHFfi62WiT5ugjd1m8HDZO4UZVOg+OjgRbJOFSrKfOZqHKaSd/kdjhAiNADnDf5TzmlsgGz33Rqvv0C5bteOcbHOro3vnsHkvZNNl+gwARqD4I7B6X/xydP5beWlYZYoRNiLaskVsCOgANTkBglK7JCIYYU0WE+oK3ixTXMzvYnHYliKEpzp3/qG2bklyqhSAkb7bW6VGnicOxPq5KTAhXrfKmW5IngZNrboBYEn6aL1GUZSrQTb6pgps1MCqoO0uJzG7ohGrNuCrQG9bfR8gjCzQyi8QigsNljBqTqUIPWA==\\',\\n                t: \\'MTY3NzE1NTk5MC43MDgwMDA=\\',\\n                m: \\'HaDd0TjBtnzPX8YhcD56DQ/VWjrkCGe3YwbgE7y5UZ8=\\',\\n                i1: \\'fOIlIeHVHA3602Hf0bwahg==\\',\\n                i2: \\'TDmYzMYL/+tOWzjzlEXjig==\\',\\n                zh: \\'njzCbvNg3kASlWg1TlFpRir5Oy9IF15VINCDsjjWRxY=\\',\\n                uh: \\'neMFmDCz0LRc0/Wea+5x0IhJieHbzcQVSkMgFkgnrjc=\\',\\n                hh: \\'7SNHmQy13lwe15NTBbLOBcoLehKqRMIVsHw90dcPYHw=\\',\\n            }\\n        };\\n        var trkjs = document.createElement(\\'img\\');\\n        trkjs.setAttribute(\\'src\\', \\'/cdn-cgi/images/trace/managed/js/transparent.gif?ray=79e006cde8f088a3\\');\\n        trkjs.setAttribute(\\'alt\\', \\'\\');\\n        trkjs.setAttribute(\\'style\\', \\'display: none\\');\\n        document.body.appendChild(trkjs);\\n        var cpo = document.createElement(\\'script\\');\\n        cpo.src = \\'/cdn-cgi/challenge-platform/h/g/orchestrate/managed/v1?ray=79e006cde8f088a3\\';\\n        window._cf_chl_opt.cOgUHash = location.hash === \\'\\' && location.href.indexOf(\\'#\\') !== -1 ? \\'#\\' : location.hash;\\n        window._cf_chl_opt.cOgUQuery = location.search === \\'\\' && location.href.slice(0, location.href.length - window._cf_chl_opt.cOgUHash.length).indexOf(\\'?\\') !== -1 ? \\'?\\' : location.search;\\n        if (window.history && window.history.replaceState) {\\n            var ogU = location.pathname + window._cf_chl_opt.cOgUQuery + window._cf_chl_opt.cOgUHash;\\n            history.replaceState(null, null, \"\\\\/doi\\\\/pdf\\\\/10.1021\\\\/acscatal.0c03620?httpAccept=application\\\\/pdf&__cf_chl_rt_tk=aCytas7LuPFg4F6mbRiIAWeaRGFQVXHGbTB_iIKyaGo-1677155990-0-gaNycGzNCfs\" + window._cf_chl_opt.cOgUHash);\\n            cpo.onload = function() {\\n                history.replaceState(null, null, ogU);\\n            };\\n        }\\n        document.getElementsByTagName(\\'head\\')[0].appendChild(cpo);\\n    }());\\n</script>\\n\\n\\n    <div class=\"footer\" role=\"contentinfo\">\\n        <div class=\"footer-inner\">\\n            <div class=\"clearfix diagnostic-wrapper\">\\n                <div class=\"ray-id\">Ray ID: <code>79e006cde8f088a3</code></div>\\n            </div>\\n            <div class=\"text-center\" id=\"footer-text\">Performance &amp; security by <a rel=\"noopener noreferrer\" href=\"https://www.cloudflare.com?utm_source=challenge&utm_campaign=m\" target=\"_blank\">Cloudflare</a></div>\\n        </div>\\n    </div>\\n</body>\\n</html>\\n'"
      ]
     },
     "execution_count": 3,
     "metadata": {},
     "output_type": "execute_result"
    }
   ],
   "source": [
    "r.content"
   ]
  },
  {
   "cell_type": "code",
   "execution_count": null,
   "metadata": {},
   "outputs": [],
   "source": []
  }
 ],
 "metadata": {
  "kernelspec": {
   "display_name": "Python 3 (ipykernel)",
   "language": "python",
   "name": "python3"
  },
  "language_info": {
   "codemirror_mode": {
    "name": "ipython",
    "version": 3
   },
   "file_extension": ".py",
   "mimetype": "text/x-python",
   "name": "python",
   "nbconvert_exporter": "python",
   "pygments_lexer": "ipython3",
   "version": "3.9.2rc1"
  }
 },
 "nbformat": 4,
 "nbformat_minor": 4
}
