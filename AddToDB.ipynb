{
 "cells": [
  {
   "cell_type": "markdown",
   "metadata": {},
   "source": [
    "# Add Articles to DB\n",
    "    1. Get the list of new articles from CSV file\n",
    "    2. Get article data from crossref\n",
    "    3. Add articles to DB"
   ]
  },
  {
   "cell_type": "code",
   "execution_count": 3,
   "metadata": {
    "scrolled": false
   },
   "outputs": [
    {
     "name": "stdout",
     "output_type": "stream",
     "text": [
      "{'NumUKCH': 3030, 'reference-count': 46, 'publisher': 'Royal Society of Chemistry (RSC)', 'issue': '2', 'license': 'http://creativecommons.org/licenses/by/3.0/', 'abstract': '<p>Protagonists in the standard SCR reaction have been caught in the act by modulation excitation IR &amp; XAFS spectroscopy.</p>', 'DOI': '10.1039/c9sc04905c', 'type': 'article-journal', 'page': '447-455', 'title': 'Detection of key transient Cu intermediates in SSZ-13 during NH3-SCR deNOx by modulation excitation IR spectroscopy', 'volume': '11', 'published-online': [2020], 'container-title': 'Chemical Science', 'link': 'http://pubs.rsc.org/en/content/articlepdf/2020/SC/C9SC04905C', 'references-count': 46, 'journal-issue': '2', 'URL': 'http://dx.doi.org/10.1039/c9sc04905c', 'subject': None}\n",
      "{'NumUKCH': 3035, 'reference-count': 80, 'publisher': 'Wiley', 'issue': '5', 'license': 'http://creativecommons.org/licenses/by/4.0/', 'DOI': '10.1002/cctc.201901955', 'type': 'article-journal', 'page': '1491-1503', 'title': 'Influence of Synthesis Conditions on the Structure of Nickel Nanoparticles and their Reactivity in Selective Asymmetric Hydrogenation', 'volume': '12', 'published-online': [2020, 1, 14], 'container-title': 'ChemCatChem', 'link': 'https://api.wiley.com/onlinelibrary/tdm/v1/articles/10.1002%2Fcctc.201901955', 'references-count': 80, 'journal-issue': '5', 'URL': 'http://dx.doi.org/10.1002/cctc.201901955', 'subject': None, 'published-print': [2020, 3, 6]}\n",
      "{'NumUKCH': 4213, 'reference-count': 44, 'publisher': 'Royal Society of Chemistry (RSC)', 'issue': '1', 'license': 'http://creativecommons.org/licenses/by/3.0/', 'abstract': '<p>This paper describes the steps involved in the mechanochemical synthesis of LaMnO<sub>3</sub> using X-ray absorption spectroscopy (XAS) and the improved performance of ball milled materials towards the decomposition of N<sub>2</sub>O.</p>', 'DOI': '10.1039/c9dt03590g', 'type': 'article-journal', 'page': '232-240', 'title': 'Understanding the mechanochemical synthesis of the perovskite LaMnO3 and its catalytic behaviour', 'volume': '49', 'published-online': [2020], 'container-title': 'Dalton Transactions', 'link': 'http://pubs.rsc.org/en/content/articlepdf/2020/DT/C9DT03590G', 'references-count': 44, 'journal-issue': '1', 'URL': 'http://dx.doi.org/10.1039/c9dt03590g', 'subject': None}\n",
      "{'NumUKCH': 4215, 'reference-count': 42, 'publisher': 'Royal Society of Chemistry (RSC)', 'issue': '40', 'license': 'http://rsc.li/journals-terms-of-use', 'abstract': '<p>Effect of the intra-molecular H-bond of <sc>l</sc>-lactic acid on its dehydration mechanism: IR and DFT-D3 study,</p>', 'DOI': '10.1039/c9cp02968k', 'type': 'article-journal', 'page': '22331-22343', 'title': 'An experimental and computational IR and hybrid DFT-D3 study of the conformations of l-lactic and acrylic acid: new insight into the dehydration mechanism of lactic acid to acrylic acid', 'volume': '21', 'published-online': [2019], 'container-title': 'Physical Chemistry Chemical Physics', 'link': 'http://pubs.rsc.org/en/content/articlepdf/2019/CP/C9CP02968K', 'references-count': 42, 'journal-issue': '40', 'URL': 'http://dx.doi.org/10.1039/c9cp02968k', 'subject': None}\n",
      "{'NumUKCH': 4256, 'reference-count': 56, 'publisher': 'Royal Society of Chemistry (RSC)', 'license': 'http://creativecommons.org/licenses/by/3.0/', 'abstract': '<p>LaFeO<sub>3</sub> photocathodes with high porosity and uniformity are developed through polymer templating with Triton X-100, improving charge separation and boosting photocurrents achieved.</p>', 'DOI': '10.1039/c9se01103j', 'type': 'article-journal', 'title': 'Strategies for the deposition of LaFeO3 photocathodes: improving the photocurrent with a polymer template', 'published-online': [2020], 'container-title': 'Sustainable Energy & Fuels', 'link': 'http://pubs.rsc.org/en/content/articlepdf/2020/SE/C9SE01103J', 'references-count': 56, 'URL': 'http://dx.doi.org/10.1039/c9se01103j'}\n"
     ]
    }
   ],
   "source": [
    "# Libraries\n",
    "# library containign functions that read and write to csv files\n",
    "import lib.handle_csv as csvh\n",
    "# library for getting data from crossref\n",
    "import lib.crossref_api as cr_api\n",
    "# library for mapping json data\n",
    "import lib.handle_json as hnd_json\n",
    "\n",
    "\n",
    "\n",
    "input_file = \"processed_csv/AddNewArticles202002.csv\"\n",
    "\n",
    "csv_articles, _ = csvh.get_csv_data(input_file,'Num')\n",
    "\n",
    "\n",
    "cr_articles = {} # Num (from CHUK), DOI, type, and other fiedls from CR.\n",
    "article_columns=[\"Num\"]\n",
    "# list of article authors from cross ref\n",
    "cr_authors = {} # AuthorNum, Firstname, Middle name, Last Name\n",
    "author_columns = [\"AuthorNum\", \"FirstName\", \"MiddleName\", \"LastName\"]\n",
    "# list of article-author links\n",
    "cr_article_authour_link = {} # AuthorNum, DOI\n",
    "article_authour_columns = [\"DOI\",\"AuthorNum\"]\n",
    "\n",
    "for art_num in csv_articles:\n",
    "    article_title = csv_articles[art_num]['Title']\n",
    "    doi_text = csv_articles[art_num]['DOI']\n",
    "    # get article data from CrossRef\n",
    "    while True:\n",
    "        try_n = 1\n",
    "        article_data = cr_api.getBibData(doi_text)\n",
    "        if article_data != {}:\n",
    "            break\n",
    "        else:  \n",
    "            print(\"****************************************************\")\n",
    "            print(\"retry\", try_n, article_data)\n",
    "            try_n += 1\n",
    "    # names for article data columns include/ignore\n",
    "    data_keys = list(article_data.keys())\n",
    "    for key in data_keys:\n",
    "        if not (key in article_columns) and \\\n",
    "           key not in ['author', 'assertion', 'indexed', 'funder',\n",
    "                       'content-domain','created','update-policy', 'source',\n",
    "                       'is-referenced-by-count','prefix','member',\n",
    "                       'reference','original-title','language','deposited',\n",
    "                       'score', 'subtitle', 'short-title', 'issued',\n",
    "                       'alternative-id','relation','ISSN','container-title-short']:\n",
    "            article_columns.append(key)\n",
    "    new_row = {}\n",
    "    # map author data\n",
    "    for key in article_columns:\n",
    "        if key == 'Num':\n",
    "            new_row['NumUKCH'] = art_num\n",
    "        else:\n",
    "            if key in article_data.keys():\n",
    "                new_row[key] = hnd_json.jsonToPlainText(article_data[key])\n",
    "    print(new_row)\n",
    "    # map "
   ]
  },
  {
   "cell_type": "code",
   "execution_count": null,
   "metadata": {},
   "outputs": [],
   "source": [
    "    "
   ]
  },
  {
   "cell_type": "code",
   "execution_count": null,
   "metadata": {},
   "outputs": [],
   "source": []
  }
 ],
 "metadata": {
  "kernelspec": {
   "display_name": "Python 3",
   "language": "python",
   "name": "python3"
  },
  "language_info": {
   "codemirror_mode": {
    "name": "ipython",
    "version": 3
   },
   "file_extension": ".py",
   "mimetype": "text/x-python",
   "name": "python",
   "nbconvert_exporter": "python",
   "pygments_lexer": "ipython3",
   "version": "3.7.4"
  }
 },
 "nbformat": 4,
 "nbformat_minor": 2
}
