{
 "cells": [
  {
   "cell_type": "markdown",
   "id": "f3b9ef7d",
   "metadata": {},
   "source": [
    "# Search in crossref archive\n",
    "\n",
    "Verify what are the ids stored in crossref when funder is included \n",
    "This could help build a query that looks for specific funder insted of retrieving all records with any funder\n",
    "\n",
    "Could do the same for affiliations?\n",
    "Could launch a search for the whole year?\n"
   ]
  },
  {
   "cell_type": "code",
   "execution_count": 1,
   "id": "2411ee64",
   "metadata": {},
   "outputs": [],
   "source": [
    "# Connecting to the db\n",
    "import lib.handle_db as dbh\n",
    "\n",
    "# read and write csv files\n",
    "import lib.handle_csv as csv_rw\n",
    "\n",
    "# date functions\n",
    "from datetime import datetime, date, timedelta\n",
    "\n",
    "# managing files and file paths\n",
    "from pathlib import Path\n",
    "\n",
    "# import custom functions (common to various notebooks)\n",
    "import processing_functions as pr_fns\n",
    "\n",
    "#CR libraries\n",
    "from crossref.restful import Works, Etiquette\n",
    "\n",
    "\n",
    "\n",
    "# search for UKCH Awards in CR record\n",
    "def award_in_crossref(aw, award_list):\n",
    "    ukch_wks =[]\n",
    "    not_revised = []\n",
    "    for wk in aw:      \n",
    "        awd_list = []\n",
    "        if 'funder' in wk.keys():\n",
    "            for fdr in wk['funder']:\n",
    "                if 'award' in fdr.keys():\n",
    "                   awds = 0\n",
    "                   for awd in fdr['award']:\n",
    "                        if awd in award_list:\n",
    "                            awd_list.append(awd)\n",
    "                            #print (fdr)\n",
    "                            break\n",
    "        else:\n",
    "            not_revised.append(wk)\n",
    "        if len(awd_list) > 0:\n",
    "            ukch_wks.append(wk)\n",
    "    return ukch_wks, not_revised\n"
   ]
  },
  {
   "cell_type": "code",
   "execution_count": 2,
   "id": "15d8279c",
   "metadata": {
    "scrolled": false
   },
   "outputs": [],
   "source": [
    "# set output vars\n",
    "base_dir = './pub_search_crossref'\n",
    "csv_file_out = 'cr_funder202311_b.csv'\n",
    "out_file = Path(base_dir, csv_file_out)\n",
    "\n",
    "# CR etiquette\n",
    "my_etiquette = Etiquette('UK Catalysis Hub - Catalysis Data Infrastructure', \n",
    "                         'Prototype 1', \n",
    "                         'https://ukcatalysishub.co.uk/core/', \n",
    "                         'nieva@rc-harwell.ac.uk')\n",
    "\n",
    "# cr api for retrieving works \n",
    "works = Works(etiquette=my_etiquette)\n",
    "\n",
    "award_list = ['EP/R026939/1', 'EP/R026815/1', 'EP/R026645/1', 'EP/R027129/1', 'EP/M013219/1',\n",
    "               'EP/K014706/2', 'EP/K014668/1', 'EP/K014854/1', 'EP/K014714/1',]\n"
   ]
  },
  {
   "cell_type": "code",
   "execution_count": null,
   "id": "3fa60cdc",
   "metadata": {
    "scrolled": false
   },
   "outputs": [],
   "source": [
    "# open DB\n",
    "db_name = 'production'\n",
    "\n",
    "# 1 currend app DB\n",
    "ukchapp_db = \"db_files/\" + db_name + \".sqlite3\"\n",
    "\n",
    "# get publication data from the ukch app\n",
    "app_pubs = pr_fns.get_pub_data(ukchapp_db)\n",
    "\n",
    "\n",
    "csv_data = {}\n",
    "for a_pub in app_pubs:\n",
    "    if a_pub[0] > 633 :\n",
    "        pub_id = a_pub[0]\n",
    "        pub_title = a_pub[1]\n",
    "        pub_doi = a_pub[2]\n",
    "        pub_url = a_pub[3]\n",
    "        pub_pdf = a_pub[4]\n",
    "\n",
    "        db_record = {\"pub_id\": pub_id, \"pub_title\": pub_title, \"pub_doi\":pub_doi, \"pub_url\":pub_url, \"pub_pdf\": pub_pdf}\n",
    "        funder_data = {'funder_doi':'','funder_name':'','funder_doi_asserted_by':'','funder_awards':[]}\n",
    "        cr_dates={'indexed':'','created':'','deposited':''}\n",
    "        if pub_doi != None or \\\n",
    "            pub_doi == '':\n",
    "            print(works.filter(doi=pub_doi.strip()).url)\n",
    "            cr_works = works.filter(doi=pub_doi.strip())\n",
    "\n",
    "            for crwk in cr_works:     \n",
    "                awd_list = []             \n",
    "                if 'funder' in crwk.keys():\n",
    "                    for fdr in crwk['funder']:\n",
    "                        if 'award' in fdr.keys():\n",
    "                           awds = 0\n",
    "                           for awd in fdr['award']:\n",
    "                                if awd in award_list:\n",
    "                                    awd_list.append(awd)\n",
    "                                    if funder_data['funder_name'] == \"\":\n",
    "                                        if 'DOI' in fdr.keys(): funder_data['funder_doi'] = fdr['DOI']\n",
    "                                        if 'name' in fdr.keys(): funder_data['funder_name'] = fdr['name']\n",
    "                                        if 'doi-asserted-by' in fdr.keys(): funder_data['funder_doi_asserted_by'] = fdr['doi-asserted-by']\n",
    "                        funder_data[\"funder_awards\"] = awd_list\n",
    "                cr_dates['indexed']=crwk['indexed']['date-time']\n",
    "                cr_dates['created']=crwk['created']['date-time']\n",
    "                cr_dates['deposited']=crwk['deposited']['date-time']\n",
    "        db_record = {**db_record, **funder_data, **cr_dates}        \n",
    "        csv_data[pub_id] =db_record\n",
    "    "
   ]
  },
  {
   "cell_type": "code",
   "execution_count": 3,
   "id": "6780dba6",
   "metadata": {},
   "outputs": [
    {
     "ename": "NameError",
     "evalue": "name 'csv_data' is not defined",
     "output_type": "error",
     "traceback": [
      "\u001b[1;31m---------------------------------------------------------------------------\u001b[0m",
      "\u001b[1;31mNameError\u001b[0m                                 Traceback (most recent call last)",
      "Cell \u001b[1;32mIn[3], line 2\u001b[0m\n\u001b[0;32m      1\u001b[0m \u001b[38;5;66;03m# WRITE TO FILE\u001b[39;00m\n\u001b[1;32m----> 2\u001b[0m \u001b[38;5;28;01mif\u001b[39;00m \u001b[38;5;28mlen\u001b[39m(\u001b[43mcsv_data\u001b[49m) \u001b[38;5;241m>\u001b[39m \u001b[38;5;241m0\u001b[39m:\n\u001b[0;32m      3\u001b[0m     csv_rw\u001b[38;5;241m.\u001b[39mwrite_csv_data(csv_data, out_file) \n",
      "\u001b[1;31mNameError\u001b[0m: name 'csv_data' is not defined"
     ]
    }
   ],
   "source": [
    "# WRITE TO FILE\n",
    "if len(csv_data) > 0:\n",
    "    csv_rw.write_csv_data(csv_data, out_file) "
   ]
  },
  {
   "cell_type": "code",
   "execution_count": null,
   "id": "ae4518a9",
   "metadata": {
    "scrolled": true
   },
   "outputs": [],
   "source": [
    "csv_data"
   ]
  },
  {
   "cell_type": "code",
   "execution_count": 4,
   "id": "70f47ccf",
   "metadata": {},
   "outputs": [
    {
     "data": {
      "text/plain": [
       "'https://api.crossref.org/works?filter=from-created-date%3A2023-11-01'"
      ]
     },
     "execution_count": 4,
     "metadata": {},
     "output_type": "execute_result"
    }
   ],
   "source": [
    "start_date = end_date = date(2023, 1, 1)\n",
    "\n",
    "works.filter(from_created_date=str(start_date)).url"
   ]
  },
  {
   "cell_type": "code",
   "execution_count": 17,
   "id": "b479a98f",
   "metadata": {},
   "outputs": [],
   "source": [
    "ukch_awards = ['EP/R026939/1', 'EP/R026815/1', 'EP/R026645/1', 'EP/R027129/1', 'EP/M013219/1',\n",
    "               'EP/K014706/2', 'EP/K014668/1', 'EP/K014854/1', 'EP/K014714/1',]\n",
    "\n",
    "mcc_awards =['EP/R029431','EP/P020194', 'EP/T022213', 'EP/D504872', 'EP/F067496',]\n",
    "\n",
    "award_list = ukch_awards + mcc_awards"
   ]
  },
  {
   "cell_type": "code",
   "execution_count": 32,
   "id": "1fb02262",
   "metadata": {},
   "outputs": [
    {
     "name": "stdout",
     "output_type": "stream",
     "text": [
      "https://api.crossref.org/works?filter=from-created-date%3A2023-11-01%2Caward.number%3AEP%2FR026939%2F1\n",
      "https://api.crossref.org/works?filter=from-created-date%3A2023-11-01%2Caward.number%3AEP%2FR026815%2F1\n",
      "https://api.crossref.org/works?filter=from-created-date%3A2023-11-01%2Caward.number%3AEP%2FR026645%2F1\n",
      "https://api.crossref.org/works?filter=from-created-date%3A2023-11-01%2Caward.number%3AEP%2FR027129%2F1\n",
      "https://api.crossref.org/works?filter=from-created-date%3A2023-11-01%2Caward.number%3AEP%2FM013219%2F1\n",
      "https://api.crossref.org/works?filter=from-created-date%3A2023-11-01%2Caward.number%3AEP%2FK014706%2F2\n",
      "https://api.crossref.org/works?filter=from-created-date%3A2023-11-01%2Caward.number%3AEP%2FK014668%2F1\n",
      "https://api.crossref.org/works?filter=from-created-date%3A2023-11-01%2Caward.number%3AEP%2FK014854%2F1\n",
      "https://api.crossref.org/works?filter=from-created-date%3A2023-11-01%2Caward.number%3AEP%2FK014714%2F1\n",
      "https://api.crossref.org/works?filter=from-created-date%3A2023-11-01%2Caward.number%3AEP%2FR029431\n",
      "https://api.crossref.org/works?filter=from-created-date%3A2023-11-01%2Caward.number%3AEP%2FP020194\n",
      "https://api.crossref.org/works?filter=from-created-date%3A2023-11-01%2Caward.number%3AEP%2FT022213\n",
      "https://api.crossref.org/works?filter=from-created-date%3A2023-11-01%2Caward.number%3AEP%2FD504872\n",
      "https://api.crossref.org/works?filter=from-created-date%3A2023-11-01%2Caward.number%3AEP%2FF067496\n"
     ]
    }
   ],
   "source": [
    "a_filter = \"\"\n",
    "\n",
    "publications = {}\n",
    "for this_aw in award_list:\n",
    "    a_filter = works.filter(from_created_date=str(start_date)).filter(award__number=this_aw).url\n",
    "    print(a_filter)\n",
    "    pub_w_grant = works.filter(from_created_date=str(start_date)).filter(award__number=this_aw)\n",
    "    \n",
    "    for wk in pub_w_grant:\n",
    "        if not wk['DOI'] in publications:\n",
    "            publications[wk['DOI']] = wk\n",
    "    \n",
    "        awd_list = [] \n",
    "        for fdr in wk['funder']:\n",
    "            if 'award' in fdr.keys():\n",
    "               awds = 0\n",
    "               for awd in fdr['award']:\n",
    "                   if awd in award_list:\n",
    "                       awd_list.append(awd)\n"
   ]
  },
  {
   "cell_type": "code",
   "execution_count": 33,
   "id": "e4a1aea1",
   "metadata": {},
   "outputs": [],
   "source": [
    "def get_authors(wk):\n",
    "    author_list = \"\"\n",
    "    if 'author' in wk.keys() :\n",
    "        for autr in wk['author']:\n",
    "            if author_lists == \"\":\n",
    "                author_list = autr['family'] + (\", \"+ autr ['given'] if 'given' in autr.keys() else \"\" )\n",
    "            else:\n",
    "                author_list += \", \" + autr['family']+ (\", \"+ autr ['given'] if 'given' in autr.keys() else \"\" )\n",
    "    return author_list\n",
    "\n",
    "def get_awards(wk):\n",
    "    mcc_pub = ukch_pub = False\n",
    "    award_list = \"\"\n",
    "    for fdr in wk['funder']:\n",
    "        if 'award' in fdr.keys():\n",
    "          for awd in fdr['award']:\n",
    "               if awd in award_list:\n",
    "                    if award_list  == \"\":\n",
    "                        award_list = awd\n",
    "                    else:\n",
    "                        award_list += \", \" +awd\n",
    "                    if awd in ukch_awards:\n",
    "                        ukch_pub = True\n",
    "                    if awd in mcc_awards:\n",
    "                        mcc_pub = True\n",
    "    return award_list, mcc_pub, ukch_pub  \n",
    "\n",
    "def get_pub_year(wk):\n",
    "    ol_year = 0\n",
    "    pr_year = 0\n",
    "    pub_year = 0\n",
    "    if 'published-online' in wk.keys() and 'date-parts' in wk['published-online'].keys():\n",
    "        ol_year = int(wk['published-online']['date-parts'][0][0])\n",
    "    if 'published-print' in wk.keys() and 'date-parts' in wk['published-print'].keys():\n",
    "        pr_year = int(wk['published-print']['date-parts'][0][0])\n",
    "    if pr_year > 0 and ol_year > 0:\n",
    "        if pr_year > ol_year:\n",
    "            pub_year = ol_year\n",
    "        else:\n",
    "            pub_year = pr_year\n",
    "    elif ol_year > 0:\n",
    "        pub_year = ol_year\n",
    "    elif pr_year > 0:\n",
    "        pub_year = pr_year\n",
    "    return  pub_year"
   ]
  },
  {
   "cell_type": "code",
   "execution_count": 31,
   "id": "93a76e29",
   "metadata": {},
   "outputs": [
    {
     "ename": "NameError",
     "evalue": "name 'get_authors' is not defined",
     "output_type": "error",
     "traceback": [
      "\u001b[1;31m---------------------------------------------------------------------------\u001b[0m",
      "\u001b[1;31mNameError\u001b[0m                                 Traceback (most recent call last)",
      "Cell \u001b[1;32mIn[31], line 5\u001b[0m\n\u001b[0;32m      2\u001b[0m \u001b[38;5;28;01mfor\u001b[39;00m wk_doi \u001b[38;5;129;01min\u001b[39;00m publications:\n\u001b[0;32m      3\u001b[0m     wk \u001b[38;5;241m=\u001b[39m publications[wk_doi]\n\u001b[1;32m----> 5\u001b[0m     art_authors \u001b[38;5;241m=\u001b[39m \u001b[43mget_authors\u001b[49m(wk)\n\u001b[0;32m      6\u001b[0m     found_award, mcc_pub, ukch_pub \u001b[38;5;241m=\u001b[39m get_awards(wk)\n\u001b[0;32m      7\u001b[0m     pub_year \u001b[38;5;241m=\u001b[39m get_pub_year(wk)    \n",
      "\u001b[1;31mNameError\u001b[0m: name 'get_authors' is not defined"
     ]
    }
   ],
   "source": [
    "foud_pubs = {}\n",
    "for wk_doi in publications:\n",
    "    wk = publications[wk_doi]\n",
    "    \n",
    "    art_authors = get_authors(wk)\n",
    "    found_award, mcc_pub, ukch_pub = get_awards(wk)\n",
    "    pub_year = get_pub_year(wk)    \n",
    "    print(art_authors,\"|\",pub_year,\"|\",wk['title'][0],\n",
    "          \"|\", wk['DOI'],\"|\", fund_award)     \n",
    "    this_pub = {'authors': art_authors,\n",
    "                'year': pub_year,\n",
    "                'title': wk['title'][0],\n",
    "                'DOI': wk['DOI'],\n",
    "                'awards': fund_award,\n",
    "                'mcc': int(mcc_pub),\n",
    "                'ukch': int(ukch_pub)}\n",
    "    if not wk['DOI'] in foud_pubs:\n",
    "         foud_pubs[wk['DOI']]= this_pub"
   ]
  },
  {
   "cell_type": "code",
   "execution_count": 26,
   "id": "75e0639d",
   "metadata": {},
   "outputs": [
    {
     "data": {
      "text/plain": [
       "6"
      ]
     },
     "execution_count": 26,
     "metadata": {},
     "output_type": "execute_result"
    }
   ],
   "source": [
    "len(foud_pubs)"
   ]
  },
  {
   "cell_type": "code",
   "execution_count": 28,
   "id": "c22773b7",
   "metadata": {},
   "outputs": [],
   "source": [
    "if len(foud_pubs) > 0:\n",
    "    csv_rw.write_csv_data(foud_pubs, 'cr_check_'+str(end_date)+'a.csv') \n",
    "    foud_pubs = {}\n"
   ]
  },
  {
   "cell_type": "code",
   "execution_count": null,
   "id": "dec4baf2",
   "metadata": {},
   "outputs": [],
   "source": []
  }
 ],
 "metadata": {
  "kernelspec": {
   "display_name": "Python 3 (ipykernel)",
   "language": "python",
   "name": "python3"
  },
  "language_info": {
   "codemirror_mode": {
    "name": "ipython",
    "version": 3
   },
   "file_extension": ".py",
   "mimetype": "text/x-python",
   "name": "python",
   "nbconvert_exporter": "python",
   "pygments_lexer": "ipython3",
   "version": "3.9.2rc1"
  }
 },
 "nbformat": 4,
 "nbformat_minor": 5
}
