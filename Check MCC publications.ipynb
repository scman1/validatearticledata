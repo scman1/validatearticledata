{
 "cells": [
  {
   "cell_type": "markdown",
   "id": "1c28a878",
   "metadata": {},
   "source": [
    "# Check existence of records in list in the publications DB\n",
    "Compare a list of DOIs to the existing records in the DB and determine if the records are present in the DB. Additionally, determine which records in the DB are not in the list (when the task is to verify origins of DB entries against other sourcess such as Cross Ref).\n"
   ]
  },
  {
   "cell_type": "code",
   "execution_count": 1,
   "id": "9d52c6fc",
   "metadata": {},
   "outputs": [],
   "source": [
    "# Connecting to the db\n",
    "import lib.handle_db as dbh\n",
    "\n",
    "# read and write csv files\n",
    "import lib.handle_csv as csv_rw\n",
    "\n",
    "# date functions\n",
    "from datetime import datetime, date, timedelta\n",
    "\n",
    "# managing files and file paths\n",
    "from pathlib import Path\n",
    "\n",
    "# import custom functions (common to various notebooks)\n",
    "import processing_functions as pr_fns\n",
    "\n",
    "#CR libraries\n",
    "from crossref.restful import Works, Etiquette\n"
   ]
  },
  {
   "cell_type": "code",
   "execution_count": 2,
   "id": "df71d310",
   "metadata": {},
   "outputs": [],
   "source": [
    "# open DB and get the set of dois in db\n",
    "def get_db_dois_set(app_db):\n",
    "    app_pubs = pr_fns.get_pub_data(app_db)\n",
    "    return set([a_pub[2].lower() for a_pub in app_pubs])\n",
    "\n",
    "# get a set of dois from a csv_file\n",
    "def get_csv_dois_set(csv_file):\n",
    "    pubs_list, _ = csv_rw.get_csv_data(csv_file)\n",
    "    return set([pubs_list[a_pub]['doi'].lower() for a_pub in pubs_list])"
   ]
  },
  {
   "cell_type": "code",
   "execution_count": 3,
   "id": "edb463c6",
   "metadata": {},
   "outputs": [
    {
     "name": "stdout",
     "output_type": "stream",
     "text": [
      "DOIs in website: 901\n",
      "DOIs in DB: 1129\n",
      "DOIs in CR: 1019\n"
     ]
    }
   ],
   "source": [
    "ws_search_csv = \"../mcc_data/mcc_2024.csv\"\n",
    "\n",
    "# get list of publications in WS\n",
    "ws_dois = get_csv_dois_set(ws_search_csv)\n",
    "print(\"DOIs in website:\", len(ws_dois))\n",
    "\n",
    "\n",
    "di_app_db = \"../mcc_data/development.sqlite3\"\n",
    "# get the set of all dois in DB\n",
    "db_dois = get_db_dois_set(di_app_db)\n",
    "\n",
    "print(\"DOIs in DB:\", len(db_dois))\n",
    "\n",
    "cr_search_csv = \"../mcc_data/cr_check_2024.csv\"\n",
    "# get list of publications found in CR\n",
    "cr_dois = get_csv_dois_set(cr_search_csv)\n",
    "print(\"DOIs in CR:\", len(cr_dois))\n",
    "\n",
    "\n"
   ]
  },
  {
   "cell_type": "code",
   "execution_count": 4,
   "id": "0c48e68d",
   "metadata": {},
   "outputs": [
    {
     "name": "stdout",
     "output_type": "stream",
     "text": [
      "Number of DOIs in DB not in search 639\n",
      "Number of DOIs only on search 529\n",
      "Number of DOIs only in db and search 490\n"
     ]
    }
   ],
   "source": [
    "# these comparisons are not important as the base source is the content of WS, not he app db\n",
    "# dois in db and not in search: \n",
    "in_db_not_cr = db_dois - cr_dois\n",
    "\n",
    "print(\"Number of DOIs in DB not in search\", len (in_db_not_cr))\n",
    "\n",
    "# dois in search and not in db: \n",
    "in_cr_only =  cr_dois - db_dois\n",
    "\n",
    "print(\"Number of DOIs only on search\", len (in_cr_only))\n",
    "\n",
    "# dois in search and in db:\n",
    "in_db_and_search = db_dois.intersection(cr_dois)\n",
    "\n",
    "print(\"Number of DOIs only in db and search\", len (in_db_and_search))\n",
    "\n"
   ]
  },
  {
   "cell_type": "code",
   "execution_count": 5,
   "id": "8a0a9f36",
   "metadata": {},
   "outputs": [
    {
     "name": "stdout",
     "output_type": "stream",
     "text": [
      "Number of DOIs in DB not in WS\t 241 \t** need to ask if keep\n",
      "Number of DOIs only in WS\t 13 \t** need to add to DB\n",
      "Number of DOIs in DB and WS\t 888\n"
     ]
    }
   ],
   "source": [
    "# dois in db and not in search: \n",
    "in_db_not_ws = db_dois - ws_dois\n",
    "print(\"Number of DOIs in DB not in WS\\t\", len (in_db_not_ws), \"\\t** need to ask if keep\")\n",
    "\n",
    "# dois in search and not in db: \n",
    "in_ws_only =  ws_dois - db_dois\n",
    "\n",
    "print(\"Number of DOIs only in WS\\t\", len (in_ws_only), \"\\t** need to add to DB\")\n",
    "\n",
    "# dois in search and in db:\n",
    "in_db_and_ws = db_dois.intersection(ws_dois)\n",
    "\n",
    "print(\"Number of DOIs in DB and WS\\t\", len (in_db_and_ws))"
   ]
  },
  {
   "cell_type": "code",
   "execution_count": 6,
   "id": "550d2a47",
   "metadata": {},
   "outputs": [
    {
     "name": "stdout",
     "output_type": "stream",
     "text": [
      "Number of DOIs in CR not in WS\t 641 \t** ask if they should be added\n",
      "Number of DOIs in WS not in CR\t 523\n",
      "Number of DOIs in CR and WS\t 378\n"
     ]
    }
   ],
   "source": [
    "# dois in db and not in search: \n",
    "in_cr_not_ws = cr_dois - ws_dois\n",
    "print(\"Number of DOIs in CR not in WS\\t\", len (in_cr_not_ws), \"\\t** ask if they should be added\")\n",
    "\n",
    "# dois in ws and not in cr: \n",
    "in_ws_not_cr =  ws_dois - cr_dois\n",
    "\n",
    "print(\"Number of DOIs in WS not in CR\\t\", len (in_ws_not_cr))\n",
    "\n",
    "# dois in search and in ws:\n",
    "in_cr_and_ws = cr_dois.intersection(ws_dois)\n",
    "\n",
    "print(\"Number of DOIs in CR and WS\\t\", len (in_cr_and_ws))"
   ]
  },
  {
   "cell_type": "code",
   "execution_count": 7,
   "id": "01376b85",
   "metadata": {},
   "outputs": [
    {
     "name": "stdout",
     "output_type": "stream",
     "text": [
      "Number of DOIs in CR and DB, but not in WS\t 769 \t** total of pubs to be reported\n",
      "Number of DOIs in DB, but not in WS an CR \t 128 \t** pubs reported previously, not in WS\n"
     ]
    }
   ],
   "source": [
    "# dois on CR or DB not in WS\n",
    "in_cr_or_db_not_ws = in_cr_not_ws.union(in_db_not_ws)\n",
    "print(\"Number of DOIs in CR and DB, but not in WS\\t\", len (in_cr_or_db_not_ws), \"\\t** total of pubs to be reported\")\n",
    "\n",
    "#dois in DB not in search \n",
    "in_db_not_cr_not_ws = in_db_not_ws-in_cr_not_ws\n",
    "print(\"Number of DOIs in DB, but not in WS an CR \\t\", len (in_db_not_cr_not_ws), \"\\t** pubs reported previously, not in WS\")\n"
   ]
  },
  {
   "cell_type": "code",
   "execution_count": 9,
   "id": "e0e15001",
   "metadata": {
    "scrolled": false
   },
   "outputs": [
    {
     "ename": "NameError",
     "evalue": "name 'app_pubs' is not defined",
     "output_type": "error",
     "traceback": [
      "\u001b[1;31m---------------------------------------------------------------------------\u001b[0m",
      "\u001b[1;31mNameError\u001b[0m                                 Traceback (most recent call last)",
      "Cell \u001b[1;32mIn[9], line 13\u001b[0m\n\u001b[0;32m     11\u001b[0m this_doi \u001b[38;5;241m=\u001b[39m mcc_ws_list[a_pub][\u001b[38;5;124m'\u001b[39m\u001b[38;5;124mdoi\u001b[39m\u001b[38;5;124m'\u001b[39m]\n\u001b[0;32m     12\u001b[0m mcc_ws_list[a_pub][\u001b[38;5;124m'\u001b[39m\u001b[38;5;124min_db\u001b[39m\u001b[38;5;124m'\u001b[39m]\u001b[38;5;241m=\u001b[39m\u001b[38;5;241m0\u001b[39m\n\u001b[1;32m---> 13\u001b[0m \u001b[38;5;28;01mfor\u001b[39;00m db_pub \u001b[38;5;129;01min\u001b[39;00m \u001b[43mapp_pubs\u001b[49m:\n\u001b[0;32m     14\u001b[0m     \u001b[38;5;28;01mtry\u001b[39;00m:\n\u001b[0;32m     15\u001b[0m         \u001b[38;5;28;01mif\u001b[39;00m this_doi\u001b[38;5;241m.\u001b[39mstrip()\u001b[38;5;241m.\u001b[39mlower() \u001b[38;5;241m==\u001b[39m db_pub[\u001b[38;5;241m2\u001b[39m]\u001b[38;5;241m.\u001b[39mstrip()\u001b[38;5;241m.\u001b[39mlower():\n",
      "\u001b[1;31mNameError\u001b[0m: name 'app_pubs' is not defined"
     ]
    }
   ],
   "source": [
    "# CR report\n",
    "# Build reporting file from:\n",
    "#   901 record in WS -- all in the DB from 2022 search\n",
    "#   641 records from CR search not in WS report to scott and ask if they shuold be added\n",
    "#   128 records from DB and not in WS repost to scott and ask if they shoul be ignored\n",
    "\n",
    "# full list of mcc \n",
    "mcc_ws_list, _ = csv_rw.get_csv_data(ws_search_csv)\n",
    "\n",
    "\n",
    "\n",
    "for a_pub in mcc_ws_list:\n",
    "    this_doi = mcc_ws_list[a_pub]['doi']\n",
    "    mcc_ws_list[a_pub]['in_db']=0\n",
    "    for db_pub in app_pubs:\n",
    "        try:\n",
    "            if this_doi.strip().lower() == db_pub[2].strip().lower():\n",
    "                mcc_ws_list[a_pub]['in_db']= 1\n",
    "                print(mcc_ws_list[a_pub])\n",
    "                break\n",
    "        except:\n",
    "            print (\"issue with\",  mcc_ws_list[a_pub])\n",
    "            break"
   ]
  },
  {
   "cell_type": "code",
   "execution_count": null,
   "id": "26f1ef16",
   "metadata": {},
   "outputs": [],
   "source": [
    "if len(mcc_ws_list) > 0:\n",
    "    csv_rw.write_csv_data(mcc_ws_list, '../mcc_data/cr_check_2024a.csv') "
   ]
  },
  {
   "cell_type": "code",
   "execution_count": null,
   "id": "81890e7f",
   "metadata": {
    "scrolled": true
   },
   "outputs": [],
   "source": [
    "mcc_ws_list"
   ]
  },
  {
   "cell_type": "code",
   "execution_count": null,
   "id": "daeafe88",
   "metadata": {},
   "outputs": [],
   "source": []
  }
 ],
 "metadata": {
  "kernelspec": {
   "display_name": "Python 3 (ipykernel)",
   "language": "python",
   "name": "python3"
  },
  "language_info": {
   "codemirror_mode": {
    "name": "ipython",
    "version": 3
   },
   "file_extension": ".py",
   "mimetype": "text/x-python",
   "name": "python",
   "nbconvert_exporter": "python",
   "pygments_lexer": "ipython3",
   "version": "3.9.2rc1"
  }
 },
 "nbformat": 4,
 "nbformat_minor": 5
}
