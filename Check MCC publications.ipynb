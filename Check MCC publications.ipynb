{
 "cells": [
  {
   "cell_type": "markdown",
   "id": "1c28a878",
   "metadata": {},
   "source": [
    "# Check existence of records in list in the publications DB\n",
    "Compare a list of DOIs to the existing records in the DB and determine if the records are present in the DB. Additionally, determine which records in the DB are not in the list (when the task is to verify origins of DB entries against other sourcess such as Cross Ref).\n"
   ]
  },
  {
   "cell_type": "code",
   "execution_count": 1,
   "id": "9d52c6fc",
   "metadata": {},
   "outputs": [],
   "source": [
    "# Connecting to the db\n",
    "import lib.handle_db as dbh\n",
    "\n",
    "# read and write csv files\n",
    "import lib.handle_csv as csv_rw\n",
    "\n",
    "# date functions\n",
    "from datetime import datetime, date, timedelta\n",
    "\n",
    "# managing files and file paths\n",
    "from pathlib import Path\n",
    "\n",
    "# import custom functions (common to various notebooks)\n",
    "import processing_functions as pr_fns\n",
    "\n",
    "#CR libraries\n",
    "from crossref.restful import Works, Etiquette\n"
   ]
  },
  {
   "cell_type": "code",
   "execution_count": 2,
   "id": "df71d310",
   "metadata": {},
   "outputs": [],
   "source": [
    "# open DB and get the set of dois in db\n",
    "def get_db_dois_set(app_db):\n",
    "    app_pubs = pr_fns.get_pub_data(app_db)\n",
    "    return set([a_pub[2].lower() for a_pub in app_pubs])\n",
    "\n",
    "# get a set of dois from a csv_file\n",
    "def get_csv_dois_set(csv_file):\n",
    "    pubs_list, _ = csv_rw.get_csv_data(csv_file)\n",
    "    return set([pubs_list[a_pub]['doi'].lower() for a_pub in pubs_list])"
   ]
  },
  {
   "cell_type": "code",
   "execution_count": 3,
   "id": "edb463c6",
   "metadata": {},
   "outputs": [
    {
     "name": "stdout",
     "output_type": "stream",
     "text": [
      "DOIs in DB: 1129\n",
      "DOIs in CR: 1019\n",
      "DOIs in website: 901\n"
     ]
    }
   ],
   "source": [
    "# get the set of all dois in DB\n",
    "dois_in_db = get_db_dois_set(\"../mcc_data/development.sqlite3\")\n",
    "\n",
    "print(\"DOIs in DB:\", len(dois_in_db))\n",
    "\n",
    "# get list of publications found in CR\n",
    "dois_in_cr = get_csv_dois_set(\"../mcc_data/cr_check_2024.csv\")\n",
    "print(\"DOIs in CR:\", len(dois_in_cr ))\n",
    "\n",
    "# get list of publications found in CR\n",
    "dois_in_ws = get_csv_dois_set(\"../mcc_data/mcc_2024.csv\")\n",
    "print(\"DOIs in website:\", len(dois_in_ws ))\n"
   ]
  },
  {
   "cell_type": "code",
   "execution_count": 4,
   "id": "45b35a69",
   "metadata": {},
   "outputs": [
    {
     "name": "stdout",
     "output_type": "stream",
     "text": [
      "Number of DOIs in DB not in search 639\n",
      "Number of DOIs only on search 529\n",
      "Number of DOIs only in db and search 490\n"
     ]
    }
   ],
   "source": [
    "# dois in db and not in search: \n",
    "ind_db_not_search = dois_in_db - dois_in_cr\n",
    "\n",
    "print(\"Number of DOIs in DB not in search\", len (ind_db_not_search))\n",
    "\n",
    "# dois in search and not in db: \n",
    "ind_search_only =  dois_in_cr - dois_in_db\n",
    "\n",
    "print(\"Number of DOIs only on search\", len (ind_search_only))\n",
    "\n",
    "# dois in search and in db:\n",
    "in_db_and_search = dois_in_db.intersection(dois_in_cr)\n",
    "\n",
    "print(\"Number of DOIs only in db and search\", len (in_db_and_search))\n"
   ]
  },
  {
   "cell_type": "code",
   "execution_count": 8,
   "id": "e30a7632",
   "metadata": {},
   "outputs": [
    {
     "name": "stdout",
     "output_type": "stream",
     "text": [
      "Number of DOIs in DB not in WS 241 **\n",
      "Number of DOIs only in WS 13\n",
      "Number of DOIs in DB and WS 888\n"
     ]
    }
   ],
   "source": [
    "# dois in db and not in search: \n",
    "ind_db_not_ws = dois_in_db - dois_in_ws\n",
    "print(\"Number of DOIs in DB not in WS\", len (ind_db_not_ws), \"**\")\n",
    "\n",
    "# dois in search and not in db: \n",
    "ind_ws_only =  dois_in_ws - dois_in_db\n",
    "\n",
    "print(\"Number of DOIs only in WS\", len (ind_ws_only))\n",
    "\n",
    "# dois in search and in db:\n",
    "in_db_and_ws = dois_in_db.intersection(dois_in_ws)\n",
    "\n",
    "print(\"Number of DOIs in DB and WS\", len (in_db_and_ws))"
   ]
  },
  {
   "cell_type": "code",
   "execution_count": 7,
   "id": "492ded4d",
   "metadata": {},
   "outputs": [
    {
     "name": "stdout",
     "output_type": "stream",
     "text": [
      "Number of DOIs in CR not in WS 641 **\n",
      "Number of DOIs in WS not in CR 523\n",
      "Number of DOIs in CR and WS 378\n"
     ]
    }
   ],
   "source": [
    "# dois in db and not in search: \n",
    "ind_cr_not_ws = dois_in_cr - dois_in_ws\n",
    "print(\"Number of DOIs in CR not in WS\", len (ind_cr_not_ws), \"**\")\n",
    "\n",
    "# dois in ws and not in cr: \n",
    "ind_ws_not_cr =  dois_in_ws - dois_in_cr\n",
    "\n",
    "print(\"Number of DOIs in WS not in CR\", len (ind_ws_not_cr))\n",
    "\n",
    "# dois in search and in ws:\n",
    "in_cr_and_ws = dois_in_cr.intersection(dois_in_ws)\n",
    "\n",
    "print(\"Number of DOIs in CR and WS\", len (in_cr_and_ws))"
   ]
  },
  {
   "cell_type": "code",
   "execution_count": 10,
   "id": "0e8b8adc",
   "metadata": {},
   "outputs": [
    {
     "name": "stdout",
     "output_type": "stream",
     "text": [
      "Number of DOIs in CR and DB, but not in WS 769 **\n"
     ]
    }
   ],
   "source": [
    "# dois on CR or DB not in WS\n",
    "in_cr_or_db_not_ws = ind_cr_not_ws.union(ind_db_not_ws)\n",
    "print(\"Number of DOIs in CR and DB, but not in WS\", len (in_cr_or_db_not_ws), \"**\")"
   ]
  },
  {
   "cell_type": "code",
   "execution_count": 11,
   "id": "e0e15001",
   "metadata": {
    "scrolled": false
   },
   "outputs": [
    {
     "ename": "NameError",
     "evalue": "name 'mcc_ws_list' is not defined",
     "output_type": "error",
     "traceback": [
      "\u001b[1;31m---------------------------------------------------------------------------\u001b[0m",
      "\u001b[1;31mNameError\u001b[0m                                 Traceback (most recent call last)",
      "Cell \u001b[1;32mIn[11], line 1\u001b[0m\n\u001b[1;32m----> 1\u001b[0m \u001b[38;5;28;01mfor\u001b[39;00m a_pub \u001b[38;5;129;01min\u001b[39;00m \u001b[43mmcc_ws_list\u001b[49m:\n\u001b[0;32m      2\u001b[0m     this_doi \u001b[38;5;241m=\u001b[39m mcc_ws_list[a_pub][\u001b[38;5;124m'\u001b[39m\u001b[38;5;124mdoi\u001b[39m\u001b[38;5;124m'\u001b[39m]\n\u001b[0;32m      3\u001b[0m     mcc_ws_list[a_pub][\u001b[38;5;124m'\u001b[39m\u001b[38;5;124min_db\u001b[39m\u001b[38;5;124m'\u001b[39m]\u001b[38;5;241m=\u001b[39m\u001b[38;5;241m0\u001b[39m\n",
      "\u001b[1;31mNameError\u001b[0m: name 'mcc_ws_list' is not defined"
     ]
    }
   ],
   "source": [
    "for a_pub in mcc_ws_list:\n",
    "    this_doi = mcc_ws_list[a_pub]['doi']\n",
    "    mcc_ws_list[a_pub]['in_db']=0\n",
    "    for db_pub in app_pubs:\n",
    "        try:\n",
    "            if this_doi.strip().lower() == db_pub[2].strip().lower():\n",
    "                mcc_ws_list[a_pub]['in_db']= 1\n",
    "                print(mcc_ws_list[a_pub])\n",
    "                break\n",
    "        except:\n",
    "            print (\"issue with\",  mcc_ws_list[a_pub])\n",
    "            break"
   ]
  },
  {
   "cell_type": "code",
   "execution_count": null,
   "id": "26f1ef16",
   "metadata": {},
   "outputs": [],
   "source": [
    "if len(mcc_ws_list) > 0:\n",
    "    csv_rw.write_csv_data(mcc_ws_list, '../mcc_data/cr_check_2024a.csv') "
   ]
  },
  {
   "cell_type": "code",
   "execution_count": null,
   "id": "81890e7f",
   "metadata": {
    "scrolled": true
   },
   "outputs": [],
   "source": [
    "mcc_ws_list"
   ]
  },
  {
   "cell_type": "code",
   "execution_count": null,
   "id": "daeafe88",
   "metadata": {},
   "outputs": [],
   "source": []
  }
 ],
 "metadata": {
  "kernelspec": {
   "display_name": "Python 3 (ipykernel)",
   "language": "python",
   "name": "python3"
  },
  "language_info": {
   "codemirror_mode": {
    "name": "ipython",
    "version": 3
   },
   "file_extension": ".py",
   "mimetype": "text/x-python",
   "name": "python",
   "nbconvert_exporter": "python",
   "pygments_lexer": "ipython3",
   "version": "3.9.2rc1"
  }
 },
 "nbformat": 4,
 "nbformat_minor": 5
}
