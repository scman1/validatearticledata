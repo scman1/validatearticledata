{
 "cells": [
  {
   "cell_type": "code",
   "execution_count": 1,
   "id": "4207d1cc",
   "metadata": {},
   "outputs": [],
   "source": [
    "# Libraries\n",
    "# library containign functions that read and write to csv files\n",
    "import lib.handle_csv as csvh\n",
    "# library for connecting to the db\n",
    "import lib.handle_db as dbh\n",
    "# library for handling text matchings\n",
    "import lib.text_comp as txtc\n",
    "# library for getting data from crossref\n",
    "import lib.crossref_api as cr_api\n",
    "# library for handling url searchs\n",
    "import lib.handle_urls as urlh\n",
    "# managing files and file paths\n",
    "from pathlib import Path\n",
    "# add aprogress bar\n",
    "from tqdm import tqdm_notebook \n",
    "from tqdm import tqdm\n",
    "#library for handling json files\n",
    "import json\n",
    "# library for using regular expressions\n",
    "import re\n",
    "# library for handling http requests\n",
    "import requests\n",
    "# import custom functions (common to various notebooks)\n",
    "import processing_functions as pr_fns\n",
    "# clear to get a fresh screen not scrolling down\n",
    "from IPython.display import clear_output"
   ]
  },
  {
   "cell_type": "code",
   "execution_count": 2,
   "id": "b13f05ae",
   "metadata": {},
   "outputs": [],
   "source": [
    "ds_types= {1: \"Compressed file [zip]\", 2: \"Crystal structure [cif/pdbe]\",\n",
    "           3: \"Dataset\", 4:\" Document (Portable document [pdf])\",\n",
    "           5: \"Document (Presentation [ppt/pptx])\",\n",
    "           6: \"Document (Spreadsheet [xls/xlsx/ods])\",\n",
    "           7: \"Document (Text File [txt])\", 8: \"Document (Web page [html])\",\n",
    "           9: \"Document (Word [doc/docx])\", 10: \"Image [gif]\",\n",
    "           11: \"Image [tif]\", 12: \"Image [webp]\", 13: \"Protein Sequence\",\n",
    "           14: \"Raw Nexus\", 15: \"Software [app]\", 16: \"Software [source code]\",\n",
    "           17: \"Video File [avi]\", 18: \"Video File [mov]\", \n",
    "           19: \"Video File [mp4]\", 20: \"Video File [mpg]\", 21: \"xyz\", 22: \"None\"}"
   ]
  },
  {
   "cell_type": "code",
   "execution_count": 3,
   "id": "3f9d80a2",
   "metadata": {
    "scrolled": false
   },
   "outputs": [
    {
     "name": "stdout",
     "output_type": "stream",
     "text": [
      "------------------------------------------------------------------------------------------\n",
      "Publication: https://doi.org/10.3390/catal13121499 \n",
      "Title: Novel Ionic Liquid Synthesis of Bimetallic Fe–Ru Catalysts for the Direct Hydrogenation of CO2 to Short Chain Hydrocarbons Date: 2023\n",
      "https://www.mdpi.com/\n",
      "******************************************************************************************\n",
      "No DO found\n",
      "Value for do_id:https://www.mdpi.com/article/10.3390/catal13121499/s1\n",
      "Value for dataset_doi:\n",
      "Value for dataset_name:catalysts-2683609-supplementary.pdf\n",
      "Value for dataset_startdate:2023/12/07\n",
      "Value for dataset_location:https://www.mdpi.com/article/10.3390/catal13121499/s1\n",
      "{1: 'Compressed file [zip]', 2: 'Crystal structure [cif/pdbe]', 3: 'Dataset', 4: ' Document (Portable document [pdf])', 5: 'Document (Presentation [ppt/pptx])', 6: 'Document (Spreadsheet [xls/xlsx/ods])', 7: 'Document (Text File [txt])', 8: 'Document (Web page [html])', 9: 'Document (Word [doc/docx])', 10: 'Image [gif]', 11: 'Image [tif]', 12: 'Image [webp]', 13: 'Protein Sequence', 14: 'Raw Nexus', 15: 'Software [app]', 16: 'Software [source code]', 17: 'Video File [avi]', 18: 'Video File [mov]', 19: 'Video File [mp4]', 20: 'Video File [mpg]', 21: 'xyz', 22: 'None'}\n",
      "Number for data type (1-21):4\n",
      "Value for do_repository:https://www.mdpi.com\n",
      "Value for do_description:SUPPORTING INFORMATION: Novel Ionic Liquid Synthesis of Bimetallic Fe–Ru Catalysts for  the Direct Hydrogenation of CO2 to Short Chain Hydrocarbons\n",
      "Value for add_to_DB:1\n",
      "Value for in_db:0\n",
      "Value for is_data:1\n",
      "{'num': '63', 'id': '983', 'doi': '10.3390/catal13121499', 'pub_link': 'http://doi.org/10.3390/catal13121499', 'pub_title': 'Novel Ionic Liquid Synthesis of Bimetallic Fe–Ru Catalysts for the Direct Hydrogenation of CO2 to Short Chain Hydrocarbons', 'pub_date': '2023', 'do_id': 'https://www.mdpi.com/article/10.3390/catal13121499/s1', 'dataset_doi': '', 'dataset_name': 'catalysts-2683609-supplementary.pdf', 'dataset_startdate': '2023/12/07', 'dataset_location': 'https://www.mdpi.com/article/10.3390/catal13121499/s1', 'do_type': ' Document (Portable document [pdf])', 'do_repository': 'https://www.mdpi.com', 'do_description': 'SUPPORTING INFORMATION: Novel Ionic Liquid Synthesis of Bimetallic Fe–Ru Catalysts for  the Direct Hydrogenation of CO2 to Short Chain Hydrocarbons', 'add_to_DB': '1', 'in_db': '0', 'search': 'manual', 'is_data': '1'}\n",
      "Continue to next(y/n):n\n"
     ]
    }
   ],
   "source": [
    "new_do_mentions,cols=csvh.get_csv_data(\"./data_search_scholix/search_sclx_production_20240415_not_in_DB_3.csv\",\"num\") #('./data_load/data_load_202207.csv','num')\n",
    "\n",
    "import requests\n",
    "from urllib.parse import urlparse\n",
    "\n",
    "current_doi = \"\"\n",
    "for dm in new_do_mentions:\n",
    "    this_item = new_do_mentions[dm]\n",
    "    if this_item['add_to_DB'] == \"\":\n",
    "        print(\"-\"*90)\n",
    "        url_doi = \"https://doi.org/\" + this_item['doi']\n",
    "\n",
    "        print(\"Publication:\", url_doi, \n",
    "              \"\\nTitle:\",this_item['pub_title'], \"Date:\", this_item['pub_date'])\n",
    "        try:\n",
    "            r = requests.get(url_doi,allow_redirects=True) # Redirects help follow to the actual domain\n",
    "            parsed_uri = urlparse(r.url) #url parse to get the scheme and domain name \n",
    "            result = '{uri.scheme}://{uri.netloc}/'.format(uri=parsed_uri)\n",
    "            print(result) # printing the result\n",
    "        except:\n",
    "            print('problem accessing', url_doi)\n",
    "        current_doi = this_item['doi']   \n",
    "\n",
    "        empty_fields = [k for k, v in this_item.items() if v == '']\n",
    "        print(\"*\"*90)\n",
    "        if this_item['dataset_location'] !=\"\":    \n",
    "            print(this_item['dataset_location'])\n",
    "            print(this_item['dataset_name'])\n",
    "        else:\n",
    "            print(\"No DO found\")\n",
    "\n",
    "        for e_k in empty_fields:\n",
    "            if e_k == 'do_type':\n",
    "                t_selected = 0\n",
    "                print (ds_types)\n",
    "                while not t_selected in ds_types:\n",
    "                    t_selected = int(input(f'Number for data type (1-21):'))\n",
    "                    if t_selected in ds_types:\n",
    "                        this_item[e_k] = ds_types[t_selected]\n",
    "            else:\n",
    "                x = input(f'Value for {e_k}:')\n",
    "                this_item[e_k] = x\n",
    "\n",
    "        print (this_item)\n",
    "        keep_going = input(f'Continue to next(y/n):')\n",
    "        if keep_going == \"n\":\n",
    "            break\n",
    "        else:\n",
    "            clear_output()\n",
    "            \n",
    "if len(new_do_mentions) > 0:\n",
    "    csvh.write_csv_data(new_do_mentions, './data_search_scholix/search_sclx_production_20240415_not_in_DB_3.csv')\n"
   ]
  },
  {
   "cell_type": "code",
   "execution_count": null,
   "id": "6763e72c",
   "metadata": {},
   "outputs": [],
   "source": [
    "if len(new_do_mentions) > 0:\n",
    "    csvh.write_csv_data(new_do_mentions, './data_search_scholix/search_sclx_production_20240415_not_in_DB_3.csv')"
   ]
  },
  {
   "cell_type": "code",
   "execution_count": null,
   "id": "a8a44a7b",
   "metadata": {},
   "outputs": [],
   "source": []
  }
 ],
 "metadata": {
  "kernelspec": {
   "display_name": "Python 3 (ipykernel)",
   "language": "python",
   "name": "python3"
  },
  "language_info": {
   "codemirror_mode": {
    "name": "ipython",
    "version": 3
   },
   "file_extension": ".py",
   "mimetype": "text/x-python",
   "name": "python",
   "nbconvert_exporter": "python",
   "pygments_lexer": "ipython3",
   "version": "3.9.2rc1"
  }
 },
 "nbformat": 4,
 "nbformat_minor": 5
}
