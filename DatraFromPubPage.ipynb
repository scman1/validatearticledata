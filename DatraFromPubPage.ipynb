{
 "cells": [
  {
   "cell_type": "code",
   "execution_count": 143,
   "metadata": {},
   "outputs": [],
   "source": [
    "# Connecting to the db\n",
    "import lib.handle_db as dbh\n",
    "\n",
    "# Parsing html \n",
    "from bs4 import BeautifulSoup\n",
    "\n",
    "# http requests \n",
    "import requests\n",
    "\n",
    "exclude_metadata = {'nature catalysis':['viewport', 'msapplication-TileColor', 'msapplication-config',  'theme-color', \n",
    "                    'application-name', 'robots', 'access', 'WT.cg_s', 'WT.z_bandiera_abtest', 'WT.page_categorisation',\n",
    "                    'WT.template', 'WT.z_cg_type', 'WT.cg_n', 'dc.rights', 'prism.issn']}\n",
    "\n",
    "section_labels = {'nature catalysis':{'aria-labelledby':'data-availability'}}\n",
    "\n",
    "def get_metadata(uri, journal):\n",
    "    result=[]\n",
    "    try:\n",
    "        req_head = {'User-Agent': 'Mozilla/5.0 (Windows NT 10.0; Win64; x64) AppleWebKit/537.36 (KHTML, like Gecko) Chrome/60.0.3112.113 Safari/537.36'}\n",
    "        response = requests.get(uri, headers = req_head)\n",
    "        soup = BeautifulSoup(response.text,'html.parser')       \n",
    "        metadata = soup.find_all('meta')\n",
    "        ignore_these = []\n",
    "        if journal in exclude:\n",
    "            ignore_these = exclude_metadata[journal] \n",
    "        else:\n",
    "            print('new journal')\n",
    "        for md_item in metadata:\n",
    "            if md_item.has_attr(\"name\") and not md_item[\"name\"] in ignore_these :\n",
    "                result.append(md_item)\n",
    "    except Exception as e:\n",
    "        print(e)\n",
    "    return result\n"
   ]
  },
  {
   "cell_type": "code",
   "execution_count": 144,
   "metadata": {
    "scrolled": true
   },
   "outputs": [],
   "source": [
    "url = \"https://www.nature.com/articles/s41929-019-0334-3\"\n",
    "# get metadata\n",
    "\n",
    "def get_data_from_metadata(url, journal = 'nature catalysis'):\n",
    "    ret_data = \"\"\n",
    "    res = get_metadata(url, 'nature catalysis')\n",
    "    # check if metadata references supporting data or supplementary data\n",
    "    for md_item in res:\n",
    "        if 'data' in str(md_item[\"name\"]).lower():\n",
    "            #print(md_item[\"name\"], md_item[\"content\"])\n",
    "            ret_data = md_item[\"content\"]\n",
    "    # get author(s) data from metadata\n",
    "    #for md_item in res:\n",
    "    #    if 'author' in str(md_item[\"name\"]).lower():\n",
    "    #        print(md_item[\"name\"], md_item[\"content\"])    \n",
    "    return ret_data\n",
    "    "
   ]
  },
  {
   "cell_type": "code",
   "execution_count": 146,
   "metadata": {
    "scrolled": true
   },
   "outputs": [
    {
     "name": "stdout",
     "output_type": "stream",
     "text": [
      "Not found in metadata\n"
     ]
    }
   ],
   "source": []
  },
  {
   "cell_type": "code",
   "execution_count": 148,
   "metadata": {},
   "outputs": [],
   "source": [
    "def get_data_from_section(uri, journal = 'nature catalysis'):\n",
    "    data_link = \"\"\n",
    "    for section in sections:\n",
    "        inspect_this = section_labels[journal]\n",
    "        for sect_attr in inspect_this:\n",
    "            if section.has_attr(sect_attr) and section[sect_attr] == 'data-availability':\n",
    "                #print(section[\"aria-labelledby\"])\n",
    "                pars = section.find_all('p')\n",
    "                for par in pars:\n",
    "                    #print(par)\n",
    "                    references = par.find_all('a')\n",
    "                    for reference in references:\n",
    "                        for content in reference.contents:\n",
    "                            #print(content)\n",
    "                            data_link = content\n",
    "    return data_link"
   ]
  },
  {
   "cell_type": "code",
   "execution_count": 151,
   "metadata": {},
   "outputs": [
    {
     "name": "stdout",
     "output_type": "stream",
     "text": [
      "Not found in metadata\n",
      "Found as section:  https://doi.org/10.17035/d.2019.0079744472\n"
     ]
    }
   ],
   "source": [
    "\n",
    "res = get_data_from_metadata(url, journal = 'nature catalysis')\n",
    "if res != \"\":\n",
    "    print(res)\n",
    "else:\n",
    "    print(\"Not found in metadata\")\n",
    "    \n",
    "    \n",
    "res = get_data_from_section(url, 'nature catalysis')\n",
    "\n",
    "if res != \"\":\n",
    "    print(\"Found as section: \", res)\n",
    "else:\n",
    "    print(\"Not found in metadata\")\n"
   ]
  },
  {
   "cell_type": "code",
   "execution_count": 130,
   "metadata": {},
   "outputs": [
    {
     "data": {
      "text/plain": [
       "'https://doi.org/10.17035/d.2019.0079744472'"
      ]
     },
     "execution_count": 130,
     "metadata": {},
     "output_type": "execute_result"
    }
   ],
   "source": [
    "res"
   ]
  },
  {
   "cell_type": "code",
   "execution_count": null,
   "metadata": {},
   "outputs": [],
   "source": [
    "req_head = {'User-Agent': 'Mozilla/5.0 (Windows NT 10.0; Win64; x64) AppleWebKit/537.36 (KHTML, like Gecko) Chrome/60.0.3112.113 Safari/537.36'}\n",
    "response = requests.get(url, headers = req_head)\n",
    "soup = BeautifulSoup(response.text,'html.parser')  \n",
    "sections = soup.find_all('section')\n",
    "\n"
   ]
  }
 ],
 "metadata": {
  "kernelspec": {
   "display_name": "Python 3",
   "language": "python",
   "name": "python3"
  }
 },
 "nbformat": 4,
 "nbformat_minor": 4
}
