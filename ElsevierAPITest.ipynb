{
 "cells": [
  {
   "cell_type": "code",
   "execution_count": 1,
   "metadata": {},
   "outputs": [],
   "source": [
    "# manage file system\n",
    "from pathlib import Path\n",
    "# manage configuration files (*.ini)\n",
    "import configparser\n",
    "# manage http requests\n",
    "import requests\n",
    "\n",
    "ini_file = Path().absolute() /  \"config/config.ini\"\n",
    "api_key = \"\"\n",
    "\n",
    "# Read key value from a configuration file\n",
    "if ini_file.exists():\n",
    "    seg_config = configparser.ConfigParser()\n",
    "    seg_config.read(ini_file)\n",
    "    api_key = seg_config['ApiKeys'][\"ElsevierMining\"]\n",
    "    "
   ]
  },
  {
   "cell_type": "code",
   "execution_count": 2,
   "metadata": {},
   "outputs": [],
   "source": [
    "header = {\n",
    "    'X-ELS-APIKey': api_key,\n",
    "    'httpAccept': 'application/pdf'\n",
    "}\n",
    "\n",
    "def get_pdf(doi, file_name):\n",
    "    url = f'https://api.elsevier.com/content/article/doi/{doi}?view=FULL'\n",
    "    with requests.get(url, stream=True, headers=header) as r:\n",
    "        print(r.status_code)\n",
    "        if r.status_code == 200:\n",
    "            for chunk in r.iter_content(chunk_size=1024*1024):\n",
    "                file_name.write(chunk)\n"
   ]
  },
  {
   "cell_type": "code",
   "execution_count": 3,
   "metadata": {},
   "outputs": [],
   "source": [
    "doi_text = \"10.1016/j.gresc.2020.05.005\"\n",
    "pdf_file = doi_text.replace('/','_')+\".pdf\""
   ]
  },
  {
   "cell_type": "code",
   "execution_count": 4,
   "metadata": {},
   "outputs": [
    {
     "name": "stdout",
     "output_type": "stream",
     "text": [
      "10.1016_j.gresc.2020.05.005.pdf\n",
      "401\n"
     ]
    }
   ],
   "source": [
    "if not Path(pdf_file).is_file():\n",
    "    print(pdf_file)\n",
    "    with open(pdf_file, 'wb') as f:\n",
    "        get_pdf(doi_text,f)"
   ]
  },
  {
   "cell_type": "code",
   "execution_count": 5,
   "metadata": {},
   "outputs": [],
   "source": [
    "r = requests.get('http://api.elsevier.com/content/article/doi/10.1016/j.gresc.2020.05.005?httpAccept=application/pdf', headers=header)\n",
    "with open('test.pdf','wb') as f:\n",
    "    f.write(r.content)\n"
   ]
  },
  {
   "cell_type": "code",
   "execution_count": null,
   "metadata": {},
   "outputs": [],
   "source": []
  }
 ],
 "metadata": {
  "kernelspec": {
   "display_name": "Python 3",
   "language": "python",
   "name": "python3"
  },
  "language_info": {
   "codemirror_mode": {
    "name": "ipython",
    "version": 3
   },
   "file_extension": ".py",
   "mimetype": "text/x-python",
   "name": "python",
   "nbconvert_exporter": "python",
   "pygments_lexer": "ipython3",
   "version": "3.6.10"
  }
 },
 "nbformat": 4,
 "nbformat_minor": 4
}
