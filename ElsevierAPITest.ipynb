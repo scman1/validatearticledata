{
 "cells": [
  {
   "cell_type": "code",
   "execution_count": 62,
   "metadata": {},
   "outputs": [],
   "source": [
    "# manage file system\n",
    "from pathlib import Path\n",
    "# manage configuration files (*.ini)\n",
    "import configparser\n",
    "# manage http requests\n",
    "import requests\n",
    "\n",
    "# configuration file storing keys\n",
    "ini_file = Path().absolute() /  \"config/config.ini\"\n",
    "api_key = \"\"\n",
    "\n",
    "# Read key value from a configuration file\n",
    "if ini_file.exists():\n",
    "    seg_config = configparser.ConfigParser()\n",
    "    seg_config.read(ini_file)\n",
    "    api_key = seg_config['ApiKeys'][\"ElsevierMining\"]\n",
    "    "
   ]
  },
  {
   "cell_type": "code",
   "execution_count": 75,
   "metadata": {},
   "outputs": [],
   "source": [
    "header = {\n",
    "    'X-ELS-APIKey': api_key,\n",
    "    'httpAccept': 'application/pdf'\n",
    "}\n",
    "\n",
    "def get_pdf(doi, file_name):\n",
    "    url = f'https://api.elsevier.com/content/article/doi/{doi}?httpAccept=application/pdf'\n",
    "    #url = f'https://api.elsevier.com/content/article/doi/{doi}'\n",
    "    with requests.get(url, headers=header) as r:\n",
    "        print(r.status_code)\n",
    "        if r.status_code == 200:\n",
    "            file_name.write(r.content)\n",
    "            #for chunk in r.iter_content(chunk_size=1024*1024):\n",
    "            #    file_name.write(chunk)\n"
   ]
  },
  {
   "cell_type": "code",
   "execution_count": 72,
   "metadata": {},
   "outputs": [],
   "source": [
    "dois = ['10.1016/j.apcatb.2017.01.042', \n",
    "        '10.1016/j.cattod.2018.06.033', \n",
    "        '10.1016/j.apcatb.2020.118752', \n",
    "        '10.1016/j.joule.2020.07.024',\n",
    "        '10.1016/j.gresc.2020.05.005']"
   ]
  },
  {
   "cell_type": "code",
   "execution_count": 73,
   "metadata": {},
   "outputs": [],
   "source": [
    "for a_doi in dois:\n",
    "    pdf_file = a_doi.replace('/','_')+\".pdf\"\n",
    "    if not Path(pdf_file).is_file():\n",
    "        print(pdf_file)\n",
    "        with open(pdf_file, 'wb') as f:\n",
    "            get_pdf(a_doi,f)"
   ]
  },
  {
   "cell_type": "code",
   "execution_count": 76,
   "metadata": {},
   "outputs": [],
   "source": [
    "r = requests.get('http://api.elsevier.com/content/article/doi/10.1016/j.gresc.2020.05.005?httpAccept=application/pdf', headers=header)\n",
    "with open('test2.pdf','wb') as f:\n",
    "    f.write(r.content)\n"
   ]
  },
  {
   "cell_type": "code",
   "execution_count": null,
   "metadata": {},
   "outputs": [],
   "source": []
  }
 ],
 "metadata": {
  "kernelspec": {
   "display_name": "Python 3",
   "language": "python",
   "name": "python3"
  },
  "language_info": {
   "codemirror_mode": {
    "name": "ipython",
    "version": 3
   },
   "file_extension": ".py",
   "mimetype": "text/x-python",
   "name": "python",
   "nbconvert_exporter": "python",
   "pygments_lexer": "ipython3",
   "version": "3.8.8"
  }
 },
 "nbformat": 4,
 "nbformat_minor": 4
}
