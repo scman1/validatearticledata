{
 "cells": [
  {
   "cell_type": "markdown",
   "metadata": {},
   "source": [
    "# Are Data Objects referenced from publications FAIR\n",
    "\n",
    "A list of data objects referenced from a set of publications is checked to determine their FAIRness.\n",
    "\n",
    "Instead of only referencing to data, these tests are applied to **data objects**, which are any data which is published to complement the publication, this includes raw data, supplementary data, processing data, tables, images, movies, and compilations containing one or more of such resources.\n",
    "\n",
    "The tests to be performed are aimed at finding out if the data objects are: \n",
    " - **F**indable:  can the object be found easily?\n",
    " - **A**ccessible: can the object be retrieved?\n",
    " - **I**nteroperable: can the object be accesed programatically to extract data and metadata?\n",
    " - **R**eusable: can the object be readily used?"
   ]
  },
  {
   "cell_type": "code",
   "execution_count": 3,
   "metadata": {},
   "outputs": [],
   "source": [
    "# library containign read and write functions to csv file\n",
    "import lib.handle_csv as csvh\n",
    "\n",
    "# managing files and file paths\n",
    "from pathlib import Path\n",
    "\n",
    "# library for handling url searchs\n",
    "import lib.handle_urls as urlh\n",
    "\n",
    "# add a progress bar\n",
    "from tqdm import tqdm_notebook\n",
    "    \n",
    "# library for accessing system functions\n",
    "import os\n",
    "\n",
    "# import custom functions (common to various notebooks)\n",
    "import processing_functions as pr_fns"
   ]
  },
  {
   "cell_type": "markdown",
   "metadata": {},
   "source": [
    "## Findable\n",
    "Most of the data objects are assumed to be findable as we were able to find links to them. However, some are references to other pages, references to contact the authors or point to repositories without identifying a specific record.\n",
    "\n",
    "### Findability Score\n",
    "A findability score was calculated for each data object as follows: assing 5 points if the object is referenced from the publication web page, it is referenced directly, and further details from it can be recovered (name, type and size) just by accessing that reference.\n",
    "\n",
    "After this, points are deucted from the top score, if to find to the referenced object:\n",
    "- Special access to the publication is needed (download the pdf, get a password or token for mining the publication, other blocks) \\[-1 point\\]\n",
    "- Human access to the publication online is required (there is no metadata or clear pattern to identify a reference on the publication landing page or the pdf version redirects to the article). \\[-1 point\\]\n",
    "- Recovering the reference object details (name, type and size) requires more than a single query. \\[-1 point\\]\n",
    "- The reference is wrong (broken link). \\[-2 points\\]\n",
    "- The reference points to contact the authors or lookup a data repository without an ID. \\[-4 points\\]"
   ]
  },
  {
   "cell_type": "code",
   "execution_count": null,
   "metadata": {
    "scrolled": true
   },
   "outputs": [],
   "source": [
    "# get names and links for references in data mentions\n",
    "data_reference, _ = csvh.get_csv_data('pub_data_fairness.csv', 'num')\n",
    "\n",
    "for dr in tqdm_notebook(data_reference):\n",
    "    if data_reference[dr]['ret_code'] == \"\" and data_reference[dr]['f_score'] == \"\":\n",
    "        # try to get data object details from reference\n",
    "        print(\"Article Link: https://doi.org/\" + data_reference[dr]['doi'])\n",
    "        ref_name = data_reference[dr]['name']\n",
    "        ref_link = data_reference[dr]['data_url']\n",
    "        print(\"Search for: Data Name:\", ref_name, \"data link:\", ref_link)\n",
    "        head = urlh.getPageHeader(ref_link)\n",
    "        if head != None:\n",
    "            data_reference[dr]['ret_code'] = head.status_code \n",
    "            data_reference[dr]['resoruce_name'] = os.path.basename(head.url)\n",
    "            if head.status_code == 200:\n",
    "                #print (head.headers, head.url)\n",
    "                if 'content-type' in head.headers.keys():\n",
    "                    data_reference[dr]['ref_content'] = head.headers['content-type']\n",
    "                if 'content-length' in head.headers.keys():\n",
    "                    data_reference[dr]['ref_size'] = head.headers['content-length']\n",
    "                data_reference[dr]['ref_redirect'] = head.url\n",
    "            elif head.status_code == 302 or head.status_code == 301:\n",
    "                #print(head, head.headers)\n",
    "                data_reference[dr]['ref_redirect'] = head.headers['location']\n",
    "                data_reference[dr]['resoruce_name'] = os.path.basename(head.headers['location'])\n",
    "            else:\n",
    "                print(head, head.headers)\n",
    "        else:\n",
    "            data_reference[dr]['f_score'] = 1\n",
    "    elif data_reference[dr]['f_score'] == \"\":\n",
    "        data_reference[dr]['f_score'] = 5\n",
    "        #print (\"start \", dr, data_reference[dr]['f_score'])\n",
    "        if data_reference[dr]['html_mined'] == 'FALSE' and data_reference[dr]['pdf_mined'] == 'TRUE':\n",
    "            data_reference[dr]['f_score'] -= 1 # the publication page is not accessible directly to get the DO \n",
    "            #print (\"deduct pdf mined\", dr, data_reference[dr]['f_score'])\n",
    "        if data_reference[dr]['html_mined'] == 'FALSE' and data_reference[dr]['user_mined'] == 'TRUE':\n",
    "            data_reference[dr]['f_score'] -= 1 # a human user needed to access the resource\n",
    "            #print (\"deduct manually mined\", dr, data_reference[dr]['f_score'])\n",
    "        if data_reference[dr]['ret_code'] in ['0','404']:\n",
    "            data_reference[dr]['f_score'] -= 2 # there is a problem with the link\n",
    "            #print (\"deduct page not found\", dr, data_reference[dr]['f_score'])\n",
    "        elif data_reference[dr]['ret_code'] != '200' and not 'doi.org' in data_reference[dr]['data_url'].lower():\n",
    "            # dois always redirect\n",
    "            data_reference[dr]['f_score'] -= 1 # there is some form of redirect to get to the  object\n",
    "            #print (\"deduct page redirect\", dr, data_reference[dr]['f_score'], data_reference[dr]['ret_code'])\n",
    "\n",
    "        "
   ]
  },
  {
   "cell_type": "code",
   "execution_count": null,
   "metadata": {},
   "outputs": [],
   "source": [
    "if len(data_reference) > 0:\n",
    "    csvh.write_csv_data(data_reference, 'pub_data_fairness.csv')"
   ]
  },
  {
   "cell_type": "markdown",
   "metadata": {},
   "source": [
    "## Accessible\n",
    "Having an identifier and a link does not guarantee access. Resources may be behind walls (login, redirections, email owner to get it, or similar). This is tranlated as: Can we get the resource? Again this is not a yes or no question. Getting the resource means that once the resource is at one's disposal.\n",
    "\n",
    "### Accessibility score\n",
    "An accessibility  score was calculated for each data object as follows: 5 if the object referenced allows direct download of the object just by accessing that reference. After this, for each additional step points are deucted from the top score, if to obtain to the referenced object:\n",
    "\n",
    "- Special access to the publication is need (get a password or token for mining the publication, or similar acces blocks) [-1 point]\n",
    "- Human access to the publication online is required (there is no metadata or clear pattern to identify a reference on the publication landing page or the pdf version redirects to the article). [-1 point]\n",
    "- Recovering the reference object details (name, type and size) requires more than a single query. [-1 point]\n",
    "- The reference is wrong (broken link). [-2 points]\n",
    "- The reference points to contact the authors or lookup a data repository without an ID. [-4 points]\n"
   ]
  },
  {
   "cell_type": "code",
   "execution_count": null,
   "metadata": {},
   "outputs": [],
   "source": [
    "# get names and links for data object references\n",
    "data_reference, _ = csvh.get_csv_data('pub_data_fairness.csv', 'num')\n",
    "for dr in tqdm_notebook(data_reference):\n",
    "    # if data objects has not been recovered before\n",
    "    if data_reference[dr]['a_score'] == \"\":\n",
    "        # try to get data object from reference\n",
    "        print(\"Article Link: https://doi.org/\" + data_reference[dr]['doi'])\n",
    "        ref_name = data_reference[dr]['name']\n",
    "        ref_link = data_reference[dr]['data_url']\n",
    "        if data_reference[dr]['correct_url'] != \"\":\n",
    "            ref_link = data_reference[dr]['correct_url']\n",
    "        print(\"Search for: Data Name:\", ref_name, \"data link:\", ref_link)\n",
    "        \n",
    "        if 'doi.org' in ref_link.lower():\n",
    "            data_object = urlh.getObjectMetadata(ref_link)\n",
    "            print(data_object)\n",
    "            if data_object != {}:\n",
    "                data_reference[dr]['got_object'] = True \n",
    "                data_reference[dr]['do_id'] = data_object['resource_url'] # assume url is the identifier for object\n",
    "                data_reference[dr]['do_type'] = data_object['type'] # should match type in ref_content\n",
    "                data_reference[dr]['do_metadata'] = data_object['metadata'] \n",
    "        else:\n",
    "            data_object = urlh.getObject(ref_link)\n",
    "            if data_object != {}:\n",
    "                data_reference[dr]['got_object'] = True \n",
    "                data_reference[dr]['do_id'] = data_object['resource_url'] # assume url is the identifier for object\n",
    "                data_reference[dr]['do_type'] = data_object['type'] # should match type in ref_content\n",
    "                if 'size' in data_object.keys():\n",
    "                    data_reference[dr]['do_size'] = data_object['size'] # should match size in ref_size\n",
    "                data_reference[dr]['do_file'] = data_object['file_name'] \n",
    "            else:\n",
    "                # score is 0 if the data cannot be downloaded\n",
    "                data_reference[dr]['a_score'] = 0\n",
    "    if data_reference[dr]['a_score'] != 0:\n",
    "        data_reference[dr]['a_score'] = 5\n",
    "        # type of object is diferent from availability check\n",
    "        if 'do_type' in data_reference[dr].keys() and data_reference[dr]['do_type'] != data_reference[dr]['ref_content']:\n",
    "            data_reference[dr]['a_score'] -= 1\n",
    "        # size of object is diferent from availability check\n",
    "        if 'do_size' in data_reference[dr].keys() and data_reference[dr]['do_size'] != data_reference[dr]['ref_size']:\n",
    "            data_reference[dr]['a_score'] -= 1\n",
    "        # the file should exist and contain data of the specified type\n",
    "        if 'file_name' in data_reference[dr].keys() and not Path(data_object['file_name']).is_file():\n",
    "           data_reference[dr]['a_score'] = 0\n"
   ]
  },
  {
   "cell_type": "code",
   "execution_count": null,
   "metadata": {},
   "outputs": [],
   "source": [
    "if len(data_reference) > 0:\n",
    "    csvh.write_csv_data(data_reference, 'pub_data_fairness.csv')\n",
    "    "
   ]
  },
  {
   "cell_type": "markdown",
   "metadata": {},
   "source": [
    "## Interoperable\n",
    "Access to a resource does not guarantee interoperability, it is interoperable if the data is stored in a format which makes it easy to interpret by humans and machines. So an object in an open format is more interoperable that an object in a proprietary format.\n",
    "\n",
    "### Interoperability score\n",
    "The interoperability score is defined along the lines of [5 Star Open Data](https://5stardata.info/en/), using the three first levels.  The definition is relaxed ommiting the request to publish with an open license for intereoperability (it is used below for reusability). The scoring maximum is 3, and it is assigned as follows:\n",
    "\n",
    "- 1 if the data object is available on the Web (whatever format). \n",
    "- 2 if the data object is available as structured data (e.g., Excel instead of image scan of a table)\n",
    "- 3 make it available in a non-proprietary open format (e.g., CSV instead of Excel)"
   ]
  },
  {
   "cell_type": "code",
   "execution_count": null,
   "metadata": {
    "scrolled": false
   },
   "outputs": [],
   "source": [
    "# get names and links for data object references\n",
    "data_reference, _ = csvh.get_csv_data('pub_data_fairness.csv', 'num')\n",
    "# check if files actually exist, and then assess if they are of type 1, 2, or 3\n",
    "level_1_types = ['.doc','.pdf','.tif','.jpg', '.docx', '.ppt', '.pptx', '.mp4', '.mpg', '.htm', '.html', '.zip','.avi']\n",
    "level_2_types = ['xls','xlsx']\n",
    "level_3_types = ['csv','cif']\n",
    "for dr in tqdm_notebook(data_reference):\n",
    "    do_file_name = data_reference[dr]['do_file']\n",
    "    if do_file_name!= \"\" and  not Path(do_file_name).is_file():\n",
    "        data_reference[dr]['file_missing'] = 'TRUE'\n",
    "    elif do_file_name!= \"\":\n",
    "        data_reference[dr]['file_missing'] = 'FALSE'\n",
    "        data_reference[dr]['file_size'] = Path(do_file_name).stat().st_size\n",
    "    for lv1_type in level_1_types:\n",
    "        if lv1_type in do_file_name:\n",
    "            data_reference[dr]['i_score'] = 1\n",
    "    for lv2_type in level_2_types:\n",
    "        if lv2_type in do_file_name:\n",
    "            data_reference[dr]['i_score'] = 2\n",
    "    for lv3_type in level_3_types:\n",
    "        if lv3_type in do_file_name:\n",
    "            data_reference[dr]['i_score'] = 3\n",
    "\n",
    "            "
   ]
  },
  {
   "cell_type": "code",
   "execution_count": 8,
   "metadata": {},
   "outputs": [],
   "source": [
    "if len(data_reference) > 0:\n",
    "    csvh.write_csv_data(data_reference, 'pub_data_fairness.csv')"
   ]
  },
  {
   "cell_type": "markdown",
   "metadata": {},
   "source": [
    "## Reusable\n",
    "Finding, retrieving and interpreting an object is not all ther is. For the resource to be reusable it needs to be a) licensed for use and b) in an appropriate format to guarantee long term support (closely related to the criteria for interoperability).\n",
    "\n",
    "### Reusability score\n",
    "The interoperability score is also based on the [5 Star Open Data](https://5stardata.info/en/) levels, using the requirement for open licenses and the requirements for using identifiers and links to other data. In this case the scoring adds up to 3 ponts, to obtain the score a point is added for each of the following cases:\n",
    "- 1 if the data object is available on an open license.\n",
    "- 1 use identifiers(URI, DOI) to denote things, so that people can point at it.\n",
    "- 1 the data object is linked  to other data to provide context.\n"
   ]
  },
  {
   "cell_type": "code",
   "execution_count": null,
   "metadata": {},
   "outputs": [],
   "source": []
  },
  {
   "cell_type": "code",
   "execution_count": null,
   "metadata": {},
   "outputs": [],
   "source": []
  },
  {
   "cell_type": "code",
   "execution_count": 14,
   "metadata": {
    "scrolled": true
   },
   "outputs": [
    {
     "name": "stderr",
     "output_type": "stream",
     "text": [
      "C:\\Users\\scman1\\Anaconda3\\envs\\python36\\lib\\site-packages\\ipykernel_launcher.py:47: TqdmDeprecationWarning: This function will be removed in tqdm==5.0.0\n",
      "Please use `tqdm.notebook.tqdm` instead of `tqdm.tqdm_notebook`\n"
     ]
    },
    {
     "data": {
      "application/vnd.jupyter.widget-view+json": {
       "model_id": "19daa40ae7934b169b155a93dee1f1be",
       "version_major": 2,
       "version_minor": 0
      },
      "text/plain": [
       "HBox(children=(HTML(value=''), FloatProgress(value=0.0, max=344.0), HTML(value='')))"
      ]
     },
     "metadata": {},
     "output_type": "display_data"
    },
    {
     "name": "stdout",
     "output_type": "stream",
     "text": [
      "\n"
     ]
    }
   ],
   "source": [
    "data_reference, _ = csvh.get_csv_data('pub_data_fairness.csv', 'num')\n",
    "# for doi marked data objects the information about license, identification\n",
    "# and linking can be obtained by looking at the DOI metadata\n",
    "# for supplementary data, we try to get the DOI metadata for the parent\n",
    "# publication and assing the same license to the DO.\n",
    "open_licenses = ['http://pubs.acs.org/page/policy/authorchoice_ccby_termsofuse.html',\n",
    "                 'http://creativecommons.org/licenses/by/3.0/',\n",
    "                 'http://creativecommons.org/licenses/by/4.0',\n",
    "                 'https://creativecommons.org/licenses/by/4.0',\n",
    "                 'http://creativecommons.org/licenses/by/4.0/',\n",
    "                 'http://creativecommons.org/licenses/by-nc/3.0/',\n",
    "                 'http://doi.wiley.com/10.1002/tdm_license_1',\n",
    "                 'https://creativecommons.org/licenses/by/4.0/']\n",
    "\n",
    "not_open_licenses = ['http://www.springer.com/tdm',\n",
    "                     'http://onlinelibrary.wiley.com/termsAndConditions#vor',\n",
    "                     'http://doi.wiley.com/10.1002/tdm_license_1.1',\n",
    "                     'http://rsc.li/journals-terms-of-use',\n",
    "                     'http://pubs.acs.org/page/policy/authorchoice_termsofuse.html',\n",
    "                     'http://onlinelibrary.wiley.com/termsAndConditions',\n",
    "                     'https://www.elsevier.com/tdm/userlicense/1.0/',\n",
    "                     'http://www.sciencemag.org/about/science-licenses-journal-article-reuse']\n",
    "\n",
    "def license_is_open(a_license):\n",
    "    is_open = False\n",
    "    if not a_license in open_licenses and not a_license in not_open_licenses:\n",
    "        assigned_lt = False\n",
    "        while not assigned_lt:\n",
    "            print(a_license)\n",
    "            print('Assing license type:')\n",
    "            print('\\ta) Open')\n",
    "            print('\\tb) Not Open')\n",
    "            print('\\tSelect a or b:')\n",
    "            lts = input()\n",
    "            if lts == \"a\":\n",
    "                open_licenses.append(a_license)\n",
    "                assigned_lt = True\n",
    "            elif lts == \"b\":\n",
    "                not_open_licenses.append(a_license)\n",
    "                assigned_lt = True\n",
    "    if a_license in open_licenses:\n",
    "        is_open = True\n",
    "    else:\n",
    "        is_open = False\n",
    "    return is_open\n",
    "    \n",
    "for dr in tqdm_notebook(data_reference):\n",
    "    \n",
    "    do_file_name = data_reference[dr]['do_file']\n",
    "    if data_reference[dr]['r_score'] == \"\":\n",
    "        data_reference[dr]['r_score'] = 0\n",
    "        if data_reference[dr]['license'] != \"\":\n",
    "            #print(data_reference[dr])\n",
    "            data_reference[dr]['r_score'] += 1\n",
    "        else:\n",
    "            print(\"assing same license as publication\")\n",
    "            # Use publication DOI metadata copyright field\n",
    "            doi_link = \"https://doi.org/\" + data_reference[dr]['doi']\n",
    "            data_object = urlh.getObjectMetadata(doi_link)\n",
    "            #print(data_object)\n",
    "            if data_object != {}:\n",
    "                #print(data_object['resource_url'], data_object['type'], data_object['metadata'])\n",
    "                if 'license' in data_object['metadata']:\n",
    "                    #print(str(type(data_object['metadata']['license'])))\n",
    "                    if isinstance(data_object['metadata']['license'], list):\n",
    "                        for license_item in data_object['metadata']['license']:\n",
    "                            this_license = license_item['URL']\n",
    "                            if license_is_open(this_license):\n",
    "                                data_reference[dr]['r_score'] += 1\n",
    "                            if data_reference[dr]['license'] == \"\":\n",
    "                                data_reference[dr]['license'] = this_license\n",
    "                            else:\n",
    "                                data_reference[dr]['license'] += \", \" + this_license\n",
    "                    else: \n",
    "                        this_license = data_object['metadata']['license']['URL']\n",
    "                        if license_is_open(this_license):\n",
    "                            data_reference[dr]['r_score'] += 1\n",
    "                        data_reference[dr]['license']=this_license\n",
    "        # the resource is linked\n",
    "        # this is a very relaxed view equating identifier to any link!\n",
    "        if data_reference[dr]['user_mined']=='FALSE':\n",
    "           data_reference[dr]['r_score'] += 1\n",
    "        else:\n",
    "           print(\"this one is not linked\")\n",
    "        # the link works \n",
    "        if data_reference[dr]['user_mined']=='FALSE' and \\\n",
    "           data_reference[dr]['ret_code'] in ['200', '301','302','303']:\n",
    "            data_reference[dr]['r_score'] += 1\n",
    "        else:\n",
    "            print(\"the link does not work\")\n",
    "        #print(data_reference[dr])"
   ]
  },
  {
   "cell_type": "code",
   "execution_count": 16,
   "metadata": {},
   "outputs": [],
   "source": [
    "if len(data_reference) > 0:\n",
    "    csvh.write_csv_data(data_reference, 'pub_data_fairness.csv')"
   ]
  },
  {
   "cell_type": "code",
   "execution_count": null,
   "metadata": {},
   "outputs": [],
   "source": []
  }
 ],
 "metadata": {
  "kernelspec": {
   "display_name": "Python 3",
   "language": "python",
   "name": "python3"
  },
  "language_info": {
   "codemirror_mode": {
    "name": "ipython",
    "version": 3
   },
   "file_extension": ".py",
   "mimetype": "text/x-python",
   "name": "python",
   "nbconvert_exporter": "python",
   "pygments_lexer": "ipython3",
   "version": "3.6.10"
  }
 },
 "nbformat": 4,
 "nbformat_minor": 4
}
