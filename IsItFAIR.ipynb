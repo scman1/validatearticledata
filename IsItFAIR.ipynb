{
 "cells": [
  {
   "cell_type": "markdown",
   "metadata": {},
   "source": [
    "# Are Data Objects referenced from publications FAIR\n",
    "\n",
    "A list of data objects referenced from a set of publications is checked to determine their FAIRness.\n",
    "\n",
    "Instead of only referencing to data, these tests are applied to **data objects**, which are any data which is published to complement the publication, this includes raw data, supplementary data, processing data, tables, images, movies, and compilations containing one or more of such resources.\n",
    "\n",
    "The tests to be performed are aimed at finding out if the data objects are: \n",
    " - **F**indable:  can the object be found easily?\n",
    " - **A**ccessible: can the object be retrieved?\n",
    " - **I**nteroperable: can the object be accesed programatically to extract data and metadata?\n",
    " - **R**eusable: can the object be readily used?"
   ]
  },
  {
   "cell_type": "code",
   "execution_count": 1,
   "metadata": {},
   "outputs": [],
   "source": [
    "# library containign read and write functions to csv file\n",
    "import lib.handle_csv as csvh\n",
    "\n",
    "# managing files and file paths\n",
    "from pathlib import Path\n",
    "\n",
    "# library for handling url searchs\n",
    "import lib.handle_urls as urlh\n",
    "\n",
    "# add a progress bar\n",
    "from tqdm import tqdm_notebook\n",
    "    \n",
    "# library for accessing system functions\n",
    "import os\n",
    "\n",
    "# import custom functions (common to various notebooks)\n",
    "import processing_functions as pr_fns"
   ]
  },
  {
   "cell_type": "markdown",
   "metadata": {},
   "source": [
    "## Findable\n",
    "Most of the data objects are assumed to be findable as we were able to find links to them. However, some are references to other pages, references to contact the authors or point to repositories without identifying a specific record.\n",
    "\n",
    "### Findability Score\n",
    "A findability score was calculated for each data object as follows: assing 5 points if the object is referenced from the publication web page, it is referenced directly, and further details from it can be recovered (name, type and size) just by accessing that reference.\n",
    "\n",
    "After this, points are deucted from the top score, if to find to the referenced object:\n",
    "- Special access to the publication is needed (download the pdf, get a password or token for mining the publication, other blocks) \\[-1 point\\]\n",
    "- Human access to the publication online is required (there is no metadata or clear pattern to identify a reference on the publication landing page or the pdf version redirects to the article). \\[-1 point\\]\n",
    "- Recovering the reference object details (name, type and size) requires more than a single query. \\[-1 point\\]\n",
    "- The reference is wrong (broken link). \\[-2 points\\]\n",
    "- The reference points to contact the authors or lookup a data repository without an ID. \\[-4 points\\]"
   ]
  },
  {
   "cell_type": "code",
   "execution_count": 4,
   "metadata": {
    "scrolled": true
   },
   "outputs": [
    {
     "name": "stderr",
     "output_type": "stream",
     "text": [
      "C:\\Users\\scman1\\Anaconda3\\envs\\python36\\lib\\site-packages\\ipykernel_launcher.py:4: TqdmDeprecationWarning: This function will be removed in tqdm==5.0.0\n",
      "Please use `tqdm.notebook.tqdm` instead of `tqdm.tqdm_notebook`\n",
      "  after removing the cwd from sys.path.\n"
     ]
    },
    {
     "data": {
      "application/vnd.jupyter.widget-view+json": {
       "model_id": "ce599ceb337a4b34af1658c6993179de",
       "version_major": 2,
       "version_minor": 0
      },
      "text/plain": [
       "HBox(children=(HTML(value=''), FloatProgress(value=0.0, max=374.0), HTML(value='')))"
      ]
     },
     "metadata": {},
     "output_type": "display_data"
    },
    {
     "name": "stdout",
     "output_type": "stream",
     "text": [
      "\n"
     ]
    }
   ],
   "source": [
    "# get names and links for references in data mentions\n",
    "data_reference, _ = csvh.get_csv_data('pub_data_fairness.csv', 'num')\n",
    "\n",
    "for dr in tqdm_notebook(data_reference):\n",
    "    if data_reference[dr]['ret_code'] == \"\" and data_reference[dr]['f_score'] == \"\":\n",
    "        # try to get data object details from reference\n",
    "        print(\"Article Link: https://doi.org/\" + data_reference[dr]['doi'])\n",
    "        ref_name = data_reference[dr]['name']\n",
    "        ref_link = data_reference[dr]['data_url']\n",
    "        print(\"Search for: Data Name:\", ref_name, \"data link:\", ref_link)\n",
    "        head = urlh.getPageHeader(ref_link)\n",
    "        if head != None:\n",
    "            data_reference[dr]['ret_code'] = head.status_code \n",
    "            data_reference[dr]['resoruce_name'] = os.path.basename(head.url)\n",
    "            if head.status_code == 200:\n",
    "                #print (head.headers, head.url)\n",
    "                if 'content-type' in head.headers.keys():\n",
    "                    data_reference[dr]['ref_content'] = head.headers['content-type']\n",
    "                if 'content-length' in head.headers.keys():\n",
    "                    data_reference[dr]['ref_size'] = head.headers['content-length']\n",
    "                data_reference[dr]['ref_redirect'] = head.url\n",
    "            elif head.status_code == 302 or head.status_code == 301:\n",
    "                #print(head, head.headers)\n",
    "                data_reference[dr]['ref_redirect'] = head.headers['location']\n",
    "                data_reference[dr]['resoruce_name'] = os.path.basename(head.headers['location'])\n",
    "            else:\n",
    "                print(head, head.headers)\n",
    "        else:\n",
    "            data_reference[dr]['f_score'] = 1\n",
    "    elif data_reference[dr]['f_score'] == \"\":\n",
    "        data_reference[dr]['f_score'] = 5\n",
    "        #print (\"start \", dr, data_reference[dr]['f_score'])\n",
    "        if data_reference[dr]['html_mined'] == 'FALSE' and data_reference[dr]['pdf_mined'] == 'TRUE':\n",
    "            data_reference[dr]['f_score'] -= 1 # the publication page is not accessible directly to get the DO \n",
    "            #print (\"deduct pdf mined\", dr, data_reference[dr]['f_score'])\n",
    "        if data_reference[dr]['html_mined'] == 'FALSE' and data_reference[dr]['user_mined'] == 'TRUE':\n",
    "            data_reference[dr]['f_score'] -= 1 # a human user needed to access the resource\n",
    "            #print (\"deduct manually mined\", dr, data_reference[dr]['f_score'])\n",
    "        if data_reference[dr]['ret_code'] in ['0','404']:\n",
    "            data_reference[dr]['f_score'] -= 2 # there is a problem with the link\n",
    "            #print (\"deduct page not found\", dr, data_reference[dr]['f_score'])\n",
    "        elif data_reference[dr]['ret_code'] != '200' and not 'doi.org' in data_reference[dr]['data_url'].lower():\n",
    "            # dois always redirect\n",
    "            data_reference[dr]['f_score'] -= 1 # there is some form of redirect to get to the  object\n",
    "            #print (\"deduct page redirect\", dr, data_reference[dr]['f_score'], data_reference[dr]['ret_code'])\n",
    "\n",
    "        "
   ]
  },
  {
   "cell_type": "code",
   "execution_count": 5,
   "metadata": {},
   "outputs": [],
   "source": [
    "if len(data_reference) > 0:\n",
    "    csvh.write_csv_data(data_reference, 'pub_data_fairness.csv')"
   ]
  },
  {
   "cell_type": "markdown",
   "metadata": {},
   "source": [
    "## Accessible\n",
    "Having an identifier and a link does not guarantee access. Resources may be behind walls (login, redirections, email owner to get it, or similar). This is tranlated as: Can we get the resource? Again this is not a yes or no question. Getting the resource means that once the resource is at one's disposal.\n",
    "\n",
    "### Accessibility score\n",
    "An accessibility  score was calculated for each data object as follows: 5 if the object referenced allows direct download of the object just by accessing that reference. After this, for each additional step points are deucted from the top score, if to obtain to the referenced object:\n",
    "\n",
    "- Special access to the publication is need (get a password or token for mining the publication, or similar acces blocks) [-1 point]\n",
    "- Human access to the publication online is required (there is no metadata or clear pattern to identify a reference on the publication landing page or the pdf version redirects to the article). [-1 point]\n",
    "- Recovering the reference object details (name, type and size) requires more than a single query. [-1 point]\n",
    "- The reference is wrong (broken link). [-2 points]\n",
    "- The reference points to contact the authors or lookup a data repository without an ID. [-4 points]\n"
   ]
  },
  {
   "cell_type": "code",
   "execution_count": 6,
   "metadata": {},
   "outputs": [
    {
     "name": "stderr",
     "output_type": "stream",
     "text": [
      "C:\\Users\\scman1\\Anaconda3\\envs\\python36\\lib\\site-packages\\ipykernel_launcher.py:3: TqdmDeprecationWarning: This function will be removed in tqdm==5.0.0\n",
      "Please use `tqdm.notebook.tqdm` instead of `tqdm.tqdm_notebook`\n",
      "  This is separate from the ipykernel package so we can avoid doing imports until\n"
     ]
    },
    {
     "data": {
      "application/vnd.jupyter.widget-view+json": {
       "model_id": "4db19c85d36947f69e61871730c2eb3f",
       "version_major": 2,
       "version_minor": 0
      },
      "text/plain": [
       "HBox(children=(HTML(value=''), FloatProgress(value=0.0, max=374.0), HTML(value='')))"
      ]
     },
     "metadata": {},
     "output_type": "display_data"
    },
    {
     "name": "stdout",
     "output_type": "stream",
     "text": [
      "Article Link: https://doi.org/10.1038/s41929-019-0334-3\n",
      "Search for: Data Name: https://doi.org/10.17035/d.2019.0079744472 data link: https://doi.org/10.17035/d.2019.0079744472\n",
      "trying to recover object from https://doi.org/10.17035/d.2019.0079744472\n",
      "got something back\n",
      "resource url https://data.crosscite.org/10.17035%2Fd.2019.0079744472\n",
      "{'resource_url': 'https://data.crosscite.org/10.17035%2Fd.2019.0079744472', 'type': 'application/vnd.citationstyles.csl+json; charset=utf-8', 'metadata': {'type': 'article', 'id': 'https://doi.org/10.17035/d.2019.0079744472', 'categories': ['X-ray Photoelectron Spectroscopy (XPS)', 'Near Infrared Spectroscopy', 'Scanning Electron Microscopy', 'EXAFS', 'Gas Chromatography'], 'language': 'en', 'author': [{'family': 'MacIno', 'given': 'Margherita'}, {'family': 'Barnes', 'given': 'Alexandra J'}, {'family': 'Althahban', 'given': 'Sultan M'}, {'family': 'Qu', 'given': 'Ruiyang'}, {'family': 'Gibson', 'given': 'Emma K'}, {'family': 'Freakley', 'given': 'Simon J'}, {'family': 'Dimitratos', 'given': 'Nikolaos'}, {'family': 'Kiely', 'given': 'Christopher J'}, {'family': 'Gao', 'given': 'Xiang'}, {'family': 'Beale', 'given': 'Andrew M'}, {'family': 'Bethell', 'given': 'Donald'}, {'family': 'He', 'given': 'Qian'}, {'family': 'Sankar', 'given': 'Meenakshisundaram'}, {'family': 'Hutchings', 'given': 'Graham J'}], 'issued': {'date-parts': [[2019]]}, 'abstract': 'The dataset contains the raw data of XPS, STEM, XAS, GC and CO DRIFT analysis of the Pt/TiO2 catalysts prepared by impregnation, heat treated at 450°C, tested for a selective hydrogenation reaction and characterised by various techniques.', 'DOI': '10.17035/D.2019.0079744472', 'publisher': 'Cardiff University', 'title': 'Tuning of catalytic sites in Pt/TiO2 catalysts for chemoselective hydrogenation of 3-nitrostyrene', 'URL': 'https://research.cardiff.ac.uk/converis/portal/detail/Dataset/79744472?auxfun=&lang=en_GB', 'version': '1.0'}}\n",
      "\n"
     ]
    }
   ],
   "source": [
    "# get names and links for data object references\n",
    "data_reference, _ = csvh.get_csv_data('pub_data_fairness.csv', 'num')\n",
    "for dr in tqdm_notebook(data_reference):\n",
    "    # if data objects has not been recovered before\n",
    "    if data_reference[dr]['a_score'] == \"\":\n",
    "        # try to get data object from reference\n",
    "        print(\"Article Link: https://doi.org/\" + data_reference[dr]['doi'])\n",
    "        ref_name = data_reference[dr]['name']\n",
    "        ref_link = data_reference[dr]['data_url']\n",
    "        print(\"Search for: Data Name:\", ref_name, \"data link:\", ref_link)\n",
    "        \n",
    "        if 'doi.org' in ref_link.lower():\n",
    "            data_object = urlh.getObjectMetadata(ref_link)\n",
    "            print(data_object)\n",
    "            data_reference[dr]['got_object'] = True \n",
    "            data_reference[dr]['do_id'] = data_object['resource_url'] # assume url is the identifier for object\n",
    "            data_reference[dr]['do_type'] = data_object['type'] # should match type in ref_content\n",
    "            data_reference[dr]['do_metadata'] = data_object['metadata'] \n",
    "        else:\n",
    "            data_object = urlh.getObject(ref_link)\n",
    "            if data_object != {}:\n",
    "                data_reference[dr]['got_object'] = True \n",
    "                data_reference[dr]['do_id'] = data_object['resource_url'] # assume url is the identifier for object\n",
    "                data_reference[dr]['do_type'] = data_object['type'] # should match type in ref_content\n",
    "                data_reference[dr]['do_size'] = data_object['size'] # should match size in ref_size\n",
    "                data_reference[dr]['do_file'] = data_object['file_name'] \n",
    "            else:\n",
    "                # score is 0 if the data cannot be downloaded\n",
    "                data_reference[dr]['a_score'] = 0\n",
    "    if data_reference[dr]['a_score'] != 0:\n",
    "        data_reference[dr]['a_score'] = 5\n",
    "        # type of object is diferent from availability check\n",
    "        if data_reference[dr]['do_type'] != data_reference[dr]['ref_content']:\n",
    "            data_reference[dr]['a_score'] -= 1\n",
    "        # size of object is diferent from availability check\n",
    "        if 'do_size' in data_reference[dr].keys() and data_reference[dr]['do_size'] != data_reference[dr]['ref_size']:\n",
    "            data_reference[dr]['a_score'] -= 1\n",
    "        # the file should exist and contain data of the specified type\n",
    "        if 'file_name' in data_reference[dr].keys() and not Path(data_object['file_name']).is_file():\n",
    "           data_reference[dr]['a_score'] = 0\n",
    "    if dr = 3\n",
    "    break"
   ]
  },
  {
   "cell_type": "code",
   "execution_count": 7,
   "metadata": {},
   "outputs": [
    {
     "name": "stdout",
     "output_type": "stream",
     "text": [
      "*************BibTex*******************\n",
      "@misc{https://doi.org/10.17035/d.2019.0079744472,\n",
      "  doi = {10.17035/D.2019.0079744472},\n",
      "  url = {https://research.cardiff.ac.uk/converis/portal/detail/Dataset/79744472?auxfun=&lang=en_GB},\n",
      "  author = {MacIno, Margherita and Barnes, Alexandra J and Althahban, Sultan M and Qu, Ruiyang and Gibson, Emma K and Freakley, Simon J and Dimitratos, Nikolaos and Kiely, Christopher J and Gao, Xiang and Beale, Andrew M and Bethell, Donald and He, Qian and Sankar, Meenakshisundaram and Hutchings, Graham J},\n",
      "  keywords = {X-ray Photoelectron Spectroscopy (XPS), Near Infrared Spectroscopy, Scanning Electron Microscopy, EXAFS, Gas Chromatography},\n",
      "  language = {en},\n",
      "  title = {Tuning of catalytic sites in Pt/TiO2 catalysts for chemoselective hydrogenation of 3-nitrostyrene},\n",
      "  publisher = {Cardiff University},\n",
      "  year = {2019}\n",
      "}\n",
      "\n",
      "*************Research Info Systems (RIS)*******************\n",
      "TY  - GEN\n",
      "T1  - Tuning of catalytic sites in Pt/TiO2 catalysts for chemoselective hydrogenation of 3-nitrostyrene\n",
      "AU  - MacIno, Margherita\n",
      "AU  - Barnes, Alexandra J\n",
      "AU  - Althahban, Sultan M\n",
      "AU  - Qu, Ruiyang\n",
      "AU  - Gibson, Emma K\n",
      "AU  - Freakley, Simon J\n",
      "AU  - Dimitratos, Nikolaos\n",
      "AU  - Kiely, Christopher J\n",
      "AU  - Gao, Xiang\n",
      "AU  - Beale, Andrew M\n",
      "AU  - Bethell, Donald\n",
      "AU  - He, Qian\n",
      "AU  - Sankar, Meenakshisundaram\n",
      "AU  - Hutchings, Graham J\n",
      "DO  - 10.17035/D.2019.0079744472\n",
      "UR  - https://research.cardiff.ac.uk/converis/portal/detail/Dataset/79744472?auxfun=&lang=en_GB\n",
      "AB  - The dataset contains the raw data of XPS, STEM, XAS, GC and CO DRIFT analysis of the Pt/TiO2 catalysts prepared by impregnation, heat treated at 450°C, tested for a selective hydrogenation reaction and characterised by various techniques.\n",
      "KW  - X-ray Photoelectron Spectroscopy (XPS)\n",
      "KW  - Near Infrared Spectroscopy\n",
      "KW  - Scanning Electron Microscopy\n",
      "KW  - EXAFS\n",
      "KW  - Gas Chromatography\n",
      "PY  - 2019\n",
      "PB  - Cardiff University\n",
      "LA  - en\n",
      "ER  - \n",
      "*************VND Citation Styles CSL*******************\n",
      "{\n",
      "    \"DOI\": \"10.17035/D.2019.0079744472\",\n",
      "    \"URL\": \"https://research.cardiff.ac.uk/converis/portal/detail/Dataset/79744472?auxfun=&lang=en_GB\",\n",
      "    \"abstract\": \"The dataset contains the raw data of XPS, STEM, XAS, GC and CO DRIFT analysis of the Pt/TiO2 catalysts prepared by impregnation, heat treated at 450\\u00b0C, tested for a selective hydrogenation reaction and characterised by various techniques.\",\n",
      "    \"author\": [\n",
      "        {\n",
      "            \"family\": \"MacIno\",\n",
      "            \"given\": \"Margherita\"\n",
      "        },\n",
      "        {\n",
      "            \"family\": \"Barnes\",\n",
      "            \"given\": \"Alexandra J\"\n",
      "        },\n",
      "        {\n",
      "            \"family\": \"Althahban\",\n",
      "            \"given\": \"Sultan M\"\n",
      "        },\n",
      "        {\n",
      "            \"family\": \"Qu\",\n",
      "            \"given\": \"Ruiyang\"\n",
      "        },\n",
      "        {\n",
      "            \"family\": \"Gibson\",\n",
      "            \"given\": \"Emma K\"\n",
      "        },\n",
      "        {\n",
      "            \"family\": \"Freakley\",\n",
      "            \"given\": \"Simon J\"\n",
      "        },\n",
      "        {\n",
      "            \"family\": \"Dimitratos\",\n",
      "            \"given\": \"Nikolaos\"\n",
      "        },\n",
      "        {\n",
      "            \"family\": \"Kiely\",\n",
      "            \"given\": \"Christopher J\"\n",
      "        },\n",
      "        {\n",
      "            \"family\": \"Gao\",\n",
      "            \"given\": \"Xiang\"\n",
      "        },\n",
      "        {\n",
      "            \"family\": \"Beale\",\n",
      "            \"given\": \"Andrew M\"\n",
      "        },\n",
      "        {\n",
      "            \"family\": \"Bethell\",\n",
      "            \"given\": \"Donald\"\n",
      "        },\n",
      "        {\n",
      "            \"family\": \"He\",\n",
      "            \"given\": \"Qian\"\n",
      "        },\n",
      "        {\n",
      "            \"family\": \"Sankar\",\n",
      "            \"given\": \"Meenakshisundaram\"\n",
      "        },\n",
      "        {\n",
      "            \"family\": \"Hutchings\",\n",
      "            \"given\": \"Graham J\"\n",
      "        }\n",
      "    ],\n",
      "    \"categories\": [\n",
      "        \"X-ray Photoelectron Spectroscopy (XPS)\",\n",
      "        \"Near Infrared Spectroscopy\",\n",
      "        \"Scanning Electron Microscopy\",\n",
      "        \"EXAFS\",\n",
      "        \"Gas Chromatography\"\n",
      "    ],\n",
      "    \"id\": \"https://doi.org/10.17035/d.2019.0079744472\",\n",
      "    \"issued\": {\n",
      "        \"date-parts\": [\n",
      "            [\n",
      "                2019\n",
      "            ]\n",
      "        ]\n",
      "    },\n",
      "    \"language\": \"en\",\n",
      "    \"publisher\": \"Cardiff University\",\n",
      "    \"title\": \"Tuning of catalytic sites in Pt/TiO2 catalysts for chemoselective hydrogenation of 3-nitrostyrene\",\n",
      "    \"type\": \"article\",\n",
      "    \"version\": \"1.0\"\n",
      "}\n"
     ]
    }
   ],
   "source": [
    "import requests\n",
    "import json\n",
    "\n",
    "req_head = {'User-Agent': 'Mozilla/5.0 (Windows NT 10.0; Win64; x64) AppleWebKit/537.36 (KHTML, like Gecko) Chrome/60.0.3112.113 Safari/537.36'}\n",
    "req_head['Accept'] = 'application/x-bibtex'\n",
    "url_text = 'https://doi.org/10.17035/d.2019.0079744472'\n",
    "response = requests.get(url_text, headers = req_head)\n",
    "print('*************BibTex*******************')\n",
    "print(response.content.decode())\n",
    "#req_head = {'User-Agent': 'Mozilla/5.0 (Windows NT 10.0; Win64; x64) AppleWebKit/537.36 (KHTML, like Gecko) Chrome/60.0.3112.113 Safari/537.36'}\n",
    "print('*************Research Info Systems (RIS)*******************')\n",
    "req_head['Accept'] = 'application/x-research-info-systems'\n",
    "response = requests.get(url_text, headers = req_head)\n",
    "print(response.content.decode())\n",
    "print('*************VND Citation Styles CSL*******************')\n",
    "req_head['Accept'] = 'application/vnd.citationstyles.csl+json'\n",
    "response = requests.get(url_text, headers = req_head)\n",
    "contents = response.content\n",
    "contents_json = json.loads(contents.decode())\n",
    "#contents_str = contents.decode('utf-8') \n",
    "print(json.dumps(contents_json, indent=4, sort_keys=True))"
   ]
  },
  {
   "cell_type": "code",
   "execution_count": 8,
   "metadata": {},
   "outputs": [
    {
     "data": {
      "text/plain": [
       "'{\\n  \"type\": \"article\",\\n  \"id\": \"https://doi.org/10.17035/d.2019.0079744472\",\\n  \"categories\": [\\n    \"X-ray Photoelectron Spectroscopy (XPS)\",\\n    \"Near Infrared Spectroscopy\",\\n    \"Scanning Electron Microscopy\",\\n    \"EXAFS\",\\n    \"Gas Chromatography\"\\n  ],\\n  \"language\": \"en\",\\n  \"author\": [\\n    {\\n      \"family\": \"MacIno\",\\n      \"given\": \"Margherita\"\\n    },\\n    {\\n      \"family\": \"Barnes\",\\n      \"given\": \"Alexandra J\"\\n    },\\n    {\\n      \"family\": \"Althahban\",\\n      \"given\": \"Sultan M\"\\n    },\\n    {\\n      \"family\": \"Qu\",\\n      \"given\": \"Ruiyang\"\\n    },\\n    {\\n      \"family\": \"Gibson\",\\n      \"given\": \"Emma K\"\\n    },\\n    {\\n      \"family\": \"Freakley\",\\n      \"given\": \"Simon J\"\\n    },\\n    {\\n      \"family\": \"Dimitratos\",\\n      \"given\": \"Nikolaos\"\\n    },\\n    {\\n      \"family\": \"Kiely\",\\n      \"given\": \"Christopher J\"\\n    },\\n    {\\n      \"family\": \"Gao\",\\n      \"given\": \"Xiang\"\\n    },\\n    {\\n      \"family\": \"Beale\",\\n      \"given\": \"Andrew M\"\\n    },\\n    {\\n      \"family\": \"Bethell\",\\n      \"given\": \"Donald\"\\n    },\\n    {\\n      \"family\": \"He\",\\n      \"given\": \"Qian\"\\n    },\\n    {\\n      \"family\": \"Sankar\",\\n      \"given\": \"Meenakshisundaram\"\\n    },\\n    {\\n      \"family\": \"Hutchings\",\\n      \"given\": \"Graham J\"\\n    }\\n  ],\\n  \"issued\": {\\n    \"date-parts\": [\\n      [\\n        2019\\n      ]\\n    ]\\n  },\\n  \"abstract\": \"The dataset contains the raw data of XPS, STEM, XAS, GC and CO DRIFT analysis of the Pt/TiO2 catalysts prepared by impregnation, heat treated at 450°C, tested for a selective hydrogenation reaction and characterised by various techniques.\",\\n  \"DOI\": \"10.17035/D.2019.0079744472\",\\n  \"publisher\": \"Cardiff University\",\\n  \"title\": \"Tuning of catalytic sites in Pt/TiO2 catalysts for chemoselective hydrogenation of 3-nitrostyrene\",\\n  \"URL\": \"https://research.cardiff.ac.uk/converis/portal/detail/Dataset/79744472?auxfun=&lang=en_GB\",\\n  \"version\": \"1.0\"\\n}'"
      ]
     },
     "execution_count": 8,
     "metadata": {},
     "output_type": "execute_result"
    }
   ],
   "source": [
    "contents.decode()"
   ]
  },
  {
   "cell_type": "code",
   "execution_count": 9,
   "metadata": {},
   "outputs": [],
   "source": [
    "if len(data_reference) > 0:\n",
    "    csvh.write_csv_data(data_reference, 'pub_data_fairness.csv')"
   ]
  },
  {
   "cell_type": "code",
   "execution_count": 10,
   "metadata": {},
   "outputs": [
    {
     "data": {
      "text/plain": [
       "\"'a string'\""
      ]
     },
     "execution_count": 10,
     "metadata": {},
     "output_type": "execute_result"
    }
   ],
   "source": [
    "str(b'a string').encode().decode()\n",
    "str(\"'a string'\")"
   ]
  },
  {
   "cell_type": "markdown",
   "metadata": {},
   "source": [
    "## Interoperable\n",
    "Access to a resource does not guarantee interoperability, it is interoperable if the data is stored in a format which makes it easy to interpret by humans and machines. So an object in an open format is more interoperable that an object in a proprietary format.\n",
    "\n",
    "### Interoperability score\n",
    "The interoperability score is defined along the lines of [5 Star Open Data](https://5stardata.info/en/). The definition is relaxed ommiting the request to publish with an open license. The scoring is as follows:\n",
    "\n",
    "- 1 if the data object is available on the Web (whatever format). \n",
    "- 2 if the data object is available as structured data (e.g., Excel instead of image scan of a table)\n",
    "- 3 make it available in a non-proprietary open format (e.g., CSV instead of Excel)\n",
    "- 4 use URIs to denote things, so that people can point at your stuff\n",
    "- 5 the data object is linked  to other data to provide context\n"
   ]
  },
  {
   "cell_type": "markdown",
   "metadata": {},
   "source": [
    "## Reusable\n",
    "Finding, retrieving and interpreting an object is not all ther is. For the resource to be reusable it needs to be a) licensed for use and b) in an appropriate format to guarantee long term support (related to 3)\n",
    "\n"
   ]
  },
  {
   "cell_type": "code",
   "execution_count": null,
   "metadata": {},
   "outputs": [],
   "source": []
  },
  {
   "cell_type": "code",
   "execution_count": null,
   "metadata": {},
   "outputs": [],
   "source": []
  }
 ],
 "metadata": {
  "kernelspec": {
   "display_name": "Python 3",
   "language": "python",
   "name": "python3"
  },
  "language_info": {
   "codemirror_mode": {
    "name": "ipython",
    "version": 3
   },
   "file_extension": ".py",
   "mimetype": "text/x-python",
   "name": "python",
   "nbconvert_exporter": "python",
   "pygments_lexer": "ipython3",
   "version": "3.6.10"
  }
 },
 "nbformat": 4,
 "nbformat_minor": 4
}
