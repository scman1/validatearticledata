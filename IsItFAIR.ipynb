{
 "cells": [
  {
   "cell_type": "markdown",
   "metadata": {},
   "source": [
    "# Are Data Objects referenced from publications FAIR\n",
    "\n",
    "A list of data objects referenced from a set of publications is checked to determine their FAIRness.\n",
    "\n",
    "Instead of only referencing to data, these tests are applied to **data objects**, which are any data which is published to complement the publication, this includes raw data, supplementary data, processing data, tables, images, movies, and compilations containing one or more of such resources.\n",
    "\n",
    "The tests to be performed are aimed at finding out if the data objects are: \n",
    " - **F**indable:  can the object be found easily?\n",
    " - **A**ccessible: can the object be retrieved?\n",
    " - **I**nteroperable: can the object be accesed programatically to extract data and metadata?\n",
    " - **R**eusable: can the object be readily used?"
   ]
  },
  {
   "cell_type": "code",
   "execution_count": 1,
   "metadata": {},
   "outputs": [],
   "source": [
    "# library containign read and write functions to csv file\n",
    "import lib.handle_csv as csvh\n",
    "\n",
    "# managing files and file paths\n",
    "from pathlib import Path\n",
    "\n",
    "# library for handling url searchs\n",
    "import lib.handle_urls as urlh\n",
    "\n",
    "# add a progress bar\n",
    "from tqdm import tqdm_notebook\n",
    "    \n",
    "# library for accessing system functions\n",
    "import os\n",
    "\n",
    "# import custom functions (common to various notebooks)\n",
    "import processing_functions as pr_fns"
   ]
  },
  {
   "cell_type": "markdown",
   "metadata": {},
   "source": [
    "## Findable\n",
    "Most of the data objects are assumed to be findable as we were able to find links to them. However, some are references to other pages, references to contact the authors or point to repositories without identifying a specific record.\n",
    "\n",
    "### Findability Score\n",
    "A findability score was calculated for each data object as follows: assing 5 points if the object is referenced from the publication web page, it is referenced directly, and further details from it can be recovered (name, type and size) just by accessing that reference.\n",
    "\n",
    "After this, points are deucted from the top score, if to find to the referenced object:\n",
    "- Special access to the publication is needed (download the pdf, get a password or token for mining the publication, other blocks) \\[-1 point\\]\n",
    "- Human access to the publication online is required (there is no metadata or clear pattern to identify a reference on the publication landing page or the pdf version redirects to the article). \\[-1 point\\]\n",
    "- Recovering the reference object details (name, type and size) requires more than a single query. \\[-1 point\\]\n",
    "- The reference is wrong (broken link). \\[-2 points\\]\n",
    "- The reference points to contact the authors or lookup a data repository without an ID. \\[-4 points\\]"
   ]
  },
  {
   "cell_type": "code",
   "execution_count": 3,
   "metadata": {
    "scrolled": true
   },
   "outputs": [
    {
     "name": "stderr",
     "output_type": "stream",
     "text": [
      "<ipython-input-3-75ac8e98db6b>:6: TqdmDeprecationWarning: This function will be removed in tqdm==5.0.0\n",
      "Please use `tqdm.notebook.tqdm` instead of `tqdm.tqdm_notebook`\n",
      "  for dr in tqdm_notebook(data_reference):\n"
     ]
    },
    {
     "data": {
      "application/vnd.jupyter.widget-view+json": {
       "model_id": "10b6956be1644414acdfd32e6002716f",
       "version_major": 2,
       "version_minor": 0
      },
      "text/plain": [
       "  0%|          | 0/151 [00:00<?, ?it/s]"
      ]
     },
     "metadata": {},
     "output_type": "display_data"
    },
    {
     "name": "stderr",
     "output_type": "stream",
     "text": [
      "<ipython-input-3-75ac8e98db6b>:38: TqdmDeprecationWarning: This function will be removed in tqdm==5.0.0\n",
      "Please use `tqdm.notebook.tqdm` instead of `tqdm.tqdm_notebook`\n",
      "  for dr in tqdm_notebook(data_reference):\n"
     ]
    },
    {
     "data": {
      "application/vnd.jupyter.widget-view+json": {
       "model_id": "b1fed53e93e7491ab336c692623a1c35",
       "version_major": 2,
       "version_minor": 0
      },
      "text/plain": [
       "  0%|          | 0/151 [00:00<?, ?it/s]"
      ]
     },
     "metadata": {},
     "output_type": "display_data"
    }
   ],
   "source": [
    "# get names and links for references in data mentions\n",
    "do_refs = 'pdf_mentions202110_fairness.csv'\n",
    "\n",
    "data_reference, _ = csvh.get_csv_data(do_refs, 'num')\n",
    "\n",
    "for dr in tqdm_notebook(data_reference):\n",
    "    if data_reference[dr]['ret_code'] == \"\" and data_reference[dr]['f_score'] == \"\":\n",
    "        # try to get data object details from reference\n",
    "        print(\"Article Link: https://doi.org/\" + data_reference[dr]['doi'])\n",
    "        ref_name = data_reference[dr]['name']\n",
    "        ref_link = data_reference[dr]['data_url']\n",
    "        print(\"Search for: Data Name:\", ref_name, \"data link:\", ref_link)\n",
    "        head = urlh.getPageHeader(ref_link)\n",
    "        if head != None:\n",
    "            data_reference[dr]['ret_code'] = head.status_code \n",
    "            data_reference[dr]['resoruce_name'] = os.path.basename(head.url)\n",
    "            if head.status_code == 200:\n",
    "                #print (head.headers, head.url)\n",
    "                if 'content-type' in head.headers.keys():\n",
    "                    data_reference[dr]['ref_content'] = head.headers['content-type']\n",
    "                if 'content-length' in head.headers.keys():\n",
    "                    data_reference[dr]['ref_size'] = head.headers['content-length']\n",
    "                data_reference[dr]['ref_redirect'] = head.url\n",
    "            elif head.status_code == 302 or head.status_code == 301:\n",
    "                #print(head, head.headers)\n",
    "                data_reference[dr]['ref_redirect'] = head.headers['location']\n",
    "                data_reference[dr]['resoruce_name'] = os.path.basename(head.headers['location'])\n",
    "            else:\n",
    "                print(head, head.headers)\n",
    "        else:\n",
    "            data_reference[dr]['f_score'] = 1\n",
    "\n",
    "#save results search results\n",
    "if len(data_reference) > 0:\n",
    "    csvh.write_csv_data(data_reference, do_refs)\n",
    "    \n",
    "#score the results\n",
    "for dr in tqdm_notebook(data_reference):\n",
    "    #evaluate and get scores\n",
    "    if data_reference[dr]['f_score'] == \"\":\n",
    "        data_reference[dr]['f_score'] = 5    \n",
    "        #print (\"start \", dr, data_reference[dr]['f_score'])\n",
    "        if data_reference[dr]['html_mined'] == 'FALSE' and data_reference[dr]['pdf_mined'] == 'TRUE':\n",
    "            data_reference[dr]['f_score'] -= 1 # the publication page is not accessible directly to get the DO \n",
    "            #print (\"deduct pdf mined\", dr, data_reference[dr]['f_score'])\n",
    "        if data_reference[dr]['html_mined'] == 'FALSE' and data_reference[dr]['user_mined'] == 'TRUE':\n",
    "            data_reference[dr]['f_score'] -= 1 # a human user needed to access the resource\n",
    "            #print (\"deduct manually mined\", dr, data_reference[dr]['f_score'])\n",
    "        if data_reference[dr]['ret_code'] in ['0','404']:\n",
    "            data_reference[dr]['f_score'] -= 2 # there is a problem with the link\n",
    "            #print (\"deduct page not found\", dr, data_reference[dr]['f_score'])\n",
    "        elif data_reference[dr]['ret_code'] != '200' and not 'doi.org' in data_reference[dr]['data_url'].lower():\n",
    "            # dois always redirect\n",
    "            data_reference[dr]['f_score'] -= 1 # there is some form of redirect to get to the  object\n",
    "            #print (\"deduct page redirect\", dr, data_reference[dr]['f_score'], data_reference[dr]['ret_code'])\n",
    "\n",
    "# save the scores\n",
    "if len(data_reference) > 0:\n",
    "    csvh.write_csv_data(data_reference, do_refs)"
   ]
  },
  {
   "cell_type": "markdown",
   "metadata": {},
   "source": [
    "## Accessible\n",
    "Having an identifier and a link does not guarantee access. Resources may be behind walls (login, redirections, email owner to get it, or similar). This is tranlated as: Can we get the resource? Again this is not a yes or no question. Getting the resource means that once the resource is at one's disposal.\n",
    "\n",
    "### Accessibility score\n",
    "An accessibility  score was calculated for each data object as follows: 5 if the object referenced allows direct download of the object just by accessing that reference. After this, for each additional step points are deucted from the top score, if to obtain to the referenced object:\n",
    "\n",
    "- Special access to the publication is need (get a password or token for mining the publication, or similar acces blocks) [-1 point]\n",
    "- Human access to the publication online is required (there is no metadata or clear pattern to identify a reference on the publication landing page or the pdf version redirects to the article). [-1 point]\n",
    "- Recovering the reference object details (name, type and size) requires more than a single query. [-1 point]\n",
    "- The reference is wrong (broken link). [-2 points]\n",
    "- The reference points to contact the authors or lookup a data repository without an ID. [-4 points]\n"
   ]
  },
  {
   "cell_type": "code",
   "execution_count": 4,
   "metadata": {},
   "outputs": [
    {
     "name": "stderr",
     "output_type": "stream",
     "text": [
      "<ipython-input-4-b87c4b8d8160>:3: TqdmDeprecationWarning: This function will be removed in tqdm==5.0.0\n",
      "Please use `tqdm.notebook.tqdm` instead of `tqdm.tqdm_notebook`\n",
      "  for dr in tqdm_notebook(data_reference):\n"
     ]
    },
    {
     "data": {
      "application/vnd.jupyter.widget-view+json": {
       "model_id": "4dc19e602f6848929a391d447cbdac7c",
       "version_major": 2,
       "version_minor": 0
      },
      "text/plain": [
       "  0%|          | 0/151 [00:00<?, ?it/s]"
      ]
     },
     "metadata": {},
     "output_type": "display_data"
    },
    {
     "name": "stdout",
     "output_type": "stream",
     "text": [
      "Article Link: https://doi.org/10.1039/d0cp00793e\n",
      "Search for: Data Name: Dataset for 'The electronic structure, surface properties, and in situ N2O decomposition of mechanochemically synthesised LaMnO3' data link: https://doi.org/10.5258/soton/d1342\n",
      "trying to recover object metadata from https://doi.org/10.5258/soton/d1342\n",
      "got something back\n",
      "resource url https://data.crosscite.org/10.5258%2Fsoton%2Fd1342\n",
      "{'resource_url': 'https://data.crosscite.org/10.5258%2Fsoton%2Fd1342', 'type': 'application/vnd.citationstyles.csl+json; charset=utf-8', 'metadata': {'type': 'dataset', 'id': 'https://doi.org/10.5258/soton/d1342', 'author': [{'family': 'Wells', 'given': 'Peter'}, {'family': 'Tierney', 'given': 'George'}, {'family': 'Rivas', 'given': 'Maria Elena'}, {'family': 'Mohammed', 'given': 'Khaled'}, {'family': 'Decarolis', 'given': 'Donato'}, {'family': 'Hayama', 'given': 'Shu'}, {'family': 'Venturini', 'given': 'Federica'}, {'family': 'Held', 'given': 'Georg'}, {'family': 'Arrigo', 'given': 'Rosa'}, {'family': 'Amboage', 'given': 'Monica'}, {'family': 'Hellier', 'given': 'P'}, {'family': 'Lynch', 'given': 'Evan, William'}, {'family': 'Blackmore', 'given': 'Rachel, Hazel'}, {'family': 'Erden', 'given': 'Tugce Eralp'}, {'family': 'Collier', 'given': 'Paul'}], 'issued': {'date-parts': [[2020]]}, 'abstract': 'This dataset supports the publication: Rachel H. Blackmore, Maria Elena Rivas, George Tierney, Khaled M. H. Mohammed, Donato Decarolis, Shusaku Hayama, Federica Venturini, Georg Held, Rosa Arrigo, Monica Amboage, Pip Hellier, Evan Lynch, Mahrez Amri, Marianna Casavola, Tugce Eralp Erden, Paul Collier and Peter P. Wells. The electronic structure, surface properties, and in situ N2O decomposition of mechanochemically synthesised LaMnO3. Physical Chemistry Chemical Physics Journal (PCCP)', 'DOI': '10.5258/SOTON/D1342', 'publisher': 'University of Southampton', 'title': \"Dataset for 'The electronic structure, surface properties, and in situ N2O decomposition of mechanochemically synthesised LaMnO3'\", 'URL': 'https://eprints.soton.ac.uk/439424/'}}\n",
      "Article Link: https://doi.org/10.1021/jacs.0c07980\n",
      "Search for: Data Name: CCDC 2018623: Experimental Crystal Structure Determination data link: https://doi.org/10.5517/ccdc.csd.cc25rjwc\n",
      "trying to recover object metadata from https://doi.org/10.5517/ccdc.csd.cc25rjwc\n",
      "got something back\n",
      "resource url https://data.crosscite.org/10.5517%2Fccdc.csd.cc25rjwc\n",
      "{'resource_url': 'https://data.crosscite.org/10.5517%2Fccdc.csd.cc25rjwc', 'type': 'application/vnd.citationstyles.csl+json; charset=utf-8', 'metadata': {'type': 'dataset', 'id': 'https://doi.org/10.5517/ccdc.csd.cc25rjwc', 'categories': ['Crystal Structure', 'Experimental 3D Coordinates', 'Crystal System', 'Space Group', 'Cell Parameters', 'Crystallography', '[mu-13,16,19,22-tetraoxa-3,6-diazatricyclo[21.3.1.18,12]octacosa-1(27),2,6,8(28),9,11,23,25-octaene-27,28-diolato]-(mu-acetato)-(acetato)-cobalt(iii)-sodium dichloromethane unknown solvate'], 'language': 'en', 'author': [{'literal': 'Deacy, Arron C.'}, {'literal': 'Moreby, Emma'}, {'literal': 'Phanopoulos, Andreas'}, {'literal': 'Williams, Charlotte K.'}], 'issued': {'date-parts': [[2020]]}, 'abstract': 'Related Article: Arron C. Deacy, Emma Moreby, Andreas Phanopoulos, Charlotte K. Williams|2020|J.Am.Chem.Soc.|142|19150|doi:10.1021/jacs.0c07980', 'DOI': '10.5517/CCDC.CSD.CC25RJWC', 'publisher': 'Cambridge Crystallographic Data Centre', 'title': 'CCDC 2018623: Experimental Crystal Structure Determination', 'URL': 'http://www.ccdc.cam.ac.uk/services/structure_request?id=doi:10.5517/ccdc.csd.cc25rjwc&sid=DataCite'}}\n",
      "Article Link: https://doi.org/10.1021/jacs.0c07980\n",
      "Search for: Data Name: CCDC 2018624: Experimental Crystal Structure Determination data link: https://doi.org/10.5517/ccdc.csd.cc25rjxd\n",
      "trying to recover object metadata from https://doi.org/10.5517/ccdc.csd.cc25rjxd\n",
      "got something back\n",
      "resource url https://data.crosscite.org/10.5517%2Fccdc.csd.cc25rjxd\n",
      "{'resource_url': 'https://data.crosscite.org/10.5517%2Fccdc.csd.cc25rjxd', 'type': 'application/vnd.citationstyles.csl+json; charset=utf-8', 'metadata': {'type': 'dataset', 'id': 'https://doi.org/10.5517/ccdc.csd.cc25rjxd', 'categories': ['Crystal Structure', 'Experimental 3D Coordinates', 'Crystal System', 'Space Group', 'Cell Parameters', 'Crystallography', '[mu-13,16,19,22-tetraoxa-3,6-diazatricyclo[21.3.1.18,12]octacosa-1(27),2,6,8(28),9,11,23,25-octaene-27,28-diolato]-bis(acetato)-(acetic acid)-aqua-cobalt(iii)-rubidium unknown solvate'], 'language': 'en', 'author': [{'literal': 'Deacy, Arron C.'}, {'literal': 'Moreby, Emma'}, {'literal': 'Phanopoulos, Andreas'}, {'literal': 'Williams, Charlotte K.'}], 'issued': {'date-parts': [[2020]]}, 'abstract': 'Related Article: Arron C. Deacy, Emma Moreby, Andreas Phanopoulos, Charlotte K. Williams|2020|J.Am.Chem.Soc.|142|19150|doi:10.1021/jacs.0c07980', 'DOI': '10.5517/CCDC.CSD.CC25RJXD', 'publisher': 'Cambridge Crystallographic Data Centre', 'title': 'CCDC 2018624: Experimental Crystal Structure Determination', 'URL': 'http://www.ccdc.cam.ac.uk/services/structure_request?id=doi:10.5517/ccdc.csd.cc25rjxd&sid=DataCite'}}\n",
      "Article Link: https://doi.org/10.1021/jacs.0c07980\n",
      "Search for: Data Name: CCDC 2018625: Experimental Crystal Structure Determination data link: https://doi.org/10.5517/ccdc.csd.cc25rjyf\n",
      "trying to recover object metadata from https://doi.org/10.5517/ccdc.csd.cc25rjyf\n",
      "got something back\n",
      "resource url https://data.crosscite.org/10.5517%2Fccdc.csd.cc25rjyf\n",
      "{'resource_url': 'https://data.crosscite.org/10.5517%2Fccdc.csd.cc25rjyf', 'type': 'application/vnd.citationstyles.csl+json; charset=utf-8', 'metadata': {'type': 'dataset', 'id': 'https://doi.org/10.5517/ccdc.csd.cc25rjyf', 'categories': ['Crystal Structure', 'Experimental 3D Coordinates', 'Crystal System', 'Space Group', 'Cell Parameters', 'Crystallography', '[mu-13,16,19,22-tetraoxa-3,6-diazatricyclo[21.3.1.18,12]octacosa-1(27),2,6,8(28),9,11,23,25-octaene-27,28-diolato]-(mu-acetato)-(acetato)-cobalt(iii)-potassium'], 'language': 'en', 'author': [{'literal': 'Deacy, Arron C.'}, {'literal': 'Moreby, Emma'}, {'literal': 'Phanopoulos, Andreas'}, {'literal': 'Williams, Charlotte K.'}], 'issued': {'date-parts': [[2020]]}, 'abstract': 'Related Article: Arron C. Deacy, Emma Moreby, Andreas Phanopoulos, Charlotte K. Williams|2020|J.Am.Chem.Soc.|142|19150|doi:10.1021/jacs.0c07980', 'DOI': '10.5517/CCDC.CSD.CC25RJYF', 'publisher': 'Cambridge Crystallographic Data Centre', 'title': 'CCDC 2018625: Experimental Crystal Structure Determination', 'URL': 'http://www.ccdc.cam.ac.uk/services/structure_request?id=doi:10.5517/ccdc.csd.cc25rjyf&sid=DataCite'}}\n",
      "Article Link: https://doi.org/10.1039/d0cy01484b\n",
      "Search for: Data Name: CCDC 2018635: Experimental Crystal Structure Determination data link: https://doi.org/10.5517/ccdc.csd.cc25rk8s\n",
      "trying to recover object metadata from https://doi.org/10.5517/ccdc.csd.cc25rk8s\n",
      "got something back\n",
      "resource url https://data.crosscite.org/10.5517%2Fccdc.csd.cc25rk8s\n",
      "{'resource_url': 'https://data.crosscite.org/10.5517%2Fccdc.csd.cc25rk8s', 'type': 'application/vnd.citationstyles.csl+json; charset=utf-8', 'metadata': {'type': 'dataset', 'id': 'https://doi.org/10.5517/ccdc.csd.cc25rk8s', 'categories': ['Crystal Structure', 'Experimental 3D Coordinates', 'Crystal System', 'Space Group', 'Cell Parameters', 'Crystallography', \"(2-methylpropan-2-olato)-{2,2'-[propane-1,3-diylbis(P,P-diphenylphosphorimidoyl)]bis(4,6-di-t-butylphenolato)}-indium hexane unknown solvate\"], 'language': 'en', 'author': [{'literal': 'Yuntawattana, Nattawut'}, {'literal': 'McGuire, Thomas M.'}, {'literal': 'Durr, Christopher B.'}, {'literal': 'Buchard, Antoine'}, {'literal': 'Williams, Charlotte K.'}], 'issued': {'date-parts': [[2020]]}, 'abstract': 'Related Article: Nattawut Yuntawattana, Thomas M. McGuire, Christopher B. Durr, Antoine Buchard, Charlotte K. Williams|2020|Cat.Sci.Tech.|10|7226|doi:10.1039/D0CY01484B', 'DOI': '10.5517/CCDC.CSD.CC25RK8S', 'publisher': 'Cambridge Crystallographic Data Centre', 'title': 'CCDC 2018635: Experimental Crystal Structure Determination', 'URL': 'http://www.ccdc.cam.ac.uk/services/structure_request?id=doi:10.5517/ccdc.csd.cc25rk8s&sid=DataCite'}}\n",
      "Article Link: https://doi.org/10.1039/d0cy01484b\n",
      "Search for: Data Name: CCDC 2018636: Experimental Crystal Structure Determination data link: https://doi.org/10.5517/ccdc.csd.cc25rk9t\n",
      "trying to recover object metadata from https://doi.org/10.5517/ccdc.csd.cc25rk9t\n"
     ]
    },
    {
     "name": "stdout",
     "output_type": "stream",
     "text": [
      "got something back\n",
      "resource url https://data.crosscite.org/10.5517%2Fccdc.csd.cc25rk9t\n",
      "{'resource_url': 'https://data.crosscite.org/10.5517%2Fccdc.csd.cc25rk9t', 'type': 'application/vnd.citationstyles.csl+json; charset=utf-8', 'metadata': {'type': 'dataset', 'id': 'https://doi.org/10.5517/ccdc.csd.cc25rk9t', 'categories': ['Crystal Structure', 'Experimental 3D Coordinates', 'Crystal System', 'Space Group', 'Cell Parameters', 'Crystallography', \"{2,2'-[(2,2-dimethylpropane-1,3-diyl)bis(P,P-diphenylphosphorimidoyl)]bis(4,6-di-t-butylphenolato)}-(2-methylpropan-2-olato)-indium tetrahydrofuran solvate\"], 'language': 'en', 'author': [{'literal': 'Yuntawattana, Nattawut'}, {'literal': 'McGuire, Thomas M.'}, {'literal': 'Durr, Christopher B.'}, {'literal': 'Buchard, Antoine'}, {'literal': 'Williams, Charlotte K.'}], 'issued': {'date-parts': [[2020]]}, 'abstract': 'Related Article: Nattawut Yuntawattana, Thomas M. McGuire, Christopher B. Durr, Antoine Buchard, Charlotte K. Williams|2020|Cat.Sci.Tech.|10|7226|doi:10.1039/D0CY01484B', 'DOI': '10.5517/CCDC.CSD.CC25RK9T', 'publisher': 'Cambridge Crystallographic Data Centre', 'title': 'CCDC 2018636: Experimental Crystal Structure Determination', 'URL': 'http://www.ccdc.cam.ac.uk/services/structure_request?id=doi:10.5517/ccdc.csd.cc25rk9t&sid=DataCite'}}\n",
      "Article Link: https://doi.org/10.1039/d0cy01484b\n",
      "Search for: Data Name: CCDC 2018637: Experimental Crystal Structure Determination data link: https://doi.org/10.5517/ccdc.csd.cc25rkbv\n",
      "trying to recover object metadata from https://doi.org/10.5517/ccdc.csd.cc25rkbv\n",
      "got something back\n",
      "resource url https://data.crosscite.org/10.5517%2Fccdc.csd.cc25rkbv\n",
      "{'resource_url': 'https://data.crosscite.org/10.5517%2Fccdc.csd.cc25rkbv', 'type': 'application/vnd.citationstyles.csl+json; charset=utf-8', 'metadata': {'type': 'dataset', 'id': 'https://doi.org/10.5517/ccdc.csd.cc25rkbv', 'categories': ['Crystal Structure', 'Experimental 3D Coordinates', 'Crystal System', 'Space Group', 'Cell Parameters', 'Crystallography', \"{2,2'-[ethane-1,2-diylbis(P-t-butyl-P-phenylphosphorimidoyl)]bis(4,6-di-t-butylphenolato)}-(2-methylpropan-2-olato)-indium hexane solvate\"], 'language': 'en', 'author': [{'literal': 'Yuntawattana, Nattawut'}, {'literal': 'McGuire, Thomas M.'}, {'literal': 'Durr, Christopher B.'}, {'literal': 'Buchard, Antoine'}, {'literal': 'Williams, Charlotte K.'}], 'issued': {'date-parts': [[2020]]}, 'abstract': 'Related Article: Nattawut Yuntawattana, Thomas M. McGuire, Christopher B. Durr, Antoine Buchard, Charlotte K. Williams|2020|Cat.Sci.Tech.|10|7226|doi:10.1039/D0CY01484B', 'DOI': '10.5517/CCDC.CSD.CC25RKBV', 'publisher': 'Cambridge Crystallographic Data Centre', 'title': 'CCDC 2018637: Experimental Crystal Structure Determination', 'URL': 'http://www.ccdc.cam.ac.uk/services/structure_request?id=doi:10.5517/ccdc.csd.cc25rkbv&sid=DataCite'}}\n",
      "Article Link: https://doi.org/10.1039/d0cy01484b\n",
      "Search for: Data Name: CCDC 2018638: Experimental Crystal Structure Determination data link: https://doi.org/10.5517/ccdc.csd.cc25rkcw\n",
      "trying to recover object metadata from https://doi.org/10.5517/ccdc.csd.cc25rkcw\n",
      "got something back\n",
      "resource url https://data.crosscite.org/10.5517%2Fccdc.csd.cc25rkcw\n",
      "{'resource_url': 'https://data.crosscite.org/10.5517%2Fccdc.csd.cc25rkcw', 'type': 'application/vnd.citationstyles.csl+json; charset=utf-8', 'metadata': {'type': 'dataset', 'id': 'https://doi.org/10.5517/ccdc.csd.cc25rkcw', 'categories': ['Crystal Structure', 'Experimental 3D Coordinates', 'Crystal System', 'Space Group', 'Cell Parameters', 'Crystallography', \"[1-t-butoxy-1-oxopropan-2-olato]-{2,2'-[ethane-1,2-diylbis(P-t-butyl-P-phenylphosphorimidoyl)]bis(4,6-di-t-butylphenolato)}-indium unknown solvate\"], 'language': 'en', 'author': [{'literal': 'Yuntawattana, Nattawut'}, {'literal': 'McGuire, Thomas M.'}, {'literal': 'Durr, Christopher B.'}, {'literal': 'Buchard, Antoine'}, {'literal': 'Williams, Charlotte K.'}], 'issued': {'date-parts': [[2020]]}, 'abstract': 'Related Article: Nattawut Yuntawattana, Thomas M. McGuire, Christopher B. Durr, Antoine Buchard, Charlotte K. Williams|2020|Cat.Sci.Tech.|10|7226|doi:10.1039/D0CY01484B', 'DOI': '10.5517/CCDC.CSD.CC25RKCW', 'publisher': 'Cambridge Crystallographic Data Centre', 'title': 'CCDC 2018638: Experimental Crystal Structure Determination', 'URL': 'http://www.ccdc.cam.ac.uk/services/structure_request?id=doi:10.5517/ccdc.csd.cc25rkcw&sid=DataCite'}}\n",
      "Article Link: https://doi.org/10.1039/d0cy01484b\n",
      "Search for: Data Name: CCDC 2018639: Experimental Crystal Structure Determination data link: https://doi.org/10.5517/ccdc.csd.cc25rkdx\n",
      "trying to recover object metadata from https://doi.org/10.5517/ccdc.csd.cc25rkdx\n",
      "got something back\n",
      "resource url https://data.crosscite.org/10.5517%2Fccdc.csd.cc25rkdx\n",
      "{'resource_url': 'https://data.crosscite.org/10.5517%2Fccdc.csd.cc25rkdx', 'type': 'application/vnd.citationstyles.csl+json; charset=utf-8', 'metadata': {'type': 'dataset', 'id': 'https://doi.org/10.5517/ccdc.csd.cc25rkdx', 'categories': ['Crystal Structure', 'Experimental 3D Coordinates', 'Crystal System', 'Space Group', 'Cell Parameters', 'Crystallography', \"{2,2'-[ethane-1,2-diylbis(P-t-butyl-P-phenylphosphorimidoyl)]bis(4,6-di-t-butylphenolato)}-(ethanolato)-indium unknown solvate\"], 'language': 'en', 'author': [{'literal': 'Yuntawattana, Nattawut'}, {'literal': 'McGuire, Thomas M.'}, {'literal': 'Durr, Christopher B.'}, {'literal': 'Buchard, Antoine'}, {'literal': 'Williams, Charlotte K.'}], 'issued': {'date-parts': [[2020]]}, 'abstract': 'Related Article: Nattawut Yuntawattana, Thomas M. McGuire, Christopher B. Durr, Antoine Buchard, Charlotte K. Williams|2020|Cat.Sci.Tech.|10|7226|doi:10.1039/D0CY01484B', 'DOI': '10.5517/CCDC.CSD.CC25RKDX', 'publisher': 'Cambridge Crystallographic Data Centre', 'title': 'CCDC 2018639: Experimental Crystal Structure Determination', 'URL': 'http://www.ccdc.cam.ac.uk/services/structure_request?id=doi:10.5517/ccdc.csd.cc25rkdx&sid=DataCite'}}\n",
      "Article Link: https://doi.org/10.1039/d0cy01484b\n",
      "Search for: Data Name: CCDC 2018640: Experimental Crystal Structure Determination data link: https://doi.org/10.5517/ccdc.csd.cc25rkfy\n",
      "trying to recover object metadata from https://doi.org/10.5517/ccdc.csd.cc25rkfy\n",
      "got something back\n",
      "resource url https://data.crosscite.org/10.5517%2Fccdc.csd.cc25rkfy\n",
      "{'resource_url': 'https://data.crosscite.org/10.5517%2Fccdc.csd.cc25rkfy', 'type': 'application/vnd.citationstyles.csl+json; charset=utf-8', 'metadata': {'type': 'dataset', 'id': 'https://doi.org/10.5517/ccdc.csd.cc25rkfy', 'categories': ['Crystal Structure', 'Experimental 3D Coordinates', 'Crystal System', 'Space Group', 'Cell Parameters', 'Crystallography', \"2,2'-(2,2,9,9-tetramethyl-3,8-diphenyl-4lambda5,7lambda5-diaza-3lambda5,8lambda5-diphosphadeca-3,7-diene-3,8-diyl)bis(4,6-di-t-butylphenol) unknown solvate\"], 'language': 'en', 'author': [{'literal': 'Yuntawattana, Nattawut'}, {'literal': 'McGuire, Thomas M.'}, {'literal': 'Durr, Christopher B.'}, {'literal': 'Buchard, Antoine'}, {'literal': 'Williams, Charlotte K.'}], 'issued': {'date-parts': [[2020]]}, 'abstract': 'Related Article: Nattawut Yuntawattana, Thomas M. McGuire, Christopher B. Durr, Antoine Buchard, Charlotte K. Williams|2020|Cat.Sci.Tech.|10|7226|doi:10.1039/D0CY01484B', 'DOI': '10.5517/CCDC.CSD.CC25RKFY', 'publisher': 'Cambridge Crystallographic Data Centre', 'title': 'CCDC 2018640: Experimental Crystal Structure Determination', 'URL': 'http://www.ccdc.cam.ac.uk/services/structure_request?id=doi:10.5517/ccdc.csd.cc25rkfy&sid=DataCite'}}\n",
      "Article Link: https://doi.org/10.1002/chem.202101140\n",
      "Search for: Data Name: CCDC 2073147: Experimental Crystal Structure Determination data link: https://doi.org/10.5517/ccdc.csd.cc27l8qv\n",
      "trying to recover object metadata from https://doi.org/10.5517/ccdc.csd.cc27l8qv\n",
      "got something back\n",
      "resource url https://data.crosscite.org/10.5517%2Fccdc.csd.cc27l8qv\n",
      "{'resource_url': 'https://data.crosscite.org/10.5517%2Fccdc.csd.cc27l8qv', 'type': 'application/vnd.citationstyles.csl+json; charset=utf-8', 'metadata': {'type': 'dataset', 'id': 'https://doi.org/10.5517/ccdc.csd.cc27l8qv', 'categories': ['Crystal Structure', 'Experimental 3D Coordinates', 'Crystal System', 'Space Group', 'Cell Parameters', 'Crystallography', '(mu-5,5-dimethyl-14,17,20,23-tetraoxa-3,7-diazatricyclo[22.3.1.19,13]nonacosa-1(28),2,7,9(29),10,12,24,26-octaene-28,29-diolato)-acetato-ethanol-sodium-zinc(ii)'], 'language': 'en', 'author': [{'literal': 'Lindeboom, Wouter'}, {'literal': 'Fraser, Duncan A. X.'}, {'literal': 'Durr, Christopher B.'}, {'literal': 'Williams, Charlotte K.'}], 'issued': {'date-parts': [[2021]]}, 'abstract': 'Related Article: Wouter Lindeboom, Duncan A. X. Fraser, Christopher B. Durr, Charlotte K. Williams|2021|Chem.-Eur.J.|27|12224|doi:10.1002/chem.202101140', 'DOI': '10.5517/CCDC.CSD.CC27L8QV', 'publisher': 'Cambridge Crystallographic Data Centre', 'title': 'CCDC 2073147: Experimental Crystal Structure Determination', 'URL': 'http://www.ccdc.cam.ac.uk/services/structure_request?id=doi:10.5517/ccdc.csd.cc27l8qv&sid=DataCite'}}\n",
      "Article Link: https://doi.org/10.1002/chem.202101140\n",
      "Search for: Data Name: CCDC 2073150: Experimental Crystal Structure Determination data link: https://doi.org/10.5517/ccdc.csd.cc27l8ty\n",
      "trying to recover object metadata from https://doi.org/10.5517/ccdc.csd.cc27l8ty\n"
     ]
    },
    {
     "name": "stdout",
     "output_type": "stream",
     "text": [
      "got something back\n",
      "resource url https://data.crosscite.org/10.5517%2Fccdc.csd.cc27l8ty\n",
      "{'resource_url': 'https://data.crosscite.org/10.5517%2Fccdc.csd.cc27l8ty', 'type': 'application/vnd.citationstyles.csl+json; charset=utf-8', 'metadata': {'type': 'dataset', 'id': 'https://doi.org/10.5517/ccdc.csd.cc27l8ty', 'categories': ['Crystal Structure', 'Experimental 3D Coordinates', 'Crystal System', 'Space Group', 'Cell Parameters', 'Crystallography', 'catena-[(mu-5,5-dimethyl-14,17,20,23-tetraoxa-3,7-diazatricyclo[22.3.1.19,13]nonacosa-1(28),9(29),10,12,24,26-hexaene-28,29-diolato)-(mu-acetato)-sodium-zinc(ii) acetone solvate]'], 'language': 'en', 'author': [{'literal': 'Lindeboom, Wouter'}, {'literal': 'Fraser, Duncan A. X.'}, {'literal': 'Durr, Christopher B.'}, {'literal': 'Williams, Charlotte K.'}], 'issued': {'date-parts': [[2021]]}, 'abstract': 'Related Article: Wouter Lindeboom, Duncan A. X. Fraser, Christopher B. Durr, Charlotte K. Williams|2021|Chem.-Eur.J.|27|12224|doi:10.1002/chem.202101140', 'DOI': '10.5517/CCDC.CSD.CC27L8TY', 'publisher': 'Cambridge Crystallographic Data Centre', 'title': 'CCDC 2073150: Experimental Crystal Structure Determination', 'URL': 'http://www.ccdc.cam.ac.uk/services/structure_request?id=doi:10.5517/ccdc.csd.cc27l8ty&sid=DataCite'}}\n",
      "Article Link: https://doi.org/10.1098/rsta.2020.0058\n",
      "Search for: Data Name: Supplementary information final from Methanol photo-reforming with water on pure titania for hydrogen production data link: https://doi.org/10.6084/m9.figshare.12376925.v1\n",
      "trying to recover object metadata from https://doi.org/10.6084/m9.figshare.12376925.v1\n",
      "got something back\n",
      "resource url https://data.crosscite.org/10.6084%2Fm9.figshare.12376925.v1\n",
      "{'resource_url': 'https://data.crosscite.org/10.6084%2Fm9.figshare.12376925.v1', 'type': 'application/vnd.citationstyles.csl+json; charset=utf-8', 'metadata': {'type': 'article-journal', 'id': 'https://doi.org/10.6084/m9.figshare.12376925.v1', 'categories': ['30699 Physical Chemistry not elsewhere classified', 'FOS: Chemical sciences', 'FOS: Chemical sciences', '100799 Nanotechnology not elsewhere classified', 'FOS: Nanotechnology', 'FOS: Nanotechnology'], 'author': [{'literal': 'M. Bowker'}, {'literal': 'W. Jones'}], 'issued': {'date-parts': [[2020]]}, 'abstract': 'Methanol photo-reforming with water on pure titania for hydrogen production', 'container-title': 'The Royal Society', 'DOI': '10.6084/M9.FIGSHARE.12376925.V1', 'publisher': 'The Royal Society', 'title': 'Supplementary information final from Methanol photo-reforming with water on pure titania for hydrogen production', 'URL': 'https://rs.figshare.com/articles/Supplementary_information_final_from_Methanol_photo-reforming_with_water_on_pure_titania_for_hydrogen_production/12376925/1', 'copyright': 'Creative Commons Attribution 4.0 International'}}\n",
      "Article Link: https://doi.org/10.1098/rsta.2020.0058\n",
      "Search for: Data Name: Supplementary material from \"Methanol photo-reforming with water on pure titania for hydrogen production\" data link: https://doi.org/10.6084/m9.figshare.c.4994573\n",
      "trying to recover object metadata from https://doi.org/10.6084/m9.figshare.c.4994573\n",
      "got something back\n",
      "resource url https://data.crosscite.org/10.6084%2Fm9.figshare.c.4994573\n",
      "{'resource_url': 'https://data.crosscite.org/10.6084%2Fm9.figshare.c.4994573', 'type': 'application/vnd.citationstyles.csl+json; charset=utf-8', 'metadata': {'type': 'article', 'id': 'https://doi.org/10.6084/m9.figshare.c.4994573', 'categories': ['30699 Physical Chemistry not elsewhere classified', 'FOS: Chemical sciences', '100799 Nanotechnology not elsewhere classified', 'FOS: Nanotechnology'], 'author': [{'literal': 'M. Bowker'}, {'literal': 'W. Jones'}], 'issued': {'date-parts': [[2020]]}, 'abstract': \"The behaviour of titania for the photo-reforming of methanol with water at ambient temperature has been examined. It is shown that the reactivity is very poor, compared with metal-loaded catalysts at low methanol levels in solution, but the rate becomes much higher at high methanol levels, such that the difference from metal-loaded samples is much less. The optimum yield is with approximately a 1 : 1 methanol/water solution. The reaction also proceeds well in the gas phase. During all such catalysis, the titania becomes blue, due to light absorption increasing across the range 400–800 nm. However, this does not result in visible range activity for the photo-reforming and is due to the reduction of the material in the presence of light and the formation of anion vacancies and Ti<sup>3+</sup> centres. These anion vacancies are only very slowly re-oxidized in air on P25 titania, taking days to recover the original whiteness of the oxide. The performance of anatase, rutile and the mixed phase is compared.This article is part of the discussion meeting issue ‘Science to Enable the Circular Economy'.\", 'DOI': '10.6084/M9.FIGSHARE.C.4994573', 'publisher': 'The Royal Society', 'title': 'Supplementary material from \"Methanol photo-reforming with water on pure titania for hydrogen production\"', 'URL': 'https://rs.figshare.com/collections/Supplementary_material_from_Methanol_photo-reforming_with_water_on_pure_titania_for_hydrogen_production_/4994573', 'copyright': 'CC BY 4.0'}}\n"
     ]
    }
   ],
   "source": [
    "# get names and links for data object references\n",
    "data_reference, _ = csvh.get_csv_data(do_refs, 'num')\n",
    "for dr in tqdm_notebook(data_reference):\n",
    "    # if data objects has not been recovered before\n",
    "    if data_reference[dr]['a_score'] == \"\":\n",
    "        # try to get data object from reference\n",
    "        print(\"Article Link: https://doi.org/\" + data_reference[dr]['doi'])\n",
    "        ref_name = data_reference[dr]['name']\n",
    "        ref_link = data_reference[dr]['data_url']\n",
    "        if data_reference[dr]['correct_url'] != \"\":\n",
    "            ref_link = data_reference[dr]['correct_url']\n",
    "        print(\"Search for: Data Name:\", ref_name, \"data link:\", ref_link)\n",
    "        \n",
    "        if 'doi.org' in ref_link.lower():\n",
    "            data_object = urlh.getObjectMetadata(ref_link)\n",
    "            print(data_object)\n",
    "            if data_object != {}:\n",
    "                data_reference[dr]['got_object'] = True \n",
    "                data_reference[dr]['do_id'] = data_object['resource_url'] # assume url is the identifier for object\n",
    "                data_reference[dr]['do_type'] = data_object['type'] # should match type in ref_content\n",
    "                data_reference[dr]['do_metadata'] = data_object['metadata'] \n",
    "        else:\n",
    "            data_object = urlh.getObject(ref_link)\n",
    "            if data_object != {}:\n",
    "                data_reference[dr]['got_object'] = True \n",
    "                data_reference[dr]['do_id'] = data_object['resource_url'] # assume url is the identifier for object\n",
    "                data_reference[dr]['do_type'] = data_object['type'] # should match type in ref_content\n",
    "                if 'size' in data_object.keys():\n",
    "                    data_reference[dr]['do_size'] = data_object['size'] # should match size in ref_size\n",
    "                data_reference[dr]['do_file'] = data_object['file_name'] \n",
    "            else:\n",
    "                # score is 0 if the data cannot be downloaded\n",
    "                data_reference[dr]['a_score'] = 0\n",
    "    if data_reference[dr]['a_score'] != 0:\n",
    "        data_reference[dr]['a_score'] = 5\n",
    "        # type of object is diferent from availability check\n",
    "        if 'do_type' in data_reference[dr].keys() and data_reference[dr]['do_type'] != data_reference[dr]['ref_content']:\n",
    "            data_reference[dr]['a_score'] -= 1\n",
    "        # size of object is diferent from availability check\n",
    "        if 'do_size' in data_reference[dr].keys() and data_reference[dr]['do_size'] != data_reference[dr]['ref_size']:\n",
    "            data_reference[dr]['a_score'] -= 1\n",
    "        # the file should exist and contain data of the specified type\n",
    "        if 'file_name' in data_reference[dr].keys() and not Path(data_object['file_name']).is_file():\n",
    "           data_reference[dr]['a_score'] = 0\n"
   ]
  },
  {
   "cell_type": "code",
   "execution_count": 5,
   "metadata": {},
   "outputs": [],
   "source": [
    "if len(data_reference) > 0:\n",
    "    csvh.write_csv_data(data_reference, do_refs)\n",
    "    "
   ]
  },
  {
   "cell_type": "markdown",
   "metadata": {},
   "source": [
    "## Interoperable\n",
    "Access to a resource does not guarantee interoperability, it is interoperable if the data is stored in a format which makes it easy to interpret by humans and machines. So an object in an open format is more interoperable that an object in a proprietary format.\n",
    "\n",
    "### Interoperability score\n",
    "The interoperability score is defined along the lines of [5 Star Open Data](https://5stardata.info/en/), using the three first levels.  The definition is relaxed ommiting the request to publish with an open license for intereoperability (it is used below for reusability). The scoring maximum is 3, and it is assigned as follows:\n",
    "\n",
    "- 1 if the data object is available on the Web (whatever format). \n",
    "- 2 if the data object is available as structured data (e.g., Excel instead of image scan of a table)\n",
    "- 3 make it available in a non-proprietary open format (e.g., CSV instead of Excel)"
   ]
  },
  {
   "cell_type": "code",
   "execution_count": 6,
   "metadata": {},
   "outputs": [
    {
     "name": "stderr",
     "output_type": "stream",
     "text": [
      "<ipython-input-6-76755ae7bd54>:7: TqdmDeprecationWarning: This function will be removed in tqdm==5.0.0\n",
      "Please use `tqdm.notebook.tqdm` instead of `tqdm.tqdm_notebook`\n",
      "  for dr in tqdm_notebook(data_reference):\n"
     ]
    },
    {
     "data": {
      "application/vnd.jupyter.widget-view+json": {
       "model_id": "9bf99d6549944926a464f3f1894fb3c4",
       "version_major": 2,
       "version_minor": 0
      },
      "text/plain": [
       "  0%|          | 0/151 [00:00<?, ?it/s]"
      ]
     },
     "metadata": {},
     "output_type": "display_data"
    }
   ],
   "source": [
    "# get names and links for data object references\n",
    "data_reference, _ = csvh.get_csv_data(do_refs, 'num')\n",
    "# check if files actually exist, and then assess if they are of type 1, 2, or 3\n",
    "level_1_types = ['.doc','.pdf','.tif','.jpg', '.docx', '.ppt', '.pptx', '.mp4', '.mpg', '.htm', '.html', '.zip','.avi']\n",
    "level_2_types = ['xls','xlsx']\n",
    "level_3_types = ['csv','cif']\n",
    "for dr in tqdm_notebook(data_reference):\n",
    "    do_file_name = data_reference[dr]['do_file']\n",
    "    if do_file_name!= \"\" and  not Path(do_file_name).is_file():\n",
    "        data_reference[dr]['file_missing'] = 'TRUE'\n",
    "    elif do_file_name!= \"\":\n",
    "        data_reference[dr]['file_missing'] = 'FALSE'\n",
    "        data_reference[dr]['file_size'] = Path(do_file_name).stat().st_size\n",
    "    for lv1_type in level_1_types:\n",
    "        if lv1_type in do_file_name:\n",
    "            data_reference[dr]['i_score'] = 1\n",
    "    for lv2_type in level_2_types:\n",
    "        if lv2_type in do_file_name:\n",
    "            data_reference[dr]['i_score'] = 2\n",
    "    for lv3_type in level_3_types:\n",
    "        if lv3_type in do_file_name:\n",
    "            data_reference[dr]['i_score'] = 3\n",
    "\n",
    "            "
   ]
  },
  {
   "cell_type": "code",
   "execution_count": 7,
   "metadata": {},
   "outputs": [],
   "source": [
    "if len(data_reference) > 0:\n",
    "    csvh.write_csv_data(data_reference, do_refs)"
   ]
  },
  {
   "cell_type": "markdown",
   "metadata": {},
   "source": [
    "## Reusable\n",
    "Finding, retrieving and interpreting an object is not all ther is. For the resource to be reusable it needs to be a) licensed for use and b) in an appropriate format to guarantee long term support (closely related to the criteria for interoperability).\n",
    "\n",
    "### Reusability score\n",
    "The interoperability score is also based on the [5 Star Open Data](https://5stardata.info/en/) levels, using the requirement for open licenses and the requirements for using identifiers and links to other data. In this case the scoring adds up to 3 ponts, to obtain the score a point is added for each of the following cases:\n",
    "- 1 if the data object is available on an open license.\n",
    "- 1 use identifiers(URI, DOI) to denote things, so that people can point at it.\n",
    "- 1 the data object is linked  to other data to provide context.\n"
   ]
  },
  {
   "cell_type": "code",
   "execution_count": 8,
   "metadata": {
    "scrolled": false
   },
   "outputs": [
    {
     "name": "stderr",
     "output_type": "stream",
     "text": [
      "<ipython-input-8-257b4f44616c>:47: TqdmDeprecationWarning: This function will be removed in tqdm==5.0.0\n",
      "Please use `tqdm.notebook.tqdm` instead of `tqdm.tqdm_notebook`\n",
      "  for dr in tqdm_notebook(data_reference):\n"
     ]
    },
    {
     "data": {
      "application/vnd.jupyter.widget-view+json": {
       "model_id": "e635dfe5b15140f282b8226129739d66",
       "version_major": 2,
       "version_minor": 0
      },
      "text/plain": [
       "  0%|          | 0/151 [00:00<?, ?it/s]"
      ]
     },
     "metadata": {},
     "output_type": "display_data"
    },
    {
     "name": "stdout",
     "output_type": "stream",
     "text": [
      "assing same license as publication\n",
      "trying to recover object metadata from https://doi.org/10.1039/d0cp00793e\n",
      "got something back\n",
      "resource url https://api.crossref.org/v1/works/10.1039%2Fd0cp00793e/transform\n",
      "this one is not linked\n",
      "the link does not work\n",
      "assing same license as publication\n",
      "trying to recover object metadata from https://doi.org/10.1021/jacs.0c07980\n",
      "got something back\n",
      "resource url https://api.crossref.org/v1/works/10.1021%2Fjacs.0c07980/transform\n",
      "this one is not linked\n",
      "the link does not work\n",
      "assing same license as publication\n",
      "trying to recover object metadata from https://doi.org/10.1021/jacs.0c07980\n",
      "got something back\n",
      "resource url https://api.crossref.org/v1/works/10.1021%2Fjacs.0c07980/transform\n",
      "this one is not linked\n",
      "the link does not work\n",
      "assing same license as publication\n",
      "trying to recover object metadata from https://doi.org/10.1021/jacs.0c07980\n",
      "got something back\n",
      "resource url https://api.crossref.org/v1/works/10.1021%2Fjacs.0c07980/transform\n",
      "this one is not linked\n",
      "the link does not work\n",
      "assing same license as publication\n",
      "trying to recover object metadata from https://doi.org/10.1039/d0cy01484b\n",
      "got something back\n",
      "resource url https://api.crossref.org/v1/works/10.1039%2Fd0cy01484b/transform\n",
      "this one is not linked\n",
      "the link does not work\n",
      "assing same license as publication\n",
      "trying to recover object metadata from https://doi.org/10.1039/d0cy01484b\n",
      "got something back\n",
      "resource url https://api.crossref.org/v1/works/10.1039%2Fd0cy01484b/transform\n",
      "this one is not linked\n",
      "the link does not work\n",
      "assing same license as publication\n",
      "trying to recover object metadata from https://doi.org/10.1039/d0cy01484b\n",
      "got something back\n",
      "resource url https://api.crossref.org/v1/works/10.1039%2Fd0cy01484b/transform\n",
      "this one is not linked\n",
      "the link does not work\n",
      "assing same license as publication\n",
      "trying to recover object metadata from https://doi.org/10.1039/d0cy01484b\n",
      "got something back\n",
      "resource url https://api.crossref.org/v1/works/10.1039%2Fd0cy01484b/transform\n",
      "this one is not linked\n",
      "the link does not work\n",
      "assing same license as publication\n",
      "trying to recover object metadata from https://doi.org/10.1039/d0cy01484b\n",
      "got something back\n",
      "resource url https://api.crossref.org/v1/works/10.1039%2Fd0cy01484b/transform\n",
      "this one is not linked\n",
      "the link does not work\n",
      "assing same license as publication\n",
      "trying to recover object metadata from https://doi.org/10.1039/d0cy01484b\n",
      "got something back\n",
      "resource url https://api.crossref.org/v1/works/10.1039%2Fd0cy01484b/transform\n",
      "this one is not linked\n",
      "the link does not work\n",
      "assing same license as publication\n",
      "trying to recover object metadata from https://doi.org/10.1002/chem.202101140\n",
      "got something back\n",
      "resource url https://api.crossref.org/v1/works/10.1002%2Fchem.202101140/transform\n",
      "this one is not linked\n",
      "the link does not work\n",
      "assing same license as publication\n",
      "trying to recover object metadata from https://doi.org/10.1002/chem.202101140\n",
      "got something back\n",
      "resource url https://api.crossref.org/v1/works/10.1002%2Fchem.202101140/transform\n",
      "this one is not linked\n",
      "the link does not work\n",
      "assing same license as publication\n",
      "trying to recover object metadata from https://doi.org/10.1098/rsta.2020.0058\n",
      "got something back\n",
      "resource url https://api.crossref.org/v1/works/10.1098%2Frsta.2020.0058/transform\n",
      "https://royalsociety.org/-/media/journals/author/Licence-to-Publish-20062019-final.pdf\n",
      "Assing license type:\n",
      "\ta) Open\n",
      "\tb) Not Open\n",
      "\tSelect a or b:\n",
      "a\n",
      "https://royalsociety.org/journals/ethics-policies/data-sharing-mining/\n",
      "Assing license type:\n",
      "\ta) Open\n",
      "\tb) Not Open\n",
      "\tSelect a or b:\n",
      "a\n",
      "this one is not linked\n",
      "the link does not work\n",
      "assing same license as publication\n",
      "trying to recover object metadata from https://doi.org/10.1098/rsta.2020.0058\n",
      "got something back\n",
      "resource url https://api.crossref.org/v1/works/10.1098%2Frsta.2020.0058/transform\n",
      "this one is not linked\n",
      "the link does not work\n"
     ]
    }
   ],
   "source": [
    "data_reference, _ = csvh.get_csv_data(do_refs, 'num')\n",
    "# for doi marked data objects the information about license, identification\n",
    "# and linking can be obtained by looking at the DOI metadata\n",
    "# for supplementary data, we try to get the DOI metadata for the parent\n",
    "# publication and assing the same license to the DO.\n",
    "open_licenses = ['http://pubs.acs.org/page/policy/authorchoice_ccby_termsofuse.html',\n",
    "                 'http://creativecommons.org/licenses/by/3.0/',\n",
    "                 'http://creativecommons.org/licenses/by/4.0',\n",
    "                 'https://creativecommons.org/licenses/by/4.0',\n",
    "                 'http://creativecommons.org/licenses/by/4.0/',\n",
    "                 'http://creativecommons.org/licenses/by-nc/3.0/',\n",
    "                 'http://doi.wiley.com/10.1002/tdm_license_1',\n",
    "                 'https://creativecommons.org/licenses/by/4.0/']\n",
    "\n",
    "not_open_licenses = ['http://www.springer.com/tdm',\n",
    "                     'http://onlinelibrary.wiley.com/termsAndConditions#vor',\n",
    "                     'http://doi.wiley.com/10.1002/tdm_license_1.1',\n",
    "                     'http://rsc.li/journals-terms-of-use',\n",
    "                     'http://pubs.acs.org/page/policy/authorchoice_termsofuse.html',\n",
    "                     'http://onlinelibrary.wiley.com/termsAndConditions',\n",
    "                     'https://www.elsevier.com/tdm/userlicense/1.0/',\n",
    "                     'http://www.sciencemag.org/about/science-licenses-journal-article-reuse']\n",
    "\n",
    "def license_is_open(a_license):\n",
    "    is_open = False\n",
    "    if not a_license in open_licenses and not a_license in not_open_licenses:\n",
    "        assigned_lt = False\n",
    "        while not assigned_lt:\n",
    "            print(a_license)\n",
    "            print('Assing license type:')\n",
    "            print('\\ta) Open')\n",
    "            print('\\tb) Not Open')\n",
    "            print('\\tSelect a or b:')\n",
    "            lts = input()\n",
    "            if lts == \"a\":\n",
    "                open_licenses.append(a_license)\n",
    "                assigned_lt = True\n",
    "            elif lts == \"b\":\n",
    "                not_open_licenses.append(a_license)\n",
    "                assigned_lt = True\n",
    "    if a_license in open_licenses:\n",
    "        is_open = True\n",
    "    else:\n",
    "        is_open = False\n",
    "    return is_open\n",
    "    \n",
    "for dr in tqdm_notebook(data_reference):\n",
    "    do_file_name = data_reference[dr]['do_file']\n",
    "    if data_reference[dr]['r_score'] == \"\":\n",
    "        data_reference[dr]['r_score'] = 0\n",
    "        if data_reference[dr]['license'] != \"\":\n",
    "            #print(data_reference[dr])\n",
    "            data_reference[dr]['r_score'] += 1\n",
    "        else:\n",
    "            print(\"assing same license as publication\")\n",
    "            # Use publication DOI metadata copyright field\n",
    "            doi_link = \"https://doi.org/\" + data_reference[dr]['doi']\n",
    "            data_object = urlh.getObjectMetadata(doi_link)\n",
    "            #print(data_object)\n",
    "            if data_object != {}:\n",
    "                #print(data_object['resource_url'], data_object['type'], data_object['metadata'])\n",
    "                if 'license' in data_object['metadata']:\n",
    "                    #print(str(type(data_object['metadata']['license'])))\n",
    "                    if isinstance(data_object['metadata']['license'], list):\n",
    "                        for license_item in data_object['metadata']['license']:\n",
    "                            this_license = license_item['URL']\n",
    "                            if license_is_open(this_license):\n",
    "                                data_reference[dr]['r_score'] += 1\n",
    "                            if data_reference[dr]['license'] == \"\":\n",
    "                                data_reference[dr]['license'] = this_license\n",
    "                            else:\n",
    "                                data_reference[dr]['license'] += \", \" + this_license\n",
    "                    else: \n",
    "                        this_license = data_object['metadata']['license']['URL']\n",
    "                        if license_is_open(this_license):\n",
    "                            data_reference[dr]['r_score'] += 1\n",
    "                        data_reference[dr]['license']=this_license\n",
    "        # the resource is linked\n",
    "        # this is a very relaxed view equating identifier to any link!\n",
    "        if data_reference[dr]['user_mined']=='FALSE':\n",
    "           data_reference[dr]['r_score'] += 1\n",
    "        else:\n",
    "           print(\"this one is not linked\")\n",
    "        # the link works \n",
    "        if data_reference[dr]['user_mined']=='FALSE' and \\\n",
    "           data_reference[dr]['ret_code'] in ['200', '301','302','303']:\n",
    "            data_reference[dr]['r_score'] += 1\n",
    "        else:\n",
    "            print(\"the link does not work\")\n",
    "        #print(data_reference[dr])"
   ]
  },
  {
   "cell_type": "code",
   "execution_count": null,
   "metadata": {},
   "outputs": [],
   "source": [
    "if len(data_reference) > 0:\n",
    "    csvh.write_csv_data(data_reference, do_refs)"
   ]
  },
  {
   "cell_type": "code",
   "execution_count": null,
   "metadata": {},
   "outputs": [],
   "source": [
    "# get article pdf size\n",
    "data_reference, _ = csvh.get_csv_data(do_refs, 'num')\n",
    "for dr in tqdm_notebook(data_reference):\n",
    "    file_name = data_reference[dr]['file']\n",
    "    do_name = data_reference[dr]['name']\n",
    "    do_url = data_reference[dr]['data_url']\n",
    "    if file_name == do_name and 'ccdc' in do_url:\n",
    "        do_name = \"CCDC \"+ do_name[:-4] + \": Crystal Structure\"\n",
    "        data_reference[dr]['name'] = do_name\n",
    "    elif file_name == do_name and do_name[-3:].lower() == 'pdf':\n",
    "        print(file_name)\n",
    "    elif 'ccdc' in do_url:\n",
    "        print(data_reference[dr]['ref_redirect'])\n",
    "if len(data_reference) > 0:\n",
    "    csvh.write_csv_data(data_reference, do_refs)  \n",
    "\n",
    "dois_list = []\n",
    "for dr in tqdm_notebook(data_reference):\n",
    "    doi_id = data_reference[dr]['doi']\n",
    "    file_name = data_reference[dr]['file']\n",
    "    \n",
    "    if not doi_id in dois_list:\n",
    "        dois_list.append(doi_id)\n"
   ]
  },
  {
   "cell_type": "code",
   "execution_count": null,
   "metadata": {},
   "outputs": [],
   "source": [
    "len(dois_list)\n"
   ]
  },
  {
   "cell_type": "code",
   "execution_count": null,
   "metadata": {},
   "outputs": [],
   "source": [
    "print(dois_list)"
   ]
  },
  {
   "cell_type": "code",
   "execution_count": null,
   "metadata": {},
   "outputs": [],
   "source": [
    "files = ['aic.15095.pdf','aic.15415.pdf','aic.16687.pdf','ange.201703550.pdf','anie.201602930.pdf','anie.201609557.pdf','anie.201612370.pdf','anie.201705753.pdf','anie.201710091.pdf','ange.201713115.pdf','anie.201801400.pdf','cbic.201800606.pdf','cctc.201500545.pdf','cctc.201501260.pdf','cctc.201600729.pdf','cctc.201600775.pdf','cctc.201600925.pdf','cctc.201601603.pdf','cctc.201700516.pdf','cctc.201701840.pdf','cctc.201701946.pdf','cctc.201801067.pdf','cctc.201801299.pdf','cctc.201900100.pdf','cctc.201900658.pdf','cctc.201900795.pdf','cctc.201901166.pdf','cctc.201901268.pdf','cctc.201901955.pdf','celc.201800052.pdf','celc.201800478.pdf','celc.201800729.pdf','celc.201800770.pdf','chem.201605690.pdf','chem.201700496.pdf','chem.201701013.pdf','chem.201703567.pdf','chem.201704151.pdf','chem.201805250.pdf','chem.201901188.pdf','cphc.201600149.pdf','cplu.201500195.pdf','Adams_Metal_Oxide_Catalysts_for_Solar_Driven_Water_Splitting.pdf','cssc.201501225.pdf','cssc.201501264.pdf','ejoc.201601388.pdf','Smart anime donors.pdf','Bowker2015_Article_ThePhotocatalyticWindowPhoto-R.pdf','Hellier2018_Article_VOxFe2O3ShellCoreCatalystsForT.pdf','Celorrio2018_Article_AMnO3ASrLaCaYPerovskiteOxidesA.pdf','Decarolis2018_Article_EffectOfParticleSizeAndSupport.pdf','Greenaway2018_Article_OperandoSpectroscopicStudiesOf.pdf','s11244-018-0893-6.pdf','Locke2018_Article_CatalysisOfTheOxygenEvolutionR.pdf','Zachariou2020_Article_TheEffectOfCo-feedingMethylAce.pdf','1-s2.0-S0926860X17301485-main.pdf','1-s2.0-S0926860X18305817-main.pdf','1-s2.0-S0926337314006043-main.pdf','1-s2.0-S0926337315002192-main.pdf','1-s2.0-S0926337316310025-main.pdf','1-s2.0-S0926337318306167-main.pdf','1-s2.0-S0926337318307136-main.pdf','1-s2.0-S092633731930400X-main.pdf','1-s2.0-S0968089618313233-main.pdf','1-s2.0-S0008622316306182-main.pdf','1-s2.0-S0920586118316456-main.pdf','1-s2.0-S0009250915002857-main.pdf','1-s2.0-S0013468617312628-main.pdf','1-s2.0-S0013468618315172-main.pdf','1-s2.0-S2352152X18303815-main.pdf','1-s2.0-S0360319916304268-main.pdf','1-s2.0-S0360319916324387-main.pdf','1-s2.0-S0360319916303135-main.pdf','1-s2.0-S0021951714000876-main.pdf','1-s2.0-S0021951716001135-main.pdf','1-s2.0-S0021951718302124-main.pdf','1-s2.0-S0021951719301459-main.pdf','1-s2.0-S0959652616320212-main.pdf','1-s2.0-S1572665717306963-main.pdf','1-s2.0-S1572665718301826-main.pdf','1-s2.0-S1387181117307965-main.pdf','1-s2.0-S0039602816301509-main.pdf','1-s2.0-S0039602816301996-main.pdf','acs.biochem.8b00169.pdf','acs.chemmater.5b00866.pdf','acs.chemmater.7b02552.pdf','acs.iecr.8b00230.pdf','acs.iecr.9b04263.pdf','acs.inorgchem.5b02038.pdf','acs.inorgchem.5b02233.pdf','acs.jcim.8b00940.pdf','acs.jctc.6b01131.pdf','acs.jpcc.6b04781.pdf','acs.jpcc.6b11186.pdf','acs.jpcc.8b08420.pdf','acs.jpcc.9b05475.pdf','acs.macromol.5b00225.pdf','acs.macromol.5b01293.pdf','acs.nanolett.9b01733.pdf','acs.organomet.8b00063.pdf','acsaem.8b00873.pdf','acsami.6b02863.pdf','acscatal.0c00414.pdf','acscatal.0c00596.pdf','acscatal.5b00480.pdf','acscatal.5b00481.pdf','acscatal.5b00625.pdf','acscatal.5b00754.pdf','acscatal.5b01327.pdf','acscatal.5b01936.pdf','acscatal.6b00589.pdf','acscatal.6b00982.pdf','acscatal.6b02369.pdf','acscatal.6b03190.pdf','acscatal.6b03237.pdf','acscatal.6b03641.pdf','acscatal.7b03805.pdf','acscatal.8b00389.pdf','acscatal.8b01509.pdf','acscatal.8b02232.pdf','acscatal.8b03169.pdf','acscatal.8b04564.pdf','acscatal.9b00160.pdf','acscatal.9b00685.pdf','acscatal.9b01820(1).pdf','acscatal.9b05129.pdf','acsnano.8b09399.pdf','acsomega.9b03351.pdf','acsomega.9b03503.pdf','acssuschemeng.8b03568.pdf','cm503433q.pdf','cs400683e.pdf','cs502038y.pdf','ja5062467.pdf','ja512868a.pdf','jacs.5b09913.pdf','jacs.5b13070.pdf','jacs.6b00710.pdf','jacs.7b12621.pdf','jacs.8b01920.pdf','jacs.9b02731.pdf','jp5081753.pdf','nn500963m.pdf','om5008055.pdf','om501252m.pdf','nature16935.pdf','s41467-018-03138-7.pdf','s41467-020-15445-z.pdf','s41563-019-0562-6.pdf','s41563-020-0800-y.pdf','s41570-016-0002.pdf','s41589-018-0154-9.pdf','s41929-018-0197-z.pdf','s41929-018-0206-2.pdf','s41929-018-0213-3.pdf','s41929-019-0334-3.pdf','srep39392.pdf','C4CC04024D.pdf','C4CP00753K.pdf','C4CP04693E.pdf','C4DT01309C.pdf','C4RA16127K.pdf','C4SC00545G.pdf','C5CC04188K.pdf','C5CC06118K.pdf','C5CC08223D.pdf','C5CC08681G.pdf','C5CC08714G.pdf','C5CC08956E.pdf','C5CC09780K.pdf','C5CP02512E.pdf','C5CY00732A.pdf','C5CY01175B.pdf','C5CY01650A.pdf','C5CY01726B.pdf','C5CY02072G.pdf','C5RA19197A.pdf','C5SC03494A.pdf','C5TA08709K.pdf','C5TA10283A.pdf','C6CC01599A.pdf','C6CP01209D.pdf','C6CP01311B.pdf','C6CP01494A.pdf','C6CY01105E.pdf','C6CY01129B.pdf','C6DT03565E.pdf','C6FD00189K.pdf','C6GC01288D.pdf','C6ME00061D.pdf','C6RE00140H.pdf','C6SC04130B.pdf','C6TA00293E.pdf','C6TB01774F.pdf','C7CP04144F.pdf','C7CY00184C.pdf','C7CY00798A.pdf','C7CY00875A.pdf','C7CY01553D.pdf','C7DT01022B.pdf','C7DT02167D.pdf','c7dt04805j.pdf','C7FD00159B.pdf','C7FD00216E.pdf','C7FD00221A.pdf','C7TA10892C.pdf','C8CC01880D.pdf','C8CC07444E.pdf','C8CP01022F.pdf','c8cp06736h.pdf','C8CY01483C.pdf','C8DT04638G.pdf','C8DT05051A.pdf','C8FD00002F.pdf','C8FD00005K.pdf','C8NJ03632B.pdf','C8OB00066B.pdf','C8SC03312A.pdf','C8TA02908C.pdf','C8TA12263F.pdf','C9CC02088H.pdf','C9CC02459J.pdf','C9CP00826H.pdf','c9cp05476f.pdf','c9cy01679a.pdf','C9CY02371B.pdf','c9cy02473e.pdf','C9DT01634A.pdf','C9DT03590G.pdf','C9NA00159J.pdf','C9NR04553H.pdf','C9RA03568K.pdf','C9SC03374B.pdf','C9SC04905C.pdf','C9SE01103J.pdf','D0CP00032A.pdf','D0CP00704H.pdf','D0CP01196G.pdf','d0cy00036a.pdf','d0dt00007h.pdf','D0RA03871G.pdf','d0sc01317j.pdf','D0SC01924K.pdf','D0SC02152K.pdf','d0sc02253e.pdf','Silverwood_etal_2016_towards_microfluidic_reactors_for_in_situ_synchrotron_infrared_studies.pdf','rspa.2016.0054.pdf','rspa.2016.0126.pdf','1399.full.pdf','Antimicrobial Agents and Chemotherapy-2019-Tooke-e00564-19.full.pdf','Development and characterization of thermally stable supported V W TiO2 catalysts for mobile NH3 SCR applications.pdf','surfaces-02-00001.pdf','2190-4286-10-191.pdf']\n",
    "file_sizes = {}\n",
    "for file_name in files:\n",
    "    pdf_file = \"pdf_files/\"+file_name\n",
    "    if Path(pdf_file).is_file():\n",
    "        print (file_name, Path(pdf_file).stat().st_size)"
   ]
  },
  {
   "cell_type": "code",
   "execution_count": null,
   "metadata": {},
   "outputs": [],
   "source": [
    "file_types = [['origin', 'excel', 'powerpoint'],['pdf'],['pdf'],['excel'],['pdf'],['pdf'],\n",
    "              ['pdf'],['text', 'tar gz'],['pdf'],['pdf'],['pdf'],['pdf'],['pdf'],['video mpeg'],\n",
    "              ['video mpeg'],['pdf'],['pdf'],['pdf'],['pdf'],['text', 'excel', 'zip','tif'],['pdf'],['pdf'],\n",
    "              ['pdf'],['pdf'],[],['pdf'],['pdf'],['raw/nexus'],[],['pdf'],['pdf'],['doc'],['doc'],['pdf'],\n",
    "              ['pdf'],['pdf'],['pdf'],['pdf'],['pdf'],['pdf'],[],['doc'],['pdf'],['pdf'],['pdf'],['pdf'],\n",
    "              ['zip'],['pdf'],['pdf'],['video avi'],['pdf'],['zip'],['pdf'],['pdf'],['video mp4'],['pdf'],\n",
    "              ['pdf'],['pdf'],['pdf'],['pdf'],['pdf'],['pdf'],['pdf'],['pdf'],['excel'],['pdf'],['pdf'],\n",
    "              ['pdf'],['pdf'],['pdf'],['pdf'],['pdf'],['pdf'],['cif'],['pdf'],['pdf'],['pdf'],['pdf'],\n",
    "              ['pdf'],['pdf'],['pdf'],['pdf'],['pdf'],['image gif'],['raw/nexus','processed'],['pdf'],\n",
    "              ['pdf'],['pdf'],['doc'],['doc'],['pdf'],['pdf'],['pdf'],['pdf'],['pdf'],['pdf'],['pdf'],\n",
    "              ['pdf'],['pdf'],['pdf'],['pdf'],['pdf'],['pdf'],['image gif'],['image gif'],['image gif'],\n",
    "              ['image tif'],['pdf'],['pdf'],['pdf'],['pdf'],['pdf'],['pdf'],['pdf'],['pdf'],['pdf'],['pdf'],\n",
    "              ['pdf'],['pdf'],['pdf'],['pdf'],['pdf'],['pdf'],['pdf'],['pdf'],['pdf'],['powerpoint'],\n",
    "              ['powerpoint'],['powerpoint'],['powerpoint'],['powerpoint'],['pdf'],['pdf'],['pdf'],['zip'],\n",
    "              ['zip'],['pdf'],['pdf'],['cif'],['pdf'],['pdf'],['pdf'],['pdf'],['pdf'],['cif'],['pdf'],\n",
    "              ['pdf'],['cif'],['html'],['pdf'],['pdf'],['cif'],['pdf'],['pdf'],['pdf'],['cif'],['pdf'],\n",
    "              ['pdf'],['cif'],['cif'],['cif'],['cif'],['cif'],['cif'],['cif'],['cif'],['pdf'],['vamas', 'excel'],\n",
    "              ['pdf'],['pdf'],['pdf'],['image jpg'],['html'],['html'],['html'],['html'],['html'],['html'],\n",
    "              ['html'],['html'],['html'],['html'],['powerpoint'],['powerpoint'],['powerpoint'],['powerpoint'],\n",
    "              ['pdf'],['pdf'],['pdf'],['pdf'],['pdf'],['pdf'],['cif'],['pdf'],['pdf'],['pdf'],\n",
    "              ['video mp4'],['video mp4'],['pdf'],['pdf'],['pdf'],['pdf'],['pdf'],['pdf'],['pdf'],['pdf'],\n",
    "              ['text','origin', 'gatan dm4','tif','opus','compiled xas'],['raw/nexus'],['pdf'],['pdf'],['pdf'],\n",
    "              ['pdf'],[],['pdf'],['pdf'],['pdf'],['pdf'],['pdf'],['pdf'],['pdf'],['doc'],['pdf'],['excel','text'],\n",
    "              ['pdf'],['pdf'],['athena','raw/tem'],['text','zip'],['pdf'],['zip'],['pdf'],['pdf'],['pdf'],['pdf'],\n",
    "              ['doc'],['pdf'],['pdf'],['pdf'],['pdf'],['pdf'],['pdf'],['doc'],['pdf'],['pdf'],['pdf'],['pdf'],\n",
    "              ['pdf'],['pdf'],['pdf'],['pdf'],['pdf'],['pdf'],['pdf'],['pdf'],['pdf'],['pdf'],['pdf'],['pdf'],\n",
    "              [ 'excel','origin', 'image jpg','athena project'],['pdf'],['pdf'],['pdf'],\n",
    "              ['Origin', 'text', 'athena project','PNG'],['pdf'],['pdf'],['pdf'],[],['pdf'],['pdf'],['pdf'],['pdf'],\n",
    "              ['pdf'],['pdf'],['pdf'],['pdf'],['pdf'],['pdf'],['pdf'],['pdf'],[],['pdf'],['cif'],['cif'],['cif'],\n",
    "              ['cif'],['xyz','excel','inp','shell','python'],['pdf'],['excel'],['excel'],['excel'],['excel'],\n",
    "              ['excel'],['excel'],['excel'],['excel'],['excel'],['excel'],['excel'],['pdf'],['pdf'],['pdf'],\n",
    "              ['zip'],['pdf'],['pdf'],['zip'],['pdf'],['pdf'],[],['pdf'],['pdf'],['doc'],['doc'],['doc'],['doc'],\n",
    "              ['doc'],['doc'],['doc'],['doc'],['doc'],['doc'],['doc'],['pdf'],['doc'],['doc'],['doc'],['doc'],\n",
    "              ['doc'],['doc'],['doc'],['doc'],['doc'],['doc'],['doc'],['doc'],['pdf'],['cif'],['doc'],['zip'],\n",
    "              ['excel'],['excel'],[],['pdf'],['pdf'],['pdf'],['pdf']]\n",
    "\n",
    "ft_summary = {}\n",
    "\n",
    "for fts in file_types:\n",
    "   for ft in fts:\n",
    "    if ft in ft_summary:\n",
    "        ft_summary[ft] += 1\n",
    "    else:\n",
    "        ft_summary[ft] = 1\n",
    "              "
   ]
  },
  {
   "cell_type": "code",
   "execution_count": null,
   "metadata": {},
   "outputs": [],
   "source": [
    "ft_summary"
   ]
  },
  {
   "cell_type": "code",
   "execution_count": null,
   "metadata": {},
   "outputs": [],
   "source": [
    "from IPython.core.display import display, HTML\n",
    "display(HTML('<h1>Hello, world!</h1>'))"
   ]
  },
  {
   "cell_type": "code",
   "execution_count": null,
   "metadata": {},
   "outputs": [],
   "source": [
    "from IPython.display import IFrame\n",
    "\n",
    "IFrame(src='do_files/41467_2021_21062_MOESM2_ESM.pdf', width=700, height=600)"
   ]
  },
  {
   "cell_type": "code",
   "execution_count": null,
   "metadata": {},
   "outputs": [],
   "source": [
    "url= 'http://api.scholexplorer.openaire.eu/v2/Links?sourcePublisher=Cambridge%20Crystallographic%20Data%20Centre&page='\n",
    "for i = [0..100]:\n",
    "response = urlh.getPageFromURL('http://api.scholexplorer.openaire.eu/v2/Links?sourcePublisher=Cambridge%20Crystallographic%20Data%20Centre&page=0')\n",
    "\n",
    "\n",
    "\n"
   ]
  },
  {
   "cell_type": "code",
   "execution_count": null,
   "metadata": {},
   "outputs": [],
   "source": [
    "from pdfminer.pdfparser import PDFParser\n",
    "from pdfminer.pdfdocument import PDFDocument\n",
    "fp = open('do_files/41467_2021_21062_MOESM2_ESM.pdf', 'rb')\n",
    "parser = PDFParser(fp)\n",
    "doc = PDFDocument(parser)\n",
    "\n",
    "print(doc.info)  # The \"Info\" metadata"
   ]
  },
  {
   "cell_type": "code",
   "execution_count": null,
   "metadata": {},
   "outputs": [],
   "source": [
    "pdf_info = doc.info"
   ]
  },
  {
   "cell_type": "code",
   "execution_count": null,
   "metadata": {},
   "outputs": [],
   "source": [
    "\n",
    "\n",
    "\n",
    "ds_doi = data_results['result'][1]['source']['Identifier'][0]['ID']\n",
    "ds_title = data_results['result'][1]['source']['Title']\n",
    "ds_published = data_results['result'][1]['source']['PublicationDate']\n",
    "\n",
    "pub_doi = data_results['result'][1]['target']['Identifier'][0]['ID']\n",
    "pub_title = data_results['result'][1]['target']['Title']\n",
    "pub_published = data_results['result'][1]['target']['PublicationDate']\n",
    "data_results['result'][0]['target']\n",
    "\n",
    "a_dl = {\"ds_doi\":ds_doi,'ds_title':ds_title, 'ds_published':ds_published, 'pub_doi':pub_doi, \n",
    "        'pub_title':pub_title, 'pub_published': pub_published}"
   ]
  },
  {
   "cell_type": "code",
   "execution_count": null,
   "metadata": {},
   "outputs": [],
   "source": [
    "print(ds_doi,ds_title, ds_published, pub_doi, pub_title, pub_published)\n",
    "print (a_dl)"
   ]
  },
  {
   "cell_type": "code",
   "execution_count": null,
   "metadata": {},
   "outputs": [],
   "source": [
    "data_links = []\n",
    "a_dl = {}\n",
    "for a_result in data_results['result']:\n",
    "    ds_doi = a_result['source']['Identifier'][0]['ID']\n",
    "    ds_title = a_result['source']['Title']\n",
    "    ds_published = a_result['source']['PublicationDate']\n",
    "\n",
    "    pub_doi = a_result['target']['Identifier'][0]['ID']\n",
    "    pub_title = a_result['target']['Title']\n",
    "    pub_published = a_result['target']['PublicationDate']\n",
    "    a_dl = {\"ds_doi\":ds_doi,'ds_title':ds_title, 'ds_published':ds_published, 'pub_doi':pub_doi, \n",
    "        'pub_title':pub_title, 'pub_published': pub_published}\n",
    "    data_links.append(a_dl)\n",
    "print (len(data_links))"
   ]
  },
  {
   "cell_type": "code",
   "execution_count": null,
   "metadata": {
    "scrolled": true
   },
   "outputs": [],
   "source": [
    "import json\n",
    "# library for handling url searchs\n",
    "import lib.handle_urls as urlh\n",
    "url_base = 'http://api.scholexplorer.openaire.eu/v2/Links?sourcePublisher=Cambridge%20Crystallographic%20Data%20Centre&page='\n",
    "data_links = []\n",
    "a_dl = {}\n",
    "for i in range(0,100):\n",
    "    print (url_base + str(i))\n",
    "    response = urlh.getPageFromURL(url_base + str(i))\n",
    "    data_results = json.loads(response)\n",
    "\n",
    "    for a_result in data_results['result']:\n",
    "        ds_doi = a_result['source']['Identifier'][0]['ID']\n",
    "        ds_title = a_result['source']['Title']\n",
    "        ds_published = a_result['source']['PublicationDate']\n",
    "\n",
    "        pub_doi = a_result['target']['Identifier'][0]['ID']\n",
    "        pub_title = a_result['target']['Title']\n",
    "        pub_published = a_result['target']['PublicationDate']\n",
    "        a_dl = {\"ds_doi\":ds_doi,'ds_title':ds_title, 'ds_published':ds_published, 'pub_doi':pub_doi, \n",
    "            'pub_title':pub_title, 'pub_published': pub_published}\n",
    "        data_links.append(a_dl)\n",
    "    print (len(data_links))"
   ]
  },
  {
   "cell_type": "code",
   "execution_count": null,
   "metadata": {},
   "outputs": [],
   "source": [
    "data_links_dic = {}\n",
    "for i in range(1,10001):\n",
    "    data_links_dic[i] = data_links[i-1]\n",
    "\n",
    "for i in range(1,10000):\n",
    "    if data_links_dic[i]['pub_title'] != None:\n",
    "        data_links_dic[i]['pub_title'] = data_links_dic[i]['pub_title'].replace('\\n', ' ')\n",
    "\n",
    "    \n",
    "if len(data_links_dic) > 0:\n",
    "    csvh.write_csv_data(data_links_dic, \"ccdc_scholix2.csv\")"
   ]
  },
  {
   "cell_type": "code",
   "execution_count": null,
   "metadata": {},
   "outputs": [],
   "source": [
    "data_results"
   ]
  },
  {
   "cell_type": "code",
   "execution_count": null,
   "metadata": {},
   "outputs": [],
   "source": [
    "response = urlh.getPageFromURL(\"https://api.eventdata.crossref.org/v1/events?scholix=true&subj-id.prefix=10.5517\")\n",
    "response"
   ]
  },
  {
   "cell_type": "code",
   "execution_count": null,
   "metadata": {},
   "outputs": [],
   "source": [
    "data_results = json.loads(response)"
   ]
  },
  {
   "cell_type": "code",
   "execution_count": null,
   "metadata": {},
   "outputs": [],
   "source": [
    "data_results['message']['events'][0]"
   ]
  },
  {
   "cell_type": "code",
   "execution_count": null,
   "metadata": {},
   "outputs": [],
   "source": [
    "len(data_results['message']['events'])"
   ]
  },
  {
   "cell_type": "code",
   "execution_count": null,
   "metadata": {},
   "outputs": [],
   "source": [
    "import requests\n",
    "\n",
    "response = requests.get('https://doi.org/10.5517/ccdc.csd.cc14dg66',  headers={\"Accept\": \"text/bibliography; style=bibtex\"})\n"
   ]
  },
  {
   "cell_type": "code",
   "execution_count": null,
   "metadata": {},
   "outputs": [],
   "source": [
    "response.content"
   ]
  },
  {
   "cell_type": "code",
   "execution_count": null,
   "metadata": {},
   "outputs": [],
   "source": [
    "# library containign read and write functions to csv file\n",
    "import lib.handle_csv as csvh\n",
    "\n",
    "# library for handling url searchs\n",
    "import lib.handle_urls as urlh\n",
    "\n",
    "import json\n",
    "url_base = 'http://api.scholexplorer.openaire.eu/v2/Links?sourcePid='\n",
    "doi_list = ['10.1002/chem.202000067', '10.1016/j.jcat.2018.01.033', '10.1021/acscatal.9b03889', \n",
    "            '10.1039/d0cp01227k', '10.1039/d0cy01061h', '10.1098/rsta.2020.0058', '10.1098/rsta.2020.0063', \n",
    "            '10.1039/D0CY01608J', '10.1021/acs.est.0c04279', '10.1039/D0CP01192D', '10.1039/d0cy01779e', \n",
    "            '10.1021/acsenergylett.0c02614', '10.1039/d1fd00004g', '10.3390/catal10121370', '10.1039/d1gc00901j', '10.1038/s41467-021-21062-1', '10.1021/acscatal.0c05413', '10.1021/acscatal.0c04858', '10.1088/1361-648x/abfe16', '10.1088/1361-6463/abe9e1', '10.1039/d0sc03113e', '10.1007/s11244-021-01447-8', '10.1021/acs.organomet.1c00055', '10.1021/acscatal.0c05019', '10.1021/acs.inorgchem.1c00327', '10.1002/smsc.202100032', '10.1039/d0gc02295k', '10.1002/anie.201901592', '10.1021/acs.organomet.9b00845', '10.1021/jacs.9b13106', '10.1002/anie.202006807', '10.1021/jacs.0c07980', '10.1039/d0cy01484b', '10.1039/d0cy02164d', '10.1002/anie.202101180', '10.1002/chem.202101140', '10.1021/acsmacrolett.1c00216', '10.1002/anie.201810245', '10.1039/c9sc00385a', '10.1021/acs.macromol.8b01224', '10.1039/c9dt02918d', '10.1038/s41467-019-10481-w', '10.1002/ange.201901592', '10.1039/c9dt00595a', '10.1039/d1cy00238d', '10.1021/acs.inorgchem.8b02923', '10.1002/ange.202006807', '10.1002/anie.201814320', '10.1007/s10562-019-02876-7', '10.1021/acs.jpcc.9b09050', '10.1016/j.apcatb.2017.01.042', '10.1039/d0cc04036c', '10.1002/anie.202015016', '10.1039/d1ta01464a', '10.1002/smtd.202100512', '10.1107/s1600576720013576', '10.1039/d0cp00793e', '10.1039/d0ta01398f', '10.1007/s11244-021-01450-z', '10.1039/d0ta08351h', '10.1021/acssuschemeng.1c01451', '10.1002/cphc.201800721', '10.1021/acssuschemeng.8b04073', '10.1002/cctc.202100286', '10.1007/s11244-020-01245-8', '10.1021/acscatal.0c03620', '10.1016/j.cattod.2018.06.033', '10.1016/j.apcatb.2020.118752', '10.1016/j.joule.2020.07.024', '10.1002/anie.201814381', '10.1002/ange.201902857']\n",
    "data_links = {}\n",
    "a_dl = {}\n",
    "ignore_types = ['References','IsReferencedBy']\n",
    "for a_doi in doi_list:\n",
    "    print (url_base + str(i))\n",
    "    response = urlh.getPageFromURL(url_base + a_doi.replace('/','%2f'))\n",
    "    data_results = json.loads(response)\n",
    "    id_dl = len(data_links)\n",
    "    for a_result in data_results['result']:\n",
    "        if not a_result['RelationshipType']['Name'] in ignore_types:\n",
    "            id_dl += 1\n",
    "            source_doi = a_result['source']['Identifier'][0]['ID']\n",
    "            source_title = a_result['source']['Title']\n",
    "            source_published = a_result['source']['PublicationDate']\n",
    "\n",
    "            target_doi = a_result['target']['Identifier'][0]['ID']\n",
    "            target_title = a_result['target']['Title']\n",
    "            target_published = a_result['target']['PublicationDate']\n",
    "            \n",
    "            rel_type = a_result['RelationshipType']['Name']\n",
    "\n",
    "            a_dl = {\"source_doi\":source_doi,'source_title':source_title, 'source_published':source_published,\n",
    "                    'target_doi':target_doi, 'target_title':target_title, \n",
    "                    'target_published': target_published, 'rel_type': rel_type}\n",
    "            data_links[id_dl]=a_dl\n",
    "    print (len(data_links))\n",
    "\n",
    "if len(data_links) > 0:\n",
    "    csvh.write_csv_data(data_links, \"ccdc_scholix2.csv\")"
   ]
  },
  {
   "cell_type": "code",
   "execution_count": null,
   "metadata": {},
   "outputs": [],
   "source": [
    "\n",
    "if len(data_links) > 0:\n",
    "    csvh.write_csv_data(data_links, \"ccdc_scholix2.csv\")"
   ]
  },
  {
   "cell_type": "code",
   "execution_count": null,
   "metadata": {},
   "outputs": [],
   "source": []
  },
  {
   "cell_type": "code",
   "execution_count": null,
   "metadata": {},
   "outputs": [],
   "source": [
    "len(doi_list)\n",
    "# library for handling url searchs\n",
    "import lib.handle_urls as urlh\n",
    "url_base = 'http://api.scholexplorer.openaire.eu/v2/Links?sourcePid='\n",
    "response = urlh.getPageFromURL(url_base + doi_list[0].replace('/','%2f'))\n",
    "data_results = json.loads(response)"
   ]
  },
  {
   "cell_type": "code",
   "execution_count": null,
   "metadata": {},
   "outputs": [],
   "source": [
    "\n",
    "for a_result in data_results['result']:\n",
    "    if data_results['result'][0]['RelationshipType']['Name'] != 'References':\n",
    "        ds_doi = a_result['source']['Identifier'][0]['ID']\n",
    "        ds_title = a_result['source']['Title']\n",
    "        ds_published = a_result['source']['PublicationDate']\n",
    "\n",
    "        pub_doi = a_result['target']['Identifier'][0]['ID']\n",
    "        pub_title = a_result['target']['Title']\n",
    "        pub_published = a_result['target']['PublicationDate']\n",
    "        a_dl = {\"ds_doi\":ds_doi,'ds_title':ds_title, 'ds_published':ds_published, 'pub_doi':pub_doi, \n",
    "            'pub_title':pub_title, 'pub_published': pub_published}\n",
    "        print(a_dl)"
   ]
  },
  {
   "cell_type": "code",
   "execution_count": null,
   "metadata": {},
   "outputs": [],
   "source": []
  }
 ],
 "metadata": {
  "kernelspec": {
   "display_name": "Python 3",
   "language": "python",
   "name": "python3"
  },
  "language_info": {
   "codemirror_mode": {
    "name": "ipython",
    "version": 3
   },
   "file_extension": ".py",
   "mimetype": "text/x-python",
   "name": "python",
   "nbconvert_exporter": "python",
   "pygments_lexer": "ipython3",
   "version": "3.8.8"
  }
 },
 "nbformat": 4,
 "nbformat_minor": 4
}
