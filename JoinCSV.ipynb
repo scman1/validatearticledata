{
 "cells": [
  {
   "cell_type": "markdown",
   "id": "5ab75b6b",
   "metadata": {},
   "source": [
    "# Join CSV outputs\n",
    "\n",
    "Separate CSV files are joined in a single output"
   ]
  },
  {
   "cell_type": "code",
   "execution_count": 1,
   "id": "9b456da6",
   "metadata": {},
   "outputs": [],
   "source": [
    "# read and write csv files\n",
    "import lib.handle_csv as csv_rw\n",
    "\n",
    "# date functions\n",
    "from datetime import datetime, date, timedelta\n",
    "\n",
    "# managing files and file paths\n",
    "from pathlib import Path\n"
   ]
  },
  {
   "cell_type": "code",
   "execution_count": 4,
   "id": "386687a1",
   "metadata": {
    "scrolled": true
   },
   "outputs": [
    {
     "name": "stdout",
     "output_type": "stream",
     "text": [
      "looking for: ./pub_search_crossref/cr_results_202301/cr_check_2022-12-18a.csv\n",
      "**********************************************\n",
      "Found:  ./pub_search_crossref/cr_results_202301/cr_check_2022-12-18a.csv  entries:  2\n",
      "looking for: ./pub_search_crossref/cr_results_202301/cr_check_2022-12-21a.csv\n",
      "**********************************************\n",
      "Found:  ./pub_search_crossref/cr_results_202301/cr_check_2022-12-21a.csv  entries:  1\n",
      "looking for: ./pub_search_crossref/cr_results_202301/cr_check_2022-12-24a.csv\n",
      "**********************************************\n",
      "Found:  ./pub_search_crossref/cr_results_202301/cr_check_2022-12-24a.csv  entries:  1\n",
      "looking for: ./pub_search_crossref/cr_results_202301/cr_check_2022-12-27a.csv\n",
      "**********************************************\n",
      "Found:  ./pub_search_crossref/cr_results_202301/cr_check_2022-12-27a.csv  entries:  1\n",
      "looking for: ./pub_search_crossref/cr_results_202301/cr_check_2022-12-30a.csv\n",
      "looking for: ./pub_search_crossref/cr_results_202301/cr_check_2023-01-02a.csv\n",
      "looking for: ./pub_search_crossref/cr_results_202301/cr_check_2023-01-05a.csv\n",
      "**********************************************\n",
      "Found:  ./pub_search_crossref/cr_results_202301/cr_check_2023-01-05a.csv  entries:  2\n",
      "looking for: ./pub_search_crossref/cr_results_202301/cr_check_2023-01-08a.csv\n",
      "looking for: ./pub_search_crossref/cr_results_202301/cr_check_2023-01-11a.csv\n",
      "**********************************************\n",
      "Found:  ./pub_search_crossref/cr_results_202301/cr_check_2023-01-11a.csv  entries:  4\n",
      "looking for: ./pub_search_crossref/cr_results_202301/cr_check_2023-01-14a.csv\n",
      "**********************************************\n",
      "Found:  ./pub_search_crossref/cr_results_202301/cr_check_2023-01-14a.csv  entries:  4\n",
      "looking for: ./pub_search_crossref/cr_results_202301/cr_check_2023-01-17a.csv\n",
      "**********************************************\n",
      "Found:  ./pub_search_crossref/cr_results_202301/cr_check_2023-01-17a.csv  entries:  2\n",
      "looking for: ./pub_search_crossref/cr_results_202301/cr_check_2023-01-20a.csv\n",
      "**********************************************\n",
      "Found:  ./pub_search_crossref/cr_results_202301/cr_check_2023-01-20a.csv  entries:  6\n",
      "looking for: ./pub_search_crossref/cr_results_202301/cr_check_2023-01-23a.csv\n",
      "**********************************************\n",
      "Found:  ./pub_search_crossref/cr_results_202301/cr_check_2023-01-23a.csv  entries:  1\n",
      "looking for: ./pub_search_crossref/cr_results_202301/cr_check_2023-01-26a.csv\n",
      "**********************************************\n",
      "Found:  ./pub_search_crossref/cr_results_202301/cr_check_2023-01-26a.csv  entries:  5\n",
      "looking for: ./pub_search_crossref/cr_results_202301/cr_check_2023-01-29a.csv\n",
      "**********************************************\n",
      "Found:  ./pub_search_crossref/cr_results_202301/cr_check_2023-01-29a.csv  entries:  2\n",
      "looking for: ./pub_search_crossref/cr_results_202301/cr_check_2023-02-01a.csv\n",
      "**********************************************\n",
      "Found:  ./pub_search_crossref/cr_results_202301/cr_check_2023-02-01a.csv  entries:  5\n",
      "looking for: ./pub_search_crossref/cr_results_202301/cr_check_2023-02-04a.csv\n",
      "**********************************************\n",
      "Found:  ./pub_search_crossref/cr_results_202301/cr_check_2023-02-04a.csv  entries:  2\n",
      "looking for: ./pub_search_crossref/cr_results_202301/cr_check_2023-02-07a.csv\n",
      "looking for: ./pub_search_crossref/cr_results_202301/cr_check_2023-02-10a.csv\n"
     ]
    }
   ],
   "source": [
    "start_date = date(2022, 12, 16)\n",
    "end_date = date(2023, 2,1)\n",
    "collect_csv = {}\n",
    "while end_date < datetime.now().date() + timedelta(days=1):\n",
    "    end_date = start_date + timedelta(days=2)\n",
    "    file_name = './pub_search_crossref/cr_results_202301/cr_check_'+str(end_date)+'a.csv'\n",
    "    print('looking for:', file_name)\n",
    "    if Path(file_name).is_file():\n",
    "        print(\"**********************************************\")\n",
    "        csv_data, csv_headings = csv_rw.get_csv_data(file_name)\n",
    "        print(\"Found: \", file_name, \" entries: \", len(csv_data))\n",
    "        start = len(collect_csv)\n",
    "        #print(csv_data)\n",
    "        for an_id in csv_data:\n",
    "            new_id = start + an_id\n",
    "            csv_data[an_id]['cut_date'] = str(end_date)\n",
    "            collect_csv[new_id] = csv_data[an_id]\n",
    "    start_date = end_date + timedelta(days=1)\n",
    "# WRITE TO FILE\n",
    "if len(collect_csv) > 0:\n",
    "    csv_rw.write_csv_data(collect_csv, './pub_search_crossref/cr_results_2022/cr_check_'+str(end_date)+'all.csv') "
   ]
  },
  {
   "cell_type": "code",
   "execution_count": 5,
   "id": "bd64dd36",
   "metadata": {},
   "outputs": [
    {
     "data": {
      "text/plain": [
       "38"
      ]
     },
     "execution_count": 5,
     "metadata": {},
     "output_type": "execute_result"
    }
   ],
   "source": [
    "len(collect_csv)"
   ]
  },
  {
   "cell_type": "code",
   "execution_count": null,
   "id": "e1d7ecd9",
   "metadata": {},
   "outputs": [],
   "source": []
  }
 ],
 "metadata": {
  "kernelspec": {
   "display_name": "Python 3 (ipykernel)",
   "language": "python",
   "name": "python3"
  },
  "language_info": {
   "codemirror_mode": {
    "name": "ipython",
    "version": 3
   },
   "file_extension": ".py",
   "mimetype": "text/x-python",
   "name": "python",
   "nbconvert_exporter": "python",
   "pygments_lexer": "ipython3",
   "version": "3.9.12"
  }
 },
 "nbformat": 4,
 "nbformat_minor": 5
}
