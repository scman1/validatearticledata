{
 "cells": [
  {
   "cell_type": "markdown",
   "id": "5ab75b6b",
   "metadata": {},
   "source": [
    "# Join CSV outputs\n",
    "\n",
    "Separate CSV files are joined in a single output"
   ]
  },
  {
   "cell_type": "code",
   "execution_count": 1,
   "id": "9b456da6",
   "metadata": {},
   "outputs": [],
   "source": [
    "# read and write csv files\n",
    "import lib.handle_csv as csv_rw\n",
    "\n",
    "# date functions\n",
    "from datetime import datetime, date, timedelta\n",
    "\n",
    "# managing files and file paths\n",
    "from pathlib import Path\n"
   ]
  },
  {
   "cell_type": "code",
   "execution_count": 3,
   "id": "386687a1",
   "metadata": {
    "scrolled": true
   },
   "outputs": [
    {
     "name": "stdout",
     "output_type": "stream",
     "text": [
      "looking for: ./pub_search_crossref/cr_results_202310/cr_check_2023-09-03a.csv\n",
      "**********************************************\n",
      "Found:  ./pub_search_crossref/cr_results_202310/cr_check_2023-09-03a.csv  entries:  9\n",
      "looking for: ./pub_search_crossref/cr_results_202310/cr_check_2023-09-06a.csv\n",
      "**********************************************\n",
      "Found:  ./pub_search_crossref/cr_results_202310/cr_check_2023-09-06a.csv  entries:  18\n",
      "looking for: ./pub_search_crossref/cr_results_202310/cr_check_2023-09-09a.csv\n",
      "**********************************************\n",
      "Found:  ./pub_search_crossref/cr_results_202310/cr_check_2023-09-09a.csv  entries:  11\n",
      "looking for: ./pub_search_crossref/cr_results_202310/cr_check_2023-09-12a.csv\n",
      "**********************************************\n",
      "Found:  ./pub_search_crossref/cr_results_202310/cr_check_2023-09-12a.csv  entries:  15\n",
      "looking for: ./pub_search_crossref/cr_results_202310/cr_check_2023-09-15a.csv\n",
      "**********************************************\n",
      "Found:  ./pub_search_crossref/cr_results_202310/cr_check_2023-09-15a.csv  entries:  9\n",
      "looking for: ./pub_search_crossref/cr_results_202310/cr_check_2023-09-18a.csv\n",
      "**********************************************\n",
      "Found:  ./pub_search_crossref/cr_results_202310/cr_check_2023-09-18a.csv  entries:  7\n",
      "looking for: ./pub_search_crossref/cr_results_202310/cr_check_2023-09-21a.csv\n",
      "**********************************************\n",
      "Found:  ./pub_search_crossref/cr_results_202310/cr_check_2023-09-21a.csv  entries:  2\n",
      "looking for: ./pub_search_crossref/cr_results_202310/cr_check_2023-09-24a.csv\n",
      "**********************************************\n",
      "Found:  ./pub_search_crossref/cr_results_202310/cr_check_2023-09-24a.csv  entries:  1\n",
      "looking for: ./pub_search_crossref/cr_results_202310/cr_check_2023-09-27a.csv\n",
      "**********************************************\n",
      "Found:  ./pub_search_crossref/cr_results_202310/cr_check_2023-09-27a.csv  entries:  4\n",
      "looking for: ./pub_search_crossref/cr_results_202310/cr_check_2023-09-30a.csv\n",
      "**********************************************\n",
      "Found:  ./pub_search_crossref/cr_results_202310/cr_check_2023-09-30a.csv  entries:  8\n",
      "looking for: ./pub_search_crossref/cr_results_202310/cr_check_2023-10-03a.csv\n",
      "**********************************************\n",
      "Found:  ./pub_search_crossref/cr_results_202310/cr_check_2023-10-03a.csv  entries:  4\n",
      "looking for: ./pub_search_crossref/cr_results_202310/cr_check_2023-10-06a.csv\n",
      "**********************************************\n",
      "Found:  ./pub_search_crossref/cr_results_202310/cr_check_2023-10-06a.csv  entries:  13\n",
      "looking for: ./pub_search_crossref/cr_results_202310/cr_check_2023-10-09a.csv\n",
      "**********************************************\n",
      "Found:  ./pub_search_crossref/cr_results_202310/cr_check_2023-10-09a.csv  entries:  8\n",
      "looking for: ./pub_search_crossref/cr_results_202310/cr_check_2023-10-12a.csv\n",
      "**********************************************\n",
      "Found:  ./pub_search_crossref/cr_results_202310/cr_check_2023-10-12a.csv  entries:  8\n",
      "looking for: ./pub_search_crossref/cr_results_202310/cr_check_2023-10-15a.csv\n",
      "looking for: ./pub_search_crossref/cr_results_202310/cr_check_2023-10-18a.csv\n",
      "looking for: ./pub_search_crossref/cr_results_202310/cr_check_2023-10-21a.csv\n",
      "looking for: ./pub_search_crossref/cr_results_202310/cr_check_2023-10-24a.csv\n",
      "looking for: ./pub_search_crossref/cr_results_202310/cr_check_2023-10-27a.csv\n"
     ]
    }
   ],
   "source": [
    "start_date = date(2023, 9, 1)\n",
    "end_date = date(2023, 10, 15)\n",
    "collect_csv = {}\n",
    "while end_date < datetime.now().date() + timedelta(days=1):\n",
    "    end_date = start_date + timedelta(days=2)\n",
    "    file_name = './pub_search_crossref/cr_results_202310/cr_check_'+str(end_date)+'a.csv'\n",
    "    print('looking for:', file_name)\n",
    "    if Path(file_name).is_file():\n",
    "        print(\"**********************************************\")\n",
    "        csv_data, csv_headings = csv_rw.get_csv_data(file_name)\n",
    "        print(\"Found: \", file_name, \" entries: \", len(csv_data))\n",
    "        start = len(collect_csv)\n",
    "        #print(csv_data)\n",
    "        for an_id in csv_data:\n",
    "            new_id = start + an_id\n",
    "            csv_data[an_id]['cut_date'] = str(end_date)\n",
    "            collect_csv[new_id] = csv_data[an_id]\n",
    "    start_date = end_date + timedelta(days=1)\n",
    "# WRITE TO FILE\n",
    "if len(collect_csv) > 0:\n",
    "    csv_rw.write_csv_data(collect_csv, './pub_search_crossref/cr_results_202310/cr_check_'+str(end_date)+'all.csv') "
   ]
  },
  {
   "cell_type": "code",
   "execution_count": 4,
   "id": "bd64dd36",
   "metadata": {},
   "outputs": [
    {
     "data": {
      "text/plain": [
       "117"
      ]
     },
     "execution_count": 4,
     "metadata": {},
     "output_type": "execute_result"
    }
   ],
   "source": [
    "len(collect_csv)"
   ]
  },
  {
   "cell_type": "code",
   "execution_count": null,
   "id": "e1d7ecd9",
   "metadata": {},
   "outputs": [],
   "source": []
  }
 ],
 "metadata": {
  "kernelspec": {
   "display_name": "Python 3 (ipykernel)",
   "language": "python",
   "name": "python3"
  },
  "language_info": {
   "codemirror_mode": {
    "name": "ipython",
    "version": 3
   },
   "file_extension": ".py",
   "mimetype": "text/x-python",
   "name": "python",
   "nbconvert_exporter": "python",
   "pygments_lexer": "ipython3",
   "version": "3.9.2rc1"
  }
 },
 "nbformat": 4,
 "nbformat_minor": 5
}
