{
 "cells": [
  {
   "cell_type": "markdown",
   "id": "5ab75b6b",
   "metadata": {},
   "source": [
    "# Join CSV outputs\n",
    "\n",
    "Separate CSV files are joined in a single output"
   ]
  },
  {
   "cell_type": "code",
   "execution_count": 19,
   "id": "9b456da6",
   "metadata": {},
   "outputs": [],
   "source": [
    "# read and write csv files\n",
    "import lib.handle_csv as csv_rw\n",
    "\n",
    "# date functions\n",
    "from datetime import datetime, date, timedelta\n",
    "\n",
    "# managing files and file paths\n",
    "from pathlib import Path"
   ]
  },
  {
   "cell_type": "markdown",
   "id": "3b8424b5",
   "metadata": {},
   "source": [
    "Join all files in the given dir"
   ]
  },
  {
   "cell_type": "code",
   "execution_count": 20,
   "id": "cb16b9ef",
   "metadata": {
    "scrolled": false
   },
   "outputs": [],
   "source": [
    "base_dir = './pub_search_crossref/cr_results_202406/award_filter/'\n",
    "base_path = Path(base_dir)\n",
    "cut_date = '2024-06-25'\n",
    "out_file = Path(base_dir, 'cr_check_'+cut_date+'all.csv')\n",
    "if not out_file.is_file():\n",
    "    collect_csv = {}\n",
    "    for a_file in base_path.glob(\"*.csv\"):\n",
    "        if Path(a_file).is_file():\n",
    "            csv_data, csv_headings = csv_rw.get_csv_data(a_file)\n",
    "            print(\"Found: \", a_file.name, \" entries: \", len(csv_data))\n",
    "            start = len(collect_csv)\n",
    "            cut_date = a_file.name[-15:-5]\n",
    "            for an_id in csv_data:\n",
    "                new_id = start + an_id\n",
    "                csv_data[an_id]['cut_date'] = cut_date\n",
    "                collect_csv[new_id] = csv_data[an_id]\n",
    "    # WRITE TO FILE\n",
    "    if len(collect_csv) > 0:\n",
    "        csv_rw.write_csv_data(collect_csv, out_file) "
   ]
  },
  {
   "cell_type": "code",
   "execution_count": 45,
   "id": "3dbd6390",
   "metadata": {},
   "outputs": [
    {
     "name": "stdout",
     "output_type": "stream",
     "text": [
      "Found:  cr_check_2024-06-24all.csv  entries:  64\n"
     ]
    }
   ],
   "source": [
    "def doi_in_dict (collected, a_doi):\n",
    "    in_dict = False\n",
    "    for an_id in collected:\n",
    "        if collected[an_id]['DOI'] == a_doi:\n",
    "            in_dict = True\n",
    "            break\n",
    "    return in_dict\n",
    "\n",
    "base_dir = './pub_search_crossref/cr_results_202406/dates/'\n",
    "cut_date = '2024-06-25'\n",
    "out_file = Path(base_dir, 'cr_check_'+cut_date+'all.csv')\n",
    "collect_mcc = {}\n",
    "collect_ukch = {}\n",
    "if out_file.is_file():\n",
    "    csv_data, csv_headings = csv_rw.get_csv_data(out_file)\n",
    "    print(\"Found: \", a_file.name, \" entries: \", len(csv_data))\n",
    "    for an_id in csv_data:\n",
    "        #print(csv_data[an_id])\n",
    "        if csv_data[an_id]['mcc'] == '1' and not doi_in_dict (collect_mcc, csv_data[an_id]['DOI']):\n",
    "            collect_mcc[an_id] = csv_data[an_id]\n",
    "        if csv_data[an_id]['ukch'] == '1' and not doi_in_dict (collect_ukch, csv_data[an_id]['DOI']):\n",
    "            collect_ukch[an_id] = csv_data[an_id]\n",
    "            "
   ]
  },
  {
   "cell_type": "code",
   "execution_count": 46,
   "id": "56f6cfca",
   "metadata": {},
   "outputs": [],
   "source": [
    "out_mcc = Path(base_dir, 'cr_mcc_'+cut_date+'all.csv')\n",
    "out_ukch = Path(base_dir, 'cr_ukch_'+cut_date+'all.csv')\n",
    "if len(collect_mcc) > 0:\n",
    "    csv_rw.write_csv_data(collect_mcc, out_mcc) \n",
    "if len(collect_ukch) > 0:\n",
    "    csv_rw.write_csv_data(collect_ukch, out_ukch) "
   ]
  },
  {
   "cell_type": "code",
   "execution_count": 2,
   "id": "386687a1",
   "metadata": {
    "scrolled": false
   },
   "outputs": [
    {
     "name": "stdout",
     "output_type": "stream",
     "text": [
      "looking for: ./pub_search_crossref/cr_results_202404/cr_check_2024-01-07a.csv\n",
      "looking for: ./pub_search_crossref/cr_results_202404/cr_check_2024-01-14a.csv\n",
      "**********************************************\n",
      "Found:  ./pub_search_crossref/cr_results_202404/cr_check_2024-01-14a.csv  entries:  1\n",
      "looking for: ./pub_search_crossref/cr_results_202404/cr_check_2024-01-21a.csv\n",
      "**********************************************\n",
      "Found:  ./pub_search_crossref/cr_results_202404/cr_check_2024-01-21a.csv  entries:  1\n",
      "looking for: ./pub_search_crossref/cr_results_202404/cr_check_2024-01-28a.csv\n",
      "looking for: ./pub_search_crossref/cr_results_202404/cr_check_2024-02-04a.csv\n",
      "**********************************************\n",
      "Found:  ./pub_search_crossref/cr_results_202404/cr_check_2024-02-04a.csv  entries:  5\n",
      "looking for: ./pub_search_crossref/cr_results_202404/cr_check_2024-02-11a.csv\n",
      "**********************************************\n",
      "Found:  ./pub_search_crossref/cr_results_202404/cr_check_2024-02-11a.csv  entries:  1\n",
      "looking for: ./pub_search_crossref/cr_results_202404/cr_check_2024-02-18a.csv\n",
      "looking for: ./pub_search_crossref/cr_results_202404/cr_check_2024-02-25a.csv\n",
      "**********************************************\n",
      "Found:  ./pub_search_crossref/cr_results_202404/cr_check_2024-02-25a.csv  entries:  1\n",
      "looking for: ./pub_search_crossref/cr_results_202404/cr_check_2024-03-03a.csv\n",
      "looking for: ./pub_search_crossref/cr_results_202404/cr_check_2024-03-10a.csv\n",
      "looking for: ./pub_search_crossref/cr_results_202404/cr_check_2024-03-17a.csv\n",
      "**********************************************\n",
      "Found:  ./pub_search_crossref/cr_results_202404/cr_check_2024-03-17a.csv  entries:  2\n",
      "looking for: ./pub_search_crossref/cr_results_202404/cr_check_2024-03-24a.csv\n",
      "looking for: ./pub_search_crossref/cr_results_202404/cr_check_2024-03-31a.csv\n",
      "**********************************************\n",
      "Found:  ./pub_search_crossref/cr_results_202404/cr_check_2024-03-31a.csv  entries:  2\n",
      "looking for: ./pub_search_crossref/cr_results_202404/cr_check_2024-04-07a.csv\n",
      "looking for: ./pub_search_crossref/cr_results_202404/cr_check_2024-04-14a.csv\n",
      "**********************************************\n",
      "Found:  ./pub_search_crossref/cr_results_202404/cr_check_2024-04-14a.csv  entries:  1\n",
      "looking for: ./pub_search_crossref/cr_results_202404/cr_check_2024-04-21a.csv\n",
      "looking for: ./pub_search_crossref/cr_results_202404/cr_check_2024-04-28a.csv\n",
      "**********************************************\n",
      "Found:  ./pub_search_crossref/cr_results_202404/cr_check_2024-04-28a.csv  entries:  2\n",
      "looking for: ./pub_search_crossref/cr_results_202404/cr_check_2024-05-05a.csv\n"
     ]
    }
   ],
   "source": [
    "start_date = date(2024, 1, 1)\n",
    "end_date = date(2024, 4, 30)\n",
    "collect_csv = {}\n",
    "while end_date < datetime.now().date() + timedelta(days=1):\n",
    "    end_date = start_date + timedelta(days=6)\n",
    "    file_name = './pub_search_crossref/cr_results_202404/mcc/cr_check_'+str(end_date)+'a.csv'\n",
    "    print('looking for:', file_name)\n",
    "    if Path(file_name).is_file():\n",
    "        print(\"**********************************************\")\n",
    "        csv_data, csv_headings = csv_rw.get_csv_data(file_name)\n",
    "        print(\"Found: \", file_name, \" entries: \", len(csv_data))\n",
    "        start = len(collect_csv)\n",
    "        #print(csv_data)\n",
    "        for an_id in csv_data:\n",
    "            new_id = start + an_id\n",
    "            csv_data[an_id]['cut_date'] = str(end_date)\n",
    "            collect_csv[new_id] = csv_data[an_id]\n",
    "    start_date = end_date + timedelta(days=1)\n",
    "# WRITE TO FILE\n",
    "if len(collect_csv) > 0:\n",
    "    csv_rw.write_csv_data(collect_csv, './pub_search_crossref/cr_results_202404/cr_check_'+str(end_date)+'all.csv') "
   ]
  },
  {
   "cell_type": "code",
   "execution_count": 26,
   "id": "bd64dd36",
   "metadata": {
    "scrolled": true
   },
   "outputs": [
    {
     "data": {
      "text/plain": [
       "1119"
      ]
     },
     "execution_count": 26,
     "metadata": {},
     "output_type": "execute_result"
    }
   ],
   "source": [
    "#collect_csv = {}\n",
    "len(collect_csv)"
   ]
  },
  {
   "cell_type": "code",
   "execution_count": 4,
   "id": "e1d7ecd9",
   "metadata": {},
   "outputs": [
    {
     "name": "stdout",
     "output_type": "stream",
     "text": [
      "Found:  pub_search_crossref\\cr_results_202401\\cr_check_2023-12-06a.csv 2023-12-06  entries:  1\n",
      "Found:  pub_search_crossref\\cr_results_202401\\cr_check_2023-12-13a.csv 2023-12-13  entries:  1\n",
      "Found:  pub_search_crossref\\cr_results_202401\\cr_check_2023-12-20a.csv 2023-12-20  entries:  1\n",
      "Found:  pub_search_crossref\\cr_results_202401\\cr_check_2024-01-10a.csv 2024-01-10  entries:  1\n",
      "Found:  pub_search_crossref\\cr_results_202401\\cr_check_2024-01-17a.csv 2024-01-17  entries:  1\n",
      "Found:  pub_search_crossref\\cr_results_202401\\cr_check_2024-01-31a.csv 2024-01-31  entries:  2\n"
     ]
    }
   ],
   "source": [
    "collect_csv = {}\n",
    "final_date = \"\"\n",
    "for a_file in Path('./pub_search_crossref/cr_results_202401/').glob('*.csv'):\n",
    "    csv_data, csv_headings = csv_rw.get_csv_data(a_file)\n",
    "    print(\"Found: \", a_file, str(a_file)[-15:-5],\" entries: \", len(csv_data))\n",
    "    start = len(collect_csv)\n",
    "    #print(csv_data)\n",
    "    for an_id in csv_data:\n",
    "        new_id = start + an_id\n",
    "        csv_data[an_id]['cut_date'] = str(a_file)[-15:-5]\n",
    "        collect_csv[new_id] = csv_data[an_id]\n",
    "        final_date = str(a_file)[-15:-5]\n",
    "        \n",
    "if len(collect_csv) > 0:\n",
    "    csv_rw.write_csv_data(collect_csv, './pub_search_crossref/cr_results_202401/cr_check_'+final_date+'all.csv')              "
   ]
  },
  {
   "cell_type": "code",
   "execution_count": 5,
   "id": "efa33b8f",
   "metadata": {},
   "outputs": [
    {
     "name": "stdout",
     "output_type": "stream",
     "text": [
      "10.3390/catal13121489\n",
      "10.3390/catal13121499\n",
      "10.1039/d3cy01064c\n",
      "10.1039/d3sc05516g\n",
      "10.1039/d3sc05105f\n",
      "10.26434/chemrxiv-2024-7sdx8\n",
      "10.26434/chemrxiv-2024-vqfc1\n"
     ]
    }
   ],
   "source": [
    "str_all=\"\"\n",
    "for a_r in collect_csv:\n",
    "    print(collect_csv[a_r]['DOI'])\n",
    "    str_all += \"'\"+collect_csv[a_r]['DOI']+\"',\""
   ]
  },
  {
   "cell_type": "code",
   "execution_count": 9,
   "id": "c4d8b770",
   "metadata": {},
   "outputs": [
    {
     "data": {
      "text/plain": [
       "'2024-04-21'"
      ]
     },
     "execution_count": 9,
     "metadata": {},
     "output_type": "execute_result"
    }
   ],
   "source": [
    "Path('./pub_search_crossref/cr_results_202404/cr_check_2024-04-21a.csv').name[-15:-5]"
   ]
  },
  {
   "cell_type": "code",
   "execution_count": null,
   "id": "85e6479a",
   "metadata": {},
   "outputs": [],
   "source": []
  }
 ],
 "metadata": {
  "kernelspec": {
   "display_name": "Python 3 (ipykernel)",
   "language": "python",
   "name": "python3"
  },
  "language_info": {
   "codemirror_mode": {
    "name": "ipython",
    "version": 3
   },
   "file_extension": ".py",
   "mimetype": "text/x-python",
   "name": "python",
   "nbconvert_exporter": "python",
   "pygments_lexer": "ipython3",
   "version": "3.9.2rc1"
  }
 },
 "nbformat": 4,
 "nbformat_minor": 5
}
