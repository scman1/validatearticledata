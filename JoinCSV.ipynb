{
 "cells": [
  {
   "cell_type": "markdown",
   "id": "5ab75b6b",
   "metadata": {},
   "source": [
    "# Join CSV outputs\n",
    "\n",
    "Separate CSV files are joined in a single output"
   ]
  },
  {
   "cell_type": "code",
   "execution_count": 17,
   "id": "9b456da6",
   "metadata": {},
   "outputs": [],
   "source": [
    "# read and write csv files\n",
    "import lib.handle_csv as csv_rw\n",
    "\n",
    "# date functions\n",
    "from datetime import datetime, date, timedelta\n",
    "\n",
    "# managing files and file paths\n",
    "from pathlib import Path\n"
   ]
  },
  {
   "cell_type": "code",
   "execution_count": 19,
   "id": "386687a1",
   "metadata": {
    "scrolled": false
   },
   "outputs": [],
   "source": [
    "start_date = date(2023, 11, 2)\n",
    "end_date = date(2023, 12, 15)\n",
    "collect_csv = {}\n",
    "while end_date < datetime.now().date() + timedelta(days=1):\n",
    "    end_date = start_date + timedelta(days=6)\n",
    "    file_name = './pub_search_crossref/cr_results_202311/cr_check_'+str(end_date)+'a.csv'\n",
    "    print('looking for:', file_name)\n",
    "    if Path(file_name).is_file():\n",
    "        print(\"**********************************************\")\n",
    "        csv_data, csv_headings = csv_rw.get_csv_data(file_name)\n",
    "        print(\"Found: \", file_name, \" entries: \", len(csv_data))\n",
    "        start = len(collect_csv)\n",
    "        #print(csv_data)\n",
    "        for an_id in csv_data:\n",
    "            new_id = start + an_id\n",
    "            csv_data[an_id]['cut_date'] = str(end_date)\n",
    "            collect_csv[new_id] = csv_data[an_id]\n",
    "    start_date = end_date + timedelta(days=1)\n",
    "# WRITE TO FILE\n",
    "if len(collect_csv) > 0:\n",
    "    csv_rw.write_csv_data(collect_csv, './pub_search_crossref/cr_results_202311/cr_check_'+str(end_date)+'all.csv') "
   ]
  },
  {
   "cell_type": "code",
   "execution_count": 14,
   "id": "bd64dd36",
   "metadata": {},
   "outputs": [
    {
     "data": {
      "text/plain": [
       "0"
      ]
     },
     "execution_count": 14,
     "metadata": {},
     "output_type": "execute_result"
    }
   ],
   "source": [
    "len(collect_csv)"
   ]
  },
  {
   "cell_type": "code",
   "execution_count": 29,
   "id": "e1d7ecd9",
   "metadata": {},
   "outputs": [
    {
     "name": "stdout",
     "output_type": "stream",
     "text": [
      "Found:  pub_search_crossref\\cr_results_202311\\cr_check_2023-10-07a.csv 2023-10-07  entries:  3\n",
      "Found:  pub_search_crossref\\cr_results_202311\\cr_check_2023-10-14a.csv 2023-10-14  entries:  2\n",
      "Found:  pub_search_crossref\\cr_results_202311\\cr_check_2023-10-28a.csv 2023-10-28  entries:  1\n",
      "Found:  pub_search_crossref\\cr_results_202311\\cr_check_2023-11-04a.csv 2023-11-04  entries:  1\n",
      "Found:  pub_search_crossref\\cr_results_202311\\cr_check_2023-11-08a.csv 2023-11-08  entries:  1\n",
      "Found:  pub_search_crossref\\cr_results_202311\\cr_check_2023-11-09a.csv 2023-11-09  entries:  2\n",
      "Found:  pub_search_crossref\\cr_results_202311\\cr_check_2023-11-16a.csv 2023-11-16  entries:  1\n",
      "Found:  pub_search_crossref\\cr_results_202311\\cr_check_2023-11-24a.csv 2023-11-24  entries:  1\n",
      "Found:  pub_search_crossref\\cr_results_202311\\cr_check_2023-12-02a.csv 2023-12-02  entries:  2\n",
      "Found:  pub_search_crossref\\cr_results_202311\\cr_check_2023-12-03a.csv 2023-12-03  entries:  2\n",
      "Found:  pub_search_crossref\\cr_results_202311\\cr_check_2023-12-11a.csv 2023-12-11  entries:  1\n"
     ]
    }
   ],
   "source": [
    "collect_csv = {}\n",
    "final_date = \"\"\n",
    "for a_file in Path('./pub_search_crossref/cr_results_202311/').glob('*.csv'):\n",
    "    csv_data, csv_headings = csv_rw.get_csv_data(a_file)\n",
    "    print(\"Found: \", a_file, str(a_file)[-15:-5],\" entries: \", len(csv_data))\n",
    "    start = len(collect_csv)\n",
    "    #print(csv_data)\n",
    "    for an_id in csv_data:\n",
    "        new_id = start + an_id\n",
    "        csv_data[an_id]['cut_date'] = str(a_file)[-15:-5]\n",
    "        collect_csv[new_id] = csv_data[an_id]\n",
    "        final_date = str(a_file)[-15:-5]\n",
    "        \n",
    "if len(collect_csv) > 0:\n",
    "    csv_rw.write_csv_data(collect_csv, './pub_search_crossref/cr_results_202311/cr_check_'+final_date+'all.csv')              "
   ]
  },
  {
   "cell_type": "code",
   "execution_count": 41,
   "id": "efa33b8f",
   "metadata": {},
   "outputs": [
    {
     "name": "stdout",
     "output_type": "stream",
     "text": [
      "10.1038/s41598-023-43523-x\n",
      "10.3390/ijms241914779\n",
      "10.1002/cplu.202300413\n",
      "10.1016/j.apcata.2023.119442\n",
      "10.1002/cplu.202300411\n",
      "10.1002/cplu.202300545\n",
      "10.1039/d3cp03167e\n",
      "10.1039/d3cp03167e\n",
      "10.1021/jacsau.3c00403\n",
      "10.1039/d3cp03167e\n",
      "10.1021/jacsau.3c00403\n",
      "10.1021/acscatal.3c04208\n",
      "10.3390/catal13121489\n",
      "10.1021/acscatal.3c03214\n",
      "10.3390/catal13121489\n",
      "10.1021/acscatal.3c03214\n",
      "10.3390/catal13121499\n"
     ]
    }
   ],
   "source": [
    "str_all=\"\"\n",
    "for a_r in collect_csv:\n",
    "    print(collect_csv[a_r]['DOI'])\n",
    "    str_all += \"'\"+collect_csv[a_r]['DOI']+\"',\""
   ]
  },
  {
   "cell_type": "code",
   "execution_count": 42,
   "id": "c4d8b770",
   "metadata": {},
   "outputs": [
    {
     "data": {
      "text/plain": [
       "\"'10.1038/s41598-023-43523-x','10.3390/ijms241914779','10.1002/cplu.202300413','10.1016/j.apcata.2023.119442','10.1002/cplu.202300411','10.1002/cplu.202300545','10.1039/d3cp03167e','10.1039/d3cp03167e','10.1021/jacsau.3c00403','10.1039/d3cp03167e','10.1021/jacsau.3c00403','10.1021/acscatal.3c04208','10.3390/catal13121489','10.1021/acscatal.3c03214','10.3390/catal13121489','10.1021/acscatal.3c03214','10.3390/catal13121499',\""
      ]
     },
     "execution_count": 42,
     "metadata": {},
     "output_type": "execute_result"
    }
   ],
   "source": [
    "str_all"
   ]
  },
  {
   "cell_type": "code",
   "execution_count": null,
   "id": "85e6479a",
   "metadata": {},
   "outputs": [],
   "source": []
  }
 ],
 "metadata": {
  "kernelspec": {
   "display_name": "Python 3 (ipykernel)",
   "language": "python",
   "name": "python3"
  },
  "language_info": {
   "codemirror_mode": {
    "name": "ipython",
    "version": 3
   },
   "file_extension": ".py",
   "mimetype": "text/x-python",
   "name": "python",
   "nbconvert_exporter": "python",
   "pygments_lexer": "ipython3",
   "version": "3.9.2rc1"
  }
 },
 "nbformat": 4,
 "nbformat_minor": 5
}
