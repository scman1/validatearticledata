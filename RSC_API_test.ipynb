{
 "cells": [
  {
   "cell_type": "code",
   "execution_count": 1,
   "metadata": {},
   "outputs": [],
   "source": [
    "# manage file system\n",
    "from pathlib import Path\n",
    "# manage configuration files (*.ini)\n",
    "import configparser\n",
    "# manage http requests\n",
    "import requests\n",
    "\n",
    "# configuration file storing keys\n",
    "ini_file = Path().absolute() /  \"config/config.ini\"\n",
    "api_key = \"\"\n",
    "\n",
    "# Read key value from a configuration file\n",
    "if ini_file.exists():\n",
    "    seg_config = configparser.ConfigParser()\n",
    "    seg_config.read(ini_file)\n",
    "    api_key = seg_config['ApiKeys'][\"WileyMining\"]\n",
    "    "
   ]
  },
  {
   "cell_type": "code",
   "execution_count": 5,
   "metadata": {},
   "outputs": [
    {
     "name": "stdout",
     "output_type": "stream",
     "text": [
      "could not get: https://pubs.rsc.org/en/content/articlepdf/2020/CY/D0CY01484B\n",
      "could not get: https://pubs.rsc.org/en/content/articlepdf/2021/CY/D0CY02164D\n",
      "could not get: https://pubs.rsc.org/en/content/articlepdf/2019/SC/C9SC00385A\n",
      "could not get: https://pubs.rsc.org/en/content/articlepdf/2020/DT/C9DT02918D\n",
      "could not get: https://pubs.rsc.org/en/content/articlepdf/2019/DT/C9DT00595A\n",
      "could not get: https://pubs.rsc.org/en/content/articlepdf/2021/CY/D1CY00238D\n",
      "could not get: https://pubs.rsc.org/en/content/articlepdf/2020/CY/D0CY01608J\n",
      "could not get: https://pubs.rsc.org/en/content/articlepdf/2021/FD/D0FD00014K\n",
      "could not get: https://pubs.rsc.org/en/content/articlepdf/2020/CC/D0CC04036C\n",
      "could not get: https://pubs.rsc.org/en/content/articlepdf/2021/TA/D1TA01464A\n",
      "could not get: https://pubs.rsc.org/en/content/articlepdf/2020/CP/D0CP00793E\n",
      "could not get: https://pubs.rsc.org/en/content/articlepdf/2020/TA/D0TA01398F\n",
      "could not get: https://pubs.rsc.org/en/content/articlepdf/2020/TA/D0TA08351H\n",
      "could not get: http://www.nature.com/articles/s41467-019-10481-w.pdf\n"
     ]
    }
   ],
   "source": [
    "urls = [\"https://pubs.rsc.org/en/content/articlepdf/2020/CY/D0CY01484B\", \"https://pubs.rsc.org/en/content/articlepdf/2021/CY/D0CY02164D\",\n",
    " \"https://pubs.rsc.org/en/content/articlepdf/2019/SC/C9SC00385A\", \"https://pubs.rsc.org/en/content/articlepdf/2020/DT/C9DT02918D\",\n",
    " \"https://pubs.rsc.org/en/content/articlepdf/2019/DT/C9DT00595A\", \"https://pubs.rsc.org/en/content/articlepdf/2021/CY/D1CY00238D\",\n",
    " \"https://pubs.rsc.org/en/content/articlepdf/2020/CY/D0CY01608J\", \"https://pubs.rsc.org/en/content/articlepdf/2021/FD/D0FD00014K\", \n",
    " \"https://pubs.rsc.org/en/content/articlepdf/2020/CC/D0CC04036C\", \"https://pubs.rsc.org/en/content/articlepdf/2021/TA/D1TA01464A\",\n",
    " \"https://pubs.rsc.org/en/content/articlepdf/2020/CP/D0CP00793E\", \"https://pubs.rsc.org/en/content/articlepdf/2020/TA/D0TA01398F\", \n",
    " \"https://pubs.rsc.org/en/content/articlepdf/2020/TA/D0TA08351H\", \"http://www.nature.com/articles/s41467-019-10481-w.pdf\"]\n",
    "\n",
    "\n",
    "url=     \"https://pubs.rsc.org/en/content/articlepdf/2020/CY/D0CY01484B\"\n",
    "doi =    \"10.1039/d0cy01484b\"\n",
    "for a_url in urls:\n",
    "    try:\n",
    "        r = requests.get(f'{url}?httpAccept=application/pdf')\n",
    "        with open('test7.pdf','wb') as f:\n",
    "            f.write(r.content)\n",
    "    except:\n",
    "        print (\"could not get:\", a_url)\n"
   ]
  },
  {
   "cell_type": "code",
   "execution_count": null,
   "metadata": {},
   "outputs": [],
   "source": []
  }
 ],
 "metadata": {
  "kernelspec": {
   "display_name": "Python 3",
   "language": "python",
   "name": "python3"
  },
  "language_info": {
   "codemirror_mode": {
    "name": "ipython",
    "version": 3
   },
   "file_extension": ".py",
   "mimetype": "text/x-python",
   "name": "python",
   "nbconvert_exporter": "python",
   "pygments_lexer": "ipython3",
   "version": "3.8.8"
  }
 },
 "nbformat": 4,
 "nbformat_minor": 4
}
