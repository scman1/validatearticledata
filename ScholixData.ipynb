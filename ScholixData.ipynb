{
 "cells": [
  {
   "cell_type": "markdown",
   "id": "62f07b25",
   "metadata": {},
   "source": [
    "# Look up in the scholix registry\n",
    "\n",
    "Read DOIs from rails app. Look up each DOI in the Scholix registry and save links to a csv file.\n",
    "\n",
    "\n"
   ]
  },
  {
   "cell_type": "code",
   "execution_count": null,
   "id": "28d9b1b3",
   "metadata": {},
   "outputs": [
    {
     "name": "stderr",
     "output_type": "stream",
     "text": [
      "<ipython-input-6-b6204c6ca34a>:69: TqdmDeprecationWarning: This function will be removed in tqdm==5.0.0\n",
      "Please use `tqdm.notebook.tqdm` instead of `tqdm.tqdm_notebook`\n",
      "  for a_pub in tqdm_notebook(app_pubs):\n"
     ]
    },
    {
     "data": {
      "application/vnd.jupyter.widget-view+json": {
       "model_id": "0938046ae00e44a89b6cebaa87ecbd15",
       "version_major": 2,
       "version_minor": 0
      },
      "text/plain": [
       "  0%|          | 0/451 [00:00<?, ?it/s]"
      ]
     },
     "metadata": {},
     "output_type": "display_data"
    }
   ],
   "source": [
    "# library containign read and write functions to csv file\n",
    "import lib.handle_csv as csvh\n",
    "\n",
    "# library for handling url searchs\n",
    "import lib.handle_urls as urlh\n",
    "\n",
    "# library for connecting to the db\n",
    "import lib.handle_db as dbh\n",
    "\n",
    "# import custom functions (common to various notebooks)\n",
    "import processing_functions as pr_fns\n",
    "\n",
    "# managing files and file paths\n",
    "from pathlib import Path\n",
    "\n",
    "# add aprogress bar\n",
    "from tqdm import tqdm_notebook \n",
    "from tqdm import tqdm\n",
    "\n",
    "import json\n",
    "\n",
    "\n",
    "\n",
    "# list of already searched DOIs\n",
    "doi_list = ['10.1002/chem.202000067', '10.1016/j.jcat.2018.01.033', '10.1021/acscatal.9b03889', \n",
    "            '10.1039/d0cp01227k', '10.1039/d0cy01061h', '10.1098/rsta.2020.0058', '10.1098/rsta.2020.0063', \n",
    "            '10.1039/D0CY01608J', '10.1021/acs.est.0c04279', '10.1039/D0CP01192D', '10.1039/d0cy01779e', \n",
    "            '10.1021/acsenergylett.0c02614', '10.1039/d1fd00004g', '10.3390/catal10121370', \n",
    "            '10.1039/d1gc00901j', '10.1038/s41467-021-21062-1', '10.1021/acscatal.0c05413',\n",
    "            '10.1021/acscatal.0c04858', '10.1088/1361-648x/abfe16', '10.1088/1361-6463/abe9e1', \n",
    "            '10.1039/d0sc03113e', '10.1007/s11244-021-01447-8', '10.1021/acs.organomet.1c00055', \n",
    "            '10.1021/acscatal.0c05019', '10.1021/acs.inorgchem.1c00327', '10.1002/smsc.202100032', \n",
    "            '10.1039/d0gc02295k', '10.1002/anie.201901592', '10.1021/acs.organomet.9b00845', \n",
    "            '10.1021/jacs.9b13106', '10.1002/anie.202006807', '10.1021/jacs.0c07980', '10.1039/d0cy01484b',\n",
    "            '10.1039/d0cy02164d', '10.1002/anie.202101180', '10.1002/chem.202101140', \n",
    "            '10.1021/acsmacrolett.1c00216', '10.1002/anie.201810245', '10.1039/c9sc00385a', \n",
    "            '10.1021/acs.macromol.8b01224', '10.1039/c9dt02918d', '10.1038/s41467-019-10481-w', \n",
    "            '10.1002/ange.201901592', '10.1039/c9dt00595a', '10.1039/d1cy00238d', \n",
    "            '10.1021/acs.inorgchem.8b02923', '10.1002/ange.202006807', '10.1002/anie.201814320', \n",
    "            '10.1007/s10562-019-02876-7', '10.1021/acs.jpcc.9b09050', '10.1016/j.apcatb.2017.01.042',\n",
    "            '10.1039/d0cc04036c', '10.1002/anie.202015016', '10.1039/d1ta01464a', '10.1002/smtd.202100512',\n",
    "            '10.1107/s1600576720013576', '10.1039/d0cp00793e', '10.1039/d0ta01398f', \n",
    "            '10.1007/s11244-021-01450-z', '10.1039/d0ta08351h', '10.1021/acssuschemeng.1c01451',\n",
    "            '10.1002/cphc.201800721', '10.1021/acssuschemeng.8b04073', '10.1002/cctc.202100286', \n",
    "            '10.1007/s11244-020-01245-8', '10.1021/acscatal.0c03620', '10.1016/j.cattod.2018.06.033', \n",
    "            '10.1016/j.apcatb.2020.118752', '10.1016/j.joule.2020.07.024', '10.1002/anie.201814381', \n",
    "            '10.1002/ange.201902857']\n",
    "\n",
    "\n",
    "# Set the name of currend app DB\n",
    "ukchapp_db = \"db_files/app_db20211005.sqlite3\"\n",
    "while not Path(ukchapp_db).is_file():\n",
    "    print('Please enter the name of app db file:')\n",
    "    ukchapp_db = input()\n",
    "\n",
    "# Get publication data from the ukch app\n",
    "app_pubs = pr_fns.get_pub_app_data(ukchapp_db)\n",
    "\n",
    "# Get pdf and html name from previous and put it in current\n",
    "data_links = {}\n",
    "a_dl = {}\n",
    "\n",
    "url_base = 'http://api.scholexplorer.openaire.eu/v2/Links?sourcePid='\n",
    "ignore_types = ['References','IsReferencedBy']\n",
    "\n",
    "terminate = False\n",
    "\n",
    "\n",
    "for a_pub in tqdm_notebook(app_pubs):\n",
    "    pub_id = a_pub[0]\n",
    "    pub_title = a_pub[1]\n",
    "    pub_doi = a_pub[2]\n",
    "    pub_url = a_pub[3]\n",
    "    match_found = False\n",
    "    if pr_fns.valid_doi(pub_doi):\n",
    "        response = urlh.getPageFromURL(url_base + pub_doi.replace('/','%2f'))\n",
    "        data_results = json.loads(response)\n",
    "        id_dl = len(data_links)\n",
    "        for a_result in data_results['result']:\n",
    "            if not a_result['RelationshipType']['Name'] in ignore_types:\n",
    "                id_dl += 1\n",
    "                source_doi = pub_doi\n",
    "                source_title = a_result['source']['Title']\n",
    "                source_published = a_result['source']['PublicationDate']\n",
    "                target_id = a_result['target']['Identifier'][0]['ID']\n",
    "                if not pr_fns.valid_doi(target_id):\n",
    "                    if a_result['target']['Identifier'][0]['IDScheme'] in ['uniprot','pdb']:\n",
    "                        target_id = a_result['target']['Identifier'][0]['IDURL']\n",
    "                    else:\n",
    "                        for an_id in a_result['target']['Identifier']:\n",
    "                            print (an_id)\n",
    "                        terminate = True    \n",
    "                target_title = a_result['target']['Title']\n",
    "                target_published = a_result['target']['PublicationDate']\n",
    "\n",
    "                rel_type = a_result['RelationshipType']['Name']\n",
    "\n",
    "                a_dl = {\"pub_id\": pub_id,\"pub_doi\":source_doi,'source_title':source_title, 'source_published':source_published,\n",
    "                        'target_id':target_id, 'target_title':target_title, \n",
    "                        'target_published': target_published, 'rel_type': rel_type}\n",
    "                data_links[id_dl]=a_dl\n",
    "    if terminate:\n",
    "        break\n",
    "print ('References found:', len(data_links))\n",
    "        \n",
    "    \n",
    "if len(data_links) > 0  and not terminate:\n",
    "    csvh.write_csv_data(data_links, \"ccdc_scholix3.csv\")"
   ]
  },
  {
   "cell_type": "code",
   "execution_count": null,
   "id": "a8b6f000",
   "metadata": {},
   "outputs": [],
   "source": []
  }
 ],
 "metadata": {
  "kernelspec": {
   "display_name": "Python 3",
   "language": "python",
   "name": "python3"
  },
  "language_info": {
   "codemirror_mode": {
    "name": "ipython",
    "version": 3
   },
   "file_extension": ".py",
   "mimetype": "text/x-python",
   "name": "python",
   "nbconvert_exporter": "python",
   "pygments_lexer": "ipython3",
   "version": "3.8.8"
  }
 },
 "nbformat": 4,
 "nbformat_minor": 5
}
