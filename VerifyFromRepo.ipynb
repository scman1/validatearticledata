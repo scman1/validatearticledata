{
 "cells": [
  {
   "cell_type": "code",
   "execution_count": 2,
   "metadata": {},
   "outputs": [],
   "source": [
    "# Libraries\n",
    "# library containign functions that read and write to csv files\n",
    "import lib.handle_csv as csvh\n",
    "# library for connecting to the db\n",
    "import lib.handle_db as dbh\n",
    "# library for handling text matchings\n",
    "import lib.text_comp as txtc\n",
    "# library for getting data from crossref\n",
    "import lib.crossref_api as cr_api\n",
    "# library for handling url searchs\n",
    "import lib.handle_urls as urlh\n",
    "\n",
    "from pathlib import Path\n",
    "\n",
    "\n",
    "# input files\n",
    "new_results_file = 'repo_searches/diamond_pub_search.csv'\n",
    "previous_results = 'pop_searches/ukch_pop_prev_res.csv'\n",
    "\n",
    "#output files\n",
    "nr_wf = new_results_file[:-4]+\"_wf.csv\"\n",
    "working_file = wf_fields = None\n",
    "current_pass = 0\n",
    "if Path(nr_wf).is_file():\n",
    "    working_file, wf_fields = csvh.get_csv_data(nr_wf,'Num')\n",
    "    for art_num in working_file:\n",
    "        if current_pass < int(working_file[art_num]['ignore']) :\n",
    "            current_pass = int(working_file[art_num]['ignore'])"
   ]
  },
  {
   "cell_type": "code",
   "execution_count": 3,
   "metadata": {},
   "outputs": [],
   "source": [
    "if current_pass == 0:\n",
    "    i = 0\n",
    "    db_conn = dbh.DataBaseAdapter('ukch_articles.sqlite')\n",
    "    for art_num in working_file:\n",
    "        if working_file[art_num]['ignore']=='0':\n",
    "            new_title = working_file[art_num]['Title']\n",
    "            new_doi = working_file[art_num]['DOI'].lower()\n",
    "            db_title = db_conn.get_title(new_doi)\n",
    "            if db_title == None:\n",
    "                print(\"Not in DB:\", new_doi, new_title)\n",
    "            else:\n",
    "                print(\"Already in DB:\", new_doi, \"for:\", new_title, db_title)\n",
    "                working_file[art_num]['ignore'] = '5'\n",
    "    print(\"without DOI:\", i)\n",
    "    csvh.write_csv_data(working_file, nr_wf)\n",
    "    current_pass = 5"
   ]
  },
  {
   "cell_type": "code",
   "execution_count": 18,
   "metadata": {},
   "outputs": [
    {
     "name": "stdout",
     "output_type": "stream",
     "text": [
      "Analysing: Synchrotron radiation and catalytic science 10.1080/08940886.2020.1701368 \n",
      "Ack: \n",
      "Analysing: Rewiring the ‘push-pull’ catalytic machinery of a heme enzyme using an expanded genetic code 10.1021/acscatal.9b05129 \n",
      "Ack: <span class=\"article_header-suppInfo-text\">Supporting Info (1)</span>\n",
      "Analysing: Correlation of the ratio of metallic to oxide species with activity of PdPt catalysts for methane oxidation 10.1039/C9CY02371B \n",
      "Ack: \n",
      "Analysing: Understanding the mechanochemical synthesis of the perovskite LaMnO 3 and its catalytic behaviour 10.1039/C9DT03590G \n",
      "Ack: <span>\n",
      "                            UK Catalysis Hub, Research Complex at Harwell, Rutherford Appleton Laboratories, Harwell Science &amp; Innovation Campus, Didcot, Oxfordshire OX11 0FA, UK\n",
      "\n",
      "                                <br>\n",
      "<b>E-mail:</b>\n",
      "<a href=\"mailto:P.P.Wells@soton.ac.uk\" title=\"P.P.Wells@soton.ac.uk\">P.P.Wells@soton.ac.uk</a> </br></span>\n",
      "Analysing: Influence of synthesis conditions on the structure of nickel nanoparticles and their reactivity in selective asymmetric hydrogenation 10.1002/cctc.201901955 \n",
      "Ack: <span>Supporting Information</span>\n",
      "Analysing: Capping agent effect on Pd-supported nanoparticles in the hydrogenation of furfural 10.3390/catal10010011 \n",
      "Ack: \n",
      "Analysing: Implications of the molybdenum coordination environment in MFI zeolites on methane dehydroaromatisation performance 10.1002/cctc.201901166 \n",
      "Ack: <span>Supporting Information</span>\n",
      "Analysing: Catalytic decomposition of N 2 O over Cu–Al–O x mixed metal oxides 10.1039/C8RA10509J \n",
      "Ack: <span>\n",
      "                            UK Catalysis Hub, Research Complex at Harwell, Rutherford Appleton Laboratories, Didcot, Oxon OX11 0FA, UK\n",
      "\n",
      "                                                                                                            </span>\n",
      "Analysing: Computational investigation of CO adsorbed on Aux, Agx and (AuAg)x nanoclusters (x = 1 − 5, 147) and monometallic Au and Ag low-energy surfaces 10.1140/epjb/e2017-80280-7 \n",
      "Ack: <span class=\"u-visually-hidden\" itemprop=\"affiliation\" itemscope=\"itemscope\" itemtype=\"http://schema.org/Organization\"><meta content=\"The U.K. Catalysis Hub, Research Complex at Harwell, Rutherford Appleton Laboratory\" itemprop=\"name\"/><meta content=\"0000 0001 2296 6998, grid.76978.37, The U.K. Catalysis Hub, Research Complex at Harwell, Rutherford Appleton Laboratory, Oxfordshire, OX11 0FA, UK\" itemprop=\"address\"/></span>\n",
      "<span class=\"u-visually-hidden\" itemprop=\"affiliation\" itemscope=\"itemscope\" itemtype=\"http://schema.org/Organization\"><meta content=\"The U.K. Catalysis Hub, Research Complex at Harwell, Rutherford Appleton Laboratory\" itemprop=\"name\"/><meta content=\"0000 0001 2296 6998, grid.76978.37, The U.K. Catalysis Hub, Research Complex at Harwell, Rutherford Appleton Laboratory, Oxfordshire, OX11 0FA, UK\" itemprop=\"address\"/></span>\n",
      "<span class=\"c-article-author-affiliation__address u-h3\">The U.K. Catalysis Hub, Research Complex at Harwell, Rutherford Appleton Laboratory, Oxfordshire, OX11 0FA, UK</span>\n",
      "Analysing: In situ spatially resolved techniques for the investigation of packed bed catalytic reactors: current status and future outlook of spaci-fb 10.1016/bs.ache.2017.05.001 \n",
      "Ack: \n",
      "Analysing: Influence of Composition and Chemical Arrangement on the Kinetic Stability of 147-Atom Au–Ag Bimetallic Nanoclusters 10.1021/acs.jpcc.5b03577 \n",
      "Ack: <span class=\"aff-text\">UK Catalysis Hub, Research Complex at Harwell, Rutherford Appleton Laboratory, Harwell Oxford, Didcot, Oxon OX11 0FA, U.K.</span>\n",
      "Analysing: Understanding the Thermal Stability of Silver Nanoparticles Embedded in a-Si 10.1021/acs.jpcc.5b07324 \n",
      "Ack: <span class=\"aff-text\">UK Catalysis Hub, Research Complex at Harwell, Rutherford Appleton Laboratory, Harwell, Oxfordshire OX11 0FA, U.K.</span>\n",
      "Analysing: Novel PdIr/C Catalysts for the Hydrogen Oxidation Reaction in Alkaline Media 10.1149/05801.0637ecst \n",
      "Ack: \n"
     ]
    }
   ],
   "source": [
    "if current_pass >= 5:\n",
    "    i = 0\n",
    "    for art_num in working_file:\n",
    "        if working_file[art_num]['ignore']=='0':\n",
    "            article_title = working_file[art_num]['Title']\n",
    "            article_doi = working_file[art_num]['DOI']\n",
    "            article_url = \"\" #working_file[art_num]['ArticleURL']\n",
    "            print(\"Analysing:\", article_title, article_doi, article_url)\n",
    "            # try to retrive html page for article using link from crossref first\n",
    "            # and if not try url from pop\n",
    "            # find reference to uk catalysis hub in html text\n",
    "            # if found mark as relevant\n",
    "            found = \"\"\n",
    "            referents = [\"uk catalysis hub\", \"uk catalysis\", \"catalysis hub\",\n",
    "                 'EP/R026645/1', 'resources', 'EP/K014668/1', 'EPSRC', 'EP/K014714/1',\n",
    "                 'Hub','provided', 'grant', 'biocatalysis', 'EP/R026815/1', 'EP/R026939/1',\n",
    "                 'support', 'membership', 'EP/M013219/1', 'UK', 'kindly', 'Catalysis',\n",
    "                 'funded', 'EP/R027129/1', 'Consortium', 'thanked', 'EP/K014854/1', 'EP/K014706/2']\n",
    "            found = urlh.findFromDOI(article_title, article_doi, referents)\n",
    "            working_file[art_num]['checked_doi'] = 1\n",
    "            working_file[art_num]['ack_doi'] = found\n",
    "            #found = urlh.findFromURI(article_title, article_url, referents)\n",
    "            #working_file[art_num]['checked_url'] = 1\n",
    "            #working_file[art_num]['ack_url'] = found\n",
    "            print(\"Ack:\", found)\n",
    "    csvh.write_csv_data(working_file, nr_wf)"
   ]
  },
  {
   "cell_type": "code",
   "execution_count": null,
   "metadata": {},
   "outputs": [],
   "source": []
  }
 ],
 "metadata": {
  "kernelspec": {
   "display_name": "Python 3",
   "language": "python",
   "name": "python3"
  },
  "language_info": {
   "codemirror_mode": {
    "name": "ipython",
    "version": 3
   },
   "file_extension": ".py",
   "mimetype": "text/x-python",
   "name": "python",
   "nbconvert_exporter": "python",
   "pygments_lexer": "ipython3",
   "version": "3.7.4"
  }
 },
 "nbformat": 4,
 "nbformat_minor": 2
}
