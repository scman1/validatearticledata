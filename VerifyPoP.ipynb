{
 "cells": [
  {
   "cell_type": "markdown",
   "metadata": {},
   "source": [
    "# Verification of references to UK Catalysis Hub \n",
    "A list of articles is obtainded from publish or perish. This list will contain a titles and some IDs whic need to be verified. \n",
    "\n",
    "The criteria for adding a publication to the database are: \n",
    "a) has an explicit acknowledgement of UK Catalysis Hub\n",
    "b) mentions one of the UK Catalysis Hub grants\n",
    "c) has two or more authors with affiliation to UK Catalysis Hub\n",
    "d) acknowledges support from a scientist affiliated to UK Catalysis Hub."
   ]
  },
  {
   "cell_type": "code",
   "execution_count": 1,
   "metadata": {},
   "outputs": [],
   "source": [
    "# Libraries\n",
    "# library containign functions that read and write to csv files\n",
    "import lib.handle_csv as csvh\n",
    "# library for connecting to the db\n",
    "import lib.handle_db as dbh\n",
    "# library for handling text matchings\n",
    "import lib.text_comp as txtc\n",
    "# library for getting data from crossref\n",
    "import lib.crossref_api as cr_api\n",
    "# library for handling url searchs\n",
    "import lib.handle_urls as urlh\n",
    "# managing files and file paths\n",
    "from pathlib import Path\n",
    "# add aprogress bar\n",
    "from tqdm import tqdm_notebook \n",
    "\n",
    "\n",
    "# input files\n",
    "new_results_file = 'pop_searches/PoPCites20201017.csv'\n",
    "previous_results = 'pop_searches/ukch_pop_prev_res.csv'\n",
    "\n",
    "#output files\n",
    "nr_wf = new_results_file[:-4]+\"_wf.csv\"\n"
   ]
  },
  {
   "cell_type": "markdown",
   "metadata": {},
   "source": [
    "Get the name of the file with the results of the PoP search:"
   ]
  },
  {
   "cell_type": "code",
   "execution_count": null,
   "metadata": {},
   "outputs": [],
   "source": [
    "new_results_file = \"\"\n",
    "while not Path(new_results_file).is_file():\n",
    "    print('Please enter the name of the input file:')\n",
    "    new_results_file = input()"
   ]
  },
  {
   "cell_type": "markdown",
   "metadata": {},
   "source": [
    "Get the name of the file with previous results of the PoP search:"
   ]
  },
  {
   "cell_type": "code",
   "execution_count": null,
   "metadata": {},
   "outputs": [],
   "source": [
    "previous_results = \"\"\n",
    "while not Path(previous_results).is_file():\n",
    "    print('Please enter the name of the previous results file:')\n",
    "    previous_results = input()"
   ]
  },
  {
   "cell_type": "markdown",
   "metadata": {},
   "source": [
    "Set the name of the output file\n"
   ]
  },
  {
   "cell_type": "code",
   "execution_count": 2,
   "metadata": {},
   "outputs": [
    {
     "name": "stdout",
     "output_type": "stream",
     "text": [
      "Verifying if the articles listed in: \n",
      "\t PoPCites20201017.csv\n",
      "where included in previous searches: \n",
      "\t ukch_pop_prev_res.csv\n",
      "The results will bt saves in: \n",
      "\t pop_searches/PoPCites20201017_wf.csv\n"
     ]
    }
   ],
   "source": [
    "nr_wf = new_results_file[:-4]+\"_wf.csv\"\n",
    "print(\"Verifying if the articles listed in: \\n\\t\", Path(new_results_file).name)\n",
    "print(\"where included in previous searches: \\n\\t\", Path(previous_results).name)\n",
    "\n",
    "print(\"The results will bt saves in: \\n\\t\", nr_wf)"
   ]
  },
  {
   "cell_type": "code",
   "execution_count": 3,
   "metadata": {},
   "outputs": [
    {
     "data": {
      "application/vnd.jupyter.widget-view+json": {
       "model_id": "dd3eb5d07b5b4a00bda5a8480d717307",
       "version_major": 2,
       "version_minor": 0
      },
      "text/plain": [
       "HBox(children=(IntProgress(value=0, max=998), HTML(value='')))"
      ]
     },
     "metadata": {},
     "output_type": "display_data"
    },
    {
     "name": "stdout",
     "output_type": "stream",
     "text": [
      "\n"
     ]
    }
   ],
   "source": [
    "working_file = wf_fields = None\n",
    "current_pass = 0\n",
    "if Path(nr_wf).is_file():\n",
    "    working_file, wf_fields = csvh.get_csv_data(nr_wf,'Num')\n",
    "    for art_num in tqdm_notebook(working_file):\n",
    "        if current_pass < int(working_file[art_num]['ignore']) :\n",
    "            current_pass = int(working_file[art_num]['ignore'])\n",
    "#print(nr_wf)"
   ]
  },
  {
   "cell_type": "markdown",
   "metadata": {},
   "source": [
    "## Verify if already processed titles are included\n",
    "Read data and verify if results in file have already been included in previous searches\n"
   ]
  },
  {
   "cell_type": "code",
   "execution_count": 4,
   "metadata": {},
   "outputs": [],
   "source": [
    "if current_pass == 0:\n",
    "    csv_articles, fn_articles = csvh.get_csv_data(new_results_file,'Num')\n",
    "    prev_articles, fn_prev = csvh.get_csv_data(previous_results,'Num')\n",
    "    # print(prev_articles)\n",
    "    # pass 1a exact match\n",
    "    for art_num in tqdm_notebook(csv_articles):\n",
    "        new_title = csv_articles[art_num]['Title']\n",
    "        for prev_num in (prev_articles):\n",
    "            if new_title == prev_articles[prev_num]['Title']:\n",
    "                #print(art_num, 'Title:', csv_articles[art_num]['Title'], \"already processed\", prev_num, prev_articles[prev_num]['Title'])\n",
    "                csv_articles[art_num]['ignore']=1\n",
    "                break\n",
    "        if not 'ignore' in csv_articles[art_num].keys():\n",
    "            csv_articles[art_num]['ignore']=0\n",
    "    # pass 1b approximate match\n",
    "    for art_num in csv_articles:\n",
    "        if csv_articles[art_num]['ignore']==0:\n",
    "            new_title = csv_articles[art_num]['Title']\n",
    "            for prev_num in prev_articles:\n",
    "                if txtc.similar(new_title, prev_articles[prev_num]['Title'])> 0.80:\n",
    "                    #print(art_num, 'Title:', csv_articles[art_num]['Title'], \"already processed\", prev_num, prev_articles[prev_num]['Title'])\n",
    "                    csv_articles[art_num]['ignore']=1\n",
    "                    break\n",
    "    csvh.write_csv_data(csv_articles, nr_wf)\n",
    "    if Path(nr_wf).is_file():\n",
    "        working_file, wf_fields = csvh.get_csv_data(nr_wf,'Num')\n",
    "        for art_num in working_file:\n",
    "            if current_pass < int(working_file[art_num]['ignore']) :\n",
    "                current_pass = int(working_file[art_num]['ignore'])\n",
    "    \n",
    "    print(nr_wf)"
   ]
  },
  {
   "cell_type": "markdown",
   "metadata": {},
   "source": [
    "## Check Title Wording\n",
    "Using the workds in previous catalysis hub papers check if the title is likely to be a cat hub title"
   ]
  },
  {
   "cell_type": "code",
   "execution_count": 5,
   "metadata": {},
   "outputs": [],
   "source": [
    "if current_pass in [0,1]:\n",
    "    # pass 2\n",
    "    # check titles for likelihood of being catalysis articles using keywords from titles in current DB \n",
    "    print(\"Get word list from DB\")\n",
    "    x = dbh.DataBaseAdapter('ukch_articles.sqlite')\n",
    "    db_titles = x.get_value_list('articles','title')\n",
    "    title_words = set()\n",
    "    ignore_words=set(['the','of','to','and','a','in','is','it', 'their', 'so', 'as'])\n",
    "    average = 0\n",
    "    words_sum = 0.0\n",
    "    for title in db_titles:\n",
    "        one_title = set(title.lower().split())\n",
    "        one_title = one_title - ignore_words\n",
    "        title_words = title_words.union(one_title)\n",
    "        words_sum += len(one_title) \n",
    "        \n",
    "    average = words_sum /len(db_titles)\n",
    "    print(\"Average words per title:\", average)\n",
    "    title_words = title_words - ignore_words\n",
    "    for art_num in working_file:\n",
    "        if 0 == int(working_file[art_num]['ignore']):\n",
    "            art_title = working_file[art_num]['Title']\n",
    "            art_words = set(art_title.lower().split())\n",
    "            occurrences = len(title_words.intersection(art_words))\n",
    "            working_file[art_num]['keywords']=occurrences\n",
    "            if occurrences <= 4:\n",
    "                print(\"occurrences:\", occurrences, \"in title:\", art_title)\n",
    "                working_file[art_num]['ignore']=2\n",
    "            #elif occurrences <= 7:\n",
    "            else:\n",
    "                print(\"occurrences:\", occurrences, \"in title:\", art_title)\n",
    "    csvh.write_csv_data(working_file, nr_wf)\n",
    "    current_pass = 2"
   ]
  },
  {
   "cell_type": "code",
   "execution_count": 6,
   "metadata": {},
   "outputs": [],
   "source": [
    "\n",
    "if current_pass == 2:\n",
    "    i = 0\n",
    "    for art_num in tqdm_notebook(working_file):\n",
    "        if working_file[art_num]['ignore']=='0':\n",
    "            inspected = False\n",
    "            while not inspected:\n",
    "                new_title = working_file[art_num]['Title']\n",
    "                keywords = working_file[art_num]['keywords']\n",
    "                #print (keywords, new_title)\n",
    "                if keywords < 9 and not (\"cataly\" in new_title.lower()):\n",
    "                # ignore  it because it does not contains cataly in title\n",
    "                    working_file[art_num]['ignore']=3 # visual inspection\n",
    "                    inspected = True\n",
    "                elif keywords >= 9 and not (\"cataly\" in new_title.lower()):\n",
    "                    print('Title:', working_file[art_num]['Title'])\n",
    "                    print('***************************************************************')\n",
    "                    print(\"Options:\\n\\ta) add\\n\\tb) ignore\")\n",
    "                    print(\"selection:\")\n",
    "                    usr_select = input()\n",
    "                    if usr_select == 'b':\n",
    "                        working_file[art_num]['ignore']=3 # visual inspection\n",
    "                        inspected = True\n",
    "                    elif usr_select == 'a':\n",
    "                        inspected = True\n",
    "                        i += 1\n",
    "                else:\n",
    "                    inspected = True\n",
    "    print(\"To Process:\", i, \"Pass:\", current_pass)\n",
    "    csvh.write_csv_data(working_file, nr_wf)\n",
    "    current_pass = 3"
   ]
  },
  {
   "cell_type": "markdown",
   "metadata": {},
   "source": [
    "## Get DOIs for Articles\n",
    "The remaining titles need to be further analysed. Recovering their DOIs can help obtain abstracts and acknowledgement statements. "
   ]
  },
  {
   "cell_type": "code",
   "execution_count": 7,
   "metadata": {},
   "outputs": [],
   "source": [
    "if current_pass == 3:\n",
    "    i = 0\n",
    "    for art_num in tqdm(working_file):\n",
    "        if working_file[art_num]['ignore']=='0':\n",
    "            new_title = working_file[art_num]['Title']\n",
    "            new_doi = cr_api.getDOIForTitle(new_title)\n",
    "            if new_doi == \"\":\n",
    "                #print(\"Missing DOI:\", new_title)\n",
    "                working_file[art_num]['ignore'] = '4'\n",
    "                i +=1\n",
    "            else:\n",
    "                #print(\"DOI found:\", new_doi, \"for:\", new_title)\n",
    "                working_file[art_num]['DOIcr'] = new_doi\n",
    "                working_file[art_num]['ignore'] = '0'\n",
    "    print(\"without DOI:\", i)\n",
    "    csvh.write_csv_data(working_file, nr_wf)\n",
    "    current_pass = 4"
   ]
  },
  {
   "cell_type": "markdown",
   "metadata": {},
   "source": [
    "## Verify DOIs in DB\n",
    "Verify that articles do not exist in the DB"
   ]
  },
  {
   "cell_type": "code",
   "execution_count": 8,
   "metadata": {},
   "outputs": [],
   "source": [
    "ukchapp_db = \"../railsapp/ukchapp/db/development.sqlite3\"\n",
    "if current_pass == 4:\n",
    "    i = 0\n",
    "    db_conn = dbh.DataBaseAdapter(ukchapp_db)\n",
    "    for art_num in tqdm_notebook(working_file):\n",
    "        if working_file[art_num]['ignore']=='0':\n",
    "            new_title = working_file[art_num]['Title']\n",
    "            new_doi = working_file[art_num]['DOIcr']\n",
    "            db_title = db_conn.get_title(new_doi)\n",
    "            if db_title == None:\n",
    "                print(\"Not in DB:\", new_doi, new_title)\n",
    "            else:\n",
    "                print(\"Already in DB:\", new_doi, \"for:\", new_title, db_title)\n",
    "                working_file[art_num]['ignore'] = '5'\n",
    "    print(\"without DOI:\", i)\n",
    "    csvh.write_csv_data(working_file, nr_wf)\n",
    "    current_pass = 5\n"
   ]
  },
  {
   "cell_type": "markdown",
   "metadata": {},
   "source": [
    "## Get Acknowledgement statements"
   ]
  },
  {
   "cell_type": "code",
   "execution_count": null,
   "metadata": {},
   "outputs": [
    {
     "data": {
      "application/vnd.jupyter.widget-view+json": {
       "model_id": "0574b4e39da146449e19c387297ae9e4",
       "version_major": 2,
       "version_minor": 0
      },
      "text/plain": [
       "HBox(children=(IntProgress(value=0, max=998), HTML(value='')))"
      ]
     },
     "metadata": {},
     "output_type": "display_data"
    },
    {
     "name": "stdout",
     "output_type": "stream",
     "text": [
      "Analysing: Preface to Special Issue on 5th UK Catalysis Conference (UKCC 2019) 10.1007/s11244-020-01330-y https://link.springer.com/article/10.1007/s11244-020-01330-y\n",
      "Ack: \n",
      "Analysing: Improving Photocatalytic Energy Conversion via NAD (P) H 10.1016/j.joule.2020.07.024 https://www.sciencedirect.com/science/article/pii/S2542435120303421\n",
      "Ack: <span class=\"anchor-text\">Contact and support</span>\n",
      "Analysing: Synchrotron Radiation and Neutrons for Catalysis, Materials Research and Development 10.1080/08940886.2018.1460180 https://www.tandfonline.com/doi/full/10.1080/08940886.2018.1460180\n",
      "Ack: \n",
      "Analysing: Neutron spectroscopy studies of methanol to hydrocarbons catalysis over ZSM-5 10.1016/j.cattod.2020.05.030 https://www.sciencedirect.com/science/article/pii/S0920586120303096\n",
      "Ack: <span class=\"anchor-text\">Contact and support</span>\n",
      "Analysing: Methanol photo-reforming with water on pure titania for hydrogen production 10.1098/rsta.2020.0058 https://royalsocietypublishing.org/doi/abs/10.1098/rsta.2020.0058\n",
      "Ack: <span class=\"references__note references__note--columnized\"><a class=\"ref__number\" href=\"#RSTA20200058C23R\">23. </a><div class=\"references__content\"><person-group person-group-type=\"author\">Nadeem MA, Murdoch M, Waterhouse GIN, Metson JB, Keane MA, Llorca J, Idriss H</person-group>. <span class=\"references__year\">2010</span><span class=\"references__article-title\">Photoreaction of ethanol on Au/TiO<sub>2</sub> anatase: Comparing the micro to nanoparticle size activities of the support for hydrogen production</span>. <span class=\"references__source\"><strong>J. Photochem. Photobiol., A</strong></span> <b><b>216</b></b>, 250–255. (<a class=\"references__uri\" href=\"http://dx.doi.org/10.1016/j.jphotochem.2010.07.007\">doi:10.1016/j.jphotochem.2010.07.007</a>) <span class=\"references__suffix\"><a href=\"/servlet/linkout?suffix=e_1_3_5_24_2&amp;dbid=16&amp;doi=10.1098%2Frsta.2020.0058&amp;key=10.1016%2Fj.jphotochem.2010.07.007\" onclick=\"newWindow(this.href);return false\" target=\"_blank\">Crossref</a>, <a href=\"/servlet/linkout?suffix=e_1_3_5_24_2&amp;dbid=128&amp;doi=10.1098%2Frsta.2020.0058&amp;key=000286287300023\" onclick=\"newWindow(this.href);return false\" target=\"_blank\">ISI</a>, <a class=\"google-scholar\" href=\"http://scholar.google.com/scholar_lookup?hl=en&amp;volume=216&amp;publication_year=2010&amp;pages=250-255&amp;journal=J.+Photochem.+Photobiol.%2C+A&amp;author=MA+Nadeem&amp;author=M+Murdoch&amp;author=GIN+Waterhouse&amp;author=JB+Metson&amp;author=MA+Keane&amp;author=J+Llorca&amp;author=H+Idriss&amp;title=Photoreaction+of+ethanol+on+Au%2FTiO2+anatase%3A+Comparing+the+micro+to+nanoparticle+size+activities+of+the+support+for+hydrogen+production\" target=\"_blank\">Google Scholar</a></span></div></span>\n",
      "<span class=\"references__article-title\">Photoreaction of ethanol on Au/TiO<sub>2</sub> anatase: Comparing the micro to nanoparticle size activities of the support for hydrogen production</span>\n",
      "<span class=\"references__suffix\"><a href=\"/servlet/linkout?suffix=e_1_3_5_24_2&amp;dbid=16&amp;doi=10.1098%2Frsta.2020.0058&amp;key=10.1016%2Fj.jphotochem.2010.07.007\" onclick=\"newWindow(this.href);return false\" target=\"_blank\">Crossref</a>, <a href=\"/servlet/linkout?suffix=e_1_3_5_24_2&amp;dbid=128&amp;doi=10.1098%2Frsta.2020.0058&amp;key=000286287300023\" onclick=\"newWindow(this.href);return false\" target=\"_blank\">ISI</a>, <a class=\"google-scholar\" href=\"http://scholar.google.com/scholar_lookup?hl=en&amp;volume=216&amp;publication_year=2010&amp;pages=250-255&amp;journal=J.+Photochem.+Photobiol.%2C+A&amp;author=MA+Nadeem&amp;author=M+Murdoch&amp;author=GIN+Waterhouse&amp;author=JB+Metson&amp;author=MA+Keane&amp;author=J+Llorca&amp;author=H+Idriss&amp;title=Photoreaction+of+ethanol+on+Au%2FTiO2+anatase%3A+Comparing+the+micro+to+nanoparticle+size+activities+of+the+support+for+hydrogen+production\" target=\"_blank\">Google Scholar</a></span>\n",
      "<span class=\"references__note references__note--columnized\"><a class=\"ref__number\" href=\"#RSTA20200058C26R\">26. </a><div class=\"references__content\"><person-group person-group-type=\"author\">Primo A, Corma A, García H</person-group>. <span class=\"references__year\">2011</span><span class=\"references__article-title\">Titania supported gold nanoparticles as photocatalyst</span>. <span class=\"references__source\"><strong>Phys. Chem. Chem. Phys.</strong></span> <b><b>13</b></b>, 886–910. (<a class=\"references__uri\" href=\"http://dx.doi.org/10.1039/c0cp00917b\">doi:10.1039/c0cp00917b</a>) <span class=\"references__suffix\"><a href=\"/servlet/linkout?suffix=e_1_3_5_27_2&amp;dbid=16&amp;doi=10.1098%2Frsta.2020.0058&amp;key=10.1039%2FC0CP00917B\" onclick=\"newWindow(this.href);return false\" target=\"_blank\">Crossref</a>, <a href=\"/servlet/linkout?suffix=e_1_3_5_27_2&amp;dbid=8&amp;doi=10.1098%2Frsta.2020.0058&amp;key=21085723\" onclick=\"newWindow(this.href);return false\" target=\"_blank\">PubMed</a>, <a href=\"/servlet/linkout?suffix=e_1_3_5_27_2&amp;dbid=128&amp;doi=10.1098%2Frsta.2020.0058&amp;key=000285750100012\" onclick=\"newWindow(this.href);return false\" target=\"_blank\">ISI</a>, <a class=\"google-scholar\" href=\"http://scholar.google.com/scholar_lookup?hl=en&amp;volume=13&amp;publication_year=2011&amp;pages=886-910&amp;journal=Phys.+Chem.+Chem.+Phys.&amp;author=A+Primo&amp;author=A+Corma&amp;author=H+Garc%C3%ADa&amp;title=Titania+supported+gold+nanoparticles+as+photocatalyst\" target=\"_blank\">Google Scholar</a></span></div></span>\n",
      "<span class=\"references__article-title\">Titania supported gold nanoparticles as photocatalyst</span>\n",
      "<span class=\"references__suffix\"><a href=\"/servlet/linkout?suffix=e_1_3_5_27_2&amp;dbid=16&amp;doi=10.1098%2Frsta.2020.0058&amp;key=10.1039%2FC0CP00917B\" onclick=\"newWindow(this.href);return false\" target=\"_blank\">Crossref</a>, <a href=\"/servlet/linkout?suffix=e_1_3_5_27_2&amp;dbid=8&amp;doi=10.1098%2Frsta.2020.0058&amp;key=21085723\" onclick=\"newWindow(this.href);return false\" target=\"_blank\">PubMed</a>, <a href=\"/servlet/linkout?suffix=e_1_3_5_27_2&amp;dbid=128&amp;doi=10.1098%2Frsta.2020.0058&amp;key=000285750100012\" onclick=\"newWindow(this.href);return false\" target=\"_blank\">ISI</a>, <a class=\"google-scholar\" href=\"http://scholar.google.com/scholar_lookup?hl=en&amp;volume=13&amp;publication_year=2011&amp;pages=886-910&amp;journal=Phys.+Chem.+Chem.+Phys.&amp;author=A+Primo&amp;author=A+Corma&amp;author=H+Garc%C3%ADa&amp;title=Titania+supported+gold+nanoparticles+as+photocatalyst\" target=\"_blank\">Google Scholar</a></span>\n",
      "<span class=\"references__note references__note--columnized\"><a class=\"ref__number\" href=\"#RSTA20200058C32R\">32. </a><div class=\"references__content\"><person-group person-group-type=\"author\">Bowker M, James D, Stone P, Bennett R, Perkins N, Millard L, Greaves J, Dickinson A</person-group>. <span class=\"references__year\">2003</span><span class=\"references__article-title\">Catalysis at the metal-support interface: exemplified by the photocatalytic reforming of methanol on Pd/TiO<sub>2</sub></span>. <span class=\"references__source\"><strong>J. Catal.</strong></span> <b><b>217</b></b>, 427–433. (<a class=\"references__uri\" href=\"http://dx.doi.org/10.1016/S0021-9517(03)00074-5\">doi:10.1016/S0021-9517(03)00074-5</a>) <span class=\"references__suffix\"><a href=\"/servlet/linkout?suffix=e_1_3_5_33_2&amp;dbid=16&amp;doi=10.1098%2Frsta.2020.0058&amp;key=10.1016%2FS0021-9517%2803%2900074-5\" onclick=\"newWindow(this.href);return false\" target=\"_blank\">Crossref</a>, <a href=\"/servlet/linkout?suffix=e_1_3_5_33_2&amp;dbid=128&amp;doi=10.1098%2Frsta.2020.0058&amp;key=000183500400019\" onclick=\"newWindow(this.href);return false\" target=\"_blank\">ISI</a>, <a class=\"google-scholar\" href=\"http://scholar.google.com/scholar_lookup?hl=en&amp;volume=217&amp;publication_year=2003&amp;pages=427-433&amp;journal=J.+Catal.&amp;author=M+Bowker&amp;author=D+James&amp;author=P+Stone&amp;author=R+Bennett&amp;author=N+Perkins&amp;author=L+Millard&amp;author=J+Greaves&amp;author=A+Dickinson&amp;title=Catalysis+at+the+metal-support+interface%3A+exemplified+by+the+photocatalytic+reforming+of+methanol+on+Pd%2FTiO2\" target=\"_blank\">Google Scholar</a></span></div></span>\n",
      "<span class=\"references__article-title\">Catalysis at the metal-support interface: exemplified by the photocatalytic reforming of methanol on Pd/TiO<sub>2</sub></span>\n",
      "<span class=\"references__suffix\"><a href=\"/servlet/linkout?suffix=e_1_3_5_33_2&amp;dbid=16&amp;doi=10.1098%2Frsta.2020.0058&amp;key=10.1016%2FS0021-9517%2803%2900074-5\" onclick=\"newWindow(this.href);return false\" target=\"_blank\">Crossref</a>, <a href=\"/servlet/linkout?suffix=e_1_3_5_33_2&amp;dbid=128&amp;doi=10.1098%2Frsta.2020.0058&amp;key=000183500400019\" onclick=\"newWindow(this.href);return false\" target=\"_blank\">ISI</a>, <a class=\"google-scholar\" href=\"http://scholar.google.com/scholar_lookup?hl=en&amp;volume=217&amp;publication_year=2003&amp;pages=427-433&amp;journal=J.+Catal.&amp;author=M+Bowker&amp;author=D+James&amp;author=P+Stone&amp;author=R+Bennett&amp;author=N+Perkins&amp;author=L+Millard&amp;author=J+Greaves&amp;author=A+Dickinson&amp;title=Catalysis+at+the+metal-support+interface%3A+exemplified+by+the+photocatalytic+reforming+of+methanol+on+Pd%2FTiO2\" target=\"_blank\">Google Scholar</a></span>\n",
      "<span class=\"references__note references__note--columnized\"><a class=\"ref__number\" href=\"#RSTA20200058C34R\">34. </a><div class=\"references__content\"><person-group person-group-type=\"author\">Bowker M, Cookson L, Bhantoo J, Carley A, Hayden E, Gilbert L, Morgan C, Counsell J, Yaseneva P</person-group>. <span class=\"references__year\">2011</span><span class=\"references__article-title\">The decarbonylation of acetaldehyde on Pd crystals and on supported catalysts</span>. <span class=\"references__source\"><strong>Appl. Catal., A</strong></span> <b><b>391</b></b>, 394–399. (<a class=\"references__uri\" href=\"http://dx.doi.org/10.1016/j.apcata.2010.05.012\">doi:10.1016/j.apcata.2010.05.012</a>) <span class=\"references__suffix\"><a href=\"/servlet/linkout?suffix=e_1_3_5_35_2&amp;dbid=16&amp;doi=10.1098%2Frsta.2020.0058&amp;key=10.1016%2Fj.apcata.2010.05.012\" onclick=\"newWindow(this.href);return false\" target=\"_blank\">Crossref</a>, <a href=\"/servlet/linkout?suffix=e_1_3_5_35_2&amp;dbid=128&amp;doi=10.1098%2Frsta.2020.0058&amp;key=000286856600048\" onclick=\"newWindow(this.href);return false\" target=\"_blank\">ISI</a>, <a class=\"google-scholar\" href=\"http://scholar.google.com/scholar_lookup?hl=en&amp;volume=391&amp;publication_year=2011&amp;pages=394-399&amp;journal=Appl.+Catal.%2C+A&amp;author=M+Bowker&amp;author=L+Cookson&amp;author=J+Bhantoo&amp;author=A+Carley&amp;author=E+Hayden&amp;author=L+Gilbert&amp;author=C+Morgan&amp;author=J+Counsell&amp;author=P+Yaseneva&amp;title=The+decarbonylation+of+acetaldehyde+on+Pd+crystals+and+on+supported+catalysts\" target=\"_blank\">Google Scholar</a></span></div></span>\n",
      "<span class=\"references__article-title\">The decarbonylation of acetaldehyde on Pd crystals and on supported catalysts</span>\n",
      "<span class=\"references__suffix\"><a href=\"/servlet/linkout?suffix=e_1_3_5_35_2&amp;dbid=16&amp;doi=10.1098%2Frsta.2020.0058&amp;key=10.1016%2Fj.apcata.2010.05.012\" onclick=\"newWindow(this.href);return false\" target=\"_blank\">Crossref</a>, <a href=\"/servlet/linkout?suffix=e_1_3_5_35_2&amp;dbid=128&amp;doi=10.1098%2Frsta.2020.0058&amp;key=000286856600048\" onclick=\"newWindow(this.href);return false\" target=\"_blank\">ISI</a>, <a class=\"google-scholar\" href=\"http://scholar.google.com/scholar_lookup?hl=en&amp;volume=391&amp;publication_year=2011&amp;pages=394-399&amp;journal=Appl.+Catal.%2C+A&amp;author=M+Bowker&amp;author=L+Cookson&amp;author=J+Bhantoo&amp;author=A+Carley&amp;author=E+Hayden&amp;author=L+Gilbert&amp;author=C+Morgan&amp;author=J+Counsell&amp;author=P+Yaseneva&amp;title=The+decarbonylation+of+acetaldehyde+on+Pd+crystals+and+on+supported+catalysts\" target=\"_blank\">Google Scholar</a></span>\n",
      "Analysing: Biocatalytic oxidation in continuous flow for the generation of carbohydrate dialdehydes 10.1021/acscatal.9b04819 https://pubs.acs.org/doi/abs/10.1021/acscatal.9b04819\n"
     ]
    },
    {
     "name": "stdout",
     "output_type": "stream",
     "text": [
      "Ack: <span class=\"article_header-suppInfo-text\">Supporting Info (1)</span>\n",
      "Analysing: Al-doped Fe 2 O 3 as a support for molybdenum oxide methanol oxidation catalysts 10.1039/d0cp01192d https://pubs.rsc.org/en/content/articlehtml/2020/cp/d0cp01192d\n",
      "Ack: <span>We are grateful to Diamond Light Source for a part studentship to PH and for support from the UK Catalysis Hub, funded through EPSRC grants EP/I038748/1 and EP/K014714/1, and to the Research Complex at Harwell (RCaH) for the provision of facilities. We thank the Swiss Light Source (SLS) for provision of beamtime under award number 20181979.</span>\n",
      "Analysing: Towards a deeper understanding of catalytic activity in supported precious metal catalysts, EPSRC 10.21820/23987073.2018.5.16 https://www.ingentaconnect.com/content/sil/impact/2018/00002018/00000005/art00005\n",
      "Ack: \n",
      "Analysing: Rapid synthesis of [Au25 (Cys) 18] nanoclusters via carbon monoxide in microfluidic liquid-liquid segmented flow system and their antimicrobial performance 10.1016/j.cej.2019.123176 https://www.sciencedirect.com/science/article/pii/S1385894719325884\n",
      "Ack: <span class=\"anchor-text\">Contact and support</span>\n",
      "Analysing: Adsorption and activation of molecular oxygen over atomic copper (I/II) site on ceria 10.1038/s41467-020-17852-8 https://www.nature.com/articles/s41467-020-17852-8\n",
      "Ack: <span class=\"u-visually-hidden\" itemprop=\"affiliation\" itemscope=\"itemscope\" itemtype=\"http://schema.org/Organization\"><meta content=\"UK Catalysis Hub, Research Complex at Harwell (RCaH), Rutherford Appleton Laboratory\" itemprop=\"name\"/><meta content=\"grid.465239.f, UK Catalysis Hub, Research Complex at Harwell (RCaH), Rutherford Appleton Laboratory, Harwell, OX11 0FA, UK\" itemprop=\"address\"/></span>\n",
      "Analysing: Recent advances in non-thermal plasma (NTP) catalysis towards C1 chemistry 10.1016/j.cjche.2020.05.027 https://www.sciencedirect.com/science/article/pii/S1004954120302433\n",
      "Ack: <span class=\"anchor-text\">Contact and support</span>\n",
      "Analysing: Embedded carbon in a carbon nitride hollow sphere for enhanced charge separation and photocatalytic water splitting 10.1039/d0nr00226g https://pubs.rsc.org/en/content/articlehtml/2020/nr/d0nr00226g\n",
      "Ack: <span class=\"italic\">Key Lab of Synthetic and Natural Functional Molecule Chemistry of Ministry of Education, the Energy and Catalysis Hub, College of Chemistry and Materials Science, Northwest University, Xi'an 710127, P. R. China</span>\n",
      "<span>Photocatalytic water splitting for hydrogen production was conducted in a top-irradiation reactor. A 300 W Xenon lamp source (PLS-SXE300D, Beijing Perfectlight Technology Co., Ltd.) with an optical cut-off filter (<span class=\"italic\">λ</span> &gt; 420 nm) was used as the visible light source. Typically, 20 mg photocatalyst powder was suspended in a mixture of 20 mL TEA and 180 mL H<small><sub>2</sub></small>O. Then aqueous H<small><sub>2</sub></small>PtCl<small><sub>6</sub></small> solution with 3.0 wt% Pt was added under moderate agitation. After sealing, the reactor was continuously purged by ultrapure argon (99.999%) for 1 h to remove the dissolved oxygen in water. Then light was turned on to photo-reduce Pt on photocatalysts. The evolved gases were analyzed every 60 min using a gas chromatograph (GC-3600A, Beifen-Ruili Co., Ltd.) equipped with a Thermal Conductivity Detector (TCD) and a 5 Å molecular sieve column. The apparent quantum yield (AQY) under monochromatic light was measured and calculated by the following equation. Monochromatic light was provided by adding a bandpass filter (±10 nm) to the Xe lamp.<br/><div class=\"image_table\"><table><tr><td class=\"imgHolder\" colspan=\"3\" id=\"imgugt1\"><a href=\"/image/article/2020/NR/d0nr00226g/d0nr00226g-t1_hi-res.gif\" onclick='open(this.href, \"_blank\", \"toolbar=1,scrollbars=yes,resizable=1\"); return false;' title=\"Select to open image in new window\"><img alt=\"image file: d0nr00226g-t1.tif\" src=\"/image/article/2020/NR/d0nr00226g/d0nr00226g-t1.gif\"/></a></td></tr><tr><td class=\"pushTitleRight\"> </td><td><a id=\"ugt1\"></a><span id=\"ugt1\"></span></td><td class=\"pushTitleLeft\"> </td></tr></table></div></span>\n",
      "<span>L. Luo is thankful to the China Postdoctoral Science Foundation (Grant No. 2019M663802) and J. Ma is also grateful to the National Natural Science Foundation of China (21973075).</span>\n",
      "Analysing: Sulfated Zirconia Catalysts for D-Sorbitol Cascade Cyclodehydration to Isosorbide: Impact of Zirconia Phase 10.1021/acssuschemeng.8b03268 https://pubs.acs.org/doi/abs/10.1021/acssuschemeng.8b03268\n",
      "Ack: <span class=\"article_header-suppInfo-text\">Supporting Info (1)</span>\n",
      "<span class=\"cited-content_cbyCitation_article-title\">Catalytic conversion of cellulose to reducing sugars over clay-based solid acid catalyst supported nanosized SO42−-ZrO2. </span>\n",
      "Analysing: The influence of oxygen vacancy and Ce 3+ ion positions on the properties of small gold clusters supported on CeO 2− x (111) 10.1039/d0ta01398f https://pubs.rsc.org/lv/content/articlehtml/2020/ta/d0ta01398f\n",
      "Ack: \n",
      "Analysing: Reversible C− H Activation, Facile C− B/B− H Metathesis and Apparent Hydroboration Catalysis by a Dimethylxanthene‐Based Frustrated Lewis Pair 10.1002/chem.201801871 https://onlinelibrary.wiley.com/doi/abs/10.1002/chem.201801871\n",
      "Ack: <span>Supporting Information</span>\n",
      "Analysing: Cobalt-containing zeolitic imidazole frameworks for C–H activation using visible-light redox photocatalysis 10.1039/d0cy01061h https://pubs.rsc.org/en/content/articlehtml/2020/cy/d0cy01061h\n",
      "Ack: <span>The work was funded by the EU's Horizon 2020 program under grant number 720783 (MULTI2HYCAT) and EPSRC (UK) (EP/N013883/1). CPR was funded through a joint University of Southampton and A*STAR, Singapore scholarship. The beamtime was carried out at B18, Diamond Light Source under proposal SP-15151 <span class=\"italic\">via</span> the UK Catalysis Hub Beamtime Allocation Group.</span>\n",
      "Analysing: Structured Ni@ NaA zeolite supported on silicon carbide foam catalysts for catalytic carbon dioxide methanation 10.1002/aic.17007 https://aiche.onlinelibrary.wiley.com/doi/abs/10.1002/aic.17007\n",
      "Ack: <span>Supporting Information</span>\n",
      "<span class=\"articleTitle\">Coupling non‐thermal plasma with Ni catalysts supported on BETA zeolite for catalytic CO2 methanation</span>\n",
      "<span><a class=\"google-scholar visitable\" href=\"http://scholar.google.com/scholar_lookup?hl=en&amp;volume=9&amp;publication_year=2019&amp;pages=4135-4145&amp;journal=Cat+Sci+Technol&amp;issue=15&amp;author=H+Chen&amp;author=Y+Mu&amp;author=Y+Shao&amp;title=Coupling+non%E2%80%90thermal+plasma+with+Ni+catalysts+supported+on+BETA+zeolite+for+catalytic+CO2+methanation\" target=\"_blank\">Google Scholar</a></span>\n",
      "<span class=\"articleTitle\">CO2 methanation over nickel‐ZrO2 catalyst supported on carbon nanotubes: a comparison between two impregnation strategies</span>\n",
      "<span><a class=\"google-scholar visitable\" href=\"http://scholar.google.com/scholar_lookup?hl=en&amp;volume=237&amp;publication_year=2018&amp;pages=817-825&amp;journal=Appl+Catal+B+Environ&amp;author=M+Romero%E2%80%90S%C3%A1ez&amp;author=AB+Dongil&amp;author=N+Benito&amp;author=R+Espinoza%E2%80%90Gonz%C3%A1lez&amp;author=N+Escalona&amp;author=F+Gracia&amp;title=CO2+methanation+over+nickel%E2%80%90ZrO2+catalyst+supported+on+carbon+nanotubes%3A+a+comparison+between+two+impregnation+strategies\" target=\"_blank\">Google Scholar</a></span>\n",
      "<span class=\"articleTitle\">Effect of metal dispersion and support structure of Ni/silicalite‐1 catalysts on non‐thermal plasma (NTP) activated CO2 hydrogenation</span>\n",
      "<span><a class=\"google-scholar visitable\" href=\"http://scholar.google.com/scholar_lookup?hl=en&amp;volume=272&amp;publication_year=2020&amp;pages=119013&amp;journal=Appl+Catal+B+Environ&amp;author=H+Chen&amp;author=F+Goodarzi&amp;author=Y+Mu&amp;title=Effect+of+metal+dispersion+and+support+structure+of+Ni%2Fsilicalite%E2%80%901+catalysts+on+non%E2%80%90thermal+plasma+%28NTP%29+activated+CO2+hydrogenation\" target=\"_blank\">Google Scholar</a></span>\n",
      "<span class=\"articleTitle\">Kinetic study of nonthermal plasma activated catalytic CO2 hydrogenation over Ni supported on silica catalyst</span>\n",
      "<span><a class=\"google-scholar visitable\" href=\"http://scholar.google.com/scholar_lookup?hl=en&amp;volume=59&amp;publication_year=2020&amp;pages=9478-9487&amp;journal=Indus+Eng+Chem+Res&amp;issue=20&amp;author=Y+Mu&amp;author=S+Xu&amp;author=Y+Shao&amp;author=H+Chen&amp;author=C+Hardacre&amp;author=X+Fan&amp;title=Kinetic+study+of+nonthermal+plasma+activated+catalytic+CO2+hydrogenation+over+Ni+supported+on+silica+catalyst\" target=\"_blank\">Google Scholar</a></span>\n",
      "<span class=\"articleTitle\">Aluminum open cell foams as efficient supports for carbon dioxide Methanation catalysts: pilot‐scale reaction results</span>\n",
      "<span><a class=\"google-scholar visitable\" href=\"http://scholar.google.com/scholar_lookup?hl=en&amp;volume=5&amp;publication_year=2017&amp;pages=2078-2085&amp;journal=Energ+Technol&amp;issue=11&amp;author=M+Frey&amp;author=A+Bengaouer&amp;author=G+Geffraye&amp;author=D+Edouard&amp;author=A%E2%80%90C+Roger&amp;title=Aluminum+open+cell+foams+as+efficient+supports+for+carbon+dioxide+Methanation+catalysts%3A+pilot%E2%80%90scale+reaction+results\" target=\"_blank\">Google Scholar</a></span>\n",
      "<span class=\"articleTitle\">MFI zeolite coating with intrazeolitic aluminum (acidic) gradient supported on SiC foams to improve the methanol‐to‐propylene (MTP) reaction</span>\n",
      "<span><a class=\"google-scholar visitable\" href=\"http://scholar.google.com/scholar_lookup?hl=en&amp;volume=559&amp;publication_year=2018&amp;pages=1-9&amp;journal=Appl+Catal+A+General&amp;author=Y+Jiao&amp;author=S+Xu&amp;author=C+Jiang&amp;author=M+Perdjon&amp;author=X+Fan&amp;author=J+Zhang&amp;title=MFI+zeolite+coating+with+intrazeolitic+aluminum+%28acidic%29+gradient+supported+on+SiC+foams+to+improve+the+methanol%E2%80%90to%E2%80%90propylene+%28MTP%29+reaction\" target=\"_blank\">Google Scholar</a></span>\n",
      "<span class=\"articleTitle\">Thin porous metal sheet‐supported NaA zeolite membrane for water/ethanol separation</span>\n",
      "<span><a class=\"google-scholar visitable\" href=\"http://scholar.google.com/scholar_lookup?hl=en&amp;volume=371&amp;publication_year=2011&amp;pages=197-210&amp;journal=J+Membr+Sci&amp;issue=1%E2%80%932&amp;author=J+Zhang&amp;author=L+WJJoms&amp;title=Thin+porous+metal+sheet%E2%80%90supported+NaA+zeolite+membrane+for+water%2Fethanol+separation\" target=\"_blank\">Google Scholar</a></span>\n",
      "<span class=\"articleTitle\">CO2 Methanation over supported Ru/Al2O3 catalysts: mechanistic studies by in situ infrared spectroscopy</span>\n",
      "<span><a class=\"google-scholar visitable\" href=\"http://scholar.google.com/scholar_lookup?hl=en&amp;volume=1&amp;publication_year=2016&amp;pages=3197-3203&amp;journal=ChemistrySelect&amp;issue=12&amp;author=J+Zheng&amp;author=C+Wang&amp;author=W+Chu&amp;author=Y+Zhou&amp;author=K+K%C3%B6hler&amp;title=CO2+Methanation+over+supported+Ru%2FAl2O3+catalysts%3A+mechanistic+studies+by+in+situ+infrared+spectroscopy\" target=\"_blank\">Google Scholar</a></span>\n",
      "<span class=\"articleTitle\">Mechanistic study of non‐thermal plasma assisted CO2 hydrogenation over Ru supported on MgAl layered double hydroxide</span>\n",
      "<span><a class=\"google-scholar visitable\" href=\"http://scholar.google.com/scholar_lookup?hl=en&amp;volume=268&amp;publication_year=2020&amp;journal=Appl+Catal+Environ&amp;author=S+Xu&amp;author=S+Chansai&amp;author=Y+Shao&amp;title=Mechanistic+study+of+non%E2%80%90thermal+plasma+assisted+CO2+hydrogenation+over+Ru+supported+on+MgAl+layered+double+hydroxide\" target=\"_blank\">Google Scholar</a></span>\n",
      "Analysing: Multihole water oxidation catalysis on haematite photoanodes revealed by operando spectroelectrochemistry and DFT 10.1038/s41557-019-0347-1 https://www.nature.com/articles/s41557-019-0347-1\n"
     ]
    },
    {
     "name": "stdout",
     "output_type": "stream",
     "text": [
      "Ack: <span class=\"u-visually-hidden\" itemprop=\"affiliation\" itemscope=\"itemscope\" itemtype=\"http://schema.org/Organization\"><meta content=\"The Grantham Institute, Imperial College London\" itemprop=\"name\"/><meta content=\"0000 0001 2113 8111, grid.7445.2, The Grantham Institute, Imperial College London, London, UK\" itemprop=\"address\"/></span>\n",
      "Analysing: Isolated Pd sites as selective catalysts for electrochemical and direct hydrogen peroxide synthesis 10.1021/acscatal.0c01305 https://pubs.acs.org/doi/abs/10.1021/acscatal.0c01305\n",
      "Ack: <span class=\"article_header-suppInfo-text\">Supporting Info (1)</span>\n",
      "Analysing: Asymmetric synthesis of primary amines catalyzed by thermotolerant fungal reductive aminases 10.1039/d0sc02253e https://pubs.rsc.org/en/content/articlehtml/2020/sc/d0sc02253e\n",
      "Ack: <span>J. M.-S. and M. S. were funded by grant BB/M006832/1 from the UK Biotechnology and Biological Sciences Research Council. N. J. T. is grateful to the ERC for the award of an Advanced Grant (Grant number 742987). S. C. C. would like to acknowledge the EPSRC UK Catalysis Hub for funding. We also thank Dr James Galman from the Manchester Institute of Biotechnology for the plasmid containing the phosphite dehydrogenase variant from <span class=\"italic\">Pseudomonas stutzeri</span> (PtDH).</span>\n",
      "Analysing: Rationalizing the Activity of an “Artificial Diels-Alderase”: Establishing Efficient and Accurate Protocols for Calculating Supramolecular Catalysis 10.1021/jacs.9b10302 https://pubs.acs.org/doi/abs/10.1021/jacs.9b10302\n",
      "Ack: <span class=\"article_header-suppInfo-text\">Supporting Info (3)</span>\n",
      "Analysing: Controllable assembly of single/double-thin-shell gC 3 N 4 vesicles via a shape-selective solid-state templating method for efficient photocatalysis 10.1039/c9ta01521c https://pubs.rsc.org/lv/content/articlehtml/2019/ta/c9ta01521c\n",
      "Ack: <span>\n",
      "                            Key Lab of Synthetic and Natural Functional Molecule Chemistry of Ministry of Education, The Energy and Catalysis Hub, College of Chemistry and Materials Science, Northwest University, Xi'an 710127, People's Republic of China\n",
      "\n",
      "                                                                                                            </span>\n",
      "Analysing: The interaction of CO with a copper (II) chloride oxy-chlorination catalyst 10.1039/d0fd00014k https://pubs.rsc.org/en/content/articlehtml/2020/fd/d0fd00014k\n",
      "Ack: \n",
      "Analysing: Mechanistic Insight into the Framework Methylation of H-ZSM-5 for Varying Methanol Loadings and Si/Al Ratios Using First-Principles Molecular Dynamics … 10.1021/acscatal.0c01454 https://pubs.acs.org/doi/abs/10.1021/acscatal.0c01454\n",
      "Ack: <span class=\"hlFld-ContribAuthor\">C. Richard A. Catlow<div class=\"loa-info\"><div class=\"loa-info-name\">C. Richard A. Catlow</div><div class=\"loa-info-affiliations\"><div class=\"loa-info-affiliations-info\">Cardiff Catalysis Institute, School of Chemistry, Cardiff University, Cardiff CF10 3AT, U.K.</div><div class=\"loa-info-affiliations-info\">Department of Chemistry, University College London, 20 Gordon Street, London WC1E 6BT, U.K.</div><div class=\"loa-info-affiliations-info\">UK Catalysis Hub, Research Complex at Harwell, Science and Technology Facilities Council, Rutherford Appleton Laboratory, Oxford OX11 0FA, U.K.</div></div><div class=\"loa-info-scifinder\"><span>More by <a href=\"/action/doSearch?field1=Contrib&amp;text1=C.+Richard+A.++Catlow\">C. Richard A. Catlow</a></span></div></div></span>\n",
      "Analysing: Pore network modeling of catalyst deactivation by coking, from single site to particle, during propane dehydrogenation 10.1002/aic.16410 https://aiche.onlinelibrary.wiley.com/doi/abs/10.1002/aic.16410\n"
     ]
    }
   ],
   "source": [
    "if current_pass >= 5:\n",
    "    i = 0\n",
    "    for art_num in tqdm_notebook(working_file):\n",
    "        if working_file[art_num]['ignore']=='0':\n",
    "            article_title = working_file[art_num]['Title']\n",
    "            article_doi = working_file[art_num]['DOIcr']\n",
    "            article_url =working_file[art_num]['ArticleURL']\n",
    "            print(\"Analysing:\", article_title, article_doi, article_url)\n",
    "            # try to retrive html page for article using link from crossref first\n",
    "            # and if not try url from pop\n",
    "            # find reference to uk catalysis hub in html text\n",
    "            # if found mark as relevant\n",
    "            found = \"\"\n",
    "            referents = [\"uk catalysis hub\", \"uk catalysis\", \"catalysis hub\",\n",
    "                 'EP/R026645/1', 'resources', 'EP/K014668/1', 'EPSRC', 'EP/K014714/1',\n",
    "                 'Hub','provided', 'grant', 'biocatalysis', 'EP/R026815/1', 'EP/R026939/1',\n",
    "                 'support', 'membership', 'EP/M013219/1', 'UK', 'kindly', 'Catalysis',\n",
    "                 'funded', 'EP/R027129/1', 'Consortium', 'thanked', 'EP/K014854/1', 'EP/K014706/2']\n",
    "            found = urlh.findFromDOI(article_title, article_doi, referents)\n",
    "            working_file[art_num]['checked_doi'] = 1\n",
    "            working_file[art_num]['ack_doi'] = found\n",
    "            found = urlh.findFromURI(article_title, article_url, referents)\n",
    "            working_file[art_num]['checked_url'] = 1\n",
    "            working_file[art_num]['ack_url'] = found\n",
    "            print(\"Ack:\", found)\n",
    "    csvh.write_csv_data(working_file, nr_wf)"
   ]
  },
  {
   "cell_type": "code",
   "execution_count": null,
   "metadata": {},
   "outputs": [],
   "source": []
  }
 ],
 "metadata": {
  "kernelspec": {
   "display_name": "Python 3",
   "language": "python",
   "name": "python3"
  },
  "language_info": {
   "codemirror_mode": {
    "name": "ipython",
    "version": 3
   },
   "file_extension": ".py",
   "mimetype": "text/x-python",
   "name": "python",
   "nbconvert_exporter": "python",
   "pygments_lexer": "ipython3",
   "version": "3.7.4"
  }
 },
 "nbformat": 4,
 "nbformat_minor": 2
}
