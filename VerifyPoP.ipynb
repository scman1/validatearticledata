{
 "cells": [
  {
   "cell_type": "markdown",
   "metadata": {},
   "source": [
    "# Verification of references to UK Catalysis Hub \n",
    "A list of articles is obtainded from publish or perish. This list will contain a titles and some IDs whic need to be verified. \n",
    "\n",
    "The criteria for adding a publication to the database are: \n",
    "a) has an explicit acknowledgement of UK Catalysis Hub\n",
    "b) mentions one of the UK Catalysis Hub grants\n",
    "c) has two or more authors with affiliation to UK Catalysis Hub\n",
    "d) acknowledges support from a scientist affiliated to UK Catalysis Hub."
   ]
  },
  {
   "cell_type": "code",
   "execution_count": 5,
   "metadata": {},
   "outputs": [],
   "source": [
    "# Libraries\n",
    "# library containign functions that read and write to csv files\n",
    "import lib.handle_csv as csvh\n",
    "# library for connecting to the db\n",
    "import lib.handle_db as dbh\n",
    "# library for handling text matchings\n",
    "import lib.text_comp as txtc\n",
    "# library for getting data from crossref\n",
    "import lib.crossref_api as cr_api\n",
    "# library for handling url searchs\n",
    "import lib.handle_urls as urlh\n",
    "# managing files and file paths\n",
    "from pathlib import Path\n",
    "# add aprogress bar\n",
    "from tqdm import tqdm_notebook \n",
    "\n",
    "\n",
    "# input files\n",
    "new_results_file = 'pop_searches/PoPCites20201017.csv'\n",
    "#previous_results = 'pop_searches/ukch_pop_prev_res.csv'"
   ]
  },
  {
   "cell_type": "code",
   "execution_count": 36,
   "metadata": {},
   "outputs": [],
   "source": [
    "def get_titles_list(str_pub_title, ukchapp_db = \"prev_search.sqlite3\"):\n",
    "    \n",
    "    ukchapp_db = \"prev_search.sqlite3\"\n",
    "\n",
    "    db_conn = dbh.DataBaseAdapter(ukchapp_db)\n",
    "    search_in = 'prev_pop_searches'\n",
    "    fields_required = \"Num, Title\"\n",
    "    filter_str = \"Title like '\"+str_pub_title[0]+\"%';\"\n",
    "\n",
    "    db_titles = db_conn.get_values(search_in, fields_required, filter_str)\n",
    "    \n",
    "    return db_titles\n",
    "\n",
    "#first = \"p62: linking protein homeostasis and the DNA damage response during ageing\"[0]\n",
    "#db_titles = get_titles_list(first)\n",
    "#print (db_titles)"
   ]
  },
  {
   "cell_type": "markdown",
   "metadata": {},
   "source": [
    "Get the name of the file with the results of the PoP search:"
   ]
  },
  {
   "cell_type": "code",
   "execution_count": null,
   "metadata": {},
   "outputs": [],
   "source": [
    "new_results_file = \"\"\n",
    "while not Path(new_results_file).is_file():\n",
    "    print('Please enter the name of the input file:')\n",
    "    new_results_file = input()"
   ]
  },
  {
   "cell_type": "markdown",
   "metadata": {},
   "source": [
    "Get the name of the file with previous results of the PoP search:"
   ]
  },
  {
   "cell_type": "code",
   "execution_count": null,
   "metadata": {},
   "outputs": [],
   "source": [
    "previous_results = \"\"\n",
    "while not Path(previous_results).is_file():\n",
    "    print('Please enter the name of the previous results file:')\n",
    "    previous_results = input()"
   ]
  },
  {
   "cell_type": "markdown",
   "metadata": {},
   "source": [
    "Set the name of the output file\n"
   ]
  },
  {
   "cell_type": "code",
   "execution_count": 37,
   "metadata": {},
   "outputs": [
    {
     "name": "stdout",
     "output_type": "stream",
     "text": [
      "Verifying if the articles listed in: \n",
      "\t PoPCites20201017.csv\n",
      "where included in previous searches: \n",
      "\t ukch_pop_prev_res.csv\n",
      "The results will bt saves in: \n",
      "\t pop_searches/PoPCites20201017a_wf.csv\n"
     ]
    }
   ],
   "source": [
    "nr_wf = new_results_file[:-4]+\"a_wf.csv\"\n",
    "print(\"Verifying if the articles listed in: \\n\\t\", Path(new_results_file).name)\n",
    "print(\"where included in previous searches: \\n\\t\", Path(previous_results).name)\n",
    "\n",
    "print(\"The results will bt saves in: \\n\\t\", nr_wf)"
   ]
  },
  {
   "cell_type": "code",
   "execution_count": 39,
   "metadata": {},
   "outputs": [
    {
     "data": {
      "application/vnd.jupyter.widget-view+json": {
       "model_id": "8b79da54e3294cf1bc739e3aa7a89717",
       "version_major": 2,
       "version_minor": 0
      },
      "text/plain": [
       "HBox(children=(IntProgress(value=0, max=998), HTML(value='')))"
      ]
     },
     "metadata": {},
     "output_type": "display_data"
    },
    {
     "name": "stdout",
     "output_type": "stream",
     "text": [
      "\n"
     ]
    }
   ],
   "source": [
    "working_file = wf_fields = None\n",
    "current_pass = 0\n",
    "if Path(nr_wf).is_file():\n",
    "    working_file, wf_fields = csvh.get_csv_data(nr_wf,'Num')\n",
    "    for art_num in tqdm_notebook(working_file):\n",
    "        if current_pass < int(working_file[art_num]['ignore']):\n",
    "            current_pass = int(working_file[art_num]['ignore'])"
   ]
  },
  {
   "cell_type": "markdown",
   "metadata": {},
   "source": [
    "## Verify if already processed titles are included\n",
    "Read data and verify if results in file have already been included in previous searches\n"
   ]
  },
  {
   "cell_type": "code",
   "execution_count": 40,
   "metadata": {},
   "outputs": [],
   "source": [
    "if current_pass == 0:\n",
    "    csv_articles, fn_articles = csvh.get_csv_data(new_results_file,'Num')\n",
    "    prev_articles, fn_prev = csvh.get_csv_data(previous_results,'Num')\n",
    "    current_initial = \"\"\n",
    "    db_titles = []\n",
    "    for art_num in tqdm_notebook(csv_articles):\n",
    "        new_title = csv_articles[art_num]['Title'].lower()\n",
    "        csv_articles[art_num]['ignore'] = 0 \n",
    "        csv_articles[art_num]['previous'] = 0 \n",
    "        csv_articles[art_num]['similarity'] = 0.0\n",
    "        if current_initial == \"\" or current_initial != new_title[0]:\n",
    "            print(\"new intital \", new_title[0])\n",
    "            current_initial = new_title[0]\n",
    "            db_titles = get_titles_list(current_initial)\n",
    "            \n",
    "        for prev_pair in db_titles:\n",
    "            prev_num = prev_pair[0]\n",
    "            used_title = prev_pair[1].lower()\n",
    "            # if titles match exactly or simialarity > 0.8 ignore\n",
    "            title_similarity = txtc.similar(new_title, used_title)\n",
    "            if title_similarity > 0.80:\n",
    "                #print(art_num, 'Title:', new_title, \"already processed\", prev_num, used_title)\n",
    "                csv_articles[art_num]['ignore'] = 1\n",
    "                csv_articles[art_num]['previous'] = prev_num\n",
    "                csv_articles[art_num]['similarity'] = title_similarity\n",
    "                break\n",
    "\n",
    "    csvh.write_csv_data(csv_articles, nr_wf)\n",
    "    if Path(nr_wf).is_file():\n",
    "        working_file, wf_fields = csvh.get_csv_data(nr_wf,'Num')\n",
    "        for art_num in working_file:\n",
    "            if current_pass < int(working_file[art_num]['ignore']) :\n",
    "                current_pass = int(working_file[art_num]['ignore'])\n",
    "    \n",
    "    print(nr_wf)"
   ]
  },
  {
   "cell_type": "markdown",
   "metadata": {},
   "source": [
    "## Check Title Wording\n",
    "Using the workds in previous catalysis hub papers check if the title is likely to be a cat hub title"
   ]
  },
  {
   "cell_type": "code",
   "execution_count": 41,
   "metadata": {},
   "outputs": [],
   "source": [
    "if current_pass in [0,1]:\n",
    "    # pass 2\n",
    "    # check titles for likelihood of being catalysis articles using keywords from titles in current DB \n",
    "    print(\"Get word list from DB\")\n",
    "    x = dbh.DataBaseAdapter('ukch_articles.sqlite')\n",
    "    db_titles = x.get_value_list('articles','title')\n",
    "    title_words = set()\n",
    "    ignore_words=set(['the','of','to','and','a','in','is','it', 'their', 'so', 'as'])\n",
    "    average = 0\n",
    "    words_sum = 0.0\n",
    "    for title in db_titles:\n",
    "        one_title = set(title.lower().split())\n",
    "        one_title = one_title - ignore_words\n",
    "        title_words = title_words.union(one_title)\n",
    "        words_sum += len(one_title) \n",
    "        \n",
    "    average = words_sum /len(db_titles)\n",
    "    print(\"Average words per title:\", average)\n",
    "    title_words = title_words - ignore_words\n",
    "    for art_num in working_file:\n",
    "        if 0 == int(working_file[art_num]['ignore']):\n",
    "            art_title = working_file[art_num]['Title']\n",
    "            art_words = set(art_title.lower().split())\n",
    "            occurrences = len(title_words.intersection(art_words))\n",
    "            working_file[art_num]['keywords']=occurrences\n",
    "            if occurrences <= 4:\n",
    "                print(\"occurrences:\", occurrences, \"in title:\", art_title)\n",
    "                working_file[art_num]['ignore']=2\n",
    "            #elif occurrences <= 7:\n",
    "            else:\n",
    "                print(\"occurrences:\", occurrences, \"in title:\", art_title)\n",
    "    csvh.write_csv_data(working_file, nr_wf)\n",
    "    current_pass = 2"
   ]
  },
  {
   "cell_type": "code",
   "execution_count": 42,
   "metadata": {},
   "outputs": [],
   "source": [
    "\n",
    "if current_pass == 2:\n",
    "    i = 0\n",
    "    for art_num in tqdm_notebook(working_file):\n",
    "        if working_file[art_num]['ignore']=='0':\n",
    "            inspected = False\n",
    "            while not inspected:\n",
    "                new_title = working_file[art_num]['Title']\n",
    "                keywords = working_file[art_num]['keywords']\n",
    "                #print (keywords, new_title)\n",
    "                if keywords < 9 and not (\"cataly\" in new_title.lower()):\n",
    "                # ignore  it because it does not contains cataly in title\n",
    "                    working_file[art_num]['ignore']=3 # visual inspection\n",
    "                    inspected = True\n",
    "                elif keywords >= 9 and not (\"cataly\" in new_title.lower()):\n",
    "                    print('Title:', working_file[art_num]['Title'])\n",
    "                    print('***************************************************************')\n",
    "                    print(\"Options:\\n\\ta) add\\n\\tb) ignore\")\n",
    "                    print(\"selection:\")\n",
    "                    usr_select = input()\n",
    "                    if usr_select == 'b':\n",
    "                        working_file[art_num]['ignore']=3 # visual inspection\n",
    "                        inspected = True\n",
    "                    elif usr_select == 'a':\n",
    "                        inspected = True\n",
    "                        i += 1\n",
    "                else:\n",
    "                    inspected = True\n",
    "    print(\"To Process:\", i, \"Pass:\", current_pass)\n",
    "    csvh.write_csv_data(working_file, nr_wf)\n",
    "    current_pass = 3"
   ]
  },
  {
   "cell_type": "markdown",
   "metadata": {},
   "source": [
    "## Get DOIs for Articles\n",
    "The remaining titles need to be further analysed. Recovering their DOIs can help obtain abstracts and acknowledgement statements. "
   ]
  },
  {
   "cell_type": "code",
   "execution_count": 43,
   "metadata": {},
   "outputs": [],
   "source": [
    "if current_pass == 3:\n",
    "    i = 0\n",
    "    for art_num in tqdm_notebook(working_file):\n",
    "        if working_file[art_num]['ignore']=='0' and working_file[art_num]['DOIcr']==\"\":\n",
    "            new_title = working_file[art_num]['Title']\n",
    "            new_doi = cr_api.getDOIForTitle(new_title)\n",
    "            if new_doi == \"\":\n",
    "                #print(\"Missing DOI:\", new_title)\n",
    "                working_file[art_num]['ignore'] = '4'\n",
    "                i +=1\n",
    "            else:\n",
    "                #print(\"DOI found:\", new_doi, \"for:\", new_title)\n",
    "                working_file[art_num]['DOIcr'] = new_doi\n",
    "                working_file[art_num]['ignore'] = '0'\n",
    "    print(\"without DOI:\", i)\n",
    "    csvh.write_csv_data(working_file, nr_wf)\n",
    "    current_pass = 4"
   ]
  },
  {
   "cell_type": "markdown",
   "metadata": {},
   "source": [
    "## Verify DOIs in DB\n",
    "Verify that articles do not exist in the DB"
   ]
  },
  {
   "cell_type": "code",
   "execution_count": 44,
   "metadata": {},
   "outputs": [
    {
     "data": {
      "application/vnd.jupyter.widget-view+json": {
       "model_id": "7a4e1e46812044dcbd0e950697370ba2",
       "version_major": 2,
       "version_minor": 0
      },
      "text/plain": [
       "HBox(children=(IntProgress(value=0, max=998), HTML(value='')))"
      ]
     },
     "metadata": {},
     "output_type": "display_data"
    },
    {
     "name": "stdout",
     "output_type": "stream",
     "text": [
      "Not in DB: 10.1007/s11244-020-01330-y Preface to Special Issue on 5th UK Catalysis Conference (UKCC 2019)\n",
      "Not in DB: 10.1016/j.joule.2020.07.024 Improving Photocatalytic Energy Conversion via NAD (P) H\n",
      "Not in DB: 10.1080/08940886.2018.1460180 Synchrotron Radiation and Neutrons for Catalysis, Materials Research and Development\n",
      "Not in DB:  Application of “Smart” Amine Donors for Rapid Screening and Scale‐Up of Transaminase‐Mediated Biotransformations\n",
      "Not in DB:  Methanation of Carbon Dioxide over Zeolite‐Encapsulated Nickel Nanoparticles\n",
      "Not in DB:  Alcohol Dehydrogenase Triggered Oxa‐Michael Reaction for the Asymmetric Synthesis of Disubstituted Tetrahydropyrans and Tetrahydrofurans\n",
      "Not in DB:  Hydrogen generation by photocatalytic reforming of potential biofuels: Polyols, cyclic alcohols, and saccharides\n",
      "Not in DB: 10.1098/rsta.2020.0058 Methanol photo-reforming with water on pure titania for hydrogen production\n",
      "Not in DB:  Operando Spectroscopic Studies of Cu–SSZ-13 for NH3–SCR deNOx Investigates the Role of NH3 in Observed Cu(II) Reduction at High NO Conversions\n",
      "Not in DB: dissertation Combined computational and neutron scattering studies of hydrocarbons confined in mesoporous materials\n",
      "Not in DB:  A design of a fixed bed plasma DRIFTS cell for studying the NTP-assisted heterogeneously catalysed reactions\n",
      "Not in DB:  Carbidisation of Pd nanoparticles by ethene decomposition, with methane production\n",
      "Not in DB:  Waste not, want not: CO2 (re) cycling into block polymers\n",
      "Not in DB: 10.21820/23987073.2018.5.16 Towards a deeper understanding of catalytic activity in supported precious metal catalysts, EPSRC\n",
      "Not in DB:  Enantioselective Synthesis of Chiral Vicinal Amino Alcohols Using Amine Dehydrogenases\n",
      "Not in DB:  Observation of visible light activated photocatalytic degradation of stearic acid on thin films of tantalum oxynitride synthesized by aerosol assisted chemical vapour …\n",
      "Not in DB: 10.1038/s41467-020-17852-8 Adsorption and activation of molecular oxygen over atomic copper (I/II) site on ceria\n",
      "Not in DB:  Effect of mass transport on the electrochemical oxidation of alcohols over electrodeposited film and carbon-supported Pt electrodes\n",
      "Not in DB: 10.1021/acssuschemeng.8b03268 Sulfated Zirconia Catalysts for D-Sorbitol Cascade Cyclodehydration to Isosorbide: Impact of Zirconia Phase\n",
      "Not in DB: 10.1002/chem.201801871 Reversible C− H Activation, Facile C− B/B− H Metathesis and Apparent Hydroboration Catalysis by a Dimethylxanthene‐Based Frustrated Lewis Pair\n",
      "Not in DB: 10.1039/d0cy01061h Cobalt-containing zeolitic imidazole frameworks for C–H activation using visible-light redox photocatalysis\n",
      "Not in DB: 10.1002/aic.17007 Structured Ni@ NaA zeolite supported on silicon carbide foam catalysts for catalytic carbon dioxide methanation\n",
      "Not in DB:  Preparation of bifunctional Au-Pd/TiO2 catalysts and research on methanol liquid phase one-step oxidation to methyl formate\n",
      "Not in DB:  Synthesis, characterisation and water-gas shift activity of nano-particulate mixed-metal (Al, Ti) cobalt oxides\n",
      "Not in DB: 10.1021/acscatal.0c01454 Mechanistic Insight into the Framework Methylation of H-ZSM-5 for Varying Methanol Loadings and Si/Al Ratios Using First-Principles Molecular Dynamics …\n",
      "Not in DB: 10.1021/acs.jpclett.8b01888 Lonely atoms with special gifts: Breaking linear scaling relationships in heterogeneous catalysis with single-atom alloys\n",
      "Not in DB: 10.1098/rsta.2020.0056 Biomass hydrodeoxygenation catalysts innovation from atomistic activity predictors\n",
      "Not in DB: 10.1016/j.jcat.2018.01.033 Effects of zeolite particle size and internal grain boundaries on Pt/Beta catalyzed isomerization of n-pentane\n",
      "Not in DB: 10.1016/j.cattod.2018.03.046 Preparation of a highly active ternary Cu-Zn-Al oxide methanol synthesis catalyst by supercritical CO2 anti-solvent precipitation\n",
      "Not in DB: 10.1016/j.jcat.2020.06.021 Probing the electronic and geometric structures of photoactive electrodeposited Cu2O films by X-ray absorption spectroscopy\n",
      "Not in DB:  Photoelectrochemical properties of BiOCl microplatelets\n",
      "Not in DB: 10.1002/solr.202000281 Molecular Cobalt Catalysts Grafted onto Polymers for Efficient Hydrogen Generation Cathodes\n",
      "Not in DB: 10.1039/d0cp01227k Operando potassium K-edge X-ray absorption spectroscopy: investigating potassium catalysts during soot oxidation\n",
      "Not in DB: 10.1039/c8se00338f Hydrogen production from formic acid decomposition in the liquid phase using Pd nanoparticles supported on CNFs with different surface properties\n",
      "Not in DB:  Two 3′-O-β-glucosylated nucleoside fluorometabolites related to nucleocidin in Streptomyces calvus\n",
      "Not in DB: 10.1039/c8fd90016g Application of new nanoparticle structures as catalysts: general discussion\n",
      "Not in DB: 10.1016/j.apcatb.2020.119256 Understanding structure-activity relationships in highly active La promoted Ni catalysts for CO2 methanation\n",
      "Not in DB: 10.1016/j.cattod.2020.05.045 Real-time tomographic diffraction imaging of catalytic membrane reactors for the oxidative coupling of methane\n",
      "Not in DB: 10.1021/acs.chemrev.7b00286 Mimicking Natural Photosynthesis: Solar to Renewable H2 Fuel Synthesis by Z-Scheme Water Splitting Systems\n",
      "Not in DB: 10.1002/chem.201804515 Palladium‐Catalyzed C(sp3)−H Arylation of Primary Amines Using a Catalytic Alkyl Acetal to Form a Transient Directing Group\n",
      "Not in DB: 10.1038/s41929-018-0169-3 Detection of catalytic intermediates at an electrode surface during carbon dioxide reduction by an earth-abundant catalyst\n",
      "Not in DB: 10.1021/acscatal.7b02733 Atmospheric Pressure and Room Temperature Synthesis of Methanol through Plasma-Catalytic Hydrogenation of CO2\n",
      "Not in DB: 10.1021/acs.orglett.8b03745 Synthesis of 3, 3-diarylazetidines by calcium (II)-catalyzed Friedel–Crafts reaction of azetidinols with unexpected Cbz enhanced reactivity\n",
      "Not in DB: 10.1021/acscentsci.7b00607 Pendant Hydrogen-Bond Donors in Cobalt Catalysts Independently Enhance CO2 Reduction\n",
      "Not in DB: 10.1002/anie.202006246 One‐Pot Synthesis of Chiral N‐Arylamines by Combining Biocatalytic Aminations with Buchwald–Hartwig N‐Arylation\n",
      "Not in DB: 10.1016/j.chembiol.2018.03.007 Structural insights into a flavin-dependent [4+ 2] cyclase that catalyzes trans-decalin formation in pyrroindomycin biosynthesis\n",
      "Not in DB: 10.1016/j.mcat.2018.06.002 Effect of the addition of different doping agents on visible light activity of porous TiO2 photocatalysts\n",
      "Not in DB: 10.1021/acsnano.0c05482 Rational Design of Two-Dimensional Transition Metal Carbide/Nitride (MXene) Hybrids and Nanocomposites for Catalytic Energy Storage and Conversion\n",
      "Not in DB: 10.1016/j.cattod.2020.09.001 The direct synthesis of hydrogen peroxide over Au and Pd nanoparticles: A DFT study\n",
      "Not in DB: 10.1021/acs.inorgchem.0c02086 Electronically Modified Cobalt Aminopyridine Complexes Reveal an Orthogonal Axis for Catalytic Optimization for CO2 Reduction\n",
      "Not in DB: 10.1039/d0sc03695a Catalytic C–H to C–M (M= Al, Mg) bond transformations with heterometallic complexes\n",
      "Not in DB: 10.1016/j.elecom.2017.12.017 Electrocatalytic activity of CoFe2O4 thin films prepared by AACVD towards the oxygen evolution reaction in alkaline media\n",
      "Not in DB: 10.1039/d0cp03852k An approach to calculate the free energy changes of surface reactions using free energy decomposition on ab initio brute-force molecular dynamics …\n",
      "Not in DB: 10.1177/1468087420962294 A comparative study into the effects of pre and post catalyst exhaust gas recirculation on the onset of knock\n",
      "Not in DB: 10.3390/ma11112066 Impact of TiO2 nanotubes' morphology on the photocatalytic degradation of simazine pollutant\n",
      "Not in DB: 10.1016/j.poly.2018.08.027 Synthesis and characterization of AgCoO2 catalyst for oxidation of CO at a low temperature\n",
      "Not in DB: 10.1080/02772248.2018.1497634 Visible light sensitive activated carbon-metal oxide (TiO2, WO3, NiO, and SnO) nano-catalysts for photo-degradation of methylene blue: a comparative study\n",
      "Not in DB: 10.1039/d0sc01918f Catalyst control of selectivity in the C–O bond alumination of biomass derived furans\n",
      "Not in DB: 10.1016/j.resenv.2020.100003 Selection of Manganese oxide catalysts for catalytic oxidation of Carbon monoxide at ambient conditions\n",
      "Not in DB: 10.3390/ma11020205 Green synthesis of three-dimensional hybrid N-doped ORR electro-catalysts derived from apricot sap\n",
      "Not in DB: 10.1016/j.scitotenv.2020.141154 Photocatalytic removal of the cyanobacterium Microcystis aeruginosa PCC7813 and four microcystins by TiO2 coated porous glass beads with UV-LED irradiation\n",
      "Not in DB: 10.1021/acs.iecr.7b05160 Runaway reaction for the esterification of acetic anhydride with methanol catalyzed by sulfuric acid\n",
      "Not in DB: 10.1016/j.mtener.2018.02.007 Ni and Cu ion-exchanged nanostructured mesoporous zeolite: A noble metal free, efficient, and durable electrocatalyst for alkaline methanol oxidation reaction\n",
      "Not in DB: 10.1021/acs.organomet.8b00377 Hydrogenation of Carbon Dioxide with Organic Base by PCIIP-Ir Catalysts\n",
      "Not in DB: 10.1021/acsomega.8b02749 Application of Silver Nanoparticles in the Multicomponent Reaction Domain: A Combined Catalytic Reduction Methodology to Efficiently Access Potential …\n",
      "Not in DB: 10.1016/j.electacta.2018.08.047 Conjugated microporous polymer based on star-shaped triphenylamine-benzene structure with improved electrochemical performances as the organic cathode …\n",
      "Not in DB: 10.1080/21870764.2018.1439692 Influence of pH tuning at the precursor-preparation process on the structural characteristics and catalytic performance of hydrothermally synthesized ZnAl2O4 …\n",
      "Not in DB: 10.1016/j.nanoen.2018.07.018 Multi-electric field modulation for photocatalytic oxygen evolution: Enhanced charge separation by coupling oxygen vacancies with faceted heterostructures\n",
      "Not in DB: 10.1515/chem-2018-0055 Catalytic activities of heterogeneous catalysts obtained by copolymerization of metal-containing 2-(acetoacetoxy) ethyl methacrylate\n",
      "Not in DB: 10.1039/c8cp04798g Ethanol, O, and CO adsorption on Pt nanoparticles: Effects of nanoparticle size and graphene support\n",
      "Not in DB: 10.1016/j.cej.2020.126625 CO2 decomposition to CO in the presence of up to 50% O2 using a non-thermal plasma at atmospheric temperature and pressure\n",
      "Not in DB: 10.3390/catal8120578 Policies and motivations for the CO2 valorization through the sabatier reaction using structured catalysts. A review of the most recent advances\n",
      "Not in DB: 10.3390/ma13204482 Micro-and Nanoscale Spectroscopic Investigations of Threonine Influence on the Corrosion Process of the Modified Fe Surface by Cu Nanoparticles\n",
      "Not in DB: 10.1016/j.apsusc.2017.11.076 Electrocatalytic behavior of a nanocomposite of Ni/Pd supported by carbonized PVA nanofibers towards formic acid, ethanol and urea oxidation: a physicochemical …\n",
      "\n",
      "without DOI: 0\n"
     ]
    }
   ],
   "source": [
    "ukchapp_db = \"../railsapp/ukchapp/db/development.sqlite3\"\n",
    "if current_pass >= 4:\n",
    "    i = 0\n",
    "    db_conn = dbh.DataBaseAdapter(ukchapp_db)\n",
    "    for art_num in tqdm_notebook(working_file):\n",
    "        if working_file[art_num]['ignore']=='0':\n",
    "            new_title = working_file[art_num]['Title']\n",
    "            new_doi = working_file[art_num]['DOIcr'].strip()\n",
    "            db_title = db_conn.get_title(new_doi)\n",
    "            if db_title == None:\n",
    "                print(\"Not in DB:\", new_doi, new_title)\n",
    "            else:\n",
    "                print(\"Already in DB:\", new_doi, \"for:\", new_title, db_title)\n",
    "                working_file[art_num]['ignore'] = '5'\n",
    "    print(\"without DOI:\", i)\n",
    "    csvh.write_csv_data(working_file, nr_wf)\n",
    "    current_pass = 5\n"
   ]
  },
  {
   "cell_type": "code",
   "execution_count": 46,
   "metadata": {},
   "outputs": [
    {
     "data": {
      "application/vnd.jupyter.widget-view+json": {
       "model_id": "05d9647ecc4c44bc870d4e6fae91ca82",
       "version_major": 2,
       "version_minor": 0
      },
      "text/plain": [
       "HBox(children=(IntProgress(value=0, max=998), HTML(value='')))"
      ]
     },
     "metadata": {},
     "output_type": "display_data"
    },
    {
     "name": "stdout",
     "output_type": "stream",
     "text": [
      "new intital  p\n",
      "new intital  i\n",
      "new intital  s\n",
      "new intital  a\n",
      "new intital  m\n",
      "new intital  a\n",
      "new intital  h\n",
      "new intital  m\n",
      "new intital  o\n",
      "new intital  c\n",
      "new intital  a\n",
      "new intital  c\n",
      "new intital  w\n",
      "new intital  t\n",
      "new intital  e\n",
      "new intital  o\n",
      "new intital  a\n",
      "new intital  e\n",
      "new intital  s\n",
      "new intital  r\n",
      "new intital  c\n",
      "new intital  s\n",
      "new intital  p\n",
      "new intital  s\n",
      "new intital  m\n",
      "new intital  l\n",
      "new intital  b\n",
      "new intital  e\n",
      "new intital  p\n",
      "new intital  m\n",
      "new intital  o\n",
      "new intital  h\n",
      "new intital  t\n",
      "new intital  a\n",
      "new intital  u\n",
      "new intital  r\n",
      "new intital  m\n",
      "new intital  p\n",
      "new intital  d\n",
      "new intital  a\n",
      "new intital  s\n",
      "new intital  p\n",
      "new intital  o\n",
      "new intital  s\n",
      "new intital  e\n",
      "new intital  r\n",
      "new intital  t\n",
      "new intital  e\n",
      "new intital  c\n",
      "new intital  e\n",
      "new intital  a\n",
      "new intital  i\n",
      "new intital  s\n",
      "new intital  v\n",
      "new intital  c\n",
      "new intital  s\n",
      "new intital  g\n",
      "new intital  p\n",
      "new intital  r\n",
      "new intital  n\n",
      "new intital  h\n",
      "new intital  a\n",
      "new intital  c\n",
      "new intital  i\n",
      "new intital  m\n",
      "new intital  c\n",
      "new intital  e\n",
      "new intital  c\n",
      "new intital  p\n",
      "new intital  m\n",
      "new intital  e\n",
      "\n"
     ]
    }
   ],
   "source": [
    "ukchapp_db = \"../railsapp/ukchapp/db/development.sqlite3\"\n",
    "#verify that titles are not in the app_db\n",
    "if current_pass >= 5: \n",
    "    db_titles = []\n",
    "    current_initial = \"\"\n",
    "    for art_num in tqdm_notebook(working_file):\n",
    "        if working_file[art_num]['ignore']=='0':\n",
    "            new_title = working_file[art_num]['Title'].lower()\n",
    "            new_doi = working_file[art_num]['DOIcr'].strip()\n",
    "            if current_initial == \"\" or current_initial != new_title[0]:\n",
    "                print(\"new intital \", new_title[0])\n",
    "                current_initial = new_title[0]\n",
    "                db_titles = get_titles_list(current_initial, ukchapp_db)\n",
    "            for prev_pair in db_titles:\n",
    "                prev_num = prev_pair[0]\n",
    "                used_title = prev_pair[1].lower()\n",
    "                # if titles match exactly or simialarity > 0.8 ignore\n",
    "                title_similarity = txtc.similar(new_title, used_title)\n",
    "                if title_similarity > 0.80:\n",
    "                    #print(art_num, 'Title:', new_title, \"already processed\", prev_num, used_title)\n",
    "                    csv_articles[art_num]['ignore'] = 6\n",
    "                    csv_articles[art_num]['previous'] = prev_num\n",
    "                    csv_articles[art_num]['similarity'] = title_similarity\n",
    "                    break\n",
    "                    \n",
    "    csvh.write_csv_data(csv_articles, nr_wf)"
   ]
  },
  {
   "cell_type": "markdown",
   "metadata": {},
   "source": [
    "## Get Acknowledgement statements"
   ]
  },
  {
   "cell_type": "code",
   "execution_count": null,
   "metadata": {},
   "outputs": [],
   "source": [
    "if current_pass >= 5:\n",
    "    i = 0\n",
    "    for art_num in tqdm_notebook(working_file):\n",
    "        if working_file[art_num]['ignore']=='0':\n",
    "            article_title = working_file[art_num]['Title']\n",
    "            article_doi = working_file[art_num]['DOIcr']\n",
    "            article_url =working_file[art_num]['ArticleURL']\n",
    "            print(\"Analysing:\", article_title, article_doi, article_url)\n",
    "            # try to retrive html page for article using link from crossref first\n",
    "            # and if not try url from pop\n",
    "            # find reference to uk catalysis hub in html text\n",
    "            # if found mark as relevant\n",
    "            found = \"\"\n",
    "            referents = [\"uk catalysis hub\", \"uk catalysis\", \"catalysis hub\",\n",
    "                 'EP/R026645/1', 'resources', 'EP/K014668/1', 'EPSRC', 'EP/K014714/1',\n",
    "                 'Hub','provided', 'grant', 'biocatalysis', 'EP/R026815/1', 'EP/R026939/1',\n",
    "                 'support', 'membership', 'EP/M013219/1', 'UK', 'kindly', 'Catalysis',\n",
    "                 'funded', 'EP/R027129/1', 'Consortium', 'thanked', 'EP/K014854/1', 'EP/K014706/2']\n",
    "            found = urlh.findFromDOI(article_title, article_doi, referents)\n",
    "            working_file[art_num]['checked_doi'] = 1\n",
    "            working_file[art_num]['ack_doi'] = found\n",
    "            found = urlh.findFromURI(article_title, article_url, referents)\n",
    "            working_file[art_num]['checked_url'] = 1\n",
    "            working_file[art_num]['ack_url'] = found\n",
    "            print(\"Ack:\", found)\n",
    "    csvh.write_csv_data(working_file, nr_wf)"
   ]
  }
 ],
 "metadata": {
  "kernelspec": {
   "display_name": "Python 3",
   "language": "python",
   "name": "python3"
  },
  "language_info": {
   "codemirror_mode": {
    "name": "ipython",
    "version": 3
   },
   "file_extension": ".py",
   "mimetype": "text/x-python",
   "name": "python",
   "nbconvert_exporter": "python",
   "pygments_lexer": "ipython3",
   "version": "3.7.4"
  }
 },
 "nbformat": 4,
 "nbformat_minor": 2
}
