{
 "cells": [
  {
   "cell_type": "markdown",
   "metadata": {},
   "source": [
    "# Verification of references to UK Catalysis Hub \n",
    "A list of articles is obtainded from publish or perish. This list will contain a titles and some IDs whic need to be verified. \n",
    "\n",
    "The criteria for adding a publication to the database are: \n",
    "a) has an explicit acknowledgement of UK Catalysis Hub\n",
    "b) mentions one of the UK Catalysis Hub grants\n",
    "c) has two or more authors with affiliation to UK Catalysis Hub\n",
    "d) acknowledges support from a scientist affiliated to UK Catalysis Hub."
   ]
  },
  {
   "cell_type": "code",
   "execution_count": 1,
   "metadata": {},
   "outputs": [],
   "source": [
    "# Libraries\n",
    "# library containign functions that read and write to csv files\n",
    "import lib.handle_csv as csvh\n",
    "# library for connecting to the db\n",
    "import lib.handle_db as dbh\n",
    "# library for handling text matchings\n",
    "import lib.text_comp as txtc\n",
    "# library for getting data from crossref\n",
    "import lib.crossref_api as cr_api\n",
    "# library for handling url searchs\n",
    "import lib.handle_urls as urlh\n",
    "# managing files and file paths\n",
    "from pathlib import Path\n",
    "# add aprogress bar\n",
    "from tqdm import tqdm_notebook "
   ]
  },
  {
   "cell_type": "code",
   "execution_count": 2,
   "metadata": {},
   "outputs": [],
   "source": [
    "def get_titles(str_pub_title, db_name = \"prev_search.sqlite3\"):\n",
    "    print(db_name)\n",
    "    db_conn = dbh.DataBaseAdapter(db_name)\n",
    "    search_in = 'prev_pop_searches'\n",
    "    fields_required = \"Num, Title\"\n",
    "    filter_str = \"Title like '\"+str_pub_title[0]+\"%';\"\n",
    "\n",
    "    db_titles = db_conn.get_values(search_in, fields_required, filter_str)\n",
    "    db_conn.close()\n",
    "    return db_titles\n",
    "\n",
    "def get_titles_and_dois(str_pub_title, db_name = \"app_db.sqlite3\"):\n",
    "    print(db_name)\n",
    "    db_conn = dbh.DataBaseAdapter(db_name)\n",
    "    search_in = 'articles'\n",
    "    fields_required = \"id, title, doi\"\n",
    "    filter_str = \"Title like '\"+str_pub_title[0]+\"%';\"\n",
    "\n",
    "    db_titles = db_conn.get_values(search_in, fields_required, filter_str)\n",
    "    db_conn.close()\n",
    "    return db_titles"
   ]
  },
  {
   "cell_type": "markdown",
   "metadata": {},
   "source": [
    "Get the name of the file with the results of the PoP search:"
   ]
  },
  {
   "cell_type": "code",
   "execution_count": 3,
   "metadata": {},
   "outputs": [
    {
     "name": "stdout",
     "output_type": "stream",
     "text": [
      "Please enter the name of the input file:\n",
      "pop_searches/PoPCites20201017.csv\n"
     ]
    }
   ],
   "source": [
    "# input file with path: pop_searches/PoPCites20201017.csv\n",
    "new_results_file = \"\"\n",
    "while not Path(new_results_file).is_file():\n",
    "    print('Please enter the name of the input file:')\n",
    "    new_results_file = input()"
   ]
  },
  {
   "cell_type": "markdown",
   "metadata": {},
   "source": [
    "Get the name of the db file with previous results of the PoP search:"
   ]
  },
  {
   "cell_type": "code",
   "execution_count": 4,
   "metadata": {},
   "outputs": [
    {
     "name": "stdout",
     "output_type": "stream",
     "text": [
      "Please enter the name of the previous results file:\n",
      "db_files/prev_search.sqlite3\n"
     ]
    }
   ],
   "source": [
    "# previous results db file with path: db_files/prev_search.sqlite3\n",
    "\n",
    "previous_db = \"\"\n",
    "while not Path(previous_db).is_file():\n",
    "    print('Please enter the name of the previous results file:')\n",
    "    previous_db = input()"
   ]
  },
  {
   "cell_type": "markdown",
   "metadata": {},
   "source": [
    "Get the name of the current app db file:"
   ]
  },
  {
   "cell_type": "code",
   "execution_count": 6,
   "metadata": {},
   "outputs": [
    {
     "name": "stdout",
     "output_type": "stream",
     "text": [
      "Please enter the name of the previous results file:\n",
      "db_files/db_app.sqlite3\n",
      "Please enter the name of the previous results file:\n",
      "db_files/app_db.sqlite3\n"
     ]
    }
   ],
   "source": [
    "# app db file with path: db_files/app_db.sqlite3\n",
    "ukchapp_db = \"\"\n",
    "while not Path(ukchapp_db).is_file():\n",
    "    print('Please enter the name of the previous results file:')\n",
    "    ukchapp_db = input()"
   ]
  },
  {
   "cell_type": "markdown",
   "metadata": {},
   "source": [
    "Set the name of the output file\n"
   ]
  },
  {
   "cell_type": "code",
   "execution_count": 7,
   "metadata": {},
   "outputs": [
    {
     "name": "stdout",
     "output_type": "stream",
     "text": [
      "Verifying if the articles listed in: \n",
      "\t PoPCites20201017.csv\n",
      "where included in previous searches: \n",
      "\t prev_search.sqlite3\n",
      "The results will bt saved in: \n",
      "\t pop_searches/PoPCites20201017_wf.csv\n"
     ]
    }
   ],
   "source": [
    "nr_wf = new_results_file[:-4]+\"_wf.csv\"\n",
    "print(\"Verifying if the articles listed in: \\n\\t\", Path(new_results_file).name)\n",
    "print(\"where included in previous searches: \\n\\t\", Path(previous_db).name)\n",
    "\n",
    "print(\"The results will bt saved in: \\n\\t\", nr_wf)"
   ]
  },
  {
   "cell_type": "code",
   "execution_count": 8,
   "metadata": {},
   "outputs": [
    {
     "data": {
      "application/vnd.jupyter.widget-view+json": {
       "model_id": "7d4e5ab11c774ea4af199b18d6d2922a",
       "version_major": 2,
       "version_minor": 0
      },
      "text/plain": [
       "HBox(children=(IntProgress(value=0, max=998), HTML(value='')))"
      ]
     },
     "metadata": {},
     "output_type": "display_data"
    },
    {
     "name": "stdout",
     "output_type": "stream",
     "text": [
      "\n",
      "Current pass: 2\n"
     ]
    }
   ],
   "source": [
    "working_file = wf_fields = None\n",
    "current_pass = 0\n",
    "if Path(nr_wf).is_file():\n",
    "    working_file, wf_fields = csvh.get_csv_data(nr_wf,'Num')\n",
    "    for art_num in tqdm_notebook(working_file):\n",
    "        if current_pass < int(working_file[art_num]['ignore']):\n",
    "            current_pass = int(working_file[art_num]['ignore'])\n",
    "print(\"Current pass:\", current_pass)"
   ]
  },
  {
   "cell_type": "markdown",
   "metadata": {},
   "source": [
    "## Verify if already processed titles are included\n",
    "Read data and verify if results in file have already been included in previous searches\n"
   ]
  },
  {
   "cell_type": "code",
   "execution_count": 9,
   "metadata": {},
   "outputs": [],
   "source": [
    "if current_pass == 0:\n",
    "    current_initial = \"\"\n",
    "    db_titles = []\n",
    "    for art_num in tqdm_notebook(working_file):\n",
    "        new_title = working_file[art_num]['Title'].lower()\n",
    "        working_file[art_num]['ignore'] = 0 \n",
    "        working_file[art_num]['previous'] = 0 \n",
    "        working_file[art_num]['similarity'] = 0.0\n",
    "        if current_initial == \"\" or current_initial != new_title[0]:\n",
    "            print(\"new intital \", new_title[0])\n",
    "            current_initial = new_title[0]\n",
    "            db_titles = get_titles(current_initial, previous_db)\n",
    "            \n",
    "        for prev_pair in db_titles:\n",
    "            prev_num = prev_pair[0]\n",
    "            used_title = prev_pair[1].lower()\n",
    "            # if titles match exactly or simialarity > 0.8 ignore\n",
    "            title_similarity = txtc.similar(new_title, used_title)\n",
    "            if title_similarity > 0.80:\n",
    "                #print(art_num, 'Title:', new_title, \"already processed\", prev_num, used_title)\n",
    "                working_file[art_num]['ignore'] = 1\n",
    "                working_file[art_num]['previous'] = prev_num\n",
    "                working_file[art_num]['similarity'] = title_similarity\n",
    "                break\n",
    "\n",
    "    csvh.write_csv_data(working_file, nr_wf)  \n",
    "    print(nr_wf)"
   ]
  },
  {
   "cell_type": "markdown",
   "metadata": {},
   "source": [
    "## Check Titles in app\n",
    "Verify if the title is in the app"
   ]
  },
  {
   "cell_type": "code",
   "execution_count": 10,
   "metadata": {},
   "outputs": [],
   "source": [
    "# verify that titles are not in the app_db (if they are  also get DOI)\n",
    "if current_pass == 1: \n",
    "    db_titles = []\n",
    "    current_initial = \"\"\n",
    "    for art_num in tqdm_notebook(working_file):\n",
    "        if working_file[art_num]['ignore']=='0':\n",
    "            new_title = working_file[art_num]['Title'].lower()\n",
    "            if current_initial == \"\" or current_initial != new_title[0]:\n",
    "                print(\"new intital \", new_title[0])\n",
    "                current_initial = new_title[0]\n",
    "                db_titles = get_titles_and_dois(current_initial, ukchapp_db)\n",
    "            for art_in_db in db_titles:\n",
    "                prev_num = art_in_db[0]\n",
    "                used_title = art_in_db[1].lower()\n",
    "                # if titles match exactly or simialarity > 0.8 ignore\n",
    "                title_similarity = txtc.similar(new_title, used_title)\n",
    "                if title_similarity > 0.80:\n",
    "                    #print(art_num, 'Title:', new_title, \"already processed\", prev_num, used_title)\n",
    "                    working_file[art_num]['ignore'] = 2\n",
    "                    working_file[art_num]['previous'] = prev_num\n",
    "                    working_file[art_num]['similarity'] = title_similarity\n",
    "                    working_file[art_num]['DOIcr'] = art_in_db[2]\n",
    "                    break                \n",
    "    csvh.write_csv_data(working_file, nr_wf)"
   ]
  },
  {
   "cell_type": "markdown",
   "metadata": {},
   "source": [
    "## Check Title Wording\n",
    "Using the workds in previous catalysis hub papers check if the title is likely to be a cat hub title"
   ]
  },
  {
   "cell_type": "code",
   "execution_count": 11,
   "metadata": {},
   "outputs": [
    {
     "name": "stdout",
     "output_type": "stream",
     "text": [
      "Get word list from DB\n",
      "Average words per title: 10.11271676300578\n"
     ]
    },
    {
     "data": {
      "application/vnd.jupyter.widget-view+json": {
       "model_id": "289df038a6d94b079c319bc94d80237f",
       "version_major": 2,
       "version_minor": 0
      },
      "text/plain": [
       "HBox(children=(IntProgress(value=0, max=998), HTML(value='')))"
      ]
     },
     "metadata": {},
     "output_type": "display_data"
    },
    {
     "name": "stdout",
     "output_type": "stream",
     "text": [
      "occurrences: 3 in title: 14-3-3 proteins activate Pseudomonas exotoxins-S and-T by chaperoning a hydrophobic surface\n",
      "occurrences: 8 in title: A comparative study into the effects of pre and post catalyst exhaust gas recirculation on the onset of knock\n",
      "occurrences: 4 in title: A computational approach to validate novel drug targets of gentianine from Swertiya chirayita in Plasmodium falciparum\n",
      "occurrences: 6 in title: A Coordinated Approach by Public Domain Bioinformatics Resources to Aid the Fight Against Alzheimer's Disease Through Expert Curation of Key Protein …\n",
      "occurrences: 2 in title: A Mechanistic Model of Hemoglobin Glycosylation\n",
      "occurrences: 7 in title: A Model for Manganese interaction with Deinococcus radiodurans proteome network involved in ROS response and defense\n",
      "occurrences: 7 in title: A novel fluorescein-bisphosphonate based diagnostic tool for the detection of hydroxyapatite in both cell and tissue models\n",
      "occurrences: 6 in title: A structural and thermodynamic comparison of substrate interactions and catalysis by family 6 glycosyltransferases from Bacteroides ovatus, Parachlamydia …\n",
      "occurrences: 1 in title: A Survey of Web-Based Chemogenomic Data Resources\n",
      "occurrences: 0 in title: A Survey to the Extent of Spurious Drugs in the Market of India\n",
      "occurrences: 4 in title: A techno-economic assessment of gas-to-liquid and coal-to-liquid plants through the development of scale factors\n",
      "occurrences: 6 in title: A unified model to explain the large chiroptical effects in polymer systems through natural optical activity\n",
      "occurrences: 2 in title: A universal signature in the melting of metallic nanoparticles\n",
      "occurrences: 3 in title: Acetazolamide reduces exercise capacity following a 5-day ascent to 4559 m in a randomised study\n",
      "occurrences: 3 in title: Acetyl phosphate as a primordial energy currency at the origin of life\n",
      "occurrences: 7 in title: Achieving Flat-on Primary Crystals by Nanoconfined Crystallization in High-Temperature Polycarbonate/Poly (vinylidene fluoride) Multilayer Films and Its Effect on …\n",
      "occurrences: 5 in title: Acidic Oxygen Evolution Reaction Activity–Stability Relationships in Ru-Based Pyrochlores\n",
      "occurrences: 4 in title: Acidity Constants of the Hematite–Liquid Water Interface from Ab Initio Molecular Dynamics\n",
      "occurrences: 7 in title: Activation and Functionalization of C–C σ Bonds of Alkylidene Cyclopropanes at Main Group Centers\n",
      "occurrences: 4 in title: Activity-based E3 ligase profiling uncovers an E3 ligase with esterification activity\n",
      "occurrences: 9 in title: Adsorption and activation of molecular oxygen over atomic copper (I/II) site on ceria\n",
      "occurrences: 5 in title: Advanced fabrication of toroidal optical microresonators for label-free photothermal imaging and spectroscopy\n",
      "occurrences: 6 in title: Advanced Methods: Identification of Promising High-Tech Solutions with Semantic Technologies: Energy, Pharma, and Other Industries\n",
      "occurrences: 6 in title: Advancements in docking and molecular dynamics simulations towards ligand-receptor interactions and structure-function relationships\n",
      "occurrences: 0 in title: Africa's Mineral Fortune\n",
      "occurrences: 2 in title: Ai'? venture under pressure\n",
      "occurrences: 1 in title: Allosteric inhibition of a mammalian lectin\n",
      "occurrences: 0 in title: ALS User Meeting and Workshops\n",
      "occurrences: 5 in title: Amino Acid Residues Determine the Response of Flexible Metal–Organic Frameworks to Guests\n",
      "occurrences: 12 in title: An approach to calculate the free energy changes of surface reactions using free energy decomposition on ab initio brute-force molecular dynamics …\n",
      "occurrences: 4 in title: Analysis of journal content characteristics and metrics reported in the Clarivate Analytics Journal Citation Reports and Web of Science Core Collection …\n",
      "occurrences: 1 in title: Anchor entrepreneurship and industry catalysis: The rise of the Italian Biomedical Valley\n",
      "occurrences: 3 in title: Anisotropic Electron Transport Limits Performance of Bi2WO6 Photoanodes\n",
      "occurrences: 9 in title: Antimicrobial Nitric Oxide Releasing Creams/Devices Based on a Novel Reaction Between S-Nitrosoglutathione and Zinc Oxide Nanoparticles\n",
      "occurrences: 5 in title: Application of new nanoparticle structures as catalysts: general discussion\n",
      "occurrences: 5 in title: Application of Silver Nanoparticles in the Multicomponent Reaction Domain Iordanidou, Domna; Zarganes-Tzitzikas, Tryfon; Neochoritis, Constantinos G.; …\n",
      "occurrences: 9 in title: Application of Silver Nanoparticles in the Multicomponent Reaction Domain: A Combined Catalytic Reduction Methodology to Efficiently Access Potential …\n",
      "occurrences: 2 in title: Architecture of the Tuberous Sclerosis Protein Complex\n",
      "occurrences: 3 in title: Assimilation of Microplastics and Bacteria Associated with the Organs of Wild Mullet Harvested from an Estuary in Rivers State, Nigeria\n",
      "occurrences: 8 in title: Atmospheric Pressure and Room Temperature Synthesis of Methanol through Plasma-Catalytic Hydrogenation of CO2\n",
      "occurrences: 4 in title: ATTIRE: Albumin To prevenT Infection in chronic liveR failurE: study protocol for an interventional randomised controlled trial\n",
      "occurrences: 9 in title: Author Correction: Tuning of catalytic sites in Pt/TiO 2 catalysts for the chemoselective hydrogenation of 3-nitrostyrene\n",
      "occurrences: 9 in title: Author Correction: Tuning of catalytic sites in Pt/TiO 2 catalysts for the chemoselective hydrogenation of 3-nitrostyrene\n",
      "occurrences: 2 in title: Bayesian inference associates rare KDR variants with specific phenotypes in pulmonary arterial hypertension\n",
      "occurrences: 3 in title: Biocatalytic self-assembly on magnetic nanoparticles\n",
      "occurrences: 4 in title: Biomass HDO Catalysts Innovation from Atomistic Activity Predictors\n",
      "occurrences: 5 in title: Biomass hydrodeoxygenation catalysts innovation from atomistic activity predictors\n",
      "occurrences: 0 in title: Bristol BioDesign Institute\n",
      "occurrences: 3 in title: C–H functionalization for hydrogen isotope exchange. Angewandte Chemie International Edition. pp. 1-27. ISSN 1433-7851\n",
      "occurrences: 6 in title: Carbon Monoxide Poisoning Resistance and Structural Stability of Single Atom Alloys\n",
      "occurrences: 3 in title: Catabolic Reductive Dehalogenase Substrate Complex Structures Underpin Rational Repurposing of Substrate Scope\n",
      "occurrences: 6 in title: Catalyst control of selectivity in the C–O bond alumination of biomass derived furans\n",
      "occurrences: 5 in title: Catalytic activities of heterogeneous catalysts obtained by copolymerization of metal-containing 2-(acetoacetoxy) ethyl methacrylate\n",
      "occurrences: 5 in title: Catalytic C–H to C–M (M= Al, Mg) bond transformations with heterometallic complexes\n",
      "occurrences: 1 in title: CHALLENGES FOR ORGANOCATALYSIS\n",
      "occurrences: 0 in title: Chaperna: linking the ancient RNA and protein worlds\n",
      "occurrences: 4 in title: Characterization of left‐handed beta helix‐domains, and identification and functional annotation of proteins containing such domains\n",
      "occurrences: 8 in title: Charge transport and phase behavior of imidazolium-based ionic liquid crystals from fully atomistic simulations\n",
      "occurrences: 4 in title: Chemically treated 3D printed polymer scaffolds for biomineral formation\n",
      "occurrences: 3 in title: Chiral shape fluctuations and the origin of chirality in cholesteric phases of DNA origamis\n",
      "occurrences: 3 in title: CO and O2 Adsorption on K/Pt(111)\n",
      "occurrences: 3 in title: Co-expression network analysis of AMPK and autophagy gene products during adipocyte differentiation\n",
      "occurrences: 10 in title: CO2 decomposition to CO in the presence of up to 50% O2 using a non-thermal plasma at atmospheric temperature and pressure\n",
      "occurrences: 8 in title: Cobalt-containing zeolitic imidazole frameworks for C–H activation using visible-light redox photocatalysis\n",
      "occurrences: 9 in title: Combined computational and neutron scattering studies of hydrocarbons confined in mesoporous materials\n",
      "occurrences: 1 in title: Commercializing Nanotechnology: A Roadmap to Taking Nanoproducts from Laboratory to Market\n",
      "occurrences: 4 in title: Computational insights into the binding mode of curcumin analogues against EP300 HAT domain as potent acetyltransferase inhibitors\n",
      "occurrences: 8 in title: Computational investigation of CO adsorbed on Au x, Ag x and (AuAg) x nanoclusters (x= 1− 5, 147) and monometallic Au and Ag low-energy surfaces\n",
      "occurrences: 10 in title: Conjugated microporous polymer based on star-shaped triphenylamine-benzene structure with improved electrochemical performances as the organic cathode …\n",
      "occurrences: 3 in title: Construction of supramolecular hexagonal metallacycles via coordination-driven self-assembly: Structure, properties and application\n",
      "occurrences: 4 in title: Continuous flow technology vs. the batch-by-batch approach to produce pharmaceutical compounds\n",
      "occurrences: 6 in title: Controlling Hydrocarbon (De) Hydrogenation Pathways with Bifunctional PtCu Single-Atom Alloys\n",
      "occurrences: 5 in title: Correction to: Solvent Free Synthesis of PdZn/TiO\n",
      "occurrences: 9 in title: Correction: In situ spectroscopic investigations of MoOx/Fe2O3 catalysts for the selective oxidation of methanol\n",
      "occurrences: 1 in title: COVID-19 cytokine storms perhaps better stopped by the CYP11A1 Vitamin D pathway–Aug 11, 2020\n",
      "occurrences: 0 in title: Cryo-EM: The Resolution Revolution and Drug Discovery\n",
      "occurrences: 6 in title: Crystal Structure and Band-Gap Engineering of a Semiconducting Coordination Polymer Consisting of Copper (I) Bromide and a Bridging Acceptor Ligand\n",
      "occurrences: 3 in title: Crystal structure of Ripk4 reveals dimerization-dependent kinase activity\n",
      "occurrences: 1 in title: Cytosolic GAPDH as a redox-dependent regulator of energy metabolism\n",
      "occurrences: 0 in title: Data Catalysis, Informational Violence, and the Denaturalisation of the Natural Person\n",
      "occurrences: 7 in title: Data Driven Charge Transfer Atlas Provides Topological View of Electronic Structure Properties for Arbitrary Proteins Complexes\n",
      "occurrences: 3 in title: Dehydrochlorination of PVC in multi-layered blisterpacks using ionic liquids\n",
      "occurrences: 0 in title: Deriváty aminobenzoových kyselin jako potenciální antimikrobní látky\n",
      "occurrences: 8 in title: Design, Identification and Evolution of Surface Ruthenium (II/III) Single‐Site for CO Activation\n",
      "occurrences: 9 in title: Designing active sites for the sustainable low-temperature production of caprolactam using microporous zeotypes\n",
      "occurrences: 13 in title: Detection of catalytic intermediates at an electrode surface during carbon dioxide reduction by an earth-abundant catalyst\n",
      "occurrences: 1 in title: Dexamethasone delivery to the ocular posterior segment by sustained-release Laponite formulation\n",
      "occurrences: 8 in title: DFT calculation of oxygen adsorption on platinum nanoparticles: coverage and size effects\n",
      "occurrences: 6 in title: Differential kinetics of two-cysteine peroxiredoxin disulfide formation reveal a novel model for peroxide sensing\n",
      "occurrences: 0 in title: Digitalization and Bioprocessing: Promises and Challenges\n",
      "occurrences: 3 in title: Digitising Chemical Synthesis in Automated and Robotic Flow\n",
      "occurrences: 6 in title: Discovery, Structural and Biochemical Studies of a rare Glu/Asp Specific M1 Class Aminopeptidase from Legionella pneumophila\n",
      "occurrences: 1 in title: Disorder-induced electron and hole trapping in amorphous\n",
      "occurrences: 1 in title: Diversity and Regulation of S-Adenosylmethionine Dependent Methyltransferases in the Anhydrobiotic Midge\n",
      "occurrences: 0 in title: Double gene targeting multiplex PCR-RFLP detects Crocodylus porosus in chicken meatball and traditional medicine\n",
      "occurrences: 8 in title: Effect of atmospheric cold plasma treatment on antioxidant activities and reactive oxygen species production in postharvest blueberries during storage\n",
      "occurrences: 3 in title: Effect of Chaotropes on the Transfer of Ions and Dyes across the Liquid–Liquid Interface\n",
      "occurrences: 7 in title: Effect of Pore Geometry on Accumulation of Condensed Hydrogen in Microporous Carbon for Hydrogen Storage\n",
      "occurrences: 10 in title: Effect of the addition of different doping agents on visible light activity of porous TiO2 photocatalysts\n",
      "occurrences: 6 in title: Effects of brexit on the financial markets-an empirical study using event study methodology and garch models\n",
      "occurrences: 8 in title: Effects of CeO2 nanoparticles on bacterial community and molecular ecological network in activated sludge system\n",
      "occurrences: 4 in title: Effects of distal mutations on the structure, dynamics and catalysis of human monoacylglycerol lipase\n",
      "occurrences: 5 in title: Effects of exogenously-applied L-ascorbic acid on root expansive growth and viability of the border-like cells\n",
      "occurrences: 6 in title: Effects of zeolite particle size and internal grain boundaries on Pt/Beta catalyzed isomerization of n-pentane\n",
      "occurrences: 11 in title: Electrocatalytic activity of CoFe2O4 thin films prepared by AACVD towards the oxygen evolution reaction in alkaline media\n",
      "occurrences: 7 in title: Electrocatalytic behavior of a nanocomposite of Ni/Pd supported by carbonized PVA nanofibers towards formic acid, ethanol and urea oxidation: a physicochemical …\n",
      "occurrences: 5 in title: Electrolytic cell engineering and device optimization for electrosynthesis of e-biofuels via co-valorisation of bio-feedstocks and captured CO 2\n",
      "occurrences: 9 in title: Electronically Modified Cobalt Aminopyridine Complexes Reveal an Orthogonal Axis for Catalytic Optimization for CO2 Reduction\n",
      "occurrences: 0 in title: Electrophoretically Guided Micro Additive Manufacturing: EPuAM\n",
      "occurrences: 6 in title: Elucidating the microbiological characteristics of cyromazine affecting the nitrogen cycle during aerobic composting of pig manure\n",
      "occurrences: 0 in title: Embryo Development, Seed Germination, and the Kind of Dormancy of Ginkgo biloba L.\n",
      "occurrences: 5 in title: Engineering a bifunctional copper site in the cupredoxin fold by loop-directed mutagenesis\n",
      "occurrences: 3 in title: Engineering motile aqueous phase-separated droplets via liposome stabilisation\n",
      "occurrences: 10 in title: Ethanol, O, and CO adsorption on Pt nanoparticles: Effects of nanoparticle size and graphene support\n",
      "occurrences: 5 in title: Evaluation of the Lewis acidity of metal complexes using ESI mass spectrometry\n",
      "occurrences: 3 in title: Evolution in the Engine Room: A Review of Technologies to Deliver Decarbonised, Sustainable Shipping: Technology options for the shipping sector to meet …\n",
      "occurrences: 4 in title: Expanding Bacteria Cell Therapy Through Application of Bacteria as Drug Delivery Vehicles\n",
      "occurrences: 6 in title: Exploring natural genetic variation in tomato sucrose synthases on the basis of increased kinetic properties\n",
      "occurrences: 6 in title: Expression and purification of human diacylglycerol kinase α from baculovirus-infected insect cells for structural studies\n",
      "occurrences: 2 in title: Fast Molecular Compression by a Hyperthermal Collision Gives Bond-Selective Mechanochemistry\n",
      "occurrences: 1 in title: Fintech and Banking. Friends or Foes?\n",
      "occurrences: 2 in title: First Principles Approaches Towards Modeling the Electrochemical Interface\n",
      "occurrences: 4 in title: Formation and Elimination of Anti-site Defects during Crystallization in Perovskite Ba1–xSrxLiF3\n",
      "occurrences: 5 in title: Genome-wide DNA methylation and RNAseq analyses identify aberrant signalling pathways in focal cortical dysplasia (FCD) Type II\n",
      "occurrences: 3 in title: Global gene expression analysis of knockdown Triosephosphate isomerase (TPI) gene in human gastric cancer cell line MGC-803\n",
      "occurrences: 5 in title: Glycosylated nanoparticles derived from RAFT polymerization for effective drug delivery to macrophages\n",
      "occurrences: 6 in title: Green Mobility The Future of Electric Cars and Low Carbon Transport\n",
      "occurrences: 5 in title: Green synthesis of three-dimensional hybrid N-doped ORR electro-catalysts derived from apricot sap\n",
      "occurrences: 4 in title: hcga: Highly Comparative Graph Analysis for network phenotyping\n",
      "occurrences: 4 in title: Henchman, RH,... van der Kamp, MW (2018). Biomolecular simulations: from dynamics and mechanisms to computational assays of biological activity. Wiley …\n",
      "occurrences: 2 in title: Holistic assessment of carbon capture and utilization value chains\n",
      "occurrences: 1 in title: Hybrid-DFT Modeling of Lattice and Surface Vacancies in MnO\n",
      "occurrences: 4 in title: Hydration of a 2D Supramolecular Assembly: Bitartrate on Cu (110)\n",
      "occurrences: 6 in title: Hydrogen derived from water as a sustainable solar fuel: learning from biology\n",
      "occurrences: 16 in title: Hydrogen production from formic acid decomposition in the liquid phase using Pd nanoparticles supported on CNFs with different surface properties\n",
      "occurrences: 8 in title: Hydrogenation of Carbon Dioxide with Organic Base by PCIIP-Ir Catalysts\n",
      "occurrences: 0 in title: Hypoxia and hypoxia mimetics differentially modulate histone post-translational modifications\n",
      "occurrences: 6 in title: Impact of lithiated cobalt oxide and phosphate nanoparticles on rainbow trout gill epithelial cells\n",
      "occurrences: 5 in title: Impact of TiO2 nanotubes' morphology on the photocatalytic degradation of simazine pollutant\n",
      "occurrences: 5 in title: Improving Photocatalytic Energy Conversion via NAD (P) H\n",
      "occurrences: 3 in title: Increasing the nuclearity and spin ground state in a new family of ferromagnetically-coupled {Ni 10} disk-like complexes bearing exclusively end-on bridging azido …\n",
      "occurrences: 3 in title: Indoor medicinal plants: Beneficial biocatalysts for air filtration and bioremediation–A review\n",
      "occurrences: 8 in title: Industrial energy use and carbon emissions reduction in the chemicals sector: A UK perspective\n",
      "occurrences: 10 in title: Influence of pH tuning at the precursor-preparation process on the structural characteristics and catalytic performance of hydrothermally synthesized ZnAl2O4 …\n",
      "occurrences: 1 in title: INFORMATION GAUDENZ DANUSER\n",
      "occurrences: 3 in title: Informing efforts to develop nitroreductase for amine production\n",
      "occurrences: 3 in title: Innovation by Design Dynamics\n",
      "occurrences: 6 in title: Insights into the GTP‐dependent allosteric control of c‐di‐GMP hydrolysis from the crystal structure of PA0575 protein from Pseudomonas aeruginosa\n",
      "occurrences: 7 in title: Insights into zinc-sensing metalloregulator 'Zur' deciphering mechanism of zinc transportation in Bacillus spp. by modeling, simulation and molecular docking\n",
      "occurrences: 3 in title: Integrated Solar Fuel Generators\n",
      "occurrences: 3 in title: Integrated Solar Fuel Generators\n",
      "occurrences: 0 in title: Intelligent Communication and Patterning in Smart Cities\n",
      "occurrences: 4 in title: International faculty contribution to local research capacity building: A view from publication data\n",
      "occurrences: 3 in title: Iron porphyrin-derived ordered carbonaceous frameworks\n",
      "occurrences: 2 in title: Is it time for biocatalysis in fragment-based drug discovery?\n",
      "occurrences: 3 in title: Is the H2 economy realizable in the foreseeable future? Part II: H2 storage, transportation, and distribution\n",
      "occurrences: 4 in title: Large scale multiphysics and multiscale simulations based on meshless methods\n",
      "occurrences: 3 in title: Leishmania differentiation requires ubiquitin conjugation mediated by a UBC2-UEV1 E2 complex\n",
      "occurrences: 0 in title: Light-driven post-translational installation of reactive protein side chains\n",
      "occurrences: 4 in title: Lithium recovery from aqueous resources and batteries: A brief review\n",
      "occurrences: 0 in title: LncRNA AC245100.4 binds HSP90 to promote the proliferation of prostate cancer\n",
      "occurrences: 7 in title: Lonely atoms with special gifts: Breaking linear scaling relationships in heterogeneous catalysis with single-atom alloys\n",
      "occurrences: 0 in title: Lysosomal storage diseases\n",
      "occurrences: 1 in title: Making the invisible enemy visible\n",
      "occurrences: 2 in title: Malonylome analysis in developing rice (Oryza sativa) seeds suggesting that protein lysine malonylation is well-conserved and overlaps with acetylation and …\n",
      "occurrences: 10 in title: Mechanistic Insight into the Framework Methylation of H-ZSM-5 for Varying Methanol Loadings and Si/Al Ratios Using First-Principles Molecular Dynamics …\n",
      "occurrences: 1 in title: Membrane-Supported Recovery of Homogeneous Organocatalysts: A Review\n",
      "occurrences: 4 in title: Metabolite–enzyme coevolution: from single enzymes to metabolic pathways and networks\n",
      "occurrences: 4 in title: Metal-mediated reactions towards the synthesis of a novel deaminolysed bisurea, dicarbamolyamine\n",
      "occurrences: 6 in title: Metal–organic frameworks constructed from Group 1 metals (Li, Na) and silicon-centered linkers\n",
      "occurrences: 2 in title: Metallo‐supramolecular self‐assembly with reduced symmetry ligands\n",
      "occurrences: 9 in title: Methanol photo-reforming with water on pure titania for hydrogen production\n",
      "occurrences: 7 in title: MFI zeolite coating with intrazeolitic aluminum (acidic) gradient supported on SiC foams to improve the methanol-to-propylene (MTP) reaction\n",
      "occurrences: 9 in title: Micro-and Nanoscale Spectroscopic Investigations of Threonine Influence on the Corrosion Process of the Modified Fe Surface by Cu Nanoparticles\n",
      "occurrences: 9 in title: Mimicking Natural Photosynthesis: Solar to Renewable H2 Fuel Synthesis by Z-Scheme Water Splitting Systems\n",
      "occurrences: 4 in title: MobiDB 3.0: more annotations for intrinsic disorder, conformational diversity and interactions in proteins\n",
      "occurrences: 6 in title: MODELLING, SYNCHROTRON RADIATION AND NEUTRON SCATTERINGSTUDIES OF STRUCTURE, DYNAMICS AND REACTIVITY IN CATALYTIC SYSTEMS\n",
      "occurrences: 8 in title: Molecular Cobalt Catalysts Grafted onto Polymers for Efficient Hydrogen Generation Cathodes\n",
      "occurrences: 8 in title: Molecular mechanism and evolution of nuclear pre-mRNA and group II intron splicing: insights from cryo-electron microscopy structures\n",
      "occurrences: 3 in title: Molecular Spectroscopy Science Meeting–MSSM2018\n",
      "occurrences: 6 in title: Morphology of Cu Clusters Supported on Reconstructed Polar ZnO (0001) and (0001 [combining overline]) Surfaces\n",
      "occurrences: 1 in title: mTORC1 and nutrient homeostasis: the central role of the lysosome\n",
      "occurrences: 10 in title: Multi-electric field modulation for photocatalytic oxygen evolution: Enhanced charge separation by coupling oxygen vacancies with faceted heterostructures\n"
     ]
    },
    {
     "name": "stdout",
     "output_type": "stream",
     "text": [
      "occurrences: 4 in title: Multimodal Structure Solution with 19F NMR Crystallography of Spin Singlet Molybdenum Oxyfluorides\n",
      "occurrences: 2 in title: Mutations close to a hub residue affect the distant active site of a GH1 β-glucosidase\n",
      "occurrences: 7 in title: N–N Bond Formation using an Iodonitrene as an Umpolung of Ammonia: Straightforward and Chemoselective Synthesis of Hydrazinium Salts\n",
      "occurrences: 2 in title: Nanoparticles and the Aquatic Environment: Application, Impact and Fate\n",
      "occurrences: 2 in title: NANOTOXICOLOGY AND NANOPHARMACEUTICALS–THE GREAT CHALLENGE OF THE SMALL SIZE\n",
      "occurrences: 7 in title: Network analysis, sequence and structure dynamics of key proteins of coronavirus and human host, and molecular docking of selected phytochemicals of nine …\n",
      "occurrences: 1 in title: Network theory of the bacterial ribosome\n",
      "occurrences: 5 in title: New Breeding Techniques for Greenhouse Gas (GHG) Mitigation: Plants May Express Nitrous Oxide Reductase\n",
      "occurrences: 7 in title: New Power Plant North Mole Gibraltar: Example of CO2 footprint improvement with Gas and Dual Fuel engines\n",
      "occurrences: 2 in title: New tools for carbohydrate sulfation analysis: heparan sulfate 2-O-sulfotransferase (HS2ST) is a target for small-molecule protein kinase inhibitors\n",
      "occurrences: 4 in title: New tools for carbohydrate sulphation analysis: Heparan Sulphate 2-O-sulphotranserase (HS2ST) is a target for small molecule protein kinase inhibitors\n",
      "occurrences: 9 in title: Ni and Cu ion-exchanged nanostructured mesoporous zeolite: A noble metal free, efficient, and durable electrocatalyst for alkaline methanol oxidation reaction\n",
      "occurrences: 1 in title: Nonenzymatic metabolic reactions and life's origins\n",
      "occurrences: 3 in title: Novel pharmacological maps of protein lysine methyltransferases: key for target deorphanization\n",
      "occurrences: 4 in title: Novel roles of ascorbate in plants: induction of cytosolic Ca2+ signals and efflux from cells via anion channels\n",
      "occurrences: 0 in title: Nuclear cytometry and chromatin organization\n",
      "occurrences: 6 in title: Octane isomer dynamics in H-ZSM-5 as a function of Si/Al ratio: a quasi-elastic neutron scattering study\n",
      "occurrences: 6 in title: Octane isomer dynamics in H-ZSM-5 as a function of Si/Al ratio: a quasi-elastic neutron scattering study\n",
      "occurrences: 3 in title: Omics” data integration and functional analyses link Enoyl-CoA hydratase, short chain 1 to drug refractory dilated cardiomyopathy\n",
      "occurrences: 8 in title: On the possibility of an Eley–Rideal mechanism for ammonia synthesis on Mn 6 N 5+ x (x= 1)-(111) surfaces\n",
      "occurrences: 5 in title: One‐Pot Synthesis of Chiral N‐Arylamines by Combining Biocatalytic Aminations with Buchwald–Hartwig N‐Arylation\n",
      "occurrences: 2 in title: Open-source, python-based redevelopment of the chemshell multiscale QM/MM environment\n",
      "occurrences: 10 in title: Operando potassium K-edge X-ray absorption spectroscopy: investigating potassium catalysts during soot oxidation\n",
      "occurrences: 0 in title: ORGANISATION NAME\n",
      "occurrences: 0 in title: Organocatalyzed Fluoride Metathesis\n",
      "occurrences: 5 in title: Orthogonal Syntheses of 3.2. 0 Bicycles from Enallenes Promoted by Visible Light\n",
      "occurrences: 2 in title: Other Sites & Tools\n",
      "occurrences: 1 in title: Oxidative Deconstruction of Azetidinols to α-Amino Ketones\n",
      "occurrences: 6 in title: Oxidative destruction of organic pollutants on the polypropylene fiber modified by nanodispersed iron\n",
      "occurrences: 7 in title: Palladium‐Catalyzed C(sp3)−H Arylation of Primary Amines Using a Catalytic Alkyl Acetal to Form a Transient Directing Group\n",
      "occurrences: 2 in title: Pathways to electrochemical solar-hydrogen technologies\n",
      "occurrences: 2 in title: Pathways to Electrochemical Solar-Hydrogen Technologies\n",
      "occurrences: 6 in title: Pendant Hydrogen-Bond Donors in Cobalt Catalysts Independently Enhance CO2 Reduction\n",
      "occurrences: 0 in title: Peroxisome proliferator-activated receptors (PPAR) γ agonists as master modulators of tumor tissue\n",
      "occurrences: 2 in title: Perspectives on understanding and measuring the social, cultural and biodiversity benefits of urban greening\n",
      "occurrences: 6 in title: Photocatalytic removal of the cyanobacterium Microcystis aeruginosa PCC7813 and four microcystins by TiO2 coated porous glass beads with UV-LED irradiation\n",
      "occurrences: 4 in title: Polarization effect in tip-enhanced infrared nanospectroscopy studies of the selective Y5 receptor antagonist Lu AA33810\n",
      "occurrences: 5 in title: Policies and motivations for the CO2 valorization through the sabatier reaction using structured catalysts. A review of the most recent advances\n",
      "occurrences: 0 in title: Postsynaptic p47phox regulates long-term depression in the hippocampus\n",
      "occurrences: 7 in title: Potential Economic Feasibility of Direct Electrochemical Nitrogen Reduction as a Route to Ammonia\n",
      "occurrences: 11 in title: Preparation of a highly active ternary Cu-Zn-Al oxide methanol synthesis catalyst by supercritical CO2 anti-solvent precipitation\n",
      "occurrences: 3 in title: Probabilistic material flow analysis of seven commodity plastics in Europe\n",
      "occurrences: 9 in title: Probing the electronic and geometric structures of photoactive electrodeposited Cu2O films by X-ray absorption spectroscopy\n",
      "occurrences: 4 in title: Probing the role of the hinge segment of cytochrome P450 oxidoreductase in the interaction with cytochrome P450\n",
      "occurrences: 1 in title: Protecting Ceria Nanocatalysts—The Role of Sacrificial Barriers\n",
      "occurrences: 2 in title: Protective effect of astaxanthin against SnS2 nanoflowers induced testes toxicity by suppressing RIPK1-RIPK3-MLKL signaling in mice\n",
      "occurrences: 4 in title: Protein kinase Cα gain-of-function variant in Alzheimer's disease displays enhanced catalysis by a mechanism that evades down-regulation\n",
      "occurrences: 1 in title: Protein-Protein Interaction Tools\n",
      "occurrences: 2 in title: Protein-Protein interactions uncover candidate 'core genes' within omnigenic disease networks\n",
      "occurrences: 2 in title: Proteomic profiling of liver tissue from the mdx-4cv mouse model of Duchenne muscular dystrophy\n",
      "occurrences: 3 in title: Proteomics Analysis Identified Hub Genes Associated With RNAi-Induced Silencing of G1 Cyclins in MDA-MB-231 Cells\n",
      "occurrences: 3 in title: Protonation-Induced Dynamic Allostery in PDZ Domain: Evidence of Perturbation-Independent Universal Response Network\n",
      "occurrences: 4 in title: Providing sustainable catalytic solutions for a rapidly changing world\n",
      "occurrences: 7 in title: Q6: A comprehensive toolkit for empirical valence bond and related free energy calculations\n",
      "occurrences: 5 in title: Quantifying the role of surface plasmon excitation and hot carrier transport in plasmonic devices\n",
      "occurrences: 8 in title: Rapid convergence of energy and free energy profiles with quantum mechanical size in quantum mechanical–molecular mechanical simulations of proton transfer in …\n",
      "occurrences: 7 in title: Rational Design of Two-Dimensional Transition Metal Carbide/Nitride (MXene) Hybrids and Nanocomposites for Catalytic Energy Storage and Conversion\n",
      "occurrences: 3 in title: Re-evaluating how charge transfer modifies the conformation of adsorbed molecules\n",
      "occurrences: 9 in title: Real-time tomographic diffraction imaging of catalytic membrane reactors for the oxidative coupling of methane\n",
      "occurrences: 0 in title: Rear mirror view of some biological tools and processes\n",
      "occurrences: 4 in title: Redesigning the materials and catalysts database construction process using ontologies\n",
      "occurrences: 2 in title: Regioselective transition-metal-free oxidative cyclobutanol ring expansion to 4-tetralones\n",
      "occurrences: 2 in title: RegioTriRhena. Chemical and pharmaceutical industries and the Mulhouse Chemistry School\n",
      "occurrences: 3 in title: REPORT FROM NATIONAL CASE STUDY\n",
      "occurrences: 1 in title: Retrospective natural history of thymidine kinase 2 deficiency\n",
      "occurrences: 5 in title: Reversible C− H Activation, Facile C− B/B− H Metathesis and Apparent Hydroboration Catalysis by a Dimethylxanthene‐Based Frustrated Lewis Pair\n",
      "occurrences: 1 in title: Review of government funded research and innovation in Wales\n",
      "occurrences: 3 in title: Review Paper on Solar Tapping-a Sustainable Resource\n",
      "occurrences: 5 in title: Role of CO2 in the Conversion of Toluene as a Tar Surrogate in a Nonthermal Plasma Dielectric Barrier Discharge Reactor\n",
      "occurrences: 4 in title: ROS-activated ion channels in plants: biophysical characteristics, physiological functions and molecular nature\n",
      "occurrences: 8 in title: Rotaxane-based transition metal complexes: effect of the mechanical bond on structure and electronic properties\n",
      "occurrences: 8 in title: Runaway reaction for the esterification of acetic anhydride with methanol catalyzed by sulfuric acid\n",
      "occurrences: 3 in title: Science for policy: a European perspective\n",
      "occurrences: 3 in title: Science for policy: a European perspective\n",
      "occurrences: 4 in title: Second-generation biofuels: exploring imaginaries via deliberative workshops with farmers\n",
      "occurrences: 11 in title: Selection of Manganese oxide catalysts for catalytic oxidation of Carbon monoxide at ambient conditions\n",
      "occurrences: 1 in title: Self-assembly of a porous metallo-[5] rotaxane\n",
      "occurrences: 4 in title: Self-organization and swelling of ruthenium-metal coordination polymers with PTA (metal= Ag, Au, Co)\n",
      "occurrences: 3 in title: Simulation of spontaneous G protein activation reveals a new intermediate driving GDP unbinding\n",
      "occurrences: 1 in title: Speculative volcanology: Time, becoming, and violence in encounters with magma\n",
      "occurrences: 5 in title: Spread of MCR-3 colistin resistance in China: an epidemiological, genomic and mechanistic study\n",
      "occurrences: 3 in title: SQSTM1/p62 interacts with FKBP38 and regulates cell cycle in Cashmere goat foetal fibroblasts\n",
      "occurrences: 3 in title: Straddling the Rooftop: Finding a Balance between Traditional and Modern Views of Chemistry†: Reflections on the Upcoming ACS Publications Forum …\n",
      "occurrences: 6 in title: Strain and stress effects on single crystal-supported titania and related nanostructures\n",
      "occurrences: 3 in title: Strain engineering and Raman spectroscopy of monolayer transition metal dichalcogenides\n",
      "occurrences: 4 in title: Structural basis for conformational equilibrium of the catalytic spliceosome\n",
      "occurrences: 5 in title: Structural insights into a flavin-dependent [4+ 2] cyclase that catalyzes trans-decalin formation in pyrroindomycin biosynthesis\n",
      "occurrences: 7 in title: Structural insights on starch hydrolysis by plant β-amylase and its evolutionary relationship with bacterial enzymes\n",
      "occurrences: 2 in title: Structural mechanisms of HECT-type ubiquitin ligases\n",
      "occurrences: 3 in title: Structure of telomerase with telomeric DNA\n",
      "occurrences: 5 in title: Structure of the mitochondrial aminolevulinic acid synthase, a key heme biosynthetic enzyme\n",
      "occurrences: 7 in title: Structure-based identification of natural compound inhibitor against M. tuberculosis thioredoxin reductase: insight from molecular docking and dynamics simulation\n",
      "occurrences: 9 in title: Structured Ni@ NaA zeolite supported on silicon carbide foam catalysts for catalytic carbon dioxide methanation\n",
      "occurrences: 2 in title: Successful computationally directed templating of metastable pharmaceutical polymorphs\n",
      "occurrences: 7 in title: Sulfated Zirconia Catalysts for D-Sorbitol Cascade Cyclodehydration to Isosorbide: Impact of Zirconia Phase\n",
      "occurrences: 0 in title: Summer International REU Program in the United Kingdom\n",
      "occurrences: 5 in title: Supplementary Information for: Kinetic reference potential, pH-effect, and energy recovery in electrolysis of water\n",
      "occurrences: 13 in title: Supplementary Information In situ K-edge X-ray absorption spectroscopy of the ligand environment of single-site Au/C catalysts during acetylene hydrochlorination.\n",
      "occurrences: 6 in title: Supporting Information for Publication CO and O2 Adsorption on K/Pt (111)\n",
      "occurrences: 6 in title: Synchrotron Radiation and Neutrons for Catalysis, Materials Research and Development\n",
      "occurrences: 4 in title: Syntheses of polyfunctional aromatic compounds from non-aromatic precursors\n",
      "occurrences: 9 in title: Synthesis and characterization of AgCoO2 catalyst for oxidation of CO at a low temperature\n",
      "occurrences: 4 in title: Synthesis and Reactivity of Methylpalladium Complexes Bearing a Partially Saturated IzQO Ligand\n",
      "occurrences: 7 in title: Synthesis of 3, 3-diarylazetidines by calcium (II)-catalyzed Friedel–Crafts reaction of azetidinols with unexpected Cbz enhanced reactivity\n",
      "occurrences: 9 in title: Synthesis of ruthenium complexes bearing PCP-type pincer ligands and their application to direct synthesis of imines from amines and benzyl alcohol\n",
      "occurrences: 8 in title: Synthesis of TiO 2− x/W 18 O 49 hollow double-shell and core–shell microspheres for CO 2 photoreduction under visible light\n",
      "occurrences: 4 in title: Synthetic strategies towards mechanically interlocked oligomers and polymers\n",
      "occurrences: 5 in title: System Biology to Access Target Relevance in the Research and Development of Molecular Inhibitors\n",
      "occurrences: 0 in title: Technical University of Munich. 150 Years Culture of Excellence\n",
      "occurrences: 3 in title: Technologies and infrastructures underpinning future CO2 value chains: A comprehensive review and comparative analysis\n",
      "occurrences: 2 in title: Temporary use of space: Urban processes between flexibility, opportunity and precarity\n",
      "occurrences: 2 in title: Tetrahydrobiopterin modulates ubiquitin conjugation to UBC13/UBE2N and proteasome activity by S-nitrosation\n",
      "occurrences: 2 in title: The African light source project\n",
      "occurrences: 2 in title: The bottromycin epimerase BotH defines a group of atypical α/β-hydrolase-fold enzymes\n",
      "occurrences: 2 in title: The Cardiff Catalysis Institute: A Premium Research Institute\n",
      "occurrences: 9 in title: The direct synthesis of hydrogen peroxide over Au and Pd nanoparticles: A DFT study\n",
      "occurrences: 4 in title: The Discrepancy between As-Built and As-Designed in Energy Efficient Buildings: A Rapid Review\n",
      "occurrences: 2 in title: The Disordered Cellular Multi-Tasker WIP and Its Protein–Protein Interactions: A Structural View\n",
      "occurrences: 6 in title: The effects of an additive on the release of potassium in biomass combustion\n",
      "occurrences: 7 in title: The electronic structure, surface properties, and in situ N 2 O decomposition of mechanochemically synthesised LaMnO 3\n",
      "occurrences: 2 in title: The FAM83 family of proteins: from pseudo-PLDs to anchors for CK1 isoforms\n",
      "occurrences: 4 in title: The impact of Euro 4 automobile emission regulations on the development of technological capabilities in ASEAN\n",
      "occurrences: 5 in title: The Interaction between Coinage or Alkali Metals and Polyaromatic Hydrocarbons\n",
      "occurrences: 4 in title: The role of computational results databases in accelerating the discovery of catalysts\n",
      "occurrences: 2 in title: The Role of Growth Directors in Controlling the Morphology of Hematite Nanorods\n",
      "occurrences: 2 in title: The Role of Growth Directors in Controlling the Morphology of Hematite Nanorods\n",
      "occurrences: 2 in title: The unexplored potential of quinone methides in chemical biology\n",
      "occurrences: 8 in title: Towards a deeper understanding of catalytic activity in supported precious metal catalysts, EPSRC\n",
      "occurrences: 2 in title: Trends in structure and thermodynamic properties of normal rare earth carbonates and rare earth hydroxycarbonates\n",
      "occurrences: 0 in title: Twenty years of the XMaS beamline\n",
      "occurrences: 1 in title: Twenty‐first Annual Conference YUCOMAT 2019 &\n",
      "occurrences: 4 in title: Two‐Component Stapling of Biologically Active and Conformationally Constrained Peptides: Past, Present, and Future\n",
      "occurrences: 0 in title: Ulrich Hintermair\n",
      "occurrences: 5 in title: Ultrathin porphyrin and tetra-indole covalent organic frameworks for organic electronics applications\n",
      "occurrences: 4 in title: Uncommon overoxidative catalytic activity in a new halo‐tolerant alcohol dehydrogenase\n",
      "occurrences: 8 in title: Understanding structure-activity relationships in highly active La promoted Ni catalysts for CO2 methanation\n",
      "occurrences: 3 in title: Unique Sequence Signatures in Plant Lipolytic Enzymes: Emerging Research and Opportunities: Emerging Research and Opportunities\n",
      "occurrences: 6 in title: Visible light sensitive activated carbon-metal oxide (TiO2, WO3, NiO, and SnO) nano-catalysts for photo-degradation of methylene blue: a comparative study\n",
      "occurrences: 1 in title: Využití mikroorganismů k bioremediaci textilních odpadních vod\n",
      "occurrences: 4 in title: Water oxidation catalysed by quantum-sized BiVO 4\n",
      "occurrences: 2 in title: Whisky classified: Choosing single malts by flavour\n",
      "occurrences: 2 in title: Who collects intellectual rents from knowledge and innovation hubs? questioning the sustainability of the singapore model\n",
      "occurrences: 2 in title: Why Is Catalase So Fast? Part 2: Schemes for Rapid, Exo-enzymatic Disproportionation of Hydrogen Peroxide\n",
      "occurrences: 6 in title: X-ray Absorption Spectroscopy for the Chemical and Materials Sciences\n",
      "occurrences: 0 in title: Особливості реформування освіти в галузі професійної підготовки майбутніх фахівців з прикладної фізики у Великій Британії та Україні\n",
      "occurrences: 0 in title: 配电物联网在新产业形态中的应用探讨\n",
      "\n"
     ]
    }
   ],
   "source": [
    "if current_pass < 3:\n",
    "    # pass 2\n",
    "    # check titles for likelihood of being catalysis articles using keywords from titles in current DB \n",
    "    print(\"Get word list from DB\")\n",
    "    x = dbh.DataBaseAdapter(ukchapp_db)\n",
    "    db_titles = x.get_value_list('articles','title')\n",
    "    title_words = set()\n",
    "    ignore_words=set(['the','of','to','and','a','in','is','it', 'their', 'so', 'as'])\n",
    "    average = 0\n",
    "    words_sum = 0.0\n",
    "    for title in db_titles:\n",
    "        one_title = set(title.lower().split())\n",
    "        one_title = one_title - ignore_words\n",
    "        title_words = title_words.union(one_title)\n",
    "        words_sum += len(one_title) \n",
    "        \n",
    "    average = words_sum /len(db_titles)\n",
    "    print(\"Average words per title:\", average)\n",
    "    title_words = title_words - ignore_words\n",
    "    for art_num in tqdm_notebook(working_file):\n",
    "        if 0 == int(working_file[art_num]['ignore']):\n",
    "            art_title = working_file[art_num]['Title']\n",
    "            art_words = set(art_title.lower().split())\n",
    "            occurrences = len(title_words.intersection(art_words))\n",
    "            working_file[art_num]['keywords']=occurrences\n",
    "            if occurrences == 0:\n",
    "                print(\"occurrences:\", occurrences, \"in title:\", art_title)\n",
    "                working_file[art_num]['ignore']=3\n",
    "            else:\n",
    "                print(\"occurrences:\", occurrences, \"in title:\", art_title)\n",
    "    csvh.write_csv_data(working_file, nr_wf)\n",
    "    x.close()\n",
    "    current_pass = 3"
   ]
  },
  {
   "cell_type": "code",
   "execution_count": 12,
   "metadata": {},
   "outputs": [
    {
     "data": {
      "application/vnd.jupyter.widget-view+json": {
       "model_id": "869926309ea2450d92da0913d121ebd4",
       "version_major": 2,
       "version_minor": 0
      },
      "text/plain": [
       "HBox(children=(IntProgress(value=0, max=998), HTML(value='')))"
      ]
     },
     "metadata": {},
     "output_type": "display_data"
    },
    {
     "name": "stdout",
     "output_type": "stream",
     "text": [
      "\n",
      "To Process: 0 Pass: 3\n"
     ]
    }
   ],
   "source": [
    "if current_pass == 3:\n",
    "    i = 0\n",
    "    for art_num in tqdm_notebook(working_file):\n",
    "        if working_file[art_num]['ignore']=='0':\n",
    "            inspected = False\n",
    "            while not inspected:\n",
    "                new_title = working_file[art_num]['Title']\n",
    "                keywords = working_file[art_num]['keywords']\n",
    "                #print (keywords, new_title)\n",
    "                if keywords < 3 and not (\"cataly\" in new_title.lower()):\n",
    "                # ignore  it because it does not contains cataly in title\n",
    "                    working_file[art_num]['ignore']=4 # visual inspection\n",
    "                    inspected = True\n",
    "                else:\n",
    "                    inspected = True\n",
    "    print(\"To Process:\", i, \"Pass:\", current_pass)\n",
    "    csvh.write_csv_data(working_file, nr_wf)\n",
    "    current_pass = 4"
   ]
  },
  {
   "cell_type": "markdown",
   "metadata": {},
   "source": [
    "## Get DOIs for Articles\n",
    "The remaining titles need to be further analysed. Recovering their DOIs helps to obtain abstracts and acknowledgement statements. "
   ]
  },
  {
   "cell_type": "code",
   "execution_count": null,
   "metadata": {},
   "outputs": [
    {
     "data": {
      "application/vnd.jupyter.widget-view+json": {
       "model_id": "ee5759db95fc4528af19fe8cb4926fd7",
       "version_major": 2,
       "version_minor": 0
      },
      "text/plain": [
       "HBox(children=(IntProgress(value=0, max=998), HTML(value='')))"
      ]
     },
     "metadata": {},
     "output_type": "display_data"
    },
    {
     "name": "stdout",
     "output_type": "stream",
     "text": [
      "\n",
      "Current pass: 4\n"
     ]
    },
    {
     "data": {
      "application/vnd.jupyter.widget-view+json": {
       "model_id": "85b58ef8ebc14f91aec4702b30722800",
       "version_major": 2,
       "version_minor": 0
      },
      "text/plain": [
       "HBox(children=(IntProgress(value=0, max=998), HTML(value='')))"
      ]
     },
     "metadata": {},
     "output_type": "display_data"
    }
   ],
   "source": [
    "working_file = wf_fields = None\n",
    "current_pass = 0\n",
    "if Path(nr_wf).is_file():\n",
    "    working_file, wf_fields = csvh.get_csv_data(nr_wf,'Num')\n",
    "    for art_num in tqdm_notebook(working_file):\n",
    "        if current_pass < int(working_file[art_num]['ignore']):\n",
    "            current_pass = int(working_file[art_num]['ignore'])\n",
    "print(\"Current pass:\", current_pass)\n",
    "if current_pass == 4:\n",
    "    i = 0\n",
    "    for art_num in tqdm_notebook(working_file):\n",
    "        if working_file[art_num]['ignore']=='0' and working_file[art_num]['DOIcr']==\"\":\n",
    "            new_title = working_file[art_num]['Title']\n",
    "            new_doi = cr_api.getDOIForTitle(new_title)\n",
    "            if new_doi == \"\":\n",
    "                #print(\"Missing DOI:\", new_title)\n",
    "                working_file[art_num]['ignore'] = '5'\n",
    "                i +=1\n",
    "            else:\n",
    "                #print(\"DOI found:\", new_doi, \"for:\", new_title)\n",
    "                working_file[art_num]['DOIcr'] = new_doi\n",
    "                working_file[art_num]['ignore'] = '0'\n",
    "    print(\"without DOI:\", i)\n",
    "    csvh.write_csv_data(working_file, nr_wf)\n",
    "    current_pass = 5"
   ]
  },
  {
   "cell_type": "markdown",
   "metadata": {},
   "source": [
    "## Verify DOIs in DB\n",
    "Verify that articles do not exist in the DB"
   ]
  },
  {
   "cell_type": "code",
   "execution_count": null,
   "metadata": {},
   "outputs": [],
   "source": [
    "ukchapp_db = \"../railsapp/ukchapp/db/development.sqlite3\"\n",
    "if current_pass >= 5:\n",
    "    i = 0\n",
    "    db_conn = dbh.DataBaseAdapter(ukchapp_db)\n",
    "    for art_num in tqdm_notebook(working_file):\n",
    "        if working_file[art_num]['ignore']=='0':\n",
    "            new_title = working_file[art_num]['Title']\n",
    "            new_doi = working_file[art_num]['DOIcr'].strip()\n",
    "            db_title = db_conn.get_title(new_doi)\n",
    "            if db_title == None:\n",
    "                print(\"Not in DB:\", new_doi, new_title)\n",
    "            else:\n",
    "                print(\"Already in DB:\", new_doi, \"for:\", new_title, db_title)\n",
    "                working_file[art_num]['ignore'] = '6'\n",
    "    print(\"without DOI:\", i)\n",
    "    csvh.write_csv_data(working_file, nr_wf)\n",
    "    current_pass = 6\n",
    "    dbh.close()"
   ]
  },
  {
   "cell_type": "markdown",
   "metadata": {},
   "source": [
    "## Get Acknowledgement statements"
   ]
  },
  {
   "cell_type": "code",
   "execution_count": null,
   "metadata": {},
   "outputs": [],
   "source": [
    "if current_pass >= 6:\n",
    "    i = 0\n",
    "    for art_num in tqdm_notebook(working_file):\n",
    "        if working_file[art_num]['ignore']=='0':\n",
    "            article_title = working_file[art_num]['Title']\n",
    "            article_doi = working_file[art_num]['DOIcr']\n",
    "            article_url =working_file[art_num]['ArticleURL']\n",
    "            print(\"Analysing:\", article_title, article_doi, article_url)\n",
    "            # try to retrive html page for article using link from crossref first\n",
    "            # and if not try url from pop\n",
    "            # find reference to uk catalysis hub in html text\n",
    "            # if found mark as relevant\n",
    "            found = \"\"\n",
    "            referents = [\"uk catalysis hub\", \"uk catalysis\", \"catalysis hub\",\n",
    "                 'EP/R026645/1', 'resources', 'EP/K014668/1', 'EPSRC', 'EP/K014714/1',\n",
    "                 'Hub','provided', 'grant', 'biocatalysis', 'EP/R026815/1', 'EP/R026939/1',\n",
    "                 'support', 'membership', 'EP/M013219/1', 'UK', 'kindly', 'Catalysis',\n",
    "                 'funded', 'EP/R027129/1', 'Consortium', 'thanked', 'EP/K014854/1', 'EP/K014706/2']\n",
    "            found = urlh.findFromDOI(article_title, article_doi, referents)\n",
    "            working_file[art_num]['checked_doi'] = 1\n",
    "            working_file[art_num]['ack_doi'] = found\n",
    "            found = urlh.findFromURI(article_title, article_url, referents)\n",
    "            working_file[art_num]['checked_url'] = 1\n",
    "            working_file[art_num]['ack_url'] = found\n",
    "            print(\"Ack:\", found)\n",
    "    csvh.write_csv_data(working_file, nr_wf)"
   ]
  }
 ],
 "metadata": {
  "kernelspec": {
   "display_name": "Python 3",
   "language": "python",
   "name": "python3"
  },
  "language_info": {
   "codemirror_mode": {
    "name": "ipython",
    "version": 3
   },
   "file_extension": ".py",
   "mimetype": "text/x-python",
   "name": "python",
   "nbconvert_exporter": "python",
   "pygments_lexer": "ipython3",
   "version": "3.7.4"
  }
 },
 "nbformat": 4,
 "nbformat_minor": 2
}
