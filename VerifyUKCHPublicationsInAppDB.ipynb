{
 "cells": [
  {
   "cell_type": "markdown",
   "metadata": {},
   "source": [
    "## Verify if files exist in UK Catalysis Hub App DB\n",
    "\n",
    "A list of articles is obtainded from UKCH publications pages. This list will contain a titles and some IDs which need to be verified to see if they are already in the DB.\n",
    "\n",
    "All missing titles need to be added to the DB."
   ]
  },
  {
   "cell_type": "code",
   "execution_count": 8,
   "metadata": {
    "scrolled": true
   },
   "outputs": [],
   "source": [
    "# Libraries\n",
    "# library containign functions that read and write to csv files\n",
    "import lib.handle_csv as csvh\n",
    "# library for connecting to the db\n",
    "import lib.handle_db as dbh\n",
    "# library for handling text matchings\n",
    "import lib.text_comp as txtc\n",
    "# library for getting data from crossref\n",
    "import lib.crossref_api as cr_api\n",
    "# library for handling url searchs\n",
    "import lib.handle_urls as urlh\n",
    "\n",
    "from pathlib import Path\n",
    "\n",
    "\n",
    "# input files\n",
    "ukch_pubs_list = 'scripts/UKCH20201018_mod_1.csv'\n",
    "ukchapp_db = \"../railsapp/ukchapp/db/development.sqlite3\""
   ]
  },
  {
   "cell_type": "markdown",
   "metadata": {},
   "source": [
    "Get the name of the file with the current publications in the UKCH site"
   ]
  },
  {
   "cell_type": "code",
   "execution_count": 10,
   "metadata": {},
   "outputs": [
    {
     "name": "stdout",
     "output_type": "stream",
     "text": [
      "Please enter the name of the input file:\n",
      "scripts/UKCH20201018_mod_1.csv\n"
     ]
    }
   ],
   "source": [
    "ukch_pubs_list = \"\"\n",
    "while not Path(ukch_pubs_list).is_file():\n",
    "    print('Please enter the name of the input file:')\n",
    "    ukch_pubs_list = input()"
   ]
  },
  {
   "cell_type": "markdown",
   "metadata": {},
   "source": [
    "Get the name of the DB file to use"
   ]
  },
  {
   "cell_type": "code",
   "execution_count": 12,
   "metadata": {},
   "outputs": [
    {
     "name": "stdout",
     "output_type": "stream",
     "text": [
      "Please enter the name of the input file:\n",
      "../railsapp/ukchapp/db/development.sqlite3\n"
     ]
    }
   ],
   "source": [
    "ukchapp_db = \"\"\n",
    "while not Path(ukchapp_db).is_file():\n",
    "    print('Please enter the name of the input file:')\n",
    "    ukchapp_db = input()"
   ]
  },
  {
   "cell_type": "markdown",
   "metadata": {},
   "source": [
    "Set the name of the output file"
   ]
  },
  {
   "cell_type": "code",
   "execution_count": 23,
   "metadata": {},
   "outputs": [
    {
     "name": "stdout",
     "output_type": "stream",
     "text": [
      "Verifying if the articles listed in: \n",
      "\t UKCH20201018_mod_1.csv\n",
      "Are already in the app DB: \n",
      "\t development.sqlite3\n",
      "The results will bt saves in: \n",
      "\t scripts/UKCH20201018_mod_1_db.csv\n"
     ]
    }
   ],
   "source": [
    "#output file\n",
    "output_file = ukch_pubs_list[:-4]+\"_db.csv\"\n",
    "print(\"Verifying if the articles listed in: \\n\\t\", Path(ukch_pubs_list).name)\n",
    "print(\"Are already in the app DB: \\n\\t\", Path(ukchapp_db).name)\n",
    "\n",
    "print(\"The results will bt saves in: \\n\\t\", output_file)"
   ]
  },
  {
   "cell_type": "code",
   "execution_count": null,
   "metadata": {},
   "outputs": [],
   "source": [
    "# open the input file\n",
    "working_file, wf_fields = csvh.get_csv_data(ukch_pubs_list,'id')\n",
    "# create connection to the DB\n",
    "db_conn = dbh.DataBaseAdapter(ukchapp_db)\n",
    "# get a list of the articles in the DB\n",
    "db_articles = db_conn.get_full_table('articles')\n",
    "\n",
    "# verify each article in the input file against the articles in the DB\n",
    "for art_num in working_file:\n",
    "    current_title = working_file[art_num]['Title']\n",
    "    current_theme = working_file[art_num]['theme_id'],\n",
    "    current_collaboration = working_file[art_num]['collaboration'],\n",
    "    current_year =  working_file[art_num]['p_year']\n",
    "    #print(working_file[art_num]['Title'], working_file[art_num]['theme'],working_file[art_num]['p_year'])\n",
    "    in_db = False\n",
    "    #print(current_title)\n",
    "    for db_art in db_articles:\n",
    "        db_title = db_art[2]\n",
    "        db_doi = db_art[1]\n",
    "        db_id = db_art[0]\n",
    "        #print(\"DB title\", db_title)\n",
    "        if txtc.similar(current_title, db_title)> 0.80:\n",
    "            #print(art_num, 'Title:', current_title, \"already in db\")\n",
    "            in_db = True\n",
    "            working_file[art_num]['doi'] = db_doi\n",
    "            working_file[art_num]['db_id'] = db_id\n",
    "            break\n",
    "            \n",
    "    if not in_db:\n",
    "        #print(art_num, 'Title:', current_title, \"need to add to DB\")\n",
    "        working_file[art_num]['Add'] = 1\n",
    "    else:\n",
    "        #verify if theme and year are correct\n",
    "        found_theme = False\n",
    "        year_ok = False\n",
    "        filter_str = \"article_id = '\" + str(working_file[art_num]['db_id']) + \"'\"\n",
    "        art_theme_ids = db_conn.get_values(\"article_themes\", \"article_id\", filter_str)\n",
    "        \n",
    "        for art_theme in art_theme_ids:\n",
    "            a_theme = db_conn.get_row(\"article_themes\", art_theme[0])\n",
    "            if len(a_theme) == 1:\n",
    "                if a_theme[0][4] == current_theme:\n",
    "                    found_theme = True\n",
    "                    if a_theme[0][6] == current_year:\n",
    "                        year_ok = True\n",
    "                        break\n",
    "        if not found_theme:\n",
    "            working_file[art_num]['theme issues'] = \"need to add article theme link\"\n",
    "        elif found_theme and not year_ok:\n",
    "            working_file[art_num]['theme issues'] = \"verify article theme project year\"\n",
    "\n",
    "csvh.write_csv_data(working_file, output_file)"
   ]
  }
 ],
 "metadata": {
  "kernelspec": {
   "display_name": "Python 3",
   "language": "python",
   "name": "python3"
  },
  "language_info": {
   "codemirror_mode": {
    "name": "ipython",
    "version": 3
   },
   "file_extension": ".py",
   "mimetype": "text/x-python",
   "name": "python",
   "nbconvert_exporter": "python",
   "pygments_lexer": "ipython3",
   "version": "3.6.10"
  }
 },
 "nbformat": 4,
 "nbformat_minor": 2
}
