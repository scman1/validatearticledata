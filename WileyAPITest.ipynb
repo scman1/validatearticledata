{
 "cells": [
  {
   "cell_type": "code",
   "execution_count": 13,
   "metadata": {},
   "outputs": [],
   "source": [
    "# manage file system\n",
    "from pathlib import Path\n",
    "# manage configuration files (*.ini)\n",
    "import configparser\n",
    "# manage http requests\n",
    "import requests\n",
    "\n",
    "# configuration file storing keys\n",
    "ini_file = Path().absolute() /  \"config/config.ini\"\n",
    "api_key = \"\"\n",
    "\n",
    "# Read key value from a configuration file\n",
    "if ini_file.exists():\n",
    "    seg_config = configparser.ConfigParser()\n",
    "    seg_config.read(ini_file)\n",
    "    api_key = seg_config['ApiKeys'][\"WileyMining\"]\n",
    "    "
   ]
  },
  {
   "cell_type": "code",
   "execution_count": 52,
   "metadata": {},
   "outputs": [],
   "source": [
    "header = {\n",
    "    \"Wiley-TDM-Client-Token\": api_key,\n",
    "    'httpAccept': 'application/pdf'\n",
    "}\n",
    "\n",
    "def get_pdf(doi, file_name):\n",
    "    \n",
    "    url = f\"https://api.wiley.com/onlinelibrary/tdm/v1/articles/{doi.replace('/','%2F')}?httpAccept=application/pdf\"\n",
    "    alt_url = f\"https://onlinelibrary.wiley.com/doi/pdf/{doi}?httpAccept=application/pdf\"\n",
    "    print(url)\n",
    "    #url = f'https://api.elsevier.com/content/article/doi/{doi}'\n",
    "    r_status = 100\n",
    "    with requests.get(url, headers=header) as r:\n",
    "        print(\"First try:\", r.status_code)\n",
    "        r_status = r.status_code \n",
    "        if r.status_code == 200:\n",
    "            file_name.write(r.content)\n",
    "            #for chunk in r.iter_content(chunk_size=1024*1024):\n",
    "            #    file_name.write(chunk)\n",
    "    if r_status == 403:\n",
    "        with requests.get(alt_url, headers=header) as r:\n",
    "            print(\"Second try:\", r.status_code)\n",
    "            print(alt_url)\n",
    "            if r.status_code == 200:\n",
    "                r_status = r.status_code \n",
    "                file_name.write(r.content)\n",
    "    "
   ]
  },
  {
   "cell_type": "code",
   "execution_count": 53,
   "metadata": {},
   "outputs": [
    {
     "data": {
      "text/plain": [
       "[{'URL': 'https://api.wiley.com/onlinelibrary/tdm/v1/articles/10.1002%2Fanie.201901592',\n",
       "  'content-type': 'application/pdf',\n",
       "  'content-version': 'vor',\n",
       "  'intended-application': 'text-mining'},\n",
       " {'URL': 'https://onlinelibrary.wiley.com/doi/pdf/10.1002/anie.201901592',\n",
       "  'content-type': 'application/pdf',\n",
       "  'content-version': 'vor',\n",
       "  'intended-application': 'text-mining'},\n",
       " {'URL': 'https://onlinelibrary.wiley.com/doi/full-xml/10.1002/anie.201901592',\n",
       "  'content-type': 'application/xml',\n",
       "  'content-version': 'vor',\n",
       "  'intended-application': 'text-mining'},\n",
       " {'URL': 'https://onlinelibrary.wiley.com/doi/pdf/10.1002/anie.201901592',\n",
       "  'content-type': 'unspecified',\n",
       "  'content-version': 'vor',\n",
       "  'intended-application': 'similarity-checking'}]"
      ]
     },
     "execution_count": 53,
     "metadata": {},
     "output_type": "execute_result"
    }
   ],
   "source": [
    "cr_urls = [{\"URL\":\"https://api.wiley.com/onlinelibrary/tdm/v1/articles/10.1002%2Fanie.201901592\", \"content-type\":\"application/pdf\", \"content-version\":\"vor\", \"intended-application\":\"text-mining\"}, {\"URL\":\"https://onlinelibrary.wiley.com/doi/pdf/10.1002/anie.201901592\", \"content-type\":\"application/pdf\", \"content-version\":\"vor\", \"intended-application\":\"text-mining\"}, {\"URL\":\"https://onlinelibrary.wiley.com/doi/full-xml/10.1002/anie.201901592\", \"content-type\":\"application/xml\", \"content-version\":\"vor\", \"intended-application\":\"text-mining\"}, {\"URL\":\"https://onlinelibrary.wiley.com/doi/pdf/10.1002/anie.201901592\", \"content-type\":\"unspecified\", \"content-version\":\"vor\", \"intended-application\":\"similarity-checking\"}]\n",
    "cr_urls \n"
   ]
  },
  {
   "cell_type": "code",
   "execution_count": 56,
   "metadata": {},
   "outputs": [
    {
     "name": "stdout",
     "output_type": "stream",
     "text": [
      "10.1002_anie.201902857.pdf\n",
      "https://api.wiley.com/onlinelibrary/tdm/v1/articles/10.1002%2Fanie.201902857?httpAccept=application/pdf\n",
      "First try: 403\n",
      "Second try: 503\n",
      "https://onlinelibrary.wiley.com/doi/pdf/10.1002/anie.201902857?httpAccept=application/pdf\n"
     ]
    }
   ],
   "source": [
    "dois=['10.1002/anie.201902857']\n",
    "for a_doi in dois:\n",
    "    pdf_file = a_doi.replace('/','_')+\".pdf\"\n",
    "    if not Path(pdf_file).is_file():\n",
    "        print(pdf_file)\n",
    "        with open(pdf_file, 'wb') as f:\n",
    "            get_pdf(a_doi,f)"
   ]
  },
  {
   "cell_type": "code",
   "execution_count": 57,
   "metadata": {},
   "outputs": [],
   "source": [
    "     \"https://onlinelibrary.wiley.com/doi/pdf/10.1002/ange.201902857\"    \n",
    "r = requests.get('https://onlinelibrary.wiley.com/doi/pdf/10.1002/anie.201902857?httpAccept=application/pdf', headers=header)\n",
    "with open('test5.pdf','wb') as f:\n",
    "    f.write(r.content)\n"
   ]
  },
  {
   "cell_type": "code",
   "execution_count": null,
   "metadata": {},
   "outputs": [],
   "source": []
  }
 ],
 "metadata": {
  "kernelspec": {
   "display_name": "Python 3",
   "language": "python",
   "name": "python3"
  },
  "language_info": {
   "codemirror_mode": {
    "name": "ipython",
    "version": 3
   },
   "file_extension": ".py",
   "mimetype": "text/x-python",
   "name": "python",
   "nbconvert_exporter": "python",
   "pygments_lexer": "ipython3",
   "version": "3.8.8"
  }
 },
 "nbformat": 4,
 "nbformat_minor": 4
}
