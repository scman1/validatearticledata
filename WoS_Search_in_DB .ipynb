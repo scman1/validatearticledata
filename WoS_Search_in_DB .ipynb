{
 "cells": [
  {
   "cell_type": "markdown",
   "id": "f3b9ef7d",
   "metadata": {},
   "source": [
    "# CR Vs DB Verify\n",
    "check if the results from cr search are in the DB\n",
    "- get list of CSV search results files\n",
    "- join searches as a set (unique references)\n",
    "- open DB\n",
    "- search if occurrences in DB\n",
    "- create a list of new candidates"
   ]
  },
  {
   "cell_type": "code",
   "execution_count": 1,
   "id": "2411ee64",
   "metadata": {},
   "outputs": [],
   "source": [
    "# Connecting to the db\n",
    "import lib.handle_db as dbh\n",
    "\n",
    "# read and write csv files\n",
    "import lib.handle_csv as csv_rw\n",
    "\n",
    "# date functions\n",
    "from datetime import datetime, date, timedelta\n",
    "\n",
    "# managing files and file paths\n",
    "from pathlib import Path\n",
    "\n",
    "# import custom functions (common to various notebooks)\n",
    "import processing_functions as pr_fns"
   ]
  },
  {
   "cell_type": "code",
   "execution_count": 4,
   "id": "cd6e4044",
   "metadata": {},
   "outputs": [],
   "source": [
    "# 01 search if the data was in previous WoS results\n",
    "\n",
    "search_dir = './WebOfScience/wos_202311/'\n",
    "prev_s_dir = './WebOfScience/'\n",
    "\n",
    "prv_file_name = \"wos_ukch_previous.csv\"\n",
    "\n",
    "in_file_name = \"wos_202311_ukch.csv\"\n",
    "out_file_name = \"wos_202311_ukch_01_wosp.csv\"\n",
    "\n",
    "in_file = Path(search_dir, in_file_name)\n",
    "out_file = Path(search_dir, out_file_name)\n",
    "prv_file = Path(prev_s_dir, prv_file_name)\n",
    "\n",
    "prv_data, _ =  csv_rw.get_csv_data(prv_file)\n",
    "\n",
    "in_data, _ = csv_rw.get_csv_data(in_file)\n",
    "\n",
    "# compare search to previous results\n",
    "for in_id in in_data:\n",
    "    in_data[in_id]['prv_checked'] = 0\n",
    "    for prv_id in prv_data:\n",
    "        if in_data[in_id]['doi'] == prv_data[prv_id]['doi'] or \\\n",
    "        in_data[in_id]['wos_ID'] == prv_data[prv_id]['wos_ID']: \n",
    "            in_data[in_id]['prv_checked'] = 1\n",
    "            break\n",
    "        \n",
    "        \n",
    "# WRITE TO FILE\n",
    "if len(in_data) > 0:\n",
    "    csv_rw.write_csv_data(in_data, out_file) "
   ]
  },
  {
   "cell_type": "code",
   "execution_count": 6,
   "id": "3fa60cdc",
   "metadata": {},
   "outputs": [],
   "source": [
    "# 02 search if results are in the DB already\n",
    "\n",
    "# WoS search results\n",
    "base_dir = './WebOfScience/wos_202311/'\n",
    "          \n",
    "in_file_name = \"wos_202311_ukch_01_wosp.csv\"\n",
    "out_file_name = \"wos_202311_ukch_02_db.csv\"\n",
    "\n",
    "# open DB\n",
    "db_name = 'production'\n",
    "\n",
    "# 1 currend app DB\n",
    "ukchapp_db = \"db_files/\" + db_name + \".sqlite3\"\n",
    "\n",
    "out_file = Path(base_dir, out_file_name)\n",
    "in_file = Path(base_dir, in_file_name)\n",
    "\n",
    "csv_data, csv_headings = csv_rw.get_csv_data(in_file)\n",
    "\n",
    "# get publication data from the ukch app\n",
    "app_pubs = pr_fns.get_pub_data(ukchapp_db)\n",
    "\n",
    "for collected_id in csv_data:\n",
    "    a_doi = csv_data[collected_id]['doi']\n",
    "    alt_doi = \"\";\n",
    "    if (\"/anie.\" in a_doi):\n",
    "        alt_doi = a_doi.replace(\"/anie.\",\"/ange.\")\n",
    "    elif (\"/ange.\" in a_doi):\n",
    "        alt_doi = a_doi.replace(\"/ange.\",\"/anie.\")\n",
    "    found_in_db = 0\n",
    "    for a_pub in app_pubs:\n",
    "        pub_id = a_pub[0]\n",
    "        pub_title = a_pub[1]\n",
    "        pub_doi = a_pub[2]\n",
    "        pub_url = a_pub[3]\n",
    "        pub_pdf = a_pub[4]\n",
    "        if a_doi == pub_doi or \\\n",
    "            alt_doi == pub_doi:\n",
    "            found_in_db = 1\n",
    "    csv_data[collected_id]['in_db'] = found_in_db\n",
    "    \n",
    "# WRITE TO FILE\n",
    "if len(csv_data) > 0:\n",
    "    csv_rw.write_csv_data(csv_data, out_file) \n",
    "    "
   ]
  },
  {
   "cell_type": "code",
   "execution_count": 7,
   "id": "8336a0c5",
   "metadata": {},
   "outputs": [
    {
     "name": "stdout",
     "output_type": "stream",
     "text": [
      "{'num': '152', 'Authors': 'Wang, XD', 'Author Full Names': 'Wang, Xiaodong', 'Article Title': 'Heterogeneous Catalysis Mediated Interconversion between NAD(P)+ and NAD(P)H Accompanied by Consumption and Generation of Hydrogen Johnson Matthey Technology Review features laboratory research', 'Source Title': 'JOHNSON MATTHEY TECHNOLOGY REVIEW', 'Publication Year': '2023', 'Volume': '67', 'Issue': '4', 'Start Page': '452', 'End Page': '454', 'Article Number': '', 'doi': '10.1595/205651323X16686913816837', 'DOI Link': 'http://dx.doi.org/10.1595/205651323X16686913816837', 'wos_ID': 'WOS:001083261100010', 'prv_checked': '0', 'in_db': '0', 'in_cr_search': '0', 'ask': ''}\n",
      "https://doi.org/10.1595/205651323X16686913816837\n",
      "ask if should be added\n",
      "No\n",
      "reason for asking\n",
      "article not available\n",
      "{'num': '164', 'Authors': 'Al Sobhi, S; AlShibane, I; Catlow, CRA; Daisley, A; Hargreaves, JSJ; Hector, AL; Higham, MD; Zeinalipour-Yazdi, CD', 'Author Full Names': 'Al Sobhi, Samia; AlShibane, Ihfaf; Catlow, C. Richard A.; Daisley, Angela; Hargreaves, Justin S. J.; Hector, Andrew L.; Higham, Michael D.; Zeinalipour-Yazdi, Constantinos D.', 'Article Title': 'A Comparison of the Reactivity of the Lattice Nitrogen in Tungsten Substituted Co3Mo3N and Ni2Mo3N', 'Source Title': 'CHEMSUSCHEM', 'Publication Year': '2023', 'Volume': '', 'Issue': '', 'Start Page': '', 'End Page': '', 'Article Number': '', 'doi': '10.1002/cssc.202300945', 'DOI Link': 'http://dx.doi.org/10.1002/cssc.202300945', 'wos_ID': 'WOS:001080986300001', 'prv_checked': '0', 'in_db': '0', 'in_cr_search': '0', 'ask': ''}\n",
      "https://doi.org/10.1002/cssc.202300945\n",
      "ask if should be added\n",
      "yes\n",
      "reason for asking\n",
      "The authors would like to acknowledge the EPSRC for the research grants EP/T027851/1, EP/T028416/1 and EP/T028629/1 for the financial support of this project, and the UK Catalysis Hub Consortium (funded by EPSRC (Grants EP/R026815/1)) for the provision of additional resources. The authors acknowledge the STFC (SCARF) and UK National Supercomputing Service (ARCHER2) for the provision of computational resources, the latter enabled via membership of the MCC (EP/L000202).\n",
      "{'num': '169', 'Authors': 'Wahart, AJC; Dolan, JP; Anderson, SD; Cheallaigh, AN; Staniland, J; Lima, MA; Skidmore, MA; Miller, GJ; Cosgrove, SC', 'Author Full Names': 'Wahart, Alice J. C.; Dolan, Jonathan P.; Anderson, Simon D.; Cheallaigh, Aisling Ni; Staniland, Jessica; Lima, Marcelo A.; Skidmore, Mark A.; Miller, Gavin J.; Cosgrove, Sebastian C.', 'Article Title': 'Harnessing a Biocatalyst to Bioremediate the Purification of Alkylglycosides', 'Source Title': 'CHEMBIOCHEM', 'Publication Year': '2023', 'Volume': '', 'Issue': '', 'Start Page': '', 'End Page': '', 'Article Number': '', 'doi': '10.1002/cbic.202300625', 'DOI Link': 'http://dx.doi.org/10.1002/cbic.202300625', 'wos_ID': 'WOS:001088121600001', 'prv_checked': '0', 'in_db': '0', 'in_cr_search': '0', 'ask': ''}\n",
      "https://doi.org/10.1002/cbic.202300625\n",
      "ask if should be added\n",
      "yes\n",
      "reason for asking\n",
      "UK Research and Innovation (UKRI, Future Leaders Fellowship, MR/T019522/1) are thanked for project grant funding to GJM. EPSRC UK Catalysis Hub (RC-CH1302 AP16 Miller) is thanked for funding SDA. Keele University and Croda Europe Ltd are thanked for PhD studentship funding to AW.\n",
      "{'num': '268', 'Authors': 'Isaacs, MA; Drivas, C; Lee, R; Palgrave, R; Parlett, CMA; Morgan, DJ', 'Author Full Names': 'Isaacs, Mark A.; Drivas, Charalampos; Lee, Roxy; Palgrave, Robert; Parlett, Christopher M. A.; Morgan, David J.', 'Article Title': 'XPS surface analysis of ceria-based materials: Experimental methods and considerations', 'Source Title': 'APPLIED SURFACE SCIENCE ADVANCES', 'Publication Year': '2023', 'Volume': '18', 'Issue': '', 'Start Page': '', 'End Page': '', 'Article Number': '100469', 'doi': '10.1016/j.apsadv.2023.100469', 'DOI Link': 'http://dx.doi.org/10.1016/j.apsadv.2023.100469', 'wos_ID': 'WOS:001093234600001', 'prv_checked': '0', 'in_db': '0', 'in_cr_search': '0', 'ask': ''}\n",
      "https://doi.org/10.1016/j.apsadv.2023.100469\n",
      "ask if should be added\n",
      "yes\n",
      "reason for asking\n",
      "The X-ray photoelectron (XPS) data collection was performed at the EPSRC National Facility for XPS (“HarwellXPS”), operated by Cardiff University and UCL, under Contract No. PR16195. UK Catalysis Hub is kindly thanked for resources and support provided via our membership of the UK Catalysis Hub Consortium and funded by EPSRC grant: EP/R026815/1. We would like to thank Gavin Stenning for help on the Rigaku Miniflex benchtop XRD instrument in the Materials Characterisation Laboratory at the ISIS Neutron and Muon Source. R.L. acknowledges funding from the EPSRC M3S CDT (EP/L015862/1) and sponsorship by Thermo Fisher Scientific. The authors acknowledge the use of the UCL Myriad, Kathleen, and Thomas High Performance Computing Facilities (Myriad@UCL, Kathleen@UCL, Thomas@UCL), and associated support services, in the completion of this work.\n"
     ]
    }
   ],
   "source": [
    "# 03 Search if results are in CR search for same month\n",
    "\n",
    "# if not in checked before, not in DB and not in CR then leave ask blank\n",
    "\n",
    "\n",
    "# 04 search the docs directly\n",
    "# WoS search results\n",
    "base_dir = './WebOfScience/wos_202311/'\n",
    "          \n",
    "in_file_name = \"wos_202311_ukch_03_cr.csv\"\n",
    "\n",
    "out_file_name = \"wos_202311_ukch_04_check.csv\"\n",
    "\n",
    "\n",
    "in_file = Path(base_dir, in_file_name)\n",
    "\n",
    "out_file = Path(base_dir, out_file_name)\n",
    "\n",
    "csv_data, csv_headings = csv_rw.get_csv_data(in_file)\n",
    "\n",
    "for an_id in csv_data:\n",
    "    if (csv_data[an_id]['ask']==''):#and csv_data[an_id]['Reason']!= 'one or more authors with UKCH affiliation'):\n",
    "        print (csv_data[an_id])\n",
    "        print (\"https://doi.org/\"+csv_data[an_id]['doi'])\n",
    "        print(\"ask if should be added\")\n",
    "        should_ask = input()\n",
    "        csv_data[an_id]['ask']=should_ask\n",
    "        print(\"reason for asking\")\n",
    "        reason_to_ask = input()\n",
    "        csv_data[an_id]['Reason']=reason_to_ask\n",
    "        \n",
    "# WRITE TO FILE\n",
    "if len(csv_data) > 0:\n",
    "    csv_rw.write_csv_data(csv_data, out_file) "
   ]
  },
  {
   "cell_type": "code",
   "execution_count": 13,
   "id": "59e2533d",
   "metadata": {},
   "outputs": [
    {
     "name": "stdout",
     "output_type": "stream",
     "text": [
      "['authors', 'title', 'pub_year', 'doi', 'wos_ID', 'cut_date']\n",
      "['num', 'Authors', 'Author Full Names', 'Article Title', 'Source Title', 'Publication Year', 'Volume', 'Issue', 'Start Page', 'End Page', 'Article Number', 'doi', 'DOI Link', 'wos_ID', 'prv_checked', 'in_db', 'in_cr_search', 'ask', 'Reason']\n"
     ]
    }
   ],
   "source": [
    "# 05\n",
    "# add new results to previous wos search\n",
    "\n",
    "search_dir = './WebOfScience/wos_202311/'\n",
    "prev_s_dir = './WebOfScience/'\n",
    "\n",
    "prv_file_name = \"wos_ukch_previous.csv\"\n",
    "\n",
    "in_file_name = \"wos_202311_ukch_04_check.csv\"\n",
    "out_file_name = \"wos_ukch_previous_a.csv\"\n",
    "\n",
    "in_file = Path(search_dir, in_file_name)\n",
    "\n",
    "out_file = Path(prev_s_dir, out_file_name)\n",
    "prv_file = Path(prev_s_dir, prv_file_name)\n",
    "\n",
    "prv_data, prev_head =  csv_rw.get_csv_data(prv_file)\n",
    "\n",
    "in_data, new_head = csv_rw.get_csv_data(in_file)\n",
    "\n"
   ]
  },
  {
   "cell_type": "code",
   "execution_count": 20,
   "id": "dadc3a64",
   "metadata": {},
   "outputs": [],
   "source": [
    "max_count = max(prv_data)\n",
    "\n",
    "for in_id in in_data:\n",
    "    if in_data[in_id]['prv_checked'] == 0:\n",
    "        new_wos_result = {'authors': in_data[in_id]['Authors'], \n",
    "                          'title':in_data[in_id]['Article Title'], \n",
    "                          'pub_year':in_data[in_id]['Publication Year'], \n",
    "                          'doi':in_data[in_id]['doi'], \n",
    "                          'wos_ID':in_data[in_id]['wos_ID'], \n",
    "                          'cut_date':\"2023-12-10\"}\n",
    "        max_count += 1\n",
    "        print(new_wos_result)\n",
    "        prv_data[max_count] = new_wos_result\n",
    "\n",
    "# WRITE TO FILE\n",
    "if len(prv_data) > 0:\n",
    "    csv_rw.write_csv_data(prv_data, out_file) "
   ]
  },
  {
   "cell_type": "markdown",
   "id": "0b717abc",
   "metadata": {},
   "source": [
    "## OLD code "
   ]
  },
  {
   "cell_type": "code",
   "execution_count": null,
   "id": "02bd6a99",
   "metadata": {
    "scrolled": true
   },
   "outputs": [],
   "source": [
    "## Run the first cell and then run this one\n",
    "base_dir = './WebOfScience'\n",
    "out_file_name = \"cr_check_wos_2023c.csv\"\n",
    "\n",
    "out_file = Path(base_dir, out_file_name)\n",
    "\n",
    "csv_data, csv_headings = csv_rw.get_csv_data(out_file)\n",
    "\n",
    "for an_id in csv_data:\n",
    "    if (csv_data[an_id]['ask']==''):#and csv_data[an_id]['Reason']!= 'one or more authors with UKCH affiliation'):\n",
    "        print (csv_data[an_id])\n",
    "        print (\"https://doi.org/\"+csv_data[an_id]['doi'])\n",
    "        print(\"ask if should be added\")\n",
    "        should_ask = input()\n",
    "        csv_data[an_id]['ask']=should_ask\n",
    "        print(\"reason for asking\")\n",
    "        reason_to_ask = input()\n",
    "        csv_data[an_id]['Reason']=reason_to_ask\n",
    "        \n",
    "    # WRITE TO FILE\n",
    "if len(csv_data) > 0:\n",
    "    csv_rw.write_csv_data(csv_data, out_file)     "
   ]
  },
  {
   "cell_type": "code",
   "execution_count": null,
   "id": "15d8279c",
   "metadata": {
    "scrolled": false
   },
   "outputs": [],
   "source": [
    "# get list of CSV search results files\n",
    "base_dir = './pub_search_crossref'\n",
    "csv_flies_list = ['cr_ol_202204.csv','cr_online_lookup.csv','cr_archive_lookup.csv']\n",
    "collect_csv = {}\n",
    "out_file = Path(base_dir, \"cr_all202204.csv\")"
   ]
  },
  {
   "cell_type": "code",
   "execution_count": null,
   "id": "1a171b03",
   "metadata": {},
   "outputs": [],
   "source": [
    "# join searches as a set (unique references)\n",
    "for a_csv in csv_flies_list:\n",
    "    a_file = Path(base_dir,a_csv)\n",
    "    if a_file.is_file():\n",
    "        print(\"**********************************************\")\n",
    "        print(\"checking \", a_file)\n",
    "        csv_data, csv_headings = csv_rw.get_csv_data(a_file)\n",
    "        print(\"Found: \", a_file, \" entries: \", len(csv_data))\n",
    "        for an_id in csv_data:\n",
    "            a_doi = csv_data[an_id]['doi']\n",
    "            alt_doi = \"\";\n",
    "            if (\"/anie.\" in a_doi):\n",
    "                alt_doi = a_doi.replace(\"/anie.\",\"/ange.\")\n",
    "            elif (\"/ange.\" in a_doi):\n",
    "                alt_doi = a_doi.replace(\"/ange.\",\"/anie.\")\n",
    "            new_id = len(collect_csv)+1\n",
    "            already_collected = False\n",
    "            for collected_id in collect_csv:\n",
    "                if a_doi == collect_csv[collected_id]['doi'] or \\\n",
    "                   alt_doi == collect_csv[collected_id]['doi']:\n",
    "                    print ('reviewing:', csv_data[an_id]['doi'],\"\\nFound \", collect_csv[collected_id])\n",
    "                    collect_csv[collected_id]['occurrence'] += 1\n",
    "                    collect_csv[collected_id]['alt_doi'] = alt_doi\n",
    "                    already_collected = True\n",
    "                    break\n",
    "            if not already_collected: \n",
    "                print(\"adding\", new_id, a_doi)\n",
    "                collect_csv[new_id] = csv_data[an_id]\n",
    "                collect_csv[new_id]['occurrence'] = 1\n",
    "                collect_csv[new_id]['alt_doi'] = ''\n",
    "# WRITE TO FILE\n",
    "if len(collect_csv) > 0:\n",
    "    csv_rw.write_csv_data(collect_csv, out_file) "
   ]
  },
  {
   "cell_type": "code",
   "execution_count": null,
   "id": "6780dba6",
   "metadata": {},
   "outputs": [],
   "source": [
    "# WRITE TO FILE\n",
    "if len(csv_data) > 0:\n",
    "    csv_rw.write_csv_data(csv_data, out_file) "
   ]
  },
  {
   "cell_type": "code",
   "execution_count": null,
   "id": "2490b7c7",
   "metadata": {},
   "outputs": [],
   "source": [
    "# WRITE TO FILE\n",
    "if len(csv_data) > 0:\n",
    "    csv_rw.write_csv_data(csv_data, out_file) "
   ]
  },
  {
   "cell_type": "code",
   "execution_count": null,
   "id": "4dd03a5c",
   "metadata": {},
   "outputs": [],
   "source": [
    "ukch_awards = ['EP/R026939/1', 'EP/R026815/1', 'EP/R026645/1', 'EP/R027129/1', 'EP/M013219/1',\n",
    "               'EP/K014706/2', 'EP/K014668/1', 'EP/K014854/1', 'EP/K014714/1',]\n",
    "\n",
    "for an_id in csv_data:\n",
    "    if (csv_data[an_id]['Reason']!='' ):\n",
    "        awards_list = []\n",
    "        for an_aw in ukch_awards:\n",
    "            if an_aw in csv_data[an_id]['Reason']:\n",
    "                awards_list.append(an_aw)\n",
    "        if awards_list != []:\n",
    "            csv_data[an_id]['award_in_ack'] = str(awards_list)\n",
    "\n",
    "# WRITE TO FILE\n",
    "if len(csv_data) > 0:\n",
    "    csv_rw.write_csv_data(csv_data, out_file) "
   ]
  },
  {
   "cell_type": "code",
   "execution_count": null,
   "id": "ae4518a9",
   "metadata": {
    "scrolled": true
   },
   "outputs": [],
   "source": [
    "csv_data"
   ]
  },
  {
   "cell_type": "code",
   "execution_count": null,
   "id": "70f47ccf",
   "metadata": {},
   "outputs": [],
   "source": []
  }
 ],
 "metadata": {
  "kernelspec": {
   "display_name": "Python 3 (ipykernel)",
   "language": "python",
   "name": "python3"
  },
  "language_info": {
   "codemirror_mode": {
    "name": "ipython",
    "version": 3
   },
   "file_extension": ".py",
   "mimetype": "text/x-python",
   "name": "python",
   "nbconvert_exporter": "python",
   "pygments_lexer": "ipython3",
   "version": "3.9.2rc1"
  }
 },
 "nbformat": 4,
 "nbformat_minor": 5
}
