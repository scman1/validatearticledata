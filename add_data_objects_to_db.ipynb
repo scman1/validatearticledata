{
 "cells": [
  {
   "cell_type": "markdown",
   "metadata": {},
   "source": [
    "# Prepare loading of data objects to App DB\n",
    "\n",
    "A curated list of data objects referenced from a set of publications is formated to facilitate loading into the App DB.\n",
    "\n",
    "Instead of only referencing to data, these process refer to **data objects**, which are any data which is published to complement the publication, this includes raw data, supplementary data, processing data, tables, images, movies, and compilations containing one or more of such resources (corrections to publications may fall in this category but need to discuss it with stakeholders).\n",
    "\n",
    "The operations to be performed are: \n",
    "- get metadata from objects identifed with DOIs and arrange it in a way that it can be loaded to the AppDB.\n",
    "- format all objects without DOI (mostly supplementary materials) to align with the metadata from DOI identified objects\n"
   ]
  },
  {
   "cell_type": "code",
   "execution_count": 1,
   "metadata": {},
   "outputs": [],
   "source": [
    "# library containign read and write functions to csv file\n",
    "import lib.handle_csv as csvh\n",
    "\n",
    "# managing files and file paths\n",
    "from pathlib import Path\n",
    "\n",
    "# library for handling url searchs\n",
    "import lib.handle_urls as urlh\n",
    "\n",
    "# add a progress bar\n",
    "from tqdm import tqdm_notebook\n",
    "    \n",
    "# library for accessing system functions\n",
    "import os\n",
    "\n",
    "# import custom functions (common to various notebooks)\n",
    "import processing_functions as pr_fns\n",
    "\n",
    "# Connecting to the db\n",
    "import lib.handle_db as dbh\n",
    "\n",
    "# get the publications list from the app database\n",
    "ukchapp_db = \"./db_files/production.sqlite3\"\n"
   ]
  },
  {
   "cell_type": "markdown",
   "metadata": {},
   "source": [
    "## Get DOI objects metadata"
   ]
  },
  {
   "cell_type": "code",
   "execution_count": 2,
   "metadata": {
    "scrolled": true
   },
   "outputs": [
    {
     "name": "stderr",
     "output_type": "stream",
     "text": [
      "C:\\Users\\scman1\\AppData\\Local\\Temp\\ipykernel_31728\\655082279.py:4: TqdmDeprecationWarning: This function will be removed in tqdm==5.0.0\n",
      "Please use `tqdm.notebook.tqdm` instead of `tqdm.tqdm_notebook`\n",
      "  for dr in tqdm_notebook(data_reference):\n"
     ]
    },
    {
     "data": {
      "application/vnd.jupyter.widget-view+json": {
       "model_id": "255a24704cd64b39a2fc0dea6290489d",
       "version_major": 2,
       "version_minor": 0
      },
      "text/plain": [
       "  0%|          | 0/38 [00:00<?, ?it/s]"
      ]
     },
     "metadata": {},
     "output_type": "display_data"
    },
    {
     "ename": "KeyError",
     "evalue": "'target_id'",
     "output_type": "error",
     "traceback": [
      "\u001b[1;31m---------------------------------------------------------------------------\u001b[0m",
      "\u001b[1;31mKeyError\u001b[0m                                  Traceback (most recent call last)",
      "Input \u001b[1;32mIn [2]\u001b[0m, in \u001b[0;36m<cell line: 4>\u001b[1;34m()\u001b[0m\n\u001b[0;32m      6\u001b[0m \u001b[38;5;28;01mif\u001b[39;00m \u001b[38;5;129;01mnot\u001b[39;00m \u001b[38;5;124m'\u001b[39m\u001b[38;5;124mnum\u001b[39m\u001b[38;5;124m'\u001b[39m \u001b[38;5;129;01min\u001b[39;00m do_keys:\n\u001b[0;32m      7\u001b[0m     data_reference[dr][\u001b[38;5;124m'\u001b[39m\u001b[38;5;124mnum\u001b[39m\u001b[38;5;124m'\u001b[39m] \u001b[38;5;241m=\u001b[39m dr\n\u001b[1;32m----> 9\u001b[0m \u001b[38;5;28;01mif\u001b[39;00m pr_fns\u001b[38;5;241m.\u001b[39mvalid_doi(\u001b[43mdata_reference\u001b[49m\u001b[43m[\u001b[49m\u001b[43mdr\u001b[49m\u001b[43m]\u001b[49m\u001b[43m[\u001b[49m\u001b[38;5;124;43m'\u001b[39;49m\u001b[38;5;124;43mtarget_id\u001b[39;49m\u001b[38;5;124;43m'\u001b[39;49m\u001b[43m]\u001b[49m):\n\u001b[0;32m     10\u001b[0m     data_reference[dr][\u001b[38;5;124m'\u001b[39m\u001b[38;5;124mdo_doi\u001b[39m\u001b[38;5;124m'\u001b[39m] \u001b[38;5;241m=\u001b[39m data_reference[dr][\u001b[38;5;124m'\u001b[39m\u001b[38;5;124mtarget_id\u001b[39m\u001b[38;5;124m'\u001b[39m]\n\u001b[0;32m     11\u001b[0m     data_reference[dr][\u001b[38;5;124m'\u001b[39m\u001b[38;5;124mdo_location\u001b[39m\u001b[38;5;124m'\u001b[39m] \u001b[38;5;241m=\u001b[39m \u001b[38;5;124m\"\u001b[39m\u001b[38;5;124mhttps://doi.org/\u001b[39m\u001b[38;5;124m\"\u001b[39m \u001b[38;5;241m+\u001b[39m data_reference[dr][\u001b[38;5;124m'\u001b[39m\u001b[38;5;124mtarget_id\u001b[39m\u001b[38;5;124m'\u001b[39m]\n",
      "\u001b[1;31mKeyError\u001b[0m: 'target_id'"
     ]
    }
   ],
   "source": [
    "# get names and links for references in data mentions\n",
    "# data_reference, do_keys = csvh.get_csv_data('./new_references202111.csv')\n",
    "data_reference, do_keys = csvh.get_csv_data('./data_load/data_load_202207.csv', 'num')\n",
    "for dr in tqdm_notebook(data_reference):\n",
    "    # start copying data to do fields\n",
    "    if not 'num' in do_keys:\n",
    "        data_reference[dr]['num'] = dr\n",
    "    \n",
    "    if pr_fns.valid_doi(data_reference[dr]['target_id']):\n",
    "        data_reference[dr]['do_doi'] = data_reference[dr]['target_id']\n",
    "        data_reference[dr]['do_location'] = \"https://doi.org/\" + data_reference[dr]['target_id']\n",
    "        data_reference[dr]['do_metadata'] = \"\"\n",
    "    else:\n",
    "        if not pr_fns.valid_doi(data_reference[dr]['do_doi']):\n",
    "            data_reference[dr]['do_doi'] = \"\"\n",
    "        data_reference[dr]['do_location'] = data_reference[dr]['target_id']\n",
    "        data_reference[dr]['do_metadata'] = \"\"\n",
    "\n",
    "# ast needed to parse string saved dictionary\n",
    "import ast\n",
    "\n",
    "for dr in tqdm_notebook(data_reference):\n",
    "    # get metadata if it is missing\n",
    "    'do_doi' in do_keys\n",
    "    if data_reference[dr]['do_metadata'] == \"\" and data_reference[dr]['do_doi'] != \"\":\n",
    "        ref_link = \"https://doi.org/\" + data_reference[dr]['do_doi']\n",
    "        data_object = urlh.getObjectMetadata(ref_link)\n",
    "        if 'metadata' in data_object.keys():\n",
    "            data_reference[dr]['do_metadata'] = data_object['metadata']\n",
    "        else:\n",
    "            data_reference[dr]['do_metadata'] = \"\"\n",
    "    if data_reference[dr]['do_metadata'] != \"\":\n",
    "        do_metadata = ast.literal_eval(str(data_reference[dr]['do_metadata']))\n",
    "        data_reference[dr]['do_title'] = do_metadata['title']\n",
    "        print('Title: ', do_metadata['title'])\n",
    "        if 'abstract' in do_metadata:\n",
    "            print('Abstract: ', do_metadata['abstract'])\n",
    "            data_reference[dr]['do_description'] = do_metadata['abstract']\n",
    "        print('URL: ', do_metadata['URL'])\n",
    "        data_reference[dr]['do_location'] = do_metadata['URL']\n",
    "        print('DOI: ', do_metadata['DOI'])\n",
    "        data_reference[dr]['do_doi'] = do_metadata['DOI']\n",
    "        repo_address = urlh.getBaseUrl(do_metadata['URL'])\n",
    "        print('repository:', repo_address)\n",
    "        data_reference[dr]['do_repository'] = repo_address\n",
    "        print('Type:',do_metadata['type']) \n",
    "        data_reference[dr]['do_type'] = do_metadata['type']\n",
    "        if do_metadata['type'] != 'dataset':\n",
    "            data_reference[dr]['do_inferred_type'] = 'dataset'\n",
    "# write to csv file\n",
    "if len(data_reference) > 0:\n",
    "    csvh.write_csv_data(data_reference, './data_load_202207.csv')            "
   ]
  },
  {
   "cell_type": "markdown",
   "metadata": {},
   "source": [
    "## Add metadata to file objects\n"
   ]
  },
  {
   "cell_type": "code",
   "execution_count": 6,
   "metadata": {},
   "outputs": [
    {
     "name": "stderr",
     "output_type": "stream",
     "text": [
      "C:\\Users\\scman1\\AppData\\Local\\Temp\\ipykernel_31728\\3608154803.py:6: TqdmDeprecationWarning: This function will be removed in tqdm==5.0.0\n",
      "Please use `tqdm.notebook.tqdm` instead of `tqdm.tqdm_notebook`\n",
      "  for dr in tqdm_notebook(data_reference):\n"
     ]
    },
    {
     "data": {
      "application/vnd.jupyter.widget-view+json": {
       "model_id": "0f94c96d06fd499ebe2fb043f56ea4c6",
       "version_major": 2,
       "version_minor": 0
      },
      "text/plain": [
       "  0%|          | 0/38 [00:00<?, ?it/s]"
      ]
     },
     "metadata": {},
     "output_type": "display_data"
    },
    {
     "ename": "KeyError",
     "evalue": "'do_file'",
     "output_type": "error",
     "traceback": [
      "\u001b[1;31m---------------------------------------------------------------------------\u001b[0m",
      "\u001b[1;31mKeyError\u001b[0m                                  Traceback (most recent call last)",
      "Input \u001b[1;32mIn [6]\u001b[0m, in \u001b[0;36m<cell line: 6>\u001b[1;34m()\u001b[0m\n\u001b[0;32m     10\u001b[0m publication_title \u001b[38;5;241m=\u001b[39m db_conn\u001b[38;5;241m.\u001b[39mget_title(data_reference[dr][\u001b[38;5;124m'\u001b[39m\u001b[38;5;124mpub_doi\u001b[39m\u001b[38;5;124m'\u001b[39m])\n\u001b[0;32m     11\u001b[0m \u001b[38;5;28;01mif\u001b[39;00m data_reference[dr][\u001b[38;5;124m'\u001b[39m\u001b[38;5;124mdo_doi\u001b[39m\u001b[38;5;124m'\u001b[39m] \u001b[38;5;241m==\u001b[39m \u001b[38;5;124m\"\u001b[39m\u001b[38;5;124m\"\u001b[39m:\n\u001b[1;32m---> 12\u001b[0m     \u001b[38;5;28;01mif\u001b[39;00m \u001b[43mdata_reference\u001b[49m\u001b[43m[\u001b[49m\u001b[43mdr\u001b[49m\u001b[43m]\u001b[49m\u001b[43m[\u001b[49m\u001b[38;5;124;43m'\u001b[39;49m\u001b[38;5;124;43mdo_file\u001b[39;49m\u001b[38;5;124;43m'\u001b[39;49m\u001b[43m]\u001b[49m\u001b[38;5;241m!=\u001b[39m\u001b[38;5;124m\"\u001b[39m\u001b[38;5;124m\"\u001b[39m:\n\u001b[0;32m     13\u001b[0m         do_title \u001b[38;5;241m=\u001b[39m data_reference[dr][\u001b[38;5;124m'\u001b[39m\u001b[38;5;124mdo_file\u001b[39m\u001b[38;5;124m'\u001b[39m]\u001b[38;5;241m.\u001b[39msplit(\u001b[38;5;124m\"\u001b[39m\u001b[38;5;124m/\u001b[39m\u001b[38;5;124m\"\u001b[39m)[\u001b[38;5;241m1\u001b[39m]\n\u001b[0;32m     14\u001b[0m         \u001b[38;5;28mprint\u001b[39m(\u001b[38;5;124m\"\u001b[39m\u001b[38;5;124mTitle: \u001b[39m\u001b[38;5;124m\"\u001b[39m, do_title)\n",
      "\u001b[1;31mKeyError\u001b[0m: 'do_file'"
     ]
    }
   ],
   "source": [
    "# get names and links for references in data mentions\n",
    "data_reference, do_keys = csvh.get_csv_data('./data_load/data_load_202207.csv', 'num')\n",
    "\n",
    "db_conn = dbh.DataBaseAdapter(ukchapp_db)\n",
    "\n",
    "for dr in tqdm_notebook(data_reference):\n",
    "    \n",
    "    # get publication metadata to fill in missing fields in DO metadata\n",
    "    ref_link = \"https://doi.org/\" + data_reference[dr]['pub_doi']\n",
    "    publication_title = db_conn.get_title(data_reference[dr]['pub_doi'])\n",
    "    if data_reference[dr]['do_doi'] == \"\":\n",
    "        if data_reference[dr]['do_file']!=\"\":\n",
    "            do_title = data_reference[dr]['do_file'].split(\"/\")[1]\n",
    "            print(\"Title: \", do_title)\n",
    "            data_reference[dr]['do_title'] = do_title\n",
    "            print(\"Description: Supplementary information for \", publication_title)\n",
    "            data_reference[dr]['do_description'] = \"Supplementary data for \" + publication_title[0]\n",
    "            repo_address = urlh.getBaseUrl(data_reference[dr]['do_location'])\n",
    "            print('URL:', data_reference[dr]['do_location'])\n",
    "            print('Repository:', repo_address)\n",
    "            data_reference[dr]['do_repository'] = repo_address\n",
    "            do_type = data_reference[dr]['do_file'][data_reference[dr]['do_file'].rfind(\".\")+1:]\n",
    "            print(\"Type: \", do_type)\n",
    "            data_reference[dr]['do_type'] = do_type\n",
    "            \n",
    "# write to csv file\n",
    "if len(data_reference) > 0:\n",
    "    csvh.write_csv_data(data_reference, './data_load_202112.csv')  "
   ]
  },
  {
   "cell_type": "markdown",
   "metadata": {},
   "source": [
    "## Insert into datasets table"
   ]
  },
  {
   "cell_type": "code",
   "execution_count": 9,
   "metadata": {},
   "outputs": [
    {
     "name": "stderr",
     "output_type": "stream",
     "text": [
      "C:\\Users\\scman1\\AppData\\Local\\Temp\\ipykernel_31728\\585015576.py:9: TqdmDeprecationWarning: This function will be removed in tqdm==5.0.0\n",
      "Please use `tqdm.notebook.tqdm` instead of `tqdm.tqdm_notebook`\n",
      "  for dr in tqdm_notebook(data_reference):\n"
     ]
    },
    {
     "data": {
      "application/vnd.jupyter.widget-view+json": {
       "model_id": "813ab4fbee9c40108974696772089abf",
       "version_major": 2,
       "version_minor": 0
      },
      "text/plain": [
       "  0%|          | 0/38 [00:00<?, ?it/s]"
      ]
     },
     "metadata": {},
     "output_type": "display_data"
    },
    {
     "name": "stdout",
     "output_type": "stream",
     "text": [
      "1027\n",
      "1028\n",
      "1029\n",
      "1030\n",
      "1031\n",
      "1032\n",
      "1033\n",
      "1034\n",
      "1035\n",
      "1036\n",
      "1037\n",
      "1038\n",
      "1039\n",
      "1040\n",
      "1041\n",
      "1042\n",
      "1043\n",
      "1044\n",
      "1045\n",
      "1046\n",
      "1047\n",
      "1048\n",
      "1049\n",
      "1050\n",
      "1051\n",
      "1052\n",
      "1053\n",
      "1054\n",
      "1055\n",
      "1056\n",
      "1057\n",
      "1058\n",
      "1058\n",
      "1058\n",
      "1058\n",
      "1058\n",
      "1063\n",
      "1064\n"
     ]
    }
   ],
   "source": [
    "# get names and links for references in data mentions\n",
    "data_reference, _ = csvh.get_csv_data('./data_load/data_load_202207.csv', 'num')\n",
    "\n",
    "db_conn = dbh.DataBaseAdapter(ukchapp_db)\n",
    "\n",
    "db_table = \"datasets\"\n",
    "table_columns = [\"dataset_complete\", \"dataset_description\",\"dataset_doi\",\"dataset_enddate\", \"dataset_location\",\n",
    "                  \"dataset_name\",\"dataset_startdate\",\"created_at\",\"updated_at\", \"ds_type\", \"repository\"]\n",
    "for dr in tqdm_notebook(data_reference):\n",
    "    if data_reference[dr]['do_location']!= \"\":\n",
    "        if data_reference[dr]['do_type'] != \"\":\n",
    "            do_type = data_reference[dr]['do_type']\n",
    "        table_values = [None, data_reference[dr]['do_description'], data_reference[dr]['do_doi'], None, data_reference[dr]['do_location'],data_reference[dr]['do_title'], data_reference[dr]['do_startdate'],\n",
    "                        \"2022-07-29 15:54:00\", \"2022-07-29 15:54:00\" , do_type, data_reference[dr]['do_repository']]\n",
    "        db_conn.put_values_table(db_table, table_columns, table_values)\n",
    "        #get the id of inserted record\n",
    "        new_do_id = db_conn.get_value( db_table, \"id\", \"dataset_location\", data_reference[dr]['do_location'])[0]\n",
    "        print(new_do_id)\n",
    "        linktable = \"article_datasets\"\n",
    "        linktable_columns = [\"doi\", \"article_id\", \"dataset_id\", \"created_at\", \"updated_at\"]\n",
    "        linktable_values = [data_reference[dr]['pub_doi'], data_reference[dr]['pub_id'], new_do_id, \"2021-11-23 14:17:00\", \"2021-11-23 14:17:00\"]\n",
    "        db_conn.put_values_table(linktable, linktable_columns, linktable_values)"
   ]
  },
  {
   "cell_type": "markdown",
   "metadata": {},
   "source": [
    "## Fix for adding start date \n",
    "Add date of publication as start date"
   ]
  },
  {
   "cell_type": "code",
   "execution_count": null,
   "metadata": {},
   "outputs": [],
   "source": [
    "from datetime import date\n",
    "\n",
    "# create connection to the DB\n",
    "db_conn = dbh.DataBaseAdapter(ukchapp_db)\n",
    "# get a list of the datasets in the DB\n",
    "db_datasets = db_conn.get_full_table('datasets')\n",
    "\n",
    "for db_ds in db_datasets:\n",
    "    if db_ds[7] == None or db_ds[7] == \"\":\n",
    "        #print (db_ds)\n",
    "        # get article id\n",
    "        art_id = db_conn.get_value(\"article_datasets\", \"article_id\", \"dataset_id\", db_ds[0])\n",
    "        \n",
    "        art_pub_year = db_conn.get_value(\"articles\", \"pub_year\", \"id\", art_id[0])[0]\n",
    "        art_poy = db_conn.get_value(\"articles\", \"pub_ol_year\", \"id\", art_id[0])[0]\n",
    "        art_pom = db_conn.get_value(\"articles\", \"pub_ol_month\", \"id\", art_id[0])[0]\n",
    "        art_pod = db_conn.get_value(\"articles\", \"pub_ol_day\", \"id\", art_id[0])[0]\n",
    "        art_ppy = db_conn.get_value(\"articles\", \"pub_print_year\", \"id\", art_id[0])[0]\n",
    "        art_ppm = db_conn.get_value(\"articles\", \"pub_print_month\", \"id\", art_id[0])[0]\n",
    "        art_ppd = db_conn.get_value(\"articles\", \"pub_print_day\", \"id\", art_id[0])[0]\n",
    "        print (art_id[0],art_pub_year, art_poy, art_pom, art_pod, art_ppy, art_ppm, art_ppd)\n",
    "        if art_poy != '' and art_pom != '' and art_pod != '' and art_poy != None and art_pom != None and art_pod != None:\n",
    "            print (\"use online date: \", art_poy, art_pom, art_pod, art_ppy, art_ppm, art_ppd)\n",
    "            print(date(int(art_poy), int(art_pom), int(art_pod)))\n",
    "            db_conn.set_value_table('datasets', db_ds[0], \"dataset_startdate\", date(art_poy, art_pom, art_pod).isoformat())\n",
    "        #db_conn.set_value_table('datasets', db_ds[0], \"dataset_startdate\",art_pub_year[0])\n",
    "        elif art_poy != '' and art_pom != '' and art_poy != None and art_pom != None:\n",
    "            print (\"use online date: \", art_poy, art_pom, art_pod, art_ppy, art_ppm, art_ppd)\n",
    "            print(date(int(art_poy), int(art_pom), 1))\n",
    "            db_conn.set_value_table('datasets', db_ds[0], \"dataset_startdate\", date(art_poy, art_pom, 1).isoformat())\n",
    "        elif art_ppy != '' and art_ppm != '' and art_ppd != '' and art_ppy != None and art_ppm != None and art_ppd != None:\n",
    "            print (\"use print date: \",art_ppy, art_ppm, art_ppd)\n",
    "            print(date(art_ppy, art_ppm, art_ppd))\n",
    "            db_conn.set_value_table('datasets', db_ds[0], \"dataset_startdate\", date(art_ppy, art_ppm, art_ppd).isoformat())\n",
    "        elif art_ppy != '' and art_ppm != '' and art_ppy != None and art_ppm != None:\n",
    "            print (\"use print date: \",art_ppy, art_ppm, 1)\n",
    "            print(date(art_ppy, art_ppm, 1))\n",
    "            db_conn.set_value_table('datasets', db_ds[0], \"dataset_startdate\", date(art_ppy, art_ppm, 1).isoformat())\n",
    "        elif art_poy != '' and art_poy != None:\n",
    "            print (\"use online date: \", art_poy, 1, 1)\n",
    "            db_conn.set_value_table('datasets', db_ds[0], \"dataset_startdate\", date(art_poy, 1, 1).isoformat())\n",
    "            "
   ]
  },
  {
   "cell_type": "code",
   "execution_count": null,
   "metadata": {},
   "outputs": [],
   "source": [
    "# create connection to the DB\n",
    "db_conn = dbh.DataBaseAdapter(ukchapp_db)\n",
    "# get a list of the datasets in the DB\n",
    "db_datasets = db_conn.get_full_table('datasets')\n",
    "\n",
    "for db_ds in db_datasets:\n",
    "    saved_address = db_ds[11] \n",
    "    repo_address = urlh.getBaseUrl(db_ds[11])\n",
    "    #print(repo_address)\n",
    "    if repo_address != saved_address:\n",
    "        print(repo_address, \" replaces \", saved_address)\n",
    "        db_conn.set_value_table('datasets', db_ds[0], \"repository\", repo_address)\n",
    "    #break\n",
    "    "
   ]
  },
  {
   "cell_type": "code",
   "execution_count": null,
   "metadata": {},
   "outputs": [],
   "source": []
  }
 ],
 "metadata": {
  "kernelspec": {
   "display_name": "Python 3 (ipykernel)",
   "language": "python",
   "name": "python3"
  },
  "language_info": {
   "codemirror_mode": {
    "name": "ipython",
    "version": 3
   },
   "file_extension": ".py",
   "mimetype": "text/x-python",
   "name": "python",
   "nbconvert_exporter": "python",
   "pygments_lexer": "ipython3",
   "version": "3.9.2rc1"
  }
 },
 "nbformat": 4,
 "nbformat_minor": 4
}
